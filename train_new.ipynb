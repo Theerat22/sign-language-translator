{
 "cells": [
  {
   "cell_type": "code",
   "execution_count": null,
   "metadata": {},
   "outputs": [
    {
     "name": "stdout",
     "output_type": "stream",
     "text": [
      "Collecting fastparquet\n",
      "  Downloading fastparquet-2024.11.0-cp39-cp39-macosx_11_0_arm64.whl.metadata (4.2 kB)\n",
      "Requirement already satisfied: pyarrow in /Users/theerat/Documents/sign-language-translator/.venv/lib/python3.9/site-packages (18.0.0)\n",
      "Requirement already satisfied: pandas>=1.5.0 in /Users/theerat/Documents/sign-language-translator/.venv/lib/python3.9/site-packages (from fastparquet) (2.2.3)\n",
      "Requirement already satisfied: numpy in /Users/theerat/Documents/sign-language-translator/.venv/lib/python3.9/site-packages (from fastparquet) (2.0.2)\n",
      "Collecting cramjam>=2.3 (from fastparquet)\n",
      "  Using cached cramjam-2.9.0-cp39-cp39-macosx_11_0_arm64.whl.metadata (4.9 kB)\n",
      "Requirement already satisfied: fsspec in /Users/theerat/Documents/sign-language-translator/.venv/lib/python3.9/site-packages (from fastparquet) (2024.3.1)\n",
      "Requirement already satisfied: packaging in /Users/theerat/Documents/sign-language-translator/.venv/lib/python3.9/site-packages (from fastparquet) (24.1)\n",
      "Requirement already satisfied: python-dateutil>=2.8.2 in /Users/theerat/Documents/sign-language-translator/.venv/lib/python3.9/site-packages (from pandas>=1.5.0->fastparquet) (2.9.0.post0)\n",
      "Requirement already satisfied: pytz>=2020.1 in /Users/theerat/Documents/sign-language-translator/.venv/lib/python3.9/site-packages (from pandas>=1.5.0->fastparquet) (2024.2)\n",
      "Requirement already satisfied: tzdata>=2022.7 in /Users/theerat/Documents/sign-language-translator/.venv/lib/python3.9/site-packages (from pandas>=1.5.0->fastparquet) (2024.2)\n",
      "Requirement already satisfied: six>=1.5 in /Users/theerat/Documents/sign-language-translator/.venv/lib/python3.9/site-packages (from python-dateutil>=2.8.2->pandas>=1.5.0->fastparquet) (1.16.0)\n",
      "Downloading fastparquet-2024.11.0-cp39-cp39-macosx_11_0_arm64.whl (684 kB)\n",
      "\u001b[2K   \u001b[90m━━━━━━━━━━━━━━━━━━━━━━━━━━━━━━━━━━━━━━━━\u001b[0m \u001b[32m684.7/684.7 kB\u001b[0m \u001b[31m7.1 MB/s\u001b[0m eta \u001b[36m0:00:00\u001b[0m\n",
      "\u001b[?25hUsing cached cramjam-2.9.0-cp39-cp39-macosx_11_0_arm64.whl (1.9 MB)\n",
      "Installing collected packages: cramjam, fastparquet\n",
      "Successfully installed cramjam-2.9.0 fastparquet-2024.11.0\n",
      "Note: you may need to restart the kernel to use updated packages.\n",
      "Collecting tensorflow-addons\n",
      "  Using cached tensorflow_addons-0.23.0-cp39-cp39-macosx_11_0_arm64.whl.metadata (1.8 kB)\n",
      "Collecting seaborn\n",
      "  Using cached seaborn-0.13.2-py3-none-any.whl.metadata (5.4 kB)\n",
      "Requirement already satisfied: fastparquet in /Users/theerat/Documents/sign-language-translator/.venv/lib/python3.9/site-packages (2024.11.0)\n",
      "Collecting typeguard<3.0.0,>=2.7 (from tensorflow-addons)\n",
      "  Using cached typeguard-2.13.3-py3-none-any.whl.metadata (3.6 kB)\n",
      "Requirement already satisfied: packaging in /Users/theerat/Documents/sign-language-translator/.venv/lib/python3.9/site-packages (from tensorflow-addons) (24.1)\n",
      "Requirement already satisfied: numpy!=1.24.0,>=1.20 in /Users/theerat/Documents/sign-language-translator/.venv/lib/python3.9/site-packages (from seaborn) (2.0.2)\n",
      "Requirement already satisfied: pandas>=1.2 in /Users/theerat/Documents/sign-language-translator/.venv/lib/python3.9/site-packages (from seaborn) (2.2.3)\n",
      "Requirement already satisfied: matplotlib!=3.6.1,>=3.4 in /Users/theerat/Documents/sign-language-translator/.venv/lib/python3.9/site-packages (from seaborn) (3.9.2)\n",
      "Requirement already satisfied: cramjam>=2.3 in /Users/theerat/Documents/sign-language-translator/.venv/lib/python3.9/site-packages (from fastparquet) (2.9.0)\n",
      "Requirement already satisfied: fsspec in /Users/theerat/Documents/sign-language-translator/.venv/lib/python3.9/site-packages (from fastparquet) (2024.3.1)\n",
      "Requirement already satisfied: contourpy>=1.0.1 in /Users/theerat/Documents/sign-language-translator/.venv/lib/python3.9/site-packages (from matplotlib!=3.6.1,>=3.4->seaborn) (1.3.0)\n",
      "Requirement already satisfied: cycler>=0.10 in /Users/theerat/Documents/sign-language-translator/.venv/lib/python3.9/site-packages (from matplotlib!=3.6.1,>=3.4->seaborn) (0.12.1)\n",
      "Requirement already satisfied: fonttools>=4.22.0 in /Users/theerat/Documents/sign-language-translator/.venv/lib/python3.9/site-packages (from matplotlib!=3.6.1,>=3.4->seaborn) (4.54.1)\n",
      "Requirement already satisfied: kiwisolver>=1.3.1 in /Users/theerat/Documents/sign-language-translator/.venv/lib/python3.9/site-packages (from matplotlib!=3.6.1,>=3.4->seaborn) (1.4.7)\n",
      "Requirement already satisfied: pillow>=8 in /Users/theerat/Documents/sign-language-translator/.venv/lib/python3.9/site-packages (from matplotlib!=3.6.1,>=3.4->seaborn) (11.0.0)\n",
      "Requirement already satisfied: pyparsing>=2.3.1 in /Users/theerat/Documents/sign-language-translator/.venv/lib/python3.9/site-packages (from matplotlib!=3.6.1,>=3.4->seaborn) (3.2.0)\n",
      "Requirement already satisfied: python-dateutil>=2.7 in /Users/theerat/Documents/sign-language-translator/.venv/lib/python3.9/site-packages (from matplotlib!=3.6.1,>=3.4->seaborn) (2.9.0.post0)\n",
      "Requirement already satisfied: importlib-resources>=3.2.0 in /Users/theerat/Documents/sign-language-translator/.venv/lib/python3.9/site-packages (from matplotlib!=3.6.1,>=3.4->seaborn) (6.4.5)\n",
      "Requirement already satisfied: pytz>=2020.1 in /Users/theerat/Documents/sign-language-translator/.venv/lib/python3.9/site-packages (from pandas>=1.2->seaborn) (2024.2)\n",
      "Requirement already satisfied: tzdata>=2022.7 in /Users/theerat/Documents/sign-language-translator/.venv/lib/python3.9/site-packages (from pandas>=1.2->seaborn) (2024.2)\n",
      "Requirement already satisfied: zipp>=3.1.0 in /Users/theerat/Documents/sign-language-translator/.venv/lib/python3.9/site-packages (from importlib-resources>=3.2.0->matplotlib!=3.6.1,>=3.4->seaborn) (3.20.2)\n",
      "Requirement already satisfied: six>=1.5 in /Users/theerat/Documents/sign-language-translator/.venv/lib/python3.9/site-packages (from python-dateutil>=2.7->matplotlib!=3.6.1,>=3.4->seaborn) (1.16.0)\n",
      "Using cached tensorflow_addons-0.23.0-cp39-cp39-macosx_11_0_arm64.whl (12.6 MB)\n",
      "Using cached seaborn-0.13.2-py3-none-any.whl (294 kB)\n",
      "Using cached typeguard-2.13.3-py3-none-any.whl (17 kB)\n",
      "Installing collected packages: typeguard, tensorflow-addons, seaborn\n",
      "Successfully installed seaborn-0.13.2 tensorflow-addons-0.23.0 typeguard-2.13.3\n",
      "Note: you may need to restart the kernel to use updated packages.\n"
     ]
    }
   ],
   "source": [
    "# %pip install tensorflow-addons\n",
    "# %pip uninstall tensorflow-addons\n",
    "# %pip install tqdm scikit-learn\n",
    "# %pip install fastparquet pyarrow\n",
    "# %pip install tensorflow-addons seaborn fastparquet"
   ]
  },
  {
   "cell_type": "code",
   "execution_count": 1,
   "metadata": {},
   "outputs": [
    {
     "name": "stderr",
     "output_type": "stream",
     "text": [
      "/Users/theerat/Documents/sign-language-translator/.venv/lib/python3.9/site-packages/urllib3/__init__.py:35: NotOpenSSLWarning: urllib3 v2 only supports OpenSSL 1.1.1+, currently the 'ssl' module is compiled with 'LibreSSL 2.8.3'. See: https://github.com/urllib3/urllib3/issues/3020\n",
      "  warnings.warn(\n"
     ]
    }
   ],
   "source": [
    "import numpy as np\n",
    "import pandas as pd\n",
    "import tensorflow as tf\n",
    "# import tensorflow_addons as tfa\n",
    "import matplotlib.pyplot as plt\n",
    "import matplotlib as mpl\n",
    "import seaborn as sn\n",
    "\n",
    "from tqdm.notebook import tqdm\n",
    "from sklearn.model_selection import train_test_split, GroupShuffleSplit \n",
    "\n",
    "import glob\n",
    "import sys\n",
    "import os\n",
    "import math\n",
    "import gc\n",
    "import sys\n",
    "import sklearn\n",
    "import scipy\n",
    "import ast\n",
    "import pyarrow\n",
    "# import fastparquet\n",
    "\n",
    "# print(f'Tensorflow V{tf.__version__}')\n",
    "# print(f'Keras V{tf.keras.__version__}')\n",
    "# print(f'Python V{sys.version}')"
   ]
  },
  {
   "cell_type": "markdown",
   "metadata": {},
   "source": [
    "# LSTM"
   ]
  },
  {
   "cell_type": "code",
   "execution_count": 2,
   "metadata": {},
   "outputs": [],
   "source": [
    "from sklearn.model_selection import train_test_split\n",
    "from keras import utils"
   ]
  },
  {
   "cell_type": "code",
   "execution_count": 3,
   "metadata": {},
   "outputs": [],
   "source": [
    "words = os.listdir('/Users/theerat/Dataset/train')"
   ]
  },
  {
   "cell_type": "code",
   "execution_count": 4,
   "metadata": {},
   "outputs": [],
   "source": [
    "words.remove('.DS_Store')\n",
    "# words.remove('ไม่มี')"
   ]
  },
  {
   "cell_type": "code",
   "execution_count": 10,
   "metadata": {},
   "outputs": [],
   "source": [
    "all_words = [\n",
    "    'ฉัน','กิน','พูด','อยู่','หนังสือ','คุณ','ดื่ม','ฟัง','อะไร',\n",
    "    'โรงเรียน','เขา','นอน','หัวเราะ','บ้าน','ข้าว','นักเรียน',\n",
    "    'เดิน','ชอบ','ที่ไหน','วันนี้','ไก่ผัดกะเพรา','วิ่ง','ไม่มี','ปลา','ควาย'\n",
    "             ]"
   ]
  },
  {
   "cell_type": "code",
   "execution_count": 5,
   "metadata": {},
   "outputs": [
    {
     "data": {
      "text/plain": [
       "['หนังสือ',\n",
       " 'อยู่',\n",
       " 'พูด',\n",
       " 'อะไร',\n",
       " 'ไก่ผัดกะเพรา',\n",
       " 'ปลา',\n",
       " 'ชอบ',\n",
       " 'หัวเราะ',\n",
       " 'ควาย',\n",
       " 'ไม่มี',\n",
       " 'ฟัง',\n",
       " 'ดื่ม',\n",
       " 'คุณ',\n",
       " 'นอน',\n",
       " 'เขา',\n",
       " 'กิน',\n",
       " 'โรงเรียน',\n",
       " 'ฉัน',\n",
       " 'ที่ไหน',\n",
       " 'ข้าว',\n",
       " 'บ้าน',\n",
       " 'นักเรียน',\n",
       " 'วันนี้',\n",
       " 'วิ่ง',\n",
       " 'เดิน']"
      ]
     },
     "execution_count": 5,
     "metadata": {},
     "output_type": "execute_result"
    }
   ],
   "source": [
    "words"
   ]
  },
  {
   "cell_type": "code",
   "execution_count": 6,
   "metadata": {},
   "outputs": [
    {
     "data": {
      "text/plain": [
       "25"
      ]
     },
     "execution_count": 6,
     "metadata": {},
     "output_type": "execute_result"
    }
   ],
   "source": [
    "len(words)"
   ]
  },
  {
   "cell_type": "code",
   "execution_count": 8,
   "metadata": {},
   "outputs": [],
   "source": [
    "words_np = np.array(words)"
   ]
  },
  {
   "cell_type": "code",
   "execution_count": 10,
   "metadata": {},
   "outputs": [],
   "source": [
    "DATA_PATH = os.path.join('/Users/theerat/Dataset/train')"
   ]
  },
  {
   "cell_type": "code",
   "execution_count": 11,
   "metadata": {},
   "outputs": [
    {
     "data": {
      "text/plain": [
       "{'หนังสือ': 0,\n",
       " 'อยู่': 1,\n",
       " 'พูด': 2,\n",
       " 'อะไร': 3,\n",
       " 'ไก่ผัดกะเพรา': 4,\n",
       " 'ปลา': 5,\n",
       " 'ชอบ': 6,\n",
       " 'หัวเราะ': 7,\n",
       " 'ควาย': 8,\n",
       " 'ไม่มี': 9,\n",
       " 'ฟัง': 10,\n",
       " 'ดื่ม': 11,\n",
       " 'คุณ': 12,\n",
       " 'นอน': 13,\n",
       " 'เขา': 14,\n",
       " 'กิน': 15,\n",
       " 'โรงเรียน': 16,\n",
       " 'ฉัน': 17,\n",
       " 'ที่ไหน': 18,\n",
       " 'ข้าว': 19,\n",
       " 'บ้าน': 20,\n",
       " 'นักเรียน': 21,\n",
       " 'วันนี้': 22,\n",
       " 'วิ่ง': 23,\n",
       " 'เดิน': 24}"
      ]
     },
     "execution_count": 11,
     "metadata": {},
     "output_type": "execute_result"
    }
   ],
   "source": [
    "label_map = {label:num for num, label in enumerate(words_np)}\n",
    "label_map"
   ]
  },
  {
   "cell_type": "code",
   "execution_count": 12,
   "metadata": {},
   "outputs": [],
   "source": [
    "words = label_map.keys()"
   ]
  },
  {
   "cell_type": "code",
   "execution_count": 13,
   "metadata": {},
   "outputs": [
    {
     "data": {
      "text/plain": [
       "dict_keys(['หนังสือ', 'อยู่', 'พูด', 'อะไร', 'ไก่ผัดกะเพรา', 'ปลา', 'ชอบ', 'หัวเราะ', 'ควาย', 'ไม่มี', 'ฟัง', 'ดื่ม', 'คุณ', 'นอน', 'เขา', 'กิน', 'โรงเรียน', 'ฉัน', 'ที่ไหน', 'ข้าว', 'บ้าน', 'นักเรียน', 'วันนี้', 'วิ่ง', 'เดิน'])"
      ]
     },
     "execution_count": 13,
     "metadata": {},
     "output_type": "execute_result"
    }
   ],
   "source": [
    "words"
   ]
  },
  {
   "cell_type": "markdown",
   "metadata": {},
   "source": [
    "อัดไฟล์"
   ]
  },
  {
   "cell_type": "code",
   "execution_count": 67,
   "metadata": {},
   "outputs": [
    {
     "data": {
      "text/plain": [
       "array(['หนังสือ', 'อยู่', 'พูด', 'อะไร', 'ไก่ผัดกะเพรา', 'ปลา', 'ชอบ',\n",
       "       'หัวเราะ', 'ควาย', 'ไม่มี', 'ฟัง', 'ดื่ม', 'คุณ', 'นอน', 'เขา',\n",
       "       'กิน', 'โรงเรียน', 'ฉัน', 'ที่ไหน', 'ข้าว', 'บ้าน', 'นักเรียน',\n",
       "       'วันนี้', 'วิ่ง', 'เดิน'], dtype='<U12')"
      ]
     },
     "execution_count": 12,
     "metadata": {},
     "output_type": "execute_result"
    }
   ],
   "source": [
    "filtered_words = np.array(list(filter(lambda word: word != '.DS_Store', label_map)))\n",
    "filtered_words"
   ]
  },
  {
   "cell_type": "code",
   "execution_count": null,
   "metadata": {},
   "outputs": [],
   "source": [
    "#use with npy file \n",
    "sequences, labels = [], []\n",
    "for action in words_np:\n",
    "    for sequence in range(no_sequences):\n",
    "        window = []\n",
    "        for frame_num in range(sequence_length):\n",
    "            res = np.load(os.path.join(DATA_PATH, action, str(sequence), \"{}.npy\".format(frame_num)))\n",
    "            window.append(res)\n",
    "        sequences.append(window)\n",
    "        labels.append(label_map[action])"
   ]
  },
  {
   "cell_type": "code",
   "execution_count": 19,
   "metadata": {},
   "outputs": [
    {
     "name": "stdout",
     "output_type": "stream",
     "text": [
      "Frame shape: (3, 468)\n",
      "Frame length (number of features): 1404\n"
     ]
    },
    {
     "data": {
      "text/html": [
       "<div>\n",
       "<style scoped>\n",
       "    .dataframe tbody tr th:only-of-type {\n",
       "        vertical-align: middle;\n",
       "    }\n",
       "\n",
       "    .dataframe tbody tr th {\n",
       "        vertical-align: top;\n",
       "    }\n",
       "\n",
       "    .dataframe thead th {\n",
       "        text-align: right;\n",
       "    }\n",
       "</style>\n",
       "<table border=\"1\" class=\"dataframe\">\n",
       "  <thead>\n",
       "    <tr style=\"text-align: right;\">\n",
       "      <th></th>\n",
       "      <th>Unnamed: 0</th>\n",
       "      <th>Unnamed: 1</th>\n",
       "      <th>Unnamed: 2</th>\n",
       "      <th>Unnamed: 3</th>\n",
       "      <th>Unnamed: 4</th>\n",
       "      <th>Unnamed: 5</th>\n",
       "      <th>Unnamed: 6</th>\n",
       "      <th>Unnamed: 7</th>\n",
       "      <th>Unnamed: 8</th>\n",
       "      <th>Unnamed: 9</th>\n",
       "      <th>...</th>\n",
       "      <th>Unnamed: 458</th>\n",
       "      <th>Unnamed: 459</th>\n",
       "      <th>Unnamed: 460</th>\n",
       "      <th>Unnamed: 461</th>\n",
       "      <th>Unnamed: 462</th>\n",
       "      <th>Unnamed: 463</th>\n",
       "      <th>Unnamed: 464</th>\n",
       "      <th>Unnamed: 465</th>\n",
       "      <th>Unnamed: 466</th>\n",
       "      <th>Unnamed: 467</th>\n",
       "    </tr>\n",
       "  </thead>\n",
       "  <tbody>\n",
       "    <tr>\n",
       "      <th>0</th>\n",
       "      <td>NaN</td>\n",
       "      <td>NaN</td>\n",
       "      <td>NaN</td>\n",
       "      <td>NaN</td>\n",
       "      <td>NaN</td>\n",
       "      <td>NaN</td>\n",
       "      <td>NaN</td>\n",
       "      <td>NaN</td>\n",
       "      <td>NaN</td>\n",
       "      <td>NaN</td>\n",
       "      <td>...</td>\n",
       "      <td>NaN</td>\n",
       "      <td>NaN</td>\n",
       "      <td>NaN</td>\n",
       "      <td>NaN</td>\n",
       "      <td>NaN</td>\n",
       "      <td>NaN</td>\n",
       "      <td>NaN</td>\n",
       "      <td>NaN</td>\n",
       "      <td>NaN</td>\n",
       "      <td>NaN</td>\n",
       "    </tr>\n",
       "    <tr>\n",
       "      <th>1</th>\n",
       "      <td>[0.5088492631912231, 0.4371003806591034, -0.40...</td>\n",
       "      <td>[0.5181189775466919, 0.408042311668396, -0.380...</td>\n",
       "      <td>[0.5242165923118591, 0.40814876556396484, -0.3...</td>\n",
       "      <td>[0.5295575857162476, 0.40844979882240295, -0.3...</td>\n",
       "      <td>[0.49535030126571655, 0.40996840596199036, -0....</td>\n",
       "      <td>[0.4867516756057739, 0.41208237409591675, -0.3...</td>\n",
       "      <td>[0.478809654712677, 0.4142126441001892, -0.389...</td>\n",
       "      <td>[0.5369741320610046, 0.42589879035949707, -0.1...</td>\n",
       "      <td>[0.46590837836265564, 0.4387238025665283, -0.2...</td>\n",
       "      <td>[0.5230993628501892, 0.47184911370277405, -0.3...</td>\n",
       "      <td>...</td>\n",
       "      <td>NaN</td>\n",
       "      <td>NaN</td>\n",
       "      <td>NaN</td>\n",
       "      <td>NaN</td>\n",
       "      <td>NaN</td>\n",
       "      <td>NaN</td>\n",
       "      <td>NaN</td>\n",
       "      <td>NaN</td>\n",
       "      <td>NaN</td>\n",
       "      <td>NaN</td>\n",
       "    </tr>\n",
       "    <tr>\n",
       "      <th>2</th>\n",
       "      <td>[0.507597804069519, 0.48158273100852966, -0.01...</td>\n",
       "      <td>[0.5077126026153564, 0.4567560851573944, -0.02...</td>\n",
       "      <td>[0.5072615742683411, 0.46442711353302, -0.0107...</td>\n",
       "      <td>[0.5031067728996277, 0.4331226050853729, -0.01...</td>\n",
       "      <td>[0.5075286030769348, 0.44917523860931396, -0.0...</td>\n",
       "      <td>[0.5069674253463745, 0.4394323229789734, -0.01...</td>\n",
       "      <td>[0.5052244067192078, 0.4161573052406311, -0.00...</td>\n",
       "      <td>[0.4769849479198456, 0.4188508689403534, 0.003...</td>\n",
       "      <td>[0.5042412877082825, 0.3982102870941162, -0.00...</td>\n",
       "      <td>[0.5038819313049316, 0.3881484270095825, -0.00...</td>\n",
       "      <td>...</td>\n",
       "      <td>[0.5109818577766418, 0.45872125029563904, -0.0...</td>\n",
       "      <td>[0.5129014253616333, 0.4561624526977539, -0.01...</td>\n",
       "      <td>[0.5161660313606262, 0.46057137846946716, -0.0...</td>\n",
       "      <td>[0.5104910731315613, 0.4594475030899048, -0.01...</td>\n",
       "      <td>[0.5099663734436035, 0.46102169156074524, -0.0...</td>\n",
       "      <td>[0.5138695240020752, 0.41394728422164917, 0.00...</td>\n",
       "      <td>[0.511873185634613, 0.41576653718948364, 0.001...</td>\n",
       "      <td>[0.5109558701515198, 0.4169583022594452, -0.00...</td>\n",
       "      <td>[0.5302391052246094, 0.40931257605552673, 0.00...</td>\n",
       "      <td>[0.5319879055023193, 0.40594637393951416, 0.00...</td>\n",
       "    </tr>\n",
       "  </tbody>\n",
       "</table>\n",
       "<p>3 rows × 468 columns</p>\n",
       "</div>"
      ],
      "text/plain": [
       "                                          Unnamed: 0  \\\n",
       "0                                                NaN   \n",
       "1  [0.5088492631912231, 0.4371003806591034, -0.40...   \n",
       "2  [0.507597804069519, 0.48158273100852966, -0.01...   \n",
       "\n",
       "                                          Unnamed: 1  \\\n",
       "0                                                NaN   \n",
       "1  [0.5181189775466919, 0.408042311668396, -0.380...   \n",
       "2  [0.5077126026153564, 0.4567560851573944, -0.02...   \n",
       "\n",
       "                                          Unnamed: 2  \\\n",
       "0                                                NaN   \n",
       "1  [0.5242165923118591, 0.40814876556396484, -0.3...   \n",
       "2  [0.5072615742683411, 0.46442711353302, -0.0107...   \n",
       "\n",
       "                                          Unnamed: 3  \\\n",
       "0                                                NaN   \n",
       "1  [0.5295575857162476, 0.40844979882240295, -0.3...   \n",
       "2  [0.5031067728996277, 0.4331226050853729, -0.01...   \n",
       "\n",
       "                                          Unnamed: 4  \\\n",
       "0                                                NaN   \n",
       "1  [0.49535030126571655, 0.40996840596199036, -0....   \n",
       "2  [0.5075286030769348, 0.44917523860931396, -0.0...   \n",
       "\n",
       "                                          Unnamed: 5  \\\n",
       "0                                                NaN   \n",
       "1  [0.4867516756057739, 0.41208237409591675, -0.3...   \n",
       "2  [0.5069674253463745, 0.4394323229789734, -0.01...   \n",
       "\n",
       "                                          Unnamed: 6  \\\n",
       "0                                                NaN   \n",
       "1  [0.478809654712677, 0.4142126441001892, -0.389...   \n",
       "2  [0.5052244067192078, 0.4161573052406311, -0.00...   \n",
       "\n",
       "                                          Unnamed: 7  \\\n",
       "0                                                NaN   \n",
       "1  [0.5369741320610046, 0.42589879035949707, -0.1...   \n",
       "2  [0.4769849479198456, 0.4188508689403534, 0.003...   \n",
       "\n",
       "                                          Unnamed: 8  \\\n",
       "0                                                NaN   \n",
       "1  [0.46590837836265564, 0.4387238025665283, -0.2...   \n",
       "2  [0.5042412877082825, 0.3982102870941162, -0.00...   \n",
       "\n",
       "                                          Unnamed: 9  ...  \\\n",
       "0                                                NaN  ...   \n",
       "1  [0.5230993628501892, 0.47184911370277405, -0.3...  ...   \n",
       "2  [0.5038819313049316, 0.3881484270095825, -0.00...  ...   \n",
       "\n",
       "                                        Unnamed: 458  \\\n",
       "0                                                NaN   \n",
       "1                                                NaN   \n",
       "2  [0.5109818577766418, 0.45872125029563904, -0.0...   \n",
       "\n",
       "                                        Unnamed: 459  \\\n",
       "0                                                NaN   \n",
       "1                                                NaN   \n",
       "2  [0.5129014253616333, 0.4561624526977539, -0.01...   \n",
       "\n",
       "                                        Unnamed: 460  \\\n",
       "0                                                NaN   \n",
       "1                                                NaN   \n",
       "2  [0.5161660313606262, 0.46057137846946716, -0.0...   \n",
       "\n",
       "                                        Unnamed: 461  \\\n",
       "0                                                NaN   \n",
       "1                                                NaN   \n",
       "2  [0.5104910731315613, 0.4594475030899048, -0.01...   \n",
       "\n",
       "                                        Unnamed: 462  \\\n",
       "0                                                NaN   \n",
       "1                                                NaN   \n",
       "2  [0.5099663734436035, 0.46102169156074524, -0.0...   \n",
       "\n",
       "                                        Unnamed: 463  \\\n",
       "0                                                NaN   \n",
       "1                                                NaN   \n",
       "2  [0.5138695240020752, 0.41394728422164917, 0.00...   \n",
       "\n",
       "                                        Unnamed: 464  \\\n",
       "0                                                NaN   \n",
       "1                                                NaN   \n",
       "2  [0.511873185634613, 0.41576653718948364, 0.001...   \n",
       "\n",
       "                                        Unnamed: 465  \\\n",
       "0                                                NaN   \n",
       "1                                                NaN   \n",
       "2  [0.5109558701515198, 0.4169583022594452, -0.00...   \n",
       "\n",
       "                                        Unnamed: 466  \\\n",
       "0                                                NaN   \n",
       "1                                                NaN   \n",
       "2  [0.5302391052246094, 0.40931257605552673, 0.00...   \n",
       "\n",
       "                                        Unnamed: 467  \n",
       "0                                                NaN  \n",
       "1                                                NaN  \n",
       "2  [0.5319879055023193, 0.40594637393951416, 0.00...  \n",
       "\n",
       "[3 rows x 468 columns]"
      ]
     },
     "execution_count": 19,
     "metadata": {},
     "output_type": "execute_result"
    }
   ],
   "source": [
    "#test\n",
    "csv_path ='/Users/theerat/Dataset/test/ควาย/30/27.csv'\n",
    "df = pd.read_csv(csv_path,skiprows=1)\n",
    "frame_data = df.to_numpy()\n",
    "\n",
    "frame_length = frame_data.size\n",
    "\n",
    "print(f\"Frame shape: {frame_data.shape}\")\n",
    "print(f\"Frame length (number of features): {frame_length}\")\n",
    "df"
   ]
  },
  {
   "cell_type": "code",
   "execution_count": 20,
   "metadata": {},
   "outputs": [],
   "source": [
    "words = label_map.keys()"
   ]
  },
  {
   "cell_type": "code",
   "execution_count": 24,
   "metadata": {},
   "outputs": [
    {
     "name": "stderr",
     "output_type": "stream",
     "text": [
      "Processing Actions:   0%|          | 0/25 [00:00<?, ?it/s]"
     ]
    },
    {
     "name": "stdout",
     "output_type": "stream",
     "text": [
      "หนังสือ\n"
     ]
    },
    {
     "name": "stderr",
     "output_type": "stream",
     "text": []
    },
    {
     "name": "stdout",
     "output_type": "stream",
     "text": [
      "หนังสือ\n"
     ]
    },
    {
     "name": "stderr",
     "output_type": "stream",
     "text": []
    },
    {
     "name": "stdout",
     "output_type": "stream",
     "text": [
      "หนังสือ\n"
     ]
    },
    {
     "name": "stderr",
     "output_type": "stream",
     "text": []
    },
    {
     "name": "stdout",
     "output_type": "stream",
     "text": [
      "หนังสือ\n"
     ]
    },
    {
     "name": "stderr",
     "output_type": "stream",
     "text": []
    },
    {
     "name": "stdout",
     "output_type": "stream",
     "text": [
      "หนังสือ\n"
     ]
    },
    {
     "name": "stderr",
     "output_type": "stream",
     "text": []
    },
    {
     "name": "stdout",
     "output_type": "stream",
     "text": [
      "หนังสือ\n"
     ]
    },
    {
     "name": "stderr",
     "output_type": "stream",
     "text": []
    },
    {
     "name": "stdout",
     "output_type": "stream",
     "text": [
      "หนังสือ\n"
     ]
    },
    {
     "name": "stderr",
     "output_type": "stream",
     "text": []
    },
    {
     "name": "stdout",
     "output_type": "stream",
     "text": [
      "หนังสือ\n"
     ]
    },
    {
     "name": "stderr",
     "output_type": "stream",
     "text": []
    },
    {
     "name": "stdout",
     "output_type": "stream",
     "text": [
      "หนังสือ\n"
     ]
    },
    {
     "name": "stderr",
     "output_type": "stream",
     "text": []
    },
    {
     "name": "stdout",
     "output_type": "stream",
     "text": [
      "หนังสือ\n"
     ]
    },
    {
     "name": "stderr",
     "output_type": "stream",
     "text": []
    },
    {
     "name": "stdout",
     "output_type": "stream",
     "text": [
      "หนังสือ\n"
     ]
    },
    {
     "name": "stderr",
     "output_type": "stream",
     "text": []
    },
    {
     "name": "stdout",
     "output_type": "stream",
     "text": [
      "หนังสือ\n"
     ]
    },
    {
     "name": "stderr",
     "output_type": "stream",
     "text": []
    },
    {
     "name": "stdout",
     "output_type": "stream",
     "text": [
      "หนังสือ\n"
     ]
    },
    {
     "name": "stderr",
     "output_type": "stream",
     "text": []
    },
    {
     "name": "stdout",
     "output_type": "stream",
     "text": [
      "หนังสือ\n"
     ]
    },
    {
     "name": "stderr",
     "output_type": "stream",
     "text": []
    },
    {
     "name": "stdout",
     "output_type": "stream",
     "text": [
      "หนังสือ\n"
     ]
    },
    {
     "name": "stderr",
     "output_type": "stream",
     "text": []
    },
    {
     "name": "stdout",
     "output_type": "stream",
     "text": [
      "หนังสือ\n"
     ]
    },
    {
     "name": "stderr",
     "output_type": "stream",
     "text": []
    },
    {
     "name": "stdout",
     "output_type": "stream",
     "text": [
      "หนังสือ\n"
     ]
    },
    {
     "name": "stderr",
     "output_type": "stream",
     "text": []
    },
    {
     "name": "stdout",
     "output_type": "stream",
     "text": [
      "หนังสือ\n"
     ]
    },
    {
     "name": "stderr",
     "output_type": "stream",
     "text": []
    },
    {
     "name": "stdout",
     "output_type": "stream",
     "text": [
      "หนังสือ\n"
     ]
    },
    {
     "name": "stderr",
     "output_type": "stream",
     "text": []
    },
    {
     "name": "stdout",
     "output_type": "stream",
     "text": [
      "หนังสือ\n"
     ]
    },
    {
     "name": "stderr",
     "output_type": "stream",
     "text": [
      "Processing Actions:   4%|▍         | 1/25 [00:11<04:31, 11.30s/it]"
     ]
    },
    {
     "name": "stdout",
     "output_type": "stream",
     "text": [
      "อยู่\n"
     ]
    },
    {
     "name": "stderr",
     "output_type": "stream",
     "text": []
    },
    {
     "name": "stdout",
     "output_type": "stream",
     "text": [
      "อยู่\n"
     ]
    },
    {
     "name": "stderr",
     "output_type": "stream",
     "text": []
    },
    {
     "name": "stdout",
     "output_type": "stream",
     "text": [
      "อยู่\n"
     ]
    },
    {
     "name": "stderr",
     "output_type": "stream",
     "text": []
    },
    {
     "name": "stdout",
     "output_type": "stream",
     "text": [
      "อยู่\n"
     ]
    },
    {
     "name": "stderr",
     "output_type": "stream",
     "text": []
    },
    {
     "name": "stdout",
     "output_type": "stream",
     "text": [
      "อยู่\n"
     ]
    },
    {
     "name": "stderr",
     "output_type": "stream",
     "text": []
    },
    {
     "name": "stdout",
     "output_type": "stream",
     "text": [
      "อยู่\n"
     ]
    },
    {
     "name": "stderr",
     "output_type": "stream",
     "text": []
    },
    {
     "name": "stdout",
     "output_type": "stream",
     "text": [
      "อยู่\n"
     ]
    },
    {
     "name": "stderr",
     "output_type": "stream",
     "text": []
    },
    {
     "name": "stdout",
     "output_type": "stream",
     "text": [
      "อยู่\n"
     ]
    },
    {
     "name": "stderr",
     "output_type": "stream",
     "text": []
    },
    {
     "name": "stdout",
     "output_type": "stream",
     "text": [
      "อยู่\n"
     ]
    },
    {
     "name": "stderr",
     "output_type": "stream",
     "text": []
    },
    {
     "name": "stdout",
     "output_type": "stream",
     "text": [
      "อยู่\n"
     ]
    },
    {
     "name": "stderr",
     "output_type": "stream",
     "text": []
    },
    {
     "name": "stdout",
     "output_type": "stream",
     "text": [
      "อยู่\n"
     ]
    },
    {
     "name": "stderr",
     "output_type": "stream",
     "text": []
    },
    {
     "name": "stdout",
     "output_type": "stream",
     "text": [
      "อยู่\n"
     ]
    },
    {
     "name": "stderr",
     "output_type": "stream",
     "text": []
    },
    {
     "name": "stdout",
     "output_type": "stream",
     "text": [
      "อยู่\n"
     ]
    },
    {
     "name": "stderr",
     "output_type": "stream",
     "text": []
    },
    {
     "name": "stdout",
     "output_type": "stream",
     "text": [
      "อยู่\n"
     ]
    },
    {
     "name": "stderr",
     "output_type": "stream",
     "text": []
    },
    {
     "name": "stdout",
     "output_type": "stream",
     "text": [
      "อยู่\n"
     ]
    },
    {
     "name": "stderr",
     "output_type": "stream",
     "text": []
    },
    {
     "name": "stdout",
     "output_type": "stream",
     "text": [
      "อยู่\n"
     ]
    },
    {
     "name": "stderr",
     "output_type": "stream",
     "text": []
    },
    {
     "name": "stdout",
     "output_type": "stream",
     "text": [
      "อยู่\n"
     ]
    },
    {
     "name": "stderr",
     "output_type": "stream",
     "text": []
    },
    {
     "name": "stdout",
     "output_type": "stream",
     "text": [
      "อยู่\n"
     ]
    },
    {
     "name": "stderr",
     "output_type": "stream",
     "text": []
    },
    {
     "name": "stdout",
     "output_type": "stream",
     "text": [
      "อยู่\n"
     ]
    },
    {
     "name": "stderr",
     "output_type": "stream",
     "text": []
    },
    {
     "name": "stdout",
     "output_type": "stream",
     "text": [
      "อยู่\n"
     ]
    },
    {
     "name": "stderr",
     "output_type": "stream",
     "text": [
      "Processing Actions:   8%|▊         | 2/25 [00:22<04:19, 11.26s/it]"
     ]
    },
    {
     "name": "stdout",
     "output_type": "stream",
     "text": [
      "พูด\n"
     ]
    },
    {
     "name": "stderr",
     "output_type": "stream",
     "text": []
    },
    {
     "name": "stdout",
     "output_type": "stream",
     "text": [
      "พูด\n"
     ]
    },
    {
     "name": "stderr",
     "output_type": "stream",
     "text": []
    },
    {
     "name": "stdout",
     "output_type": "stream",
     "text": [
      "พูด\n"
     ]
    },
    {
     "name": "stderr",
     "output_type": "stream",
     "text": []
    },
    {
     "name": "stdout",
     "output_type": "stream",
     "text": [
      "พูด\n"
     ]
    },
    {
     "name": "stderr",
     "output_type": "stream",
     "text": []
    },
    {
     "name": "stdout",
     "output_type": "stream",
     "text": [
      "พูด\n"
     ]
    },
    {
     "name": "stderr",
     "output_type": "stream",
     "text": []
    },
    {
     "name": "stdout",
     "output_type": "stream",
     "text": [
      "พูด\n"
     ]
    },
    {
     "name": "stderr",
     "output_type": "stream",
     "text": []
    },
    {
     "name": "stdout",
     "output_type": "stream",
     "text": [
      "พูด\n"
     ]
    },
    {
     "name": "stderr",
     "output_type": "stream",
     "text": []
    },
    {
     "name": "stdout",
     "output_type": "stream",
     "text": [
      "พูด\n"
     ]
    },
    {
     "name": "stderr",
     "output_type": "stream",
     "text": []
    },
    {
     "name": "stdout",
     "output_type": "stream",
     "text": [
      "พูด\n"
     ]
    },
    {
     "name": "stderr",
     "output_type": "stream",
     "text": []
    },
    {
     "name": "stdout",
     "output_type": "stream",
     "text": [
      "พูด\n"
     ]
    },
    {
     "name": "stderr",
     "output_type": "stream",
     "text": []
    },
    {
     "name": "stdout",
     "output_type": "stream",
     "text": [
      "พูด\n"
     ]
    },
    {
     "name": "stderr",
     "output_type": "stream",
     "text": []
    },
    {
     "name": "stdout",
     "output_type": "stream",
     "text": [
      "พูด\n"
     ]
    },
    {
     "name": "stderr",
     "output_type": "stream",
     "text": []
    },
    {
     "name": "stdout",
     "output_type": "stream",
     "text": [
      "พูด\n"
     ]
    },
    {
     "name": "stderr",
     "output_type": "stream",
     "text": []
    },
    {
     "name": "stdout",
     "output_type": "stream",
     "text": [
      "พูด\n"
     ]
    },
    {
     "name": "stderr",
     "output_type": "stream",
     "text": []
    },
    {
     "name": "stdout",
     "output_type": "stream",
     "text": [
      "พูด\n"
     ]
    },
    {
     "name": "stderr",
     "output_type": "stream",
     "text": []
    },
    {
     "name": "stdout",
     "output_type": "stream",
     "text": [
      "พูด\n"
     ]
    },
    {
     "name": "stderr",
     "output_type": "stream",
     "text": []
    },
    {
     "name": "stdout",
     "output_type": "stream",
     "text": [
      "พูด\n"
     ]
    },
    {
     "name": "stderr",
     "output_type": "stream",
     "text": []
    },
    {
     "name": "stdout",
     "output_type": "stream",
     "text": [
      "พูด\n"
     ]
    },
    {
     "name": "stderr",
     "output_type": "stream",
     "text": []
    },
    {
     "name": "stdout",
     "output_type": "stream",
     "text": [
      "พูด\n"
     ]
    },
    {
     "name": "stderr",
     "output_type": "stream",
     "text": []
    },
    {
     "name": "stdout",
     "output_type": "stream",
     "text": [
      "พูด\n"
     ]
    },
    {
     "name": "stderr",
     "output_type": "stream",
     "text": [
      "Processing Actions:  12%|█▏        | 3/25 [00:33<04:06, 11.22s/it]"
     ]
    },
    {
     "name": "stdout",
     "output_type": "stream",
     "text": [
      "อะไร\n"
     ]
    },
    {
     "name": "stderr",
     "output_type": "stream",
     "text": []
    },
    {
     "name": "stdout",
     "output_type": "stream",
     "text": [
      "อะไร\n"
     ]
    },
    {
     "name": "stderr",
     "output_type": "stream",
     "text": []
    },
    {
     "name": "stdout",
     "output_type": "stream",
     "text": [
      "อะไร\n"
     ]
    },
    {
     "name": "stderr",
     "output_type": "stream",
     "text": []
    },
    {
     "name": "stdout",
     "output_type": "stream",
     "text": [
      "อะไร\n"
     ]
    },
    {
     "name": "stderr",
     "output_type": "stream",
     "text": []
    },
    {
     "name": "stdout",
     "output_type": "stream",
     "text": [
      "อะไร\n"
     ]
    },
    {
     "name": "stderr",
     "output_type": "stream",
     "text": []
    },
    {
     "name": "stdout",
     "output_type": "stream",
     "text": [
      "อะไร\n"
     ]
    },
    {
     "name": "stderr",
     "output_type": "stream",
     "text": []
    },
    {
     "name": "stdout",
     "output_type": "stream",
     "text": [
      "อะไร\n"
     ]
    },
    {
     "name": "stderr",
     "output_type": "stream",
     "text": []
    },
    {
     "name": "stdout",
     "output_type": "stream",
     "text": [
      "อะไร\n"
     ]
    },
    {
     "name": "stderr",
     "output_type": "stream",
     "text": []
    },
    {
     "name": "stdout",
     "output_type": "stream",
     "text": [
      "อะไร\n"
     ]
    },
    {
     "name": "stderr",
     "output_type": "stream",
     "text": []
    },
    {
     "name": "stdout",
     "output_type": "stream",
     "text": [
      "อะไร\n"
     ]
    },
    {
     "name": "stderr",
     "output_type": "stream",
     "text": []
    },
    {
     "name": "stdout",
     "output_type": "stream",
     "text": [
      "อะไร\n"
     ]
    },
    {
     "name": "stderr",
     "output_type": "stream",
     "text": []
    },
    {
     "name": "stdout",
     "output_type": "stream",
     "text": [
      "อะไร\n"
     ]
    },
    {
     "name": "stderr",
     "output_type": "stream",
     "text": []
    },
    {
     "name": "stdout",
     "output_type": "stream",
     "text": [
      "อะไร\n"
     ]
    },
    {
     "name": "stderr",
     "output_type": "stream",
     "text": []
    },
    {
     "name": "stdout",
     "output_type": "stream",
     "text": [
      "อะไร\n"
     ]
    },
    {
     "name": "stderr",
     "output_type": "stream",
     "text": []
    },
    {
     "name": "stdout",
     "output_type": "stream",
     "text": [
      "อะไร\n"
     ]
    },
    {
     "name": "stderr",
     "output_type": "stream",
     "text": []
    },
    {
     "name": "stdout",
     "output_type": "stream",
     "text": [
      "อะไร\n"
     ]
    },
    {
     "name": "stderr",
     "output_type": "stream",
     "text": []
    },
    {
     "name": "stdout",
     "output_type": "stream",
     "text": [
      "อะไร\n"
     ]
    },
    {
     "name": "stderr",
     "output_type": "stream",
     "text": []
    },
    {
     "name": "stdout",
     "output_type": "stream",
     "text": [
      "อะไร\n"
     ]
    },
    {
     "name": "stderr",
     "output_type": "stream",
     "text": []
    },
    {
     "name": "stdout",
     "output_type": "stream",
     "text": [
      "อะไร\n"
     ]
    },
    {
     "name": "stderr",
     "output_type": "stream",
     "text": []
    },
    {
     "name": "stdout",
     "output_type": "stream",
     "text": [
      "อะไร\n"
     ]
    },
    {
     "name": "stderr",
     "output_type": "stream",
     "text": [
      "Processing Actions:  16%|█▌        | 4/25 [00:45<03:56, 11.25s/it]"
     ]
    },
    {
     "name": "stdout",
     "output_type": "stream",
     "text": [
      "ไก่ผัดกะเพรา\n"
     ]
    },
    {
     "name": "stderr",
     "output_type": "stream",
     "text": []
    },
    {
     "name": "stdout",
     "output_type": "stream",
     "text": [
      "ไก่ผัดกะเพรา\n"
     ]
    },
    {
     "name": "stderr",
     "output_type": "stream",
     "text": []
    },
    {
     "name": "stdout",
     "output_type": "stream",
     "text": [
      "ไก่ผัดกะเพรา\n"
     ]
    },
    {
     "name": "stderr",
     "output_type": "stream",
     "text": []
    },
    {
     "name": "stdout",
     "output_type": "stream",
     "text": [
      "ไก่ผัดกะเพรา\n"
     ]
    },
    {
     "name": "stderr",
     "output_type": "stream",
     "text": []
    },
    {
     "name": "stdout",
     "output_type": "stream",
     "text": [
      "ไก่ผัดกะเพรา\n"
     ]
    },
    {
     "name": "stderr",
     "output_type": "stream",
     "text": []
    },
    {
     "name": "stdout",
     "output_type": "stream",
     "text": [
      "ไก่ผัดกะเพรา\n"
     ]
    },
    {
     "name": "stderr",
     "output_type": "stream",
     "text": []
    },
    {
     "name": "stdout",
     "output_type": "stream",
     "text": [
      "ไก่ผัดกะเพรา\n"
     ]
    },
    {
     "name": "stderr",
     "output_type": "stream",
     "text": []
    },
    {
     "name": "stdout",
     "output_type": "stream",
     "text": [
      "ไก่ผัดกะเพรา\n"
     ]
    },
    {
     "name": "stderr",
     "output_type": "stream",
     "text": []
    },
    {
     "name": "stdout",
     "output_type": "stream",
     "text": [
      "ไก่ผัดกะเพรา\n"
     ]
    },
    {
     "name": "stderr",
     "output_type": "stream",
     "text": []
    },
    {
     "name": "stdout",
     "output_type": "stream",
     "text": [
      "ไก่ผัดกะเพรา\n"
     ]
    },
    {
     "name": "stderr",
     "output_type": "stream",
     "text": []
    },
    {
     "name": "stdout",
     "output_type": "stream",
     "text": [
      "ไก่ผัดกะเพรา\n"
     ]
    },
    {
     "name": "stderr",
     "output_type": "stream",
     "text": []
    },
    {
     "name": "stdout",
     "output_type": "stream",
     "text": [
      "ไก่ผัดกะเพรา\n"
     ]
    },
    {
     "name": "stderr",
     "output_type": "stream",
     "text": []
    },
    {
     "name": "stdout",
     "output_type": "stream",
     "text": [
      "ไก่ผัดกะเพรา\n"
     ]
    },
    {
     "name": "stderr",
     "output_type": "stream",
     "text": []
    },
    {
     "name": "stdout",
     "output_type": "stream",
     "text": [
      "ไก่ผัดกะเพรา\n"
     ]
    },
    {
     "name": "stderr",
     "output_type": "stream",
     "text": []
    },
    {
     "name": "stdout",
     "output_type": "stream",
     "text": [
      "ไก่ผัดกะเพรา\n"
     ]
    },
    {
     "name": "stderr",
     "output_type": "stream",
     "text": []
    },
    {
     "name": "stdout",
     "output_type": "stream",
     "text": [
      "ไก่ผัดกะเพรา\n"
     ]
    },
    {
     "name": "stderr",
     "output_type": "stream",
     "text": []
    },
    {
     "name": "stdout",
     "output_type": "stream",
     "text": [
      "ไก่ผัดกะเพรา\n"
     ]
    },
    {
     "name": "stderr",
     "output_type": "stream",
     "text": []
    },
    {
     "name": "stdout",
     "output_type": "stream",
     "text": [
      "ไก่ผัดกะเพรา\n"
     ]
    },
    {
     "name": "stderr",
     "output_type": "stream",
     "text": []
    },
    {
     "name": "stdout",
     "output_type": "stream",
     "text": [
      "ไก่ผัดกะเพรา\n"
     ]
    },
    {
     "name": "stderr",
     "output_type": "stream",
     "text": []
    },
    {
     "name": "stdout",
     "output_type": "stream",
     "text": [
      "ไก่ผัดกะเพรา\n"
     ]
    },
    {
     "name": "stderr",
     "output_type": "stream",
     "text": [
      "Processing Actions:  20%|██        | 5/25 [00:56<03:45, 11.27s/it]"
     ]
    },
    {
     "name": "stdout",
     "output_type": "stream",
     "text": [
      "ปลา\n"
     ]
    },
    {
     "name": "stderr",
     "output_type": "stream",
     "text": []
    },
    {
     "name": "stdout",
     "output_type": "stream",
     "text": [
      "ปลา\n"
     ]
    },
    {
     "name": "stderr",
     "output_type": "stream",
     "text": []
    },
    {
     "name": "stdout",
     "output_type": "stream",
     "text": [
      "ปลา\n"
     ]
    },
    {
     "name": "stderr",
     "output_type": "stream",
     "text": []
    },
    {
     "name": "stdout",
     "output_type": "stream",
     "text": [
      "ปลา\n"
     ]
    },
    {
     "name": "stderr",
     "output_type": "stream",
     "text": []
    },
    {
     "name": "stdout",
     "output_type": "stream",
     "text": [
      "ปลา\n"
     ]
    },
    {
     "name": "stderr",
     "output_type": "stream",
     "text": []
    },
    {
     "name": "stdout",
     "output_type": "stream",
     "text": [
      "ปลา\n"
     ]
    },
    {
     "name": "stderr",
     "output_type": "stream",
     "text": []
    },
    {
     "name": "stdout",
     "output_type": "stream",
     "text": [
      "ปลา\n"
     ]
    },
    {
     "name": "stderr",
     "output_type": "stream",
     "text": []
    },
    {
     "name": "stdout",
     "output_type": "stream",
     "text": [
      "ปลา\n"
     ]
    },
    {
     "name": "stderr",
     "output_type": "stream",
     "text": []
    },
    {
     "name": "stdout",
     "output_type": "stream",
     "text": [
      "ปลา\n"
     ]
    },
    {
     "name": "stderr",
     "output_type": "stream",
     "text": []
    },
    {
     "name": "stdout",
     "output_type": "stream",
     "text": [
      "ปลา\n"
     ]
    },
    {
     "name": "stderr",
     "output_type": "stream",
     "text": []
    },
    {
     "name": "stdout",
     "output_type": "stream",
     "text": [
      "ปลา\n"
     ]
    },
    {
     "name": "stderr",
     "output_type": "stream",
     "text": []
    },
    {
     "name": "stdout",
     "output_type": "stream",
     "text": [
      "ปลา\n"
     ]
    },
    {
     "name": "stderr",
     "output_type": "stream",
     "text": []
    },
    {
     "name": "stdout",
     "output_type": "stream",
     "text": [
      "ปลา\n"
     ]
    },
    {
     "name": "stderr",
     "output_type": "stream",
     "text": []
    },
    {
     "name": "stdout",
     "output_type": "stream",
     "text": [
      "ปลา\n"
     ]
    },
    {
     "name": "stderr",
     "output_type": "stream",
     "text": []
    },
    {
     "name": "stdout",
     "output_type": "stream",
     "text": [
      "ปลา\n"
     ]
    },
    {
     "name": "stderr",
     "output_type": "stream",
     "text": []
    },
    {
     "name": "stdout",
     "output_type": "stream",
     "text": [
      "ปลา\n"
     ]
    },
    {
     "name": "stderr",
     "output_type": "stream",
     "text": []
    },
    {
     "name": "stdout",
     "output_type": "stream",
     "text": [
      "ปลา\n"
     ]
    },
    {
     "name": "stderr",
     "output_type": "stream",
     "text": []
    },
    {
     "name": "stdout",
     "output_type": "stream",
     "text": [
      "ปลา\n"
     ]
    },
    {
     "name": "stderr",
     "output_type": "stream",
     "text": []
    },
    {
     "name": "stdout",
     "output_type": "stream",
     "text": [
      "ปลา\n"
     ]
    },
    {
     "name": "stderr",
     "output_type": "stream",
     "text": []
    },
    {
     "name": "stdout",
     "output_type": "stream",
     "text": [
      "ปลา\n"
     ]
    },
    {
     "name": "stderr",
     "output_type": "stream",
     "text": [
      "Processing Actions:  24%|██▍       | 6/25 [01:07<03:33, 11.25s/it]"
     ]
    },
    {
     "name": "stdout",
     "output_type": "stream",
     "text": [
      "ชอบ\n"
     ]
    },
    {
     "name": "stderr",
     "output_type": "stream",
     "text": []
    },
    {
     "name": "stdout",
     "output_type": "stream",
     "text": [
      "ชอบ\n"
     ]
    },
    {
     "name": "stderr",
     "output_type": "stream",
     "text": []
    },
    {
     "name": "stdout",
     "output_type": "stream",
     "text": [
      "ชอบ\n"
     ]
    },
    {
     "name": "stderr",
     "output_type": "stream",
     "text": []
    },
    {
     "name": "stdout",
     "output_type": "stream",
     "text": [
      "ชอบ\n"
     ]
    },
    {
     "name": "stderr",
     "output_type": "stream",
     "text": []
    },
    {
     "name": "stdout",
     "output_type": "stream",
     "text": [
      "ชอบ\n"
     ]
    },
    {
     "name": "stderr",
     "output_type": "stream",
     "text": []
    },
    {
     "name": "stdout",
     "output_type": "stream",
     "text": [
      "ชอบ\n"
     ]
    },
    {
     "name": "stderr",
     "output_type": "stream",
     "text": []
    },
    {
     "name": "stdout",
     "output_type": "stream",
     "text": [
      "ชอบ\n"
     ]
    },
    {
     "name": "stderr",
     "output_type": "stream",
     "text": []
    },
    {
     "name": "stdout",
     "output_type": "stream",
     "text": [
      "ชอบ\n"
     ]
    },
    {
     "name": "stderr",
     "output_type": "stream",
     "text": []
    },
    {
     "name": "stdout",
     "output_type": "stream",
     "text": [
      "ชอบ\n"
     ]
    },
    {
     "name": "stderr",
     "output_type": "stream",
     "text": []
    },
    {
     "name": "stdout",
     "output_type": "stream",
     "text": [
      "ชอบ\n"
     ]
    },
    {
     "name": "stderr",
     "output_type": "stream",
     "text": []
    },
    {
     "name": "stdout",
     "output_type": "stream",
     "text": [
      "ชอบ\n"
     ]
    },
    {
     "name": "stderr",
     "output_type": "stream",
     "text": []
    },
    {
     "name": "stdout",
     "output_type": "stream",
     "text": [
      "ชอบ\n"
     ]
    },
    {
     "name": "stderr",
     "output_type": "stream",
     "text": []
    },
    {
     "name": "stdout",
     "output_type": "stream",
     "text": [
      "ชอบ\n"
     ]
    },
    {
     "name": "stderr",
     "output_type": "stream",
     "text": []
    },
    {
     "name": "stdout",
     "output_type": "stream",
     "text": [
      "ชอบ\n"
     ]
    },
    {
     "name": "stderr",
     "output_type": "stream",
     "text": []
    },
    {
     "name": "stdout",
     "output_type": "stream",
     "text": [
      "ชอบ\n"
     ]
    },
    {
     "name": "stderr",
     "output_type": "stream",
     "text": []
    },
    {
     "name": "stdout",
     "output_type": "stream",
     "text": [
      "ชอบ\n"
     ]
    },
    {
     "name": "stderr",
     "output_type": "stream",
     "text": []
    },
    {
     "name": "stdout",
     "output_type": "stream",
     "text": [
      "ชอบ\n"
     ]
    },
    {
     "name": "stderr",
     "output_type": "stream",
     "text": []
    },
    {
     "name": "stdout",
     "output_type": "stream",
     "text": [
      "ชอบ\n"
     ]
    },
    {
     "name": "stderr",
     "output_type": "stream",
     "text": []
    },
    {
     "name": "stdout",
     "output_type": "stream",
     "text": [
      "ชอบ\n"
     ]
    },
    {
     "name": "stderr",
     "output_type": "stream",
     "text": []
    },
    {
     "name": "stdout",
     "output_type": "stream",
     "text": [
      "ชอบ\n"
     ]
    },
    {
     "name": "stderr",
     "output_type": "stream",
     "text": [
      "Processing Actions:  28%|██▊       | 7/25 [01:18<03:22, 11.25s/it]"
     ]
    },
    {
     "name": "stdout",
     "output_type": "stream",
     "text": [
      "หัวเราะ\n"
     ]
    },
    {
     "name": "stderr",
     "output_type": "stream",
     "text": []
    },
    {
     "name": "stdout",
     "output_type": "stream",
     "text": [
      "หัวเราะ\n"
     ]
    },
    {
     "name": "stderr",
     "output_type": "stream",
     "text": []
    },
    {
     "name": "stdout",
     "output_type": "stream",
     "text": [
      "หัวเราะ\n"
     ]
    },
    {
     "name": "stderr",
     "output_type": "stream",
     "text": []
    },
    {
     "name": "stdout",
     "output_type": "stream",
     "text": [
      "หัวเราะ\n"
     ]
    },
    {
     "name": "stderr",
     "output_type": "stream",
     "text": []
    },
    {
     "name": "stdout",
     "output_type": "stream",
     "text": [
      "หัวเราะ\n"
     ]
    },
    {
     "name": "stderr",
     "output_type": "stream",
     "text": []
    },
    {
     "name": "stdout",
     "output_type": "stream",
     "text": [
      "หัวเราะ\n"
     ]
    },
    {
     "name": "stderr",
     "output_type": "stream",
     "text": []
    },
    {
     "name": "stdout",
     "output_type": "stream",
     "text": [
      "หัวเราะ\n"
     ]
    },
    {
     "name": "stderr",
     "output_type": "stream",
     "text": []
    },
    {
     "name": "stdout",
     "output_type": "stream",
     "text": [
      "หัวเราะ\n"
     ]
    },
    {
     "name": "stderr",
     "output_type": "stream",
     "text": []
    },
    {
     "name": "stdout",
     "output_type": "stream",
     "text": [
      "หัวเราะ\n"
     ]
    },
    {
     "name": "stderr",
     "output_type": "stream",
     "text": []
    },
    {
     "name": "stdout",
     "output_type": "stream",
     "text": [
      "หัวเราะ\n"
     ]
    },
    {
     "name": "stderr",
     "output_type": "stream",
     "text": []
    },
    {
     "name": "stdout",
     "output_type": "stream",
     "text": [
      "หัวเราะ\n"
     ]
    },
    {
     "name": "stderr",
     "output_type": "stream",
     "text": []
    },
    {
     "name": "stdout",
     "output_type": "stream",
     "text": [
      "หัวเราะ\n"
     ]
    },
    {
     "name": "stderr",
     "output_type": "stream",
     "text": []
    },
    {
     "name": "stdout",
     "output_type": "stream",
     "text": [
      "หัวเราะ\n"
     ]
    },
    {
     "name": "stderr",
     "output_type": "stream",
     "text": []
    },
    {
     "name": "stdout",
     "output_type": "stream",
     "text": [
      "หัวเราะ\n"
     ]
    },
    {
     "name": "stderr",
     "output_type": "stream",
     "text": []
    },
    {
     "name": "stdout",
     "output_type": "stream",
     "text": [
      "หัวเราะ\n"
     ]
    },
    {
     "name": "stderr",
     "output_type": "stream",
     "text": []
    },
    {
     "name": "stdout",
     "output_type": "stream",
     "text": [
      "หัวเราะ\n"
     ]
    },
    {
     "name": "stderr",
     "output_type": "stream",
     "text": []
    },
    {
     "name": "stdout",
     "output_type": "stream",
     "text": [
      "หัวเราะ\n"
     ]
    },
    {
     "name": "stderr",
     "output_type": "stream",
     "text": []
    },
    {
     "name": "stdout",
     "output_type": "stream",
     "text": [
      "หัวเราะ\n"
     ]
    },
    {
     "name": "stderr",
     "output_type": "stream",
     "text": []
    },
    {
     "name": "stdout",
     "output_type": "stream",
     "text": [
      "หัวเราะ\n"
     ]
    },
    {
     "name": "stderr",
     "output_type": "stream",
     "text": []
    },
    {
     "name": "stdout",
     "output_type": "stream",
     "text": [
      "หัวเราะ\n"
     ]
    },
    {
     "name": "stderr",
     "output_type": "stream",
     "text": [
      "Processing Actions:  32%|███▏      | 8/25 [01:30<03:11, 11.25s/it]"
     ]
    },
    {
     "name": "stdout",
     "output_type": "stream",
     "text": [
      "ควาย\n"
     ]
    },
    {
     "name": "stderr",
     "output_type": "stream",
     "text": []
    },
    {
     "name": "stdout",
     "output_type": "stream",
     "text": [
      "ควาย\n"
     ]
    },
    {
     "name": "stderr",
     "output_type": "stream",
     "text": []
    },
    {
     "name": "stdout",
     "output_type": "stream",
     "text": [
      "ควาย\n"
     ]
    },
    {
     "name": "stderr",
     "output_type": "stream",
     "text": []
    },
    {
     "name": "stdout",
     "output_type": "stream",
     "text": [
      "ควาย\n"
     ]
    },
    {
     "name": "stderr",
     "output_type": "stream",
     "text": []
    },
    {
     "name": "stdout",
     "output_type": "stream",
     "text": [
      "ควาย\n"
     ]
    },
    {
     "name": "stderr",
     "output_type": "stream",
     "text": []
    },
    {
     "name": "stdout",
     "output_type": "stream",
     "text": [
      "ควาย\n"
     ]
    },
    {
     "name": "stderr",
     "output_type": "stream",
     "text": []
    },
    {
     "name": "stdout",
     "output_type": "stream",
     "text": [
      "ควาย\n"
     ]
    },
    {
     "name": "stderr",
     "output_type": "stream",
     "text": []
    },
    {
     "name": "stdout",
     "output_type": "stream",
     "text": [
      "ควาย\n"
     ]
    },
    {
     "name": "stderr",
     "output_type": "stream",
     "text": []
    },
    {
     "name": "stdout",
     "output_type": "stream",
     "text": [
      "ควาย\n"
     ]
    },
    {
     "name": "stderr",
     "output_type": "stream",
     "text": []
    },
    {
     "name": "stdout",
     "output_type": "stream",
     "text": [
      "ควาย\n"
     ]
    },
    {
     "name": "stderr",
     "output_type": "stream",
     "text": []
    },
    {
     "name": "stdout",
     "output_type": "stream",
     "text": [
      "ควาย\n"
     ]
    },
    {
     "name": "stderr",
     "output_type": "stream",
     "text": []
    },
    {
     "name": "stdout",
     "output_type": "stream",
     "text": [
      "ควาย\n"
     ]
    },
    {
     "name": "stderr",
     "output_type": "stream",
     "text": []
    },
    {
     "name": "stdout",
     "output_type": "stream",
     "text": [
      "ควาย\n"
     ]
    },
    {
     "name": "stderr",
     "output_type": "stream",
     "text": []
    },
    {
     "name": "stdout",
     "output_type": "stream",
     "text": [
      "ควาย\n"
     ]
    },
    {
     "name": "stderr",
     "output_type": "stream",
     "text": []
    },
    {
     "name": "stdout",
     "output_type": "stream",
     "text": [
      "ควาย\n"
     ]
    },
    {
     "name": "stderr",
     "output_type": "stream",
     "text": []
    },
    {
     "name": "stdout",
     "output_type": "stream",
     "text": [
      "ควาย\n"
     ]
    },
    {
     "name": "stderr",
     "output_type": "stream",
     "text": []
    },
    {
     "name": "stdout",
     "output_type": "stream",
     "text": [
      "ควาย\n"
     ]
    },
    {
     "name": "stderr",
     "output_type": "stream",
     "text": []
    },
    {
     "name": "stdout",
     "output_type": "stream",
     "text": [
      "ควาย\n"
     ]
    },
    {
     "name": "stderr",
     "output_type": "stream",
     "text": []
    },
    {
     "name": "stdout",
     "output_type": "stream",
     "text": [
      "ควาย\n"
     ]
    },
    {
     "name": "stderr",
     "output_type": "stream",
     "text": []
    },
    {
     "name": "stdout",
     "output_type": "stream",
     "text": [
      "ควาย\n"
     ]
    },
    {
     "name": "stderr",
     "output_type": "stream",
     "text": [
      "Processing Actions:  36%|███▌      | 9/25 [01:41<02:59, 11.24s/it]"
     ]
    },
    {
     "name": "stdout",
     "output_type": "stream",
     "text": [
      "ไม่มี\n"
     ]
    },
    {
     "name": "stderr",
     "output_type": "stream",
     "text": []
    },
    {
     "name": "stdout",
     "output_type": "stream",
     "text": [
      "ไม่มี\n"
     ]
    },
    {
     "name": "stderr",
     "output_type": "stream",
     "text": []
    },
    {
     "name": "stdout",
     "output_type": "stream",
     "text": [
      "ไม่มี\n"
     ]
    },
    {
     "name": "stderr",
     "output_type": "stream",
     "text": []
    },
    {
     "name": "stdout",
     "output_type": "stream",
     "text": [
      "ไม่มี\n"
     ]
    },
    {
     "name": "stderr",
     "output_type": "stream",
     "text": []
    },
    {
     "name": "stdout",
     "output_type": "stream",
     "text": [
      "ไม่มี\n"
     ]
    },
    {
     "name": "stderr",
     "output_type": "stream",
     "text": []
    },
    {
     "name": "stdout",
     "output_type": "stream",
     "text": [
      "ไม่มี\n"
     ]
    },
    {
     "name": "stderr",
     "output_type": "stream",
     "text": []
    },
    {
     "name": "stdout",
     "output_type": "stream",
     "text": [
      "ไม่มี\n"
     ]
    },
    {
     "name": "stderr",
     "output_type": "stream",
     "text": []
    },
    {
     "name": "stdout",
     "output_type": "stream",
     "text": [
      "ไม่มี\n"
     ]
    },
    {
     "name": "stderr",
     "output_type": "stream",
     "text": []
    },
    {
     "name": "stdout",
     "output_type": "stream",
     "text": [
      "ไม่มี\n"
     ]
    },
    {
     "name": "stderr",
     "output_type": "stream",
     "text": []
    },
    {
     "name": "stdout",
     "output_type": "stream",
     "text": [
      "ไม่มี\n"
     ]
    },
    {
     "name": "stderr",
     "output_type": "stream",
     "text": []
    },
    {
     "name": "stdout",
     "output_type": "stream",
     "text": [
      "ไม่มี\n"
     ]
    },
    {
     "name": "stderr",
     "output_type": "stream",
     "text": []
    },
    {
     "name": "stdout",
     "output_type": "stream",
     "text": [
      "ไม่มี\n"
     ]
    },
    {
     "name": "stderr",
     "output_type": "stream",
     "text": []
    },
    {
     "name": "stdout",
     "output_type": "stream",
     "text": [
      "ไม่มี\n"
     ]
    },
    {
     "name": "stderr",
     "output_type": "stream",
     "text": []
    },
    {
     "name": "stdout",
     "output_type": "stream",
     "text": [
      "ไม่มี\n"
     ]
    },
    {
     "name": "stderr",
     "output_type": "stream",
     "text": []
    },
    {
     "name": "stdout",
     "output_type": "stream",
     "text": [
      "ไม่มี\n"
     ]
    },
    {
     "name": "stderr",
     "output_type": "stream",
     "text": []
    },
    {
     "name": "stdout",
     "output_type": "stream",
     "text": [
      "ไม่มี\n"
     ]
    },
    {
     "name": "stderr",
     "output_type": "stream",
     "text": []
    },
    {
     "name": "stdout",
     "output_type": "stream",
     "text": [
      "ไม่มี\n"
     ]
    },
    {
     "name": "stderr",
     "output_type": "stream",
     "text": []
    },
    {
     "name": "stdout",
     "output_type": "stream",
     "text": [
      "ไม่มี\n"
     ]
    },
    {
     "name": "stderr",
     "output_type": "stream",
     "text": []
    },
    {
     "name": "stdout",
     "output_type": "stream",
     "text": [
      "ไม่มี\n"
     ]
    },
    {
     "name": "stderr",
     "output_type": "stream",
     "text": []
    },
    {
     "name": "stdout",
     "output_type": "stream",
     "text": [
      "ไม่มี\n"
     ]
    },
    {
     "name": "stderr",
     "output_type": "stream",
     "text": [
      "Processing Actions:  40%|████      | 10/25 [01:52<02:48, 11.24s/it]"
     ]
    },
    {
     "name": "stdout",
     "output_type": "stream",
     "text": [
      "ฟัง\n"
     ]
    },
    {
     "name": "stderr",
     "output_type": "stream",
     "text": []
    },
    {
     "name": "stdout",
     "output_type": "stream",
     "text": [
      "ฟัง\n"
     ]
    },
    {
     "name": "stderr",
     "output_type": "stream",
     "text": []
    },
    {
     "name": "stdout",
     "output_type": "stream",
     "text": [
      "ฟัง\n"
     ]
    },
    {
     "name": "stderr",
     "output_type": "stream",
     "text": []
    },
    {
     "name": "stdout",
     "output_type": "stream",
     "text": [
      "ฟัง\n"
     ]
    },
    {
     "name": "stderr",
     "output_type": "stream",
     "text": []
    },
    {
     "name": "stdout",
     "output_type": "stream",
     "text": [
      "ฟัง\n"
     ]
    },
    {
     "name": "stderr",
     "output_type": "stream",
     "text": []
    },
    {
     "name": "stdout",
     "output_type": "stream",
     "text": [
      "ฟัง\n"
     ]
    },
    {
     "name": "stderr",
     "output_type": "stream",
     "text": []
    },
    {
     "name": "stdout",
     "output_type": "stream",
     "text": [
      "ฟัง\n"
     ]
    },
    {
     "name": "stderr",
     "output_type": "stream",
     "text": []
    },
    {
     "name": "stdout",
     "output_type": "stream",
     "text": [
      "ฟัง\n"
     ]
    },
    {
     "name": "stderr",
     "output_type": "stream",
     "text": []
    },
    {
     "name": "stdout",
     "output_type": "stream",
     "text": [
      "ฟัง\n"
     ]
    },
    {
     "name": "stderr",
     "output_type": "stream",
     "text": []
    },
    {
     "name": "stdout",
     "output_type": "stream",
     "text": [
      "ฟัง\n"
     ]
    },
    {
     "name": "stderr",
     "output_type": "stream",
     "text": []
    },
    {
     "name": "stdout",
     "output_type": "stream",
     "text": [
      "ฟัง\n"
     ]
    },
    {
     "name": "stderr",
     "output_type": "stream",
     "text": []
    },
    {
     "name": "stdout",
     "output_type": "stream",
     "text": [
      "ฟัง\n"
     ]
    },
    {
     "name": "stderr",
     "output_type": "stream",
     "text": []
    },
    {
     "name": "stdout",
     "output_type": "stream",
     "text": [
      "ฟัง\n"
     ]
    },
    {
     "name": "stderr",
     "output_type": "stream",
     "text": []
    },
    {
     "name": "stdout",
     "output_type": "stream",
     "text": [
      "ฟัง\n"
     ]
    },
    {
     "name": "stderr",
     "output_type": "stream",
     "text": []
    },
    {
     "name": "stdout",
     "output_type": "stream",
     "text": [
      "ฟัง\n"
     ]
    },
    {
     "name": "stderr",
     "output_type": "stream",
     "text": []
    },
    {
     "name": "stdout",
     "output_type": "stream",
     "text": [
      "ฟัง\n"
     ]
    },
    {
     "name": "stderr",
     "output_type": "stream",
     "text": []
    },
    {
     "name": "stdout",
     "output_type": "stream",
     "text": [
      "ฟัง\n"
     ]
    },
    {
     "name": "stderr",
     "output_type": "stream",
     "text": []
    },
    {
     "name": "stdout",
     "output_type": "stream",
     "text": [
      "ฟัง\n"
     ]
    },
    {
     "name": "stderr",
     "output_type": "stream",
     "text": []
    },
    {
     "name": "stdout",
     "output_type": "stream",
     "text": [
      "ฟัง\n"
     ]
    },
    {
     "name": "stderr",
     "output_type": "stream",
     "text": []
    },
    {
     "name": "stdout",
     "output_type": "stream",
     "text": [
      "ฟัง\n"
     ]
    },
    {
     "name": "stderr",
     "output_type": "stream",
     "text": [
      "Processing Actions:  44%|████▍     | 11/25 [02:03<02:37, 11.23s/it]"
     ]
    },
    {
     "name": "stdout",
     "output_type": "stream",
     "text": [
      "ดื่ม\n"
     ]
    },
    {
     "name": "stderr",
     "output_type": "stream",
     "text": []
    },
    {
     "name": "stdout",
     "output_type": "stream",
     "text": [
      "ดื่ม\n"
     ]
    },
    {
     "name": "stderr",
     "output_type": "stream",
     "text": []
    },
    {
     "name": "stdout",
     "output_type": "stream",
     "text": [
      "ดื่ม\n"
     ]
    },
    {
     "name": "stderr",
     "output_type": "stream",
     "text": []
    },
    {
     "name": "stdout",
     "output_type": "stream",
     "text": [
      "ดื่ม\n"
     ]
    },
    {
     "name": "stderr",
     "output_type": "stream",
     "text": []
    },
    {
     "name": "stdout",
     "output_type": "stream",
     "text": [
      "ดื่ม\n"
     ]
    },
    {
     "name": "stderr",
     "output_type": "stream",
     "text": []
    },
    {
     "name": "stdout",
     "output_type": "stream",
     "text": [
      "ดื่ม\n"
     ]
    },
    {
     "name": "stderr",
     "output_type": "stream",
     "text": []
    },
    {
     "name": "stdout",
     "output_type": "stream",
     "text": [
      "ดื่ม\n"
     ]
    },
    {
     "name": "stderr",
     "output_type": "stream",
     "text": []
    },
    {
     "name": "stdout",
     "output_type": "stream",
     "text": [
      "ดื่ม\n"
     ]
    },
    {
     "name": "stderr",
     "output_type": "stream",
     "text": []
    },
    {
     "name": "stdout",
     "output_type": "stream",
     "text": [
      "ดื่ม\n"
     ]
    },
    {
     "name": "stderr",
     "output_type": "stream",
     "text": []
    },
    {
     "name": "stdout",
     "output_type": "stream",
     "text": [
      "ดื่ม\n"
     ]
    },
    {
     "name": "stderr",
     "output_type": "stream",
     "text": []
    },
    {
     "name": "stdout",
     "output_type": "stream",
     "text": [
      "ดื่ม\n"
     ]
    },
    {
     "name": "stderr",
     "output_type": "stream",
     "text": []
    },
    {
     "name": "stdout",
     "output_type": "stream",
     "text": [
      "ดื่ม\n"
     ]
    },
    {
     "name": "stderr",
     "output_type": "stream",
     "text": []
    },
    {
     "name": "stdout",
     "output_type": "stream",
     "text": [
      "ดื่ม\n"
     ]
    },
    {
     "name": "stderr",
     "output_type": "stream",
     "text": []
    },
    {
     "name": "stdout",
     "output_type": "stream",
     "text": [
      "ดื่ม\n"
     ]
    },
    {
     "name": "stderr",
     "output_type": "stream",
     "text": []
    },
    {
     "name": "stdout",
     "output_type": "stream",
     "text": [
      "ดื่ม\n"
     ]
    },
    {
     "name": "stderr",
     "output_type": "stream",
     "text": []
    },
    {
     "name": "stdout",
     "output_type": "stream",
     "text": [
      "ดื่ม\n"
     ]
    },
    {
     "name": "stderr",
     "output_type": "stream",
     "text": []
    },
    {
     "name": "stdout",
     "output_type": "stream",
     "text": [
      "ดื่ม\n"
     ]
    },
    {
     "name": "stderr",
     "output_type": "stream",
     "text": []
    },
    {
     "name": "stdout",
     "output_type": "stream",
     "text": [
      "ดื่ม\n"
     ]
    },
    {
     "name": "stderr",
     "output_type": "stream",
     "text": []
    },
    {
     "name": "stdout",
     "output_type": "stream",
     "text": [
      "ดื่ม\n"
     ]
    },
    {
     "name": "stderr",
     "output_type": "stream",
     "text": []
    },
    {
     "name": "stdout",
     "output_type": "stream",
     "text": [
      "ดื่ม\n"
     ]
    },
    {
     "name": "stderr",
     "output_type": "stream",
     "text": [
      "Processing Actions:  48%|████▊     | 12/25 [02:14<02:25, 11.22s/it]"
     ]
    },
    {
     "name": "stdout",
     "output_type": "stream",
     "text": [
      "คุณ\n"
     ]
    },
    {
     "name": "stderr",
     "output_type": "stream",
     "text": []
    },
    {
     "name": "stdout",
     "output_type": "stream",
     "text": [
      "คุณ\n"
     ]
    },
    {
     "name": "stderr",
     "output_type": "stream",
     "text": []
    },
    {
     "name": "stdout",
     "output_type": "stream",
     "text": [
      "คุณ\n"
     ]
    },
    {
     "name": "stderr",
     "output_type": "stream",
     "text": []
    },
    {
     "name": "stdout",
     "output_type": "stream",
     "text": [
      "คุณ\n"
     ]
    },
    {
     "name": "stderr",
     "output_type": "stream",
     "text": []
    },
    {
     "name": "stdout",
     "output_type": "stream",
     "text": [
      "คุณ\n"
     ]
    },
    {
     "name": "stderr",
     "output_type": "stream",
     "text": []
    },
    {
     "name": "stdout",
     "output_type": "stream",
     "text": [
      "คุณ\n"
     ]
    },
    {
     "name": "stderr",
     "output_type": "stream",
     "text": []
    },
    {
     "name": "stdout",
     "output_type": "stream",
     "text": [
      "คุณ\n"
     ]
    },
    {
     "name": "stderr",
     "output_type": "stream",
     "text": []
    },
    {
     "name": "stdout",
     "output_type": "stream",
     "text": [
      "คุณ\n"
     ]
    },
    {
     "name": "stderr",
     "output_type": "stream",
     "text": []
    },
    {
     "name": "stdout",
     "output_type": "stream",
     "text": [
      "คุณ\n"
     ]
    },
    {
     "name": "stderr",
     "output_type": "stream",
     "text": []
    },
    {
     "name": "stdout",
     "output_type": "stream",
     "text": [
      "คุณ\n"
     ]
    },
    {
     "name": "stderr",
     "output_type": "stream",
     "text": []
    },
    {
     "name": "stdout",
     "output_type": "stream",
     "text": [
      "คุณ\n"
     ]
    },
    {
     "name": "stderr",
     "output_type": "stream",
     "text": []
    },
    {
     "name": "stdout",
     "output_type": "stream",
     "text": [
      "คุณ\n"
     ]
    },
    {
     "name": "stderr",
     "output_type": "stream",
     "text": []
    },
    {
     "name": "stdout",
     "output_type": "stream",
     "text": [
      "คุณ\n"
     ]
    },
    {
     "name": "stderr",
     "output_type": "stream",
     "text": []
    },
    {
     "name": "stdout",
     "output_type": "stream",
     "text": [
      "คุณ\n"
     ]
    },
    {
     "name": "stderr",
     "output_type": "stream",
     "text": []
    },
    {
     "name": "stdout",
     "output_type": "stream",
     "text": [
      "คุณ\n"
     ]
    },
    {
     "name": "stderr",
     "output_type": "stream",
     "text": []
    },
    {
     "name": "stdout",
     "output_type": "stream",
     "text": [
      "คุณ\n"
     ]
    },
    {
     "name": "stderr",
     "output_type": "stream",
     "text": []
    },
    {
     "name": "stdout",
     "output_type": "stream",
     "text": [
      "คุณ\n"
     ]
    },
    {
     "name": "stderr",
     "output_type": "stream",
     "text": []
    },
    {
     "name": "stdout",
     "output_type": "stream",
     "text": [
      "คุณ\n"
     ]
    },
    {
     "name": "stderr",
     "output_type": "stream",
     "text": []
    },
    {
     "name": "stdout",
     "output_type": "stream",
     "text": [
      "คุณ\n"
     ]
    },
    {
     "name": "stderr",
     "output_type": "stream",
     "text": []
    },
    {
     "name": "stdout",
     "output_type": "stream",
     "text": [
      "คุณ\n"
     ]
    },
    {
     "name": "stderr",
     "output_type": "stream",
     "text": [
      "Processing Actions:  52%|█████▏    | 13/25 [02:26<02:14, 11.22s/it]"
     ]
    },
    {
     "name": "stdout",
     "output_type": "stream",
     "text": [
      "นอน\n"
     ]
    },
    {
     "name": "stderr",
     "output_type": "stream",
     "text": []
    },
    {
     "name": "stdout",
     "output_type": "stream",
     "text": [
      "นอน\n"
     ]
    },
    {
     "name": "stderr",
     "output_type": "stream",
     "text": []
    },
    {
     "name": "stdout",
     "output_type": "stream",
     "text": [
      "นอน\n"
     ]
    },
    {
     "name": "stderr",
     "output_type": "stream",
     "text": []
    },
    {
     "name": "stdout",
     "output_type": "stream",
     "text": [
      "นอน\n"
     ]
    },
    {
     "name": "stderr",
     "output_type": "stream",
     "text": []
    },
    {
     "name": "stdout",
     "output_type": "stream",
     "text": [
      "นอน\n"
     ]
    },
    {
     "name": "stderr",
     "output_type": "stream",
     "text": []
    },
    {
     "name": "stdout",
     "output_type": "stream",
     "text": [
      "นอน\n"
     ]
    },
    {
     "name": "stderr",
     "output_type": "stream",
     "text": []
    },
    {
     "name": "stdout",
     "output_type": "stream",
     "text": [
      "นอน\n"
     ]
    },
    {
     "name": "stderr",
     "output_type": "stream",
     "text": []
    },
    {
     "name": "stdout",
     "output_type": "stream",
     "text": [
      "นอน\n"
     ]
    },
    {
     "name": "stderr",
     "output_type": "stream",
     "text": []
    },
    {
     "name": "stdout",
     "output_type": "stream",
     "text": [
      "นอน\n"
     ]
    },
    {
     "name": "stderr",
     "output_type": "stream",
     "text": []
    },
    {
     "name": "stdout",
     "output_type": "stream",
     "text": [
      "นอน\n"
     ]
    },
    {
     "name": "stderr",
     "output_type": "stream",
     "text": []
    },
    {
     "name": "stdout",
     "output_type": "stream",
     "text": [
      "นอน\n"
     ]
    },
    {
     "name": "stderr",
     "output_type": "stream",
     "text": []
    },
    {
     "name": "stdout",
     "output_type": "stream",
     "text": [
      "นอน\n"
     ]
    },
    {
     "name": "stderr",
     "output_type": "stream",
     "text": []
    },
    {
     "name": "stdout",
     "output_type": "stream",
     "text": [
      "นอน\n"
     ]
    },
    {
     "name": "stderr",
     "output_type": "stream",
     "text": []
    },
    {
     "name": "stdout",
     "output_type": "stream",
     "text": [
      "นอน\n"
     ]
    },
    {
     "name": "stderr",
     "output_type": "stream",
     "text": []
    },
    {
     "name": "stdout",
     "output_type": "stream",
     "text": [
      "นอน\n"
     ]
    },
    {
     "name": "stderr",
     "output_type": "stream",
     "text": []
    },
    {
     "name": "stdout",
     "output_type": "stream",
     "text": [
      "นอน\n"
     ]
    },
    {
     "name": "stderr",
     "output_type": "stream",
     "text": []
    },
    {
     "name": "stdout",
     "output_type": "stream",
     "text": [
      "นอน\n"
     ]
    },
    {
     "name": "stderr",
     "output_type": "stream",
     "text": []
    },
    {
     "name": "stdout",
     "output_type": "stream",
     "text": [
      "นอน\n"
     ]
    },
    {
     "name": "stderr",
     "output_type": "stream",
     "text": []
    },
    {
     "name": "stdout",
     "output_type": "stream",
     "text": [
      "นอน\n"
     ]
    },
    {
     "name": "stderr",
     "output_type": "stream",
     "text": []
    },
    {
     "name": "stdout",
     "output_type": "stream",
     "text": [
      "นอน\n"
     ]
    },
    {
     "name": "stderr",
     "output_type": "stream",
     "text": [
      "Processing Actions:  56%|█████▌    | 14/25 [02:37<02:03, 11.25s/it]"
     ]
    },
    {
     "name": "stdout",
     "output_type": "stream",
     "text": [
      "เขา\n"
     ]
    },
    {
     "name": "stderr",
     "output_type": "stream",
     "text": []
    },
    {
     "name": "stdout",
     "output_type": "stream",
     "text": [
      "เขา\n"
     ]
    },
    {
     "name": "stderr",
     "output_type": "stream",
     "text": []
    },
    {
     "name": "stdout",
     "output_type": "stream",
     "text": [
      "เขา\n"
     ]
    },
    {
     "name": "stderr",
     "output_type": "stream",
     "text": []
    },
    {
     "name": "stdout",
     "output_type": "stream",
     "text": [
      "เขา\n"
     ]
    },
    {
     "name": "stderr",
     "output_type": "stream",
     "text": []
    },
    {
     "name": "stdout",
     "output_type": "stream",
     "text": [
      "เขา\n"
     ]
    },
    {
     "name": "stderr",
     "output_type": "stream",
     "text": []
    },
    {
     "name": "stdout",
     "output_type": "stream",
     "text": [
      "เขา\n"
     ]
    },
    {
     "name": "stderr",
     "output_type": "stream",
     "text": []
    },
    {
     "name": "stdout",
     "output_type": "stream",
     "text": [
      "เขา\n"
     ]
    },
    {
     "name": "stderr",
     "output_type": "stream",
     "text": []
    },
    {
     "name": "stdout",
     "output_type": "stream",
     "text": [
      "เขา\n"
     ]
    },
    {
     "name": "stderr",
     "output_type": "stream",
     "text": []
    },
    {
     "name": "stdout",
     "output_type": "stream",
     "text": [
      "เขา\n"
     ]
    },
    {
     "name": "stderr",
     "output_type": "stream",
     "text": []
    },
    {
     "name": "stdout",
     "output_type": "stream",
     "text": [
      "เขา\n"
     ]
    },
    {
     "name": "stderr",
     "output_type": "stream",
     "text": []
    },
    {
     "name": "stdout",
     "output_type": "stream",
     "text": [
      "เขา\n"
     ]
    },
    {
     "name": "stderr",
     "output_type": "stream",
     "text": []
    },
    {
     "name": "stdout",
     "output_type": "stream",
     "text": [
      "เขา\n"
     ]
    },
    {
     "name": "stderr",
     "output_type": "stream",
     "text": []
    },
    {
     "name": "stdout",
     "output_type": "stream",
     "text": [
      "เขา\n"
     ]
    },
    {
     "name": "stderr",
     "output_type": "stream",
     "text": []
    },
    {
     "name": "stdout",
     "output_type": "stream",
     "text": [
      "เขา\n"
     ]
    },
    {
     "name": "stderr",
     "output_type": "stream",
     "text": []
    },
    {
     "name": "stdout",
     "output_type": "stream",
     "text": [
      "เขา\n"
     ]
    },
    {
     "name": "stderr",
     "output_type": "stream",
     "text": []
    },
    {
     "name": "stdout",
     "output_type": "stream",
     "text": [
      "เขา\n"
     ]
    },
    {
     "name": "stderr",
     "output_type": "stream",
     "text": []
    },
    {
     "name": "stdout",
     "output_type": "stream",
     "text": [
      "เขา\n"
     ]
    },
    {
     "name": "stderr",
     "output_type": "stream",
     "text": []
    },
    {
     "name": "stdout",
     "output_type": "stream",
     "text": [
      "เขา\n"
     ]
    },
    {
     "name": "stderr",
     "output_type": "stream",
     "text": []
    },
    {
     "name": "stdout",
     "output_type": "stream",
     "text": [
      "เขา\n"
     ]
    },
    {
     "name": "stderr",
     "output_type": "stream",
     "text": []
    },
    {
     "name": "stdout",
     "output_type": "stream",
     "text": [
      "เขา\n"
     ]
    },
    {
     "name": "stderr",
     "output_type": "stream",
     "text": [
      "Processing Actions:  60%|██████    | 15/25 [02:48<01:53, 11.30s/it]"
     ]
    },
    {
     "name": "stdout",
     "output_type": "stream",
     "text": [
      "กิน\n"
     ]
    },
    {
     "name": "stderr",
     "output_type": "stream",
     "text": []
    },
    {
     "name": "stdout",
     "output_type": "stream",
     "text": [
      "กิน\n"
     ]
    },
    {
     "name": "stderr",
     "output_type": "stream",
     "text": []
    },
    {
     "name": "stdout",
     "output_type": "stream",
     "text": [
      "กิน\n"
     ]
    },
    {
     "name": "stderr",
     "output_type": "stream",
     "text": []
    },
    {
     "name": "stdout",
     "output_type": "stream",
     "text": [
      "กิน\n"
     ]
    },
    {
     "name": "stderr",
     "output_type": "stream",
     "text": []
    },
    {
     "name": "stdout",
     "output_type": "stream",
     "text": [
      "กิน\n"
     ]
    },
    {
     "name": "stderr",
     "output_type": "stream",
     "text": []
    },
    {
     "name": "stdout",
     "output_type": "stream",
     "text": [
      "กิน\n"
     ]
    },
    {
     "name": "stderr",
     "output_type": "stream",
     "text": []
    },
    {
     "name": "stdout",
     "output_type": "stream",
     "text": [
      "กิน\n"
     ]
    },
    {
     "name": "stderr",
     "output_type": "stream",
     "text": []
    },
    {
     "name": "stdout",
     "output_type": "stream",
     "text": [
      "กิน\n"
     ]
    },
    {
     "name": "stderr",
     "output_type": "stream",
     "text": []
    },
    {
     "name": "stdout",
     "output_type": "stream",
     "text": [
      "กิน\n"
     ]
    },
    {
     "name": "stderr",
     "output_type": "stream",
     "text": []
    },
    {
     "name": "stdout",
     "output_type": "stream",
     "text": [
      "กิน\n"
     ]
    },
    {
     "name": "stderr",
     "output_type": "stream",
     "text": []
    },
    {
     "name": "stdout",
     "output_type": "stream",
     "text": [
      "กิน\n"
     ]
    },
    {
     "name": "stderr",
     "output_type": "stream",
     "text": []
    },
    {
     "name": "stdout",
     "output_type": "stream",
     "text": [
      "กิน\n"
     ]
    },
    {
     "name": "stderr",
     "output_type": "stream",
     "text": []
    },
    {
     "name": "stdout",
     "output_type": "stream",
     "text": [
      "กิน\n"
     ]
    },
    {
     "name": "stderr",
     "output_type": "stream",
     "text": []
    },
    {
     "name": "stdout",
     "output_type": "stream",
     "text": [
      "กิน\n"
     ]
    },
    {
     "name": "stderr",
     "output_type": "stream",
     "text": []
    },
    {
     "name": "stdout",
     "output_type": "stream",
     "text": [
      "กิน\n"
     ]
    },
    {
     "name": "stderr",
     "output_type": "stream",
     "text": []
    },
    {
     "name": "stdout",
     "output_type": "stream",
     "text": [
      "กิน\n"
     ]
    },
    {
     "name": "stderr",
     "output_type": "stream",
     "text": []
    },
    {
     "name": "stdout",
     "output_type": "stream",
     "text": [
      "กิน\n"
     ]
    },
    {
     "name": "stderr",
     "output_type": "stream",
     "text": []
    },
    {
     "name": "stdout",
     "output_type": "stream",
     "text": [
      "กิน\n"
     ]
    },
    {
     "name": "stderr",
     "output_type": "stream",
     "text": []
    },
    {
     "name": "stdout",
     "output_type": "stream",
     "text": [
      "กิน\n"
     ]
    },
    {
     "name": "stderr",
     "output_type": "stream",
     "text": []
    },
    {
     "name": "stdout",
     "output_type": "stream",
     "text": [
      "กิน\n"
     ]
    },
    {
     "name": "stderr",
     "output_type": "stream",
     "text": [
      "Processing Actions:  64%|██████▍   | 16/25 [03:00<01:41, 11.27s/it]"
     ]
    },
    {
     "name": "stdout",
     "output_type": "stream",
     "text": [
      "โรงเรียน\n"
     ]
    },
    {
     "name": "stderr",
     "output_type": "stream",
     "text": []
    },
    {
     "name": "stdout",
     "output_type": "stream",
     "text": [
      "โรงเรียน\n"
     ]
    },
    {
     "name": "stderr",
     "output_type": "stream",
     "text": []
    },
    {
     "name": "stdout",
     "output_type": "stream",
     "text": [
      "โรงเรียน\n"
     ]
    },
    {
     "name": "stderr",
     "output_type": "stream",
     "text": []
    },
    {
     "name": "stdout",
     "output_type": "stream",
     "text": [
      "โรงเรียน\n"
     ]
    },
    {
     "name": "stderr",
     "output_type": "stream",
     "text": []
    },
    {
     "name": "stdout",
     "output_type": "stream",
     "text": [
      "โรงเรียน\n"
     ]
    },
    {
     "name": "stderr",
     "output_type": "stream",
     "text": []
    },
    {
     "name": "stdout",
     "output_type": "stream",
     "text": [
      "โรงเรียน\n"
     ]
    },
    {
     "name": "stderr",
     "output_type": "stream",
     "text": []
    },
    {
     "name": "stdout",
     "output_type": "stream",
     "text": [
      "โรงเรียน\n"
     ]
    },
    {
     "name": "stderr",
     "output_type": "stream",
     "text": []
    },
    {
     "name": "stdout",
     "output_type": "stream",
     "text": [
      "โรงเรียน\n"
     ]
    },
    {
     "name": "stderr",
     "output_type": "stream",
     "text": []
    },
    {
     "name": "stdout",
     "output_type": "stream",
     "text": [
      "โรงเรียน\n"
     ]
    },
    {
     "name": "stderr",
     "output_type": "stream",
     "text": []
    },
    {
     "name": "stdout",
     "output_type": "stream",
     "text": [
      "โรงเรียน\n"
     ]
    },
    {
     "name": "stderr",
     "output_type": "stream",
     "text": []
    },
    {
     "name": "stdout",
     "output_type": "stream",
     "text": [
      "โรงเรียน\n"
     ]
    },
    {
     "name": "stderr",
     "output_type": "stream",
     "text": []
    },
    {
     "name": "stdout",
     "output_type": "stream",
     "text": [
      "โรงเรียน\n"
     ]
    },
    {
     "name": "stderr",
     "output_type": "stream",
     "text": []
    },
    {
     "name": "stdout",
     "output_type": "stream",
     "text": [
      "โรงเรียน\n"
     ]
    },
    {
     "name": "stderr",
     "output_type": "stream",
     "text": []
    },
    {
     "name": "stdout",
     "output_type": "stream",
     "text": [
      "โรงเรียน\n"
     ]
    },
    {
     "name": "stderr",
     "output_type": "stream",
     "text": []
    },
    {
     "name": "stdout",
     "output_type": "stream",
     "text": [
      "โรงเรียน\n"
     ]
    },
    {
     "name": "stderr",
     "output_type": "stream",
     "text": []
    },
    {
     "name": "stdout",
     "output_type": "stream",
     "text": [
      "โรงเรียน\n"
     ]
    },
    {
     "name": "stderr",
     "output_type": "stream",
     "text": []
    },
    {
     "name": "stdout",
     "output_type": "stream",
     "text": [
      "โรงเรียน\n"
     ]
    },
    {
     "name": "stderr",
     "output_type": "stream",
     "text": []
    },
    {
     "name": "stdout",
     "output_type": "stream",
     "text": [
      "โรงเรียน\n"
     ]
    },
    {
     "name": "stderr",
     "output_type": "stream",
     "text": []
    },
    {
     "name": "stdout",
     "output_type": "stream",
     "text": [
      "โรงเรียน\n"
     ]
    },
    {
     "name": "stderr",
     "output_type": "stream",
     "text": []
    },
    {
     "name": "stdout",
     "output_type": "stream",
     "text": [
      "โรงเรียน\n"
     ]
    },
    {
     "name": "stderr",
     "output_type": "stream",
     "text": [
      "Processing Actions:  68%|██████▊   | 17/25 [03:11<01:30, 11.33s/it]"
     ]
    },
    {
     "name": "stdout",
     "output_type": "stream",
     "text": [
      "ฉัน\n"
     ]
    },
    {
     "name": "stderr",
     "output_type": "stream",
     "text": []
    },
    {
     "name": "stdout",
     "output_type": "stream",
     "text": [
      "ฉัน\n"
     ]
    },
    {
     "name": "stderr",
     "output_type": "stream",
     "text": []
    },
    {
     "name": "stdout",
     "output_type": "stream",
     "text": [
      "ฉัน\n"
     ]
    },
    {
     "name": "stderr",
     "output_type": "stream",
     "text": []
    },
    {
     "name": "stdout",
     "output_type": "stream",
     "text": [
      "ฉัน\n"
     ]
    },
    {
     "name": "stderr",
     "output_type": "stream",
     "text": []
    },
    {
     "name": "stdout",
     "output_type": "stream",
     "text": [
      "ฉัน\n"
     ]
    },
    {
     "name": "stderr",
     "output_type": "stream",
     "text": []
    },
    {
     "name": "stdout",
     "output_type": "stream",
     "text": [
      "ฉัน\n"
     ]
    },
    {
     "name": "stderr",
     "output_type": "stream",
     "text": []
    },
    {
     "name": "stdout",
     "output_type": "stream",
     "text": [
      "ฉัน\n"
     ]
    },
    {
     "name": "stderr",
     "output_type": "stream",
     "text": []
    },
    {
     "name": "stdout",
     "output_type": "stream",
     "text": [
      "ฉัน\n"
     ]
    },
    {
     "name": "stderr",
     "output_type": "stream",
     "text": []
    },
    {
     "name": "stdout",
     "output_type": "stream",
     "text": [
      "ฉัน\n"
     ]
    },
    {
     "name": "stderr",
     "output_type": "stream",
     "text": []
    },
    {
     "name": "stdout",
     "output_type": "stream",
     "text": [
      "ฉัน\n"
     ]
    },
    {
     "name": "stderr",
     "output_type": "stream",
     "text": []
    },
    {
     "name": "stdout",
     "output_type": "stream",
     "text": [
      "ฉัน\n"
     ]
    },
    {
     "name": "stderr",
     "output_type": "stream",
     "text": []
    },
    {
     "name": "stdout",
     "output_type": "stream",
     "text": [
      "ฉัน\n"
     ]
    },
    {
     "name": "stderr",
     "output_type": "stream",
     "text": []
    },
    {
     "name": "stdout",
     "output_type": "stream",
     "text": [
      "ฉัน\n"
     ]
    },
    {
     "name": "stderr",
     "output_type": "stream",
     "text": []
    },
    {
     "name": "stdout",
     "output_type": "stream",
     "text": [
      "ฉัน\n"
     ]
    },
    {
     "name": "stderr",
     "output_type": "stream",
     "text": []
    },
    {
     "name": "stdout",
     "output_type": "stream",
     "text": [
      "ฉัน\n"
     ]
    },
    {
     "name": "stderr",
     "output_type": "stream",
     "text": []
    },
    {
     "name": "stdout",
     "output_type": "stream",
     "text": [
      "ฉัน\n"
     ]
    },
    {
     "name": "stderr",
     "output_type": "stream",
     "text": []
    },
    {
     "name": "stdout",
     "output_type": "stream",
     "text": [
      "ฉัน\n"
     ]
    },
    {
     "name": "stderr",
     "output_type": "stream",
     "text": []
    },
    {
     "name": "stdout",
     "output_type": "stream",
     "text": [
      "ฉัน\n"
     ]
    },
    {
     "name": "stderr",
     "output_type": "stream",
     "text": []
    },
    {
     "name": "stdout",
     "output_type": "stream",
     "text": [
      "ฉัน\n"
     ]
    },
    {
     "name": "stderr",
     "output_type": "stream",
     "text": []
    },
    {
     "name": "stdout",
     "output_type": "stream",
     "text": [
      "ฉัน\n"
     ]
    },
    {
     "name": "stderr",
     "output_type": "stream",
     "text": [
      "Processing Actions:  72%|███████▏  | 18/25 [03:22<01:18, 11.27s/it]"
     ]
    },
    {
     "name": "stdout",
     "output_type": "stream",
     "text": [
      "ที่ไหน\n"
     ]
    },
    {
     "name": "stderr",
     "output_type": "stream",
     "text": []
    },
    {
     "name": "stdout",
     "output_type": "stream",
     "text": [
      "ที่ไหน\n"
     ]
    },
    {
     "name": "stderr",
     "output_type": "stream",
     "text": []
    },
    {
     "name": "stdout",
     "output_type": "stream",
     "text": [
      "ที่ไหน\n"
     ]
    },
    {
     "name": "stderr",
     "output_type": "stream",
     "text": []
    },
    {
     "name": "stdout",
     "output_type": "stream",
     "text": [
      "ที่ไหน\n"
     ]
    },
    {
     "name": "stderr",
     "output_type": "stream",
     "text": []
    },
    {
     "name": "stdout",
     "output_type": "stream",
     "text": [
      "ที่ไหน\n"
     ]
    },
    {
     "name": "stderr",
     "output_type": "stream",
     "text": []
    },
    {
     "name": "stdout",
     "output_type": "stream",
     "text": [
      "ที่ไหน\n"
     ]
    },
    {
     "name": "stderr",
     "output_type": "stream",
     "text": []
    },
    {
     "name": "stdout",
     "output_type": "stream",
     "text": [
      "ที่ไหน\n"
     ]
    },
    {
     "name": "stderr",
     "output_type": "stream",
     "text": []
    },
    {
     "name": "stdout",
     "output_type": "stream",
     "text": [
      "ที่ไหน\n"
     ]
    },
    {
     "name": "stderr",
     "output_type": "stream",
     "text": []
    },
    {
     "name": "stdout",
     "output_type": "stream",
     "text": [
      "ที่ไหน\n"
     ]
    },
    {
     "name": "stderr",
     "output_type": "stream",
     "text": []
    },
    {
     "name": "stdout",
     "output_type": "stream",
     "text": [
      "ที่ไหน\n"
     ]
    },
    {
     "name": "stderr",
     "output_type": "stream",
     "text": []
    },
    {
     "name": "stdout",
     "output_type": "stream",
     "text": [
      "ที่ไหน\n"
     ]
    },
    {
     "name": "stderr",
     "output_type": "stream",
     "text": []
    },
    {
     "name": "stdout",
     "output_type": "stream",
     "text": [
      "ที่ไหน\n"
     ]
    },
    {
     "name": "stderr",
     "output_type": "stream",
     "text": []
    },
    {
     "name": "stdout",
     "output_type": "stream",
     "text": [
      "ที่ไหน\n"
     ]
    },
    {
     "name": "stderr",
     "output_type": "stream",
     "text": []
    },
    {
     "name": "stdout",
     "output_type": "stream",
     "text": [
      "ที่ไหน\n"
     ]
    },
    {
     "name": "stderr",
     "output_type": "stream",
     "text": []
    },
    {
     "name": "stdout",
     "output_type": "stream",
     "text": [
      "ที่ไหน\n"
     ]
    },
    {
     "name": "stderr",
     "output_type": "stream",
     "text": []
    },
    {
     "name": "stdout",
     "output_type": "stream",
     "text": [
      "ที่ไหน\n"
     ]
    },
    {
     "name": "stderr",
     "output_type": "stream",
     "text": []
    },
    {
     "name": "stdout",
     "output_type": "stream",
     "text": [
      "ที่ไหน\n"
     ]
    },
    {
     "name": "stderr",
     "output_type": "stream",
     "text": []
    },
    {
     "name": "stdout",
     "output_type": "stream",
     "text": [
      "ที่ไหน\n"
     ]
    },
    {
     "name": "stderr",
     "output_type": "stream",
     "text": []
    },
    {
     "name": "stdout",
     "output_type": "stream",
     "text": [
      "ที่ไหน\n"
     ]
    },
    {
     "name": "stderr",
     "output_type": "stream",
     "text": []
    },
    {
     "name": "stdout",
     "output_type": "stream",
     "text": [
      "ที่ไหน\n"
     ]
    },
    {
     "name": "stderr",
     "output_type": "stream",
     "text": [
      "Processing Actions:  76%|███████▌  | 19/25 [03:34<01:08, 11.34s/it]"
     ]
    },
    {
     "name": "stdout",
     "output_type": "stream",
     "text": [
      "ข้าว\n"
     ]
    },
    {
     "name": "stderr",
     "output_type": "stream",
     "text": []
    },
    {
     "name": "stdout",
     "output_type": "stream",
     "text": [
      "ข้าว\n"
     ]
    },
    {
     "name": "stderr",
     "output_type": "stream",
     "text": []
    },
    {
     "name": "stdout",
     "output_type": "stream",
     "text": [
      "ข้าว\n"
     ]
    },
    {
     "name": "stderr",
     "output_type": "stream",
     "text": []
    },
    {
     "name": "stdout",
     "output_type": "stream",
     "text": [
      "ข้าว\n"
     ]
    },
    {
     "name": "stderr",
     "output_type": "stream",
     "text": []
    },
    {
     "name": "stdout",
     "output_type": "stream",
     "text": [
      "ข้าว\n"
     ]
    },
    {
     "name": "stderr",
     "output_type": "stream",
     "text": []
    },
    {
     "name": "stdout",
     "output_type": "stream",
     "text": [
      "ข้าว\n"
     ]
    },
    {
     "name": "stderr",
     "output_type": "stream",
     "text": []
    },
    {
     "name": "stdout",
     "output_type": "stream",
     "text": [
      "ข้าว\n"
     ]
    },
    {
     "name": "stderr",
     "output_type": "stream",
     "text": []
    },
    {
     "name": "stdout",
     "output_type": "stream",
     "text": [
      "ข้าว\n"
     ]
    },
    {
     "name": "stderr",
     "output_type": "stream",
     "text": []
    },
    {
     "name": "stdout",
     "output_type": "stream",
     "text": [
      "ข้าว\n"
     ]
    },
    {
     "name": "stderr",
     "output_type": "stream",
     "text": []
    },
    {
     "name": "stdout",
     "output_type": "stream",
     "text": [
      "ข้าว\n"
     ]
    },
    {
     "name": "stderr",
     "output_type": "stream",
     "text": []
    },
    {
     "name": "stdout",
     "output_type": "stream",
     "text": [
      "ข้าว\n"
     ]
    },
    {
     "name": "stderr",
     "output_type": "stream",
     "text": []
    },
    {
     "name": "stdout",
     "output_type": "stream",
     "text": [
      "ข้าว\n"
     ]
    },
    {
     "name": "stderr",
     "output_type": "stream",
     "text": []
    },
    {
     "name": "stdout",
     "output_type": "stream",
     "text": [
      "ข้าว\n"
     ]
    },
    {
     "name": "stderr",
     "output_type": "stream",
     "text": []
    },
    {
     "name": "stdout",
     "output_type": "stream",
     "text": [
      "ข้าว\n"
     ]
    },
    {
     "name": "stderr",
     "output_type": "stream",
     "text": []
    },
    {
     "name": "stdout",
     "output_type": "stream",
     "text": [
      "ข้าว\n"
     ]
    },
    {
     "name": "stderr",
     "output_type": "stream",
     "text": []
    },
    {
     "name": "stdout",
     "output_type": "stream",
     "text": [
      "ข้าว\n"
     ]
    },
    {
     "name": "stderr",
     "output_type": "stream",
     "text": []
    },
    {
     "name": "stdout",
     "output_type": "stream",
     "text": [
      "ข้าว\n"
     ]
    },
    {
     "name": "stderr",
     "output_type": "stream",
     "text": []
    },
    {
     "name": "stdout",
     "output_type": "stream",
     "text": [
      "ข้าว\n"
     ]
    },
    {
     "name": "stderr",
     "output_type": "stream",
     "text": []
    },
    {
     "name": "stdout",
     "output_type": "stream",
     "text": [
      "ข้าว\n"
     ]
    },
    {
     "name": "stderr",
     "output_type": "stream",
     "text": []
    },
    {
     "name": "stdout",
     "output_type": "stream",
     "text": [
      "ข้าว\n"
     ]
    },
    {
     "name": "stderr",
     "output_type": "stream",
     "text": [
      "Processing Actions:  80%|████████  | 20/25 [03:45<00:56, 11.24s/it]"
     ]
    },
    {
     "name": "stdout",
     "output_type": "stream",
     "text": [
      "บ้าน\n"
     ]
    },
    {
     "name": "stderr",
     "output_type": "stream",
     "text": []
    },
    {
     "name": "stdout",
     "output_type": "stream",
     "text": [
      "บ้าน\n"
     ]
    },
    {
     "name": "stderr",
     "output_type": "stream",
     "text": []
    },
    {
     "name": "stdout",
     "output_type": "stream",
     "text": [
      "บ้าน\n"
     ]
    },
    {
     "name": "stderr",
     "output_type": "stream",
     "text": []
    },
    {
     "name": "stdout",
     "output_type": "stream",
     "text": [
      "บ้าน\n"
     ]
    },
    {
     "name": "stderr",
     "output_type": "stream",
     "text": []
    },
    {
     "name": "stdout",
     "output_type": "stream",
     "text": [
      "บ้าน\n"
     ]
    },
    {
     "name": "stderr",
     "output_type": "stream",
     "text": []
    },
    {
     "name": "stdout",
     "output_type": "stream",
     "text": [
      "บ้าน\n"
     ]
    },
    {
     "name": "stderr",
     "output_type": "stream",
     "text": []
    },
    {
     "name": "stdout",
     "output_type": "stream",
     "text": [
      "บ้าน\n"
     ]
    },
    {
     "name": "stderr",
     "output_type": "stream",
     "text": []
    },
    {
     "name": "stdout",
     "output_type": "stream",
     "text": [
      "บ้าน\n"
     ]
    },
    {
     "name": "stderr",
     "output_type": "stream",
     "text": []
    },
    {
     "name": "stdout",
     "output_type": "stream",
     "text": [
      "บ้าน\n"
     ]
    },
    {
     "name": "stderr",
     "output_type": "stream",
     "text": []
    },
    {
     "name": "stdout",
     "output_type": "stream",
     "text": [
      "บ้าน\n"
     ]
    },
    {
     "name": "stderr",
     "output_type": "stream",
     "text": []
    },
    {
     "name": "stdout",
     "output_type": "stream",
     "text": [
      "บ้าน\n"
     ]
    },
    {
     "name": "stderr",
     "output_type": "stream",
     "text": []
    },
    {
     "name": "stdout",
     "output_type": "stream",
     "text": [
      "บ้าน\n"
     ]
    },
    {
     "name": "stderr",
     "output_type": "stream",
     "text": []
    },
    {
     "name": "stdout",
     "output_type": "stream",
     "text": [
      "บ้าน\n"
     ]
    },
    {
     "name": "stderr",
     "output_type": "stream",
     "text": []
    },
    {
     "name": "stdout",
     "output_type": "stream",
     "text": [
      "บ้าน\n"
     ]
    },
    {
     "name": "stderr",
     "output_type": "stream",
     "text": []
    },
    {
     "name": "stdout",
     "output_type": "stream",
     "text": [
      "บ้าน\n"
     ]
    },
    {
     "name": "stderr",
     "output_type": "stream",
     "text": []
    },
    {
     "name": "stdout",
     "output_type": "stream",
     "text": [
      "บ้าน\n"
     ]
    },
    {
     "name": "stderr",
     "output_type": "stream",
     "text": []
    },
    {
     "name": "stdout",
     "output_type": "stream",
     "text": [
      "บ้าน\n"
     ]
    },
    {
     "name": "stderr",
     "output_type": "stream",
     "text": []
    },
    {
     "name": "stdout",
     "output_type": "stream",
     "text": [
      "บ้าน\n"
     ]
    },
    {
     "name": "stderr",
     "output_type": "stream",
     "text": []
    },
    {
     "name": "stdout",
     "output_type": "stream",
     "text": [
      "บ้าน\n"
     ]
    },
    {
     "name": "stderr",
     "output_type": "stream",
     "text": []
    },
    {
     "name": "stdout",
     "output_type": "stream",
     "text": [
      "บ้าน\n"
     ]
    },
    {
     "name": "stderr",
     "output_type": "stream",
     "text": [
      "Processing Actions:  84%|████████▍ | 21/25 [03:56<00:44, 11.21s/it]"
     ]
    },
    {
     "name": "stdout",
     "output_type": "stream",
     "text": [
      "นักเรียน\n"
     ]
    },
    {
     "name": "stderr",
     "output_type": "stream",
     "text": []
    },
    {
     "name": "stdout",
     "output_type": "stream",
     "text": [
      "นักเรียน\n"
     ]
    },
    {
     "name": "stderr",
     "output_type": "stream",
     "text": []
    },
    {
     "name": "stdout",
     "output_type": "stream",
     "text": [
      "นักเรียน\n"
     ]
    },
    {
     "name": "stderr",
     "output_type": "stream",
     "text": []
    },
    {
     "name": "stdout",
     "output_type": "stream",
     "text": [
      "นักเรียน\n"
     ]
    },
    {
     "name": "stderr",
     "output_type": "stream",
     "text": []
    },
    {
     "name": "stdout",
     "output_type": "stream",
     "text": [
      "นักเรียน\n"
     ]
    },
    {
     "name": "stderr",
     "output_type": "stream",
     "text": []
    },
    {
     "name": "stdout",
     "output_type": "stream",
     "text": [
      "นักเรียน\n"
     ]
    },
    {
     "name": "stderr",
     "output_type": "stream",
     "text": []
    },
    {
     "name": "stdout",
     "output_type": "stream",
     "text": [
      "นักเรียน\n"
     ]
    },
    {
     "name": "stderr",
     "output_type": "stream",
     "text": []
    },
    {
     "name": "stdout",
     "output_type": "stream",
     "text": [
      "นักเรียน\n"
     ]
    },
    {
     "name": "stderr",
     "output_type": "stream",
     "text": []
    },
    {
     "name": "stdout",
     "output_type": "stream",
     "text": [
      "นักเรียน\n"
     ]
    },
    {
     "name": "stderr",
     "output_type": "stream",
     "text": []
    },
    {
     "name": "stdout",
     "output_type": "stream",
     "text": [
      "นักเรียน\n"
     ]
    },
    {
     "name": "stderr",
     "output_type": "stream",
     "text": []
    },
    {
     "name": "stdout",
     "output_type": "stream",
     "text": [
      "นักเรียน\n"
     ]
    },
    {
     "name": "stderr",
     "output_type": "stream",
     "text": []
    },
    {
     "name": "stdout",
     "output_type": "stream",
     "text": [
      "นักเรียน\n"
     ]
    },
    {
     "name": "stderr",
     "output_type": "stream",
     "text": []
    },
    {
     "name": "stdout",
     "output_type": "stream",
     "text": [
      "นักเรียน\n"
     ]
    },
    {
     "name": "stderr",
     "output_type": "stream",
     "text": []
    },
    {
     "name": "stdout",
     "output_type": "stream",
     "text": [
      "นักเรียน\n"
     ]
    },
    {
     "name": "stderr",
     "output_type": "stream",
     "text": []
    },
    {
     "name": "stdout",
     "output_type": "stream",
     "text": [
      "นักเรียน\n"
     ]
    },
    {
     "name": "stderr",
     "output_type": "stream",
     "text": []
    },
    {
     "name": "stdout",
     "output_type": "stream",
     "text": [
      "นักเรียน\n"
     ]
    },
    {
     "name": "stderr",
     "output_type": "stream",
     "text": []
    },
    {
     "name": "stdout",
     "output_type": "stream",
     "text": [
      "นักเรียน\n"
     ]
    },
    {
     "name": "stderr",
     "output_type": "stream",
     "text": []
    },
    {
     "name": "stdout",
     "output_type": "stream",
     "text": [
      "นักเรียน\n"
     ]
    },
    {
     "name": "stderr",
     "output_type": "stream",
     "text": []
    },
    {
     "name": "stdout",
     "output_type": "stream",
     "text": [
      "นักเรียน\n"
     ]
    },
    {
     "name": "stderr",
     "output_type": "stream",
     "text": []
    },
    {
     "name": "stdout",
     "output_type": "stream",
     "text": [
      "นักเรียน\n"
     ]
    },
    {
     "name": "stderr",
     "output_type": "stream",
     "text": [
      "Processing Actions:  88%|████████▊ | 22/25 [04:07<00:33, 11.16s/it]"
     ]
    },
    {
     "name": "stdout",
     "output_type": "stream",
     "text": [
      "วันนี้\n"
     ]
    },
    {
     "name": "stderr",
     "output_type": "stream",
     "text": []
    },
    {
     "name": "stdout",
     "output_type": "stream",
     "text": [
      "วันนี้\n"
     ]
    },
    {
     "name": "stderr",
     "output_type": "stream",
     "text": []
    },
    {
     "name": "stdout",
     "output_type": "stream",
     "text": [
      "วันนี้\n"
     ]
    },
    {
     "name": "stderr",
     "output_type": "stream",
     "text": []
    },
    {
     "name": "stdout",
     "output_type": "stream",
     "text": [
      "วันนี้\n"
     ]
    },
    {
     "name": "stderr",
     "output_type": "stream",
     "text": []
    },
    {
     "name": "stdout",
     "output_type": "stream",
     "text": [
      "วันนี้\n"
     ]
    },
    {
     "name": "stderr",
     "output_type": "stream",
     "text": []
    },
    {
     "name": "stdout",
     "output_type": "stream",
     "text": [
      "วันนี้\n"
     ]
    },
    {
     "name": "stderr",
     "output_type": "stream",
     "text": []
    },
    {
     "name": "stdout",
     "output_type": "stream",
     "text": [
      "วันนี้\n"
     ]
    },
    {
     "name": "stderr",
     "output_type": "stream",
     "text": []
    },
    {
     "name": "stdout",
     "output_type": "stream",
     "text": [
      "วันนี้\n"
     ]
    },
    {
     "name": "stderr",
     "output_type": "stream",
     "text": []
    },
    {
     "name": "stdout",
     "output_type": "stream",
     "text": [
      "วันนี้\n"
     ]
    },
    {
     "name": "stderr",
     "output_type": "stream",
     "text": []
    },
    {
     "name": "stdout",
     "output_type": "stream",
     "text": [
      "วันนี้\n"
     ]
    },
    {
     "name": "stderr",
     "output_type": "stream",
     "text": []
    },
    {
     "name": "stdout",
     "output_type": "stream",
     "text": [
      "วันนี้\n"
     ]
    },
    {
     "name": "stderr",
     "output_type": "stream",
     "text": []
    },
    {
     "name": "stdout",
     "output_type": "stream",
     "text": [
      "วันนี้\n"
     ]
    },
    {
     "name": "stderr",
     "output_type": "stream",
     "text": []
    },
    {
     "name": "stdout",
     "output_type": "stream",
     "text": [
      "วันนี้\n"
     ]
    },
    {
     "name": "stderr",
     "output_type": "stream",
     "text": []
    },
    {
     "name": "stdout",
     "output_type": "stream",
     "text": [
      "วันนี้\n"
     ]
    },
    {
     "name": "stderr",
     "output_type": "stream",
     "text": []
    },
    {
     "name": "stdout",
     "output_type": "stream",
     "text": [
      "วันนี้\n"
     ]
    },
    {
     "name": "stderr",
     "output_type": "stream",
     "text": []
    },
    {
     "name": "stdout",
     "output_type": "stream",
     "text": [
      "วันนี้\n"
     ]
    },
    {
     "name": "stderr",
     "output_type": "stream",
     "text": []
    },
    {
     "name": "stdout",
     "output_type": "stream",
     "text": [
      "วันนี้\n"
     ]
    },
    {
     "name": "stderr",
     "output_type": "stream",
     "text": []
    },
    {
     "name": "stdout",
     "output_type": "stream",
     "text": [
      "วันนี้\n"
     ]
    },
    {
     "name": "stderr",
     "output_type": "stream",
     "text": []
    },
    {
     "name": "stdout",
     "output_type": "stream",
     "text": [
      "วันนี้\n"
     ]
    },
    {
     "name": "stderr",
     "output_type": "stream",
     "text": []
    },
    {
     "name": "stdout",
     "output_type": "stream",
     "text": [
      "วันนี้\n"
     ]
    },
    {
     "name": "stderr",
     "output_type": "stream",
     "text": [
      "Processing Actions:  92%|█████████▏| 23/25 [04:18<00:22, 11.13s/it]"
     ]
    },
    {
     "name": "stdout",
     "output_type": "stream",
     "text": [
      "วิ่ง\n"
     ]
    },
    {
     "name": "stderr",
     "output_type": "stream",
     "text": []
    },
    {
     "name": "stdout",
     "output_type": "stream",
     "text": [
      "วิ่ง\n"
     ]
    },
    {
     "name": "stderr",
     "output_type": "stream",
     "text": []
    },
    {
     "name": "stdout",
     "output_type": "stream",
     "text": [
      "วิ่ง\n"
     ]
    },
    {
     "name": "stderr",
     "output_type": "stream",
     "text": []
    },
    {
     "name": "stdout",
     "output_type": "stream",
     "text": [
      "วิ่ง\n"
     ]
    },
    {
     "name": "stderr",
     "output_type": "stream",
     "text": []
    },
    {
     "name": "stdout",
     "output_type": "stream",
     "text": [
      "วิ่ง\n"
     ]
    },
    {
     "name": "stderr",
     "output_type": "stream",
     "text": []
    },
    {
     "name": "stdout",
     "output_type": "stream",
     "text": [
      "วิ่ง\n"
     ]
    },
    {
     "name": "stderr",
     "output_type": "stream",
     "text": []
    },
    {
     "name": "stdout",
     "output_type": "stream",
     "text": [
      "วิ่ง\n"
     ]
    },
    {
     "name": "stderr",
     "output_type": "stream",
     "text": []
    },
    {
     "name": "stdout",
     "output_type": "stream",
     "text": [
      "วิ่ง\n"
     ]
    },
    {
     "name": "stderr",
     "output_type": "stream",
     "text": []
    },
    {
     "name": "stdout",
     "output_type": "stream",
     "text": [
      "วิ่ง\n"
     ]
    },
    {
     "name": "stderr",
     "output_type": "stream",
     "text": []
    },
    {
     "name": "stdout",
     "output_type": "stream",
     "text": [
      "วิ่ง\n"
     ]
    },
    {
     "name": "stderr",
     "output_type": "stream",
     "text": []
    },
    {
     "name": "stdout",
     "output_type": "stream",
     "text": [
      "วิ่ง\n"
     ]
    },
    {
     "name": "stderr",
     "output_type": "stream",
     "text": []
    },
    {
     "name": "stdout",
     "output_type": "stream",
     "text": [
      "วิ่ง\n"
     ]
    },
    {
     "name": "stderr",
     "output_type": "stream",
     "text": []
    },
    {
     "name": "stdout",
     "output_type": "stream",
     "text": [
      "วิ่ง\n"
     ]
    },
    {
     "name": "stderr",
     "output_type": "stream",
     "text": []
    },
    {
     "name": "stdout",
     "output_type": "stream",
     "text": [
      "วิ่ง\n"
     ]
    },
    {
     "name": "stderr",
     "output_type": "stream",
     "text": []
    },
    {
     "name": "stdout",
     "output_type": "stream",
     "text": [
      "วิ่ง\n"
     ]
    },
    {
     "name": "stderr",
     "output_type": "stream",
     "text": []
    },
    {
     "name": "stdout",
     "output_type": "stream",
     "text": [
      "วิ่ง\n"
     ]
    },
    {
     "name": "stderr",
     "output_type": "stream",
     "text": []
    },
    {
     "name": "stdout",
     "output_type": "stream",
     "text": [
      "วิ่ง\n"
     ]
    },
    {
     "name": "stderr",
     "output_type": "stream",
     "text": []
    },
    {
     "name": "stdout",
     "output_type": "stream",
     "text": [
      "วิ่ง\n"
     ]
    },
    {
     "name": "stderr",
     "output_type": "stream",
     "text": []
    },
    {
     "name": "stdout",
     "output_type": "stream",
     "text": [
      "วิ่ง\n"
     ]
    },
    {
     "name": "stderr",
     "output_type": "stream",
     "text": []
    },
    {
     "name": "stdout",
     "output_type": "stream",
     "text": [
      "วิ่ง\n"
     ]
    },
    {
     "name": "stderr",
     "output_type": "stream",
     "text": [
      "Processing Actions:  96%|█████████▌| 24/25 [04:30<00:11, 11.33s/it]"
     ]
    },
    {
     "name": "stdout",
     "output_type": "stream",
     "text": [
      "เดิน\n"
     ]
    },
    {
     "name": "stderr",
     "output_type": "stream",
     "text": []
    },
    {
     "name": "stdout",
     "output_type": "stream",
     "text": [
      "เดิน\n"
     ]
    },
    {
     "name": "stderr",
     "output_type": "stream",
     "text": []
    },
    {
     "name": "stdout",
     "output_type": "stream",
     "text": [
      "เดิน\n"
     ]
    },
    {
     "name": "stderr",
     "output_type": "stream",
     "text": []
    },
    {
     "name": "stdout",
     "output_type": "stream",
     "text": [
      "เดิน\n"
     ]
    },
    {
     "name": "stderr",
     "output_type": "stream",
     "text": []
    },
    {
     "name": "stdout",
     "output_type": "stream",
     "text": [
      "เดิน\n"
     ]
    },
    {
     "name": "stderr",
     "output_type": "stream",
     "text": []
    },
    {
     "name": "stdout",
     "output_type": "stream",
     "text": [
      "เดิน\n"
     ]
    },
    {
     "name": "stderr",
     "output_type": "stream",
     "text": []
    },
    {
     "name": "stdout",
     "output_type": "stream",
     "text": [
      "เดิน\n"
     ]
    },
    {
     "name": "stderr",
     "output_type": "stream",
     "text": []
    },
    {
     "name": "stdout",
     "output_type": "stream",
     "text": [
      "เดิน\n"
     ]
    },
    {
     "name": "stderr",
     "output_type": "stream",
     "text": []
    },
    {
     "name": "stdout",
     "output_type": "stream",
     "text": [
      "เดิน\n"
     ]
    },
    {
     "name": "stderr",
     "output_type": "stream",
     "text": []
    },
    {
     "name": "stdout",
     "output_type": "stream",
     "text": [
      "เดิน\n"
     ]
    },
    {
     "name": "stderr",
     "output_type": "stream",
     "text": []
    },
    {
     "name": "stdout",
     "output_type": "stream",
     "text": [
      "เดิน\n"
     ]
    },
    {
     "name": "stderr",
     "output_type": "stream",
     "text": []
    },
    {
     "name": "stdout",
     "output_type": "stream",
     "text": [
      "เดิน\n"
     ]
    },
    {
     "name": "stderr",
     "output_type": "stream",
     "text": []
    },
    {
     "name": "stdout",
     "output_type": "stream",
     "text": [
      "เดิน\n"
     ]
    },
    {
     "name": "stderr",
     "output_type": "stream",
     "text": []
    },
    {
     "name": "stdout",
     "output_type": "stream",
     "text": [
      "เดิน\n"
     ]
    },
    {
     "name": "stderr",
     "output_type": "stream",
     "text": []
    },
    {
     "name": "stdout",
     "output_type": "stream",
     "text": [
      "เดิน\n"
     ]
    },
    {
     "name": "stderr",
     "output_type": "stream",
     "text": []
    },
    {
     "name": "stdout",
     "output_type": "stream",
     "text": [
      "เดิน\n"
     ]
    },
    {
     "name": "stderr",
     "output_type": "stream",
     "text": []
    },
    {
     "name": "stdout",
     "output_type": "stream",
     "text": [
      "เดิน\n"
     ]
    },
    {
     "name": "stderr",
     "output_type": "stream",
     "text": []
    },
    {
     "name": "stdout",
     "output_type": "stream",
     "text": [
      "เดิน\n"
     ]
    },
    {
     "name": "stderr",
     "output_type": "stream",
     "text": []
    },
    {
     "name": "stdout",
     "output_type": "stream",
     "text": [
      "เดิน\n"
     ]
    },
    {
     "name": "stderr",
     "output_type": "stream",
     "text": []
    },
    {
     "name": "stdout",
     "output_type": "stream",
     "text": [
      "เดิน\n"
     ]
    },
    {
     "name": "stderr",
     "output_type": "stream",
     "text": [
      "Processing Actions: 100%|██████████| 25/25 [04:41<00:00, 11.25s/it]"
     ]
    },
    {
     "name": "stdout",
     "output_type": "stream",
     "text": [
      "Shape of X: (500, 30, 1662)\n",
      "Shape of y: (500, 25)\n"
     ]
    },
    {
     "name": "stderr",
     "output_type": "stream",
     "text": [
      "\n"
     ]
    }
   ],
   "source": [
    "import os\n",
    "import pandas as pd\n",
    "import numpy as np\n",
    "import ast\n",
    "from tqdm import tqdm\n",
    "\n",
    "sequences_train, labels_train = [], []\n",
    "\n",
    "sequence_length = 30\n",
    "frame_length = 1662\n",
    "\n",
    "# label_map = {\n",
    "#     'หนังสือ': 0, 'อยู่': 1, 'พูด': 2, 'ไก่ผัดกะเพรา': 3, 'ชอบ': 4,\n",
    "#     'หัวเราะ': 5, 'ควาย': 6, 'ฟัง': 7, 'ดื่ม': 8, 'คุณ': 9, 'นอน': 10, \n",
    "#     'เขา': 11, 'กิน': 12, 'โรงเรียน': 13, 'ฉัน': 14, 'นักเรียน': 15, \n",
    "#     'วิ่ง': 16, 'เดิน': 17\n",
    "# }\n",
    "\n",
    "# words = label_map.keys()\n",
    "# DATA_PATH = \"path_to_your_data\"\n",
    "\n",
    "for action in tqdm(words, desc=\"Processing Actions\"):\n",
    "    n_sequences = os.listdir(os.path.join(DATA_PATH, action))\n",
    "    n_sequences = list(filter(lambda seq: seq != '.DS_Store', n_sequences))\n",
    "    \n",
    "    for sequence in tqdm(n_sequences, desc=f\"Sequences for {action}\", leave=False):\n",
    "        window = []\n",
    "        print(action)\n",
    "        for frame_num in range(sequence_length):\n",
    "            csv_path = os.path.join(DATA_PATH, action, sequence, f'{frame_num}.csv')\n",
    "            res = pd.read_csv(csv_path, skiprows=1).to_numpy()\n",
    "    \n",
    "            res_cleaned = []\n",
    "            for row in res:\n",
    "                for val in row:\n",
    "                    if isinstance(val, str):\n",
    "                        res_cleaned.extend(ast.literal_eval(val))\n",
    "                    elif not np.isnan(val):\n",
    "                        res_cleaned.append(val)\n",
    "            \n",
    "            res_cleaned = np.nan_to_num(res_cleaned, nan=0.0)\n",
    "            \n",
    "            if len(res_cleaned) < frame_length:\n",
    "                res_cleaned = np.pad(res_cleaned, (0, frame_length - len(res_cleaned)), mode='constant', constant_values=0)\n",
    "            elif len(res_cleaned) > frame_length:\n",
    "                res_cleaned = res_cleaned[:frame_length]\n",
    "            \n",
    "            window.append(res_cleaned)\n",
    "        \n",
    "        if len(window) < sequence_length:\n",
    "            padding_frame = np.zeros((frame_length,))\n",
    "            for _ in range(sequence_length - len(window)):\n",
    "                window.append(padding_frame)\n",
    "        elif len(window) > sequence_length:\n",
    "            window = window[:sequence_length]\n",
    "        \n",
    "        sequences_train.append(window)\n",
    "        labels_train.append(label_map[action])\n",
    "\n",
    "X_train = np.array(sequences_train)\n",
    "y_train = utils.to_categorical(labels_train).astype(int)\n",
    "\n",
    "print(f\"Shape of X: {X_train.shape}\")\n",
    "print(f\"Shape of y: {y_train.shape}\")\n"
   ]
  },
  {
   "cell_type": "code",
   "execution_count": 21,
   "metadata": {},
   "outputs": [
    {
     "data": {
      "text/plain": [
       "((500, 30, 1662), (500, 25))"
      ]
     },
     "execution_count": 21,
     "metadata": {},
     "output_type": "execute_result"
    }
   ],
   "source": [
    "X_train.shape, y_train.shape"
   ]
  },
  {
   "cell_type": "code",
   "execution_count": 22,
   "metadata": {},
   "outputs": [
    {
     "name": "stderr",
     "output_type": "stream",
     "text": [
      "Processing Actions: 100%|██████████| 25/25 [02:16<00:00,  5.46s/it]"
     ]
    },
    {
     "name": "stdout",
     "output_type": "stream",
     "text": [
      "Shape of X: (250, 30, 1662)\n",
      "Shape of y: (250, 25)\n"
     ]
    },
    {
     "name": "stderr",
     "output_type": "stream",
     "text": [
      "\n"
     ]
    }
   ],
   "source": [
    "import os\n",
    "import pandas as pd\n",
    "import numpy as np\n",
    "import ast\n",
    "from tqdm import tqdm\n",
    "\n",
    "sequences_test, labels_test  = [], []\n",
    "\n",
    "sequence_length = 30\n",
    "frame_length = 1662\n",
    "\n",
    "DATA_PATH_TEST = os.path.join('/Users/theerat/Dataset/test')\n",
    "\n",
    "# label_map = {\n",
    "#     'หนังสือ': 0, 'อยู่': 1, 'พูด': 2, 'ไก่ผัดกะเพรา': 3, 'ชอบ': 4,\n",
    "#     'หัวเราะ': 5, 'ควาย': 6, 'ฟัง': 7, 'ดื่ม': 8, 'คุณ': 9, 'นอน': 10, \n",
    "#     'เขา': 11, 'กิน': 12, 'โรงเรียน': 13, 'ฉัน': 14, 'นักเรียน': 15, \n",
    "#     'วิ่ง': 16, 'เดิน': 17\n",
    "# }\n",
    "\n",
    "# words = label_map.keys()\n",
    "# DATA_PATH = \"path_to_your_data\"\n",
    "\n",
    "for action in tqdm(words, desc=\"Processing Actions\"):\n",
    "    n_sequences = os.listdir(os.path.join(DATA_PATH_TEST, action))\n",
    "    n_sequences = list(filter(lambda seq: seq != '.DS_Store', n_sequences))\n",
    "    \n",
    "    for sequence in tqdm(n_sequences, desc=f\"Sequences for {action}\", leave=False):\n",
    "        window = []\n",
    "        print(action)\n",
    "        for frame_num in range(sequence_length):\n",
    "            csv_path = os.path.join(DATA_PATH_TEST, action, sequence, f'{frame_num}.csv')\n",
    "            res = pd.read_csv(csv_path, skiprows=1).to_numpy()\n",
    "    \n",
    "            res_cleaned = []\n",
    "            for row in res:\n",
    "                for val in row:\n",
    "                    if isinstance(val, str):\n",
    "                        res_cleaned.extend(ast.literal_eval(val))\n",
    "                    elif not np.isnan(val):\n",
    "                        res_cleaned.append(val)\n",
    "            \n",
    "            res_cleaned = np.nan_to_num(res_cleaned, nan=0.0)\n",
    "            \n",
    "            if len(res_cleaned) < frame_length:\n",
    "                res_cleaned = np.pad(res_cleaned, (0, frame_length - len(res_cleaned)), mode='constant', constant_values=0)\n",
    "            elif len(res_cleaned) > frame_length:\n",
    "                res_cleaned = res_cleaned[:frame_length]\n",
    "            \n",
    "            window.append(res_cleaned)\n",
    "        \n",
    "        if len(window) < sequence_length:\n",
    "            padding_frame = np.zeros((frame_length,))\n",
    "            for _ in range(sequence_length - len(window)):\n",
    "                window.append(padding_frame)\n",
    "        elif len(window) > sequence_length:\n",
    "            window = window[:sequence_length]\n",
    "        \n",
    "        sequences_test.append(window)\n",
    "        labels_test.append(label_map[action])\n",
    "\n",
    "X_test = np.array(sequences_test)\n",
    "y_test = utils.to_categorical(labels_test).astype(int)\n",
    "print(f\"Shape of X: {X_test.shape}\")\n",
    "print(f\"Shape of y: {y_test.shape}\")"
   ]
  },
  {
   "cell_type": "code",
   "execution_count": 23,
   "metadata": {},
   "outputs": [
    {
     "name": "stdout",
     "output_type": "stream",
     "text": [
      "Shape of X_train: (500, 30, 1662)\n",
      "Shape of y_train: (500, 25)\n",
      "Shape of X_test: (250, 30, 1662)\n",
      "Shape of y_test: (250, 25)\n"
     ]
    }
   ],
   "source": [
    "print(f\"Shape of X_train: {X_train.shape}\")\n",
    "print(f\"Shape of y_train: {y_train.shape}\")\n",
    "print(f\"Shape of X_test: {X_test.shape}\")\n",
    "print(f\"Shape of y_test: {y_test.shape}\")"
   ]
  },
  {
   "cell_type": "code",
   "execution_count": 25,
   "metadata": {},
   "outputs": [],
   "source": [
    "np.save('s_train_fix.npy', X_train)\n",
    "np.save('l_train_fix.npy', y_train)\n",
    "np.save('s_test_fix.npy', X_test)\n",
    "np.save('l_test_fix.npy', y_test)"
   ]
  },
  {
   "cell_type": "code",
   "execution_count": 26,
   "metadata": {},
   "outputs": [],
   "source": [
    "sequences2, labels2 = np.load('s_train_fix.npy'), np.load('l_train_fix.npy')"
   ]
  },
  {
   "cell_type": "code",
   "execution_count": 27,
   "metadata": {},
   "outputs": [
    {
     "ename": "ValueError",
     "evalue": "Per-column arrays must each be 1-dimensional",
     "output_type": "error",
     "traceback": [
      "\u001b[0;31m---------------------------------------------------------------------------\u001b[0m",
      "\u001b[0;31mValueError\u001b[0m                                Traceback (most recent call last)",
      "Cell \u001b[0;32mIn[27], line 1\u001b[0m\n\u001b[0;32m----> 1\u001b[0m df \u001b[38;5;241m=\u001b[39m \u001b[43mpd\u001b[49m\u001b[38;5;241;43m.\u001b[39;49m\u001b[43mDataFrame\u001b[49m\u001b[43m(\u001b[49m\u001b[43m{\u001b[49m\u001b[38;5;124;43m'\u001b[39;49m\u001b[38;5;124;43msequence\u001b[39;49m\u001b[38;5;124;43m'\u001b[39;49m\u001b[43m:\u001b[49m\u001b[43msequences2\u001b[49m\u001b[43m,\u001b[49m\u001b[43m \u001b[49m\u001b[38;5;124;43m'\u001b[39;49m\u001b[38;5;124;43mlabel\u001b[39;49m\u001b[38;5;124;43m'\u001b[39;49m\u001b[43m:\u001b[49m\u001b[43mlabels2\u001b[49m\u001b[43m}\u001b[49m\u001b[43m)\u001b[49m\n\u001b[1;32m      2\u001b[0m df\n",
      "File \u001b[0;32m~/Documents/sign-language-translator/.venv/lib/python3.9/site-packages/pandas/core/frame.py:778\u001b[0m, in \u001b[0;36mDataFrame.__init__\u001b[0;34m(self, data, index, columns, dtype, copy)\u001b[0m\n\u001b[1;32m    772\u001b[0m     mgr \u001b[38;5;241m=\u001b[39m \u001b[38;5;28mself\u001b[39m\u001b[38;5;241m.\u001b[39m_init_mgr(\n\u001b[1;32m    773\u001b[0m         data, axes\u001b[38;5;241m=\u001b[39m{\u001b[38;5;124m\"\u001b[39m\u001b[38;5;124mindex\u001b[39m\u001b[38;5;124m\"\u001b[39m: index, \u001b[38;5;124m\"\u001b[39m\u001b[38;5;124mcolumns\u001b[39m\u001b[38;5;124m\"\u001b[39m: columns}, dtype\u001b[38;5;241m=\u001b[39mdtype, copy\u001b[38;5;241m=\u001b[39mcopy\n\u001b[1;32m    774\u001b[0m     )\n\u001b[1;32m    776\u001b[0m \u001b[38;5;28;01melif\u001b[39;00m \u001b[38;5;28misinstance\u001b[39m(data, \u001b[38;5;28mdict\u001b[39m):\n\u001b[1;32m    777\u001b[0m     \u001b[38;5;66;03m# GH#38939 de facto copy defaults to False only in non-dict cases\u001b[39;00m\n\u001b[0;32m--> 778\u001b[0m     mgr \u001b[38;5;241m=\u001b[39m \u001b[43mdict_to_mgr\u001b[49m\u001b[43m(\u001b[49m\u001b[43mdata\u001b[49m\u001b[43m,\u001b[49m\u001b[43m \u001b[49m\u001b[43mindex\u001b[49m\u001b[43m,\u001b[49m\u001b[43m \u001b[49m\u001b[43mcolumns\u001b[49m\u001b[43m,\u001b[49m\u001b[43m \u001b[49m\u001b[43mdtype\u001b[49m\u001b[38;5;241;43m=\u001b[39;49m\u001b[43mdtype\u001b[49m\u001b[43m,\u001b[49m\u001b[43m \u001b[49m\u001b[43mcopy\u001b[49m\u001b[38;5;241;43m=\u001b[39;49m\u001b[43mcopy\u001b[49m\u001b[43m,\u001b[49m\u001b[43m \u001b[49m\u001b[43mtyp\u001b[49m\u001b[38;5;241;43m=\u001b[39;49m\u001b[43mmanager\u001b[49m\u001b[43m)\u001b[49m\n\u001b[1;32m    779\u001b[0m \u001b[38;5;28;01melif\u001b[39;00m \u001b[38;5;28misinstance\u001b[39m(data, ma\u001b[38;5;241m.\u001b[39mMaskedArray):\n\u001b[1;32m    780\u001b[0m     \u001b[38;5;28;01mfrom\u001b[39;00m \u001b[38;5;21;01mnumpy\u001b[39;00m\u001b[38;5;21;01m.\u001b[39;00m\u001b[38;5;21;01mma\u001b[39;00m \u001b[38;5;28;01mimport\u001b[39;00m mrecords\n",
      "File \u001b[0;32m~/Documents/sign-language-translator/.venv/lib/python3.9/site-packages/pandas/core/internals/construction.py:503\u001b[0m, in \u001b[0;36mdict_to_mgr\u001b[0;34m(data, index, columns, dtype, typ, copy)\u001b[0m\n\u001b[1;32m    499\u001b[0m     \u001b[38;5;28;01melse\u001b[39;00m:\n\u001b[1;32m    500\u001b[0m         \u001b[38;5;66;03m# dtype check to exclude e.g. range objects, scalars\u001b[39;00m\n\u001b[1;32m    501\u001b[0m         arrays \u001b[38;5;241m=\u001b[39m [x\u001b[38;5;241m.\u001b[39mcopy() \u001b[38;5;28;01mif\u001b[39;00m \u001b[38;5;28mhasattr\u001b[39m(x, \u001b[38;5;124m\"\u001b[39m\u001b[38;5;124mdtype\u001b[39m\u001b[38;5;124m\"\u001b[39m) \u001b[38;5;28;01melse\u001b[39;00m x \u001b[38;5;28;01mfor\u001b[39;00m x \u001b[38;5;129;01min\u001b[39;00m arrays]\n\u001b[0;32m--> 503\u001b[0m \u001b[38;5;28;01mreturn\u001b[39;00m \u001b[43marrays_to_mgr\u001b[49m\u001b[43m(\u001b[49m\u001b[43marrays\u001b[49m\u001b[43m,\u001b[49m\u001b[43m \u001b[49m\u001b[43mcolumns\u001b[49m\u001b[43m,\u001b[49m\u001b[43m \u001b[49m\u001b[43mindex\u001b[49m\u001b[43m,\u001b[49m\u001b[43m \u001b[49m\u001b[43mdtype\u001b[49m\u001b[38;5;241;43m=\u001b[39;49m\u001b[43mdtype\u001b[49m\u001b[43m,\u001b[49m\u001b[43m \u001b[49m\u001b[43mtyp\u001b[49m\u001b[38;5;241;43m=\u001b[39;49m\u001b[43mtyp\u001b[49m\u001b[43m,\u001b[49m\u001b[43m \u001b[49m\u001b[43mconsolidate\u001b[49m\u001b[38;5;241;43m=\u001b[39;49m\u001b[43mcopy\u001b[49m\u001b[43m)\u001b[49m\n",
      "File \u001b[0;32m~/Documents/sign-language-translator/.venv/lib/python3.9/site-packages/pandas/core/internals/construction.py:114\u001b[0m, in \u001b[0;36marrays_to_mgr\u001b[0;34m(arrays, columns, index, dtype, verify_integrity, typ, consolidate)\u001b[0m\n\u001b[1;32m    111\u001b[0m \u001b[38;5;28;01mif\u001b[39;00m verify_integrity:\n\u001b[1;32m    112\u001b[0m     \u001b[38;5;66;03m# figure out the index, if necessary\u001b[39;00m\n\u001b[1;32m    113\u001b[0m     \u001b[38;5;28;01mif\u001b[39;00m index \u001b[38;5;129;01mis\u001b[39;00m \u001b[38;5;28;01mNone\u001b[39;00m:\n\u001b[0;32m--> 114\u001b[0m         index \u001b[38;5;241m=\u001b[39m \u001b[43m_extract_index\u001b[49m\u001b[43m(\u001b[49m\u001b[43marrays\u001b[49m\u001b[43m)\u001b[49m\n\u001b[1;32m    115\u001b[0m     \u001b[38;5;28;01melse\u001b[39;00m:\n\u001b[1;32m    116\u001b[0m         index \u001b[38;5;241m=\u001b[39m ensure_index(index)\n",
      "File \u001b[0;32m~/Documents/sign-language-translator/.venv/lib/python3.9/site-packages/pandas/core/internals/construction.py:664\u001b[0m, in \u001b[0;36m_extract_index\u001b[0;34m(data)\u001b[0m\n\u001b[1;32m    662\u001b[0m         raw_lengths\u001b[38;5;241m.\u001b[39mappend(\u001b[38;5;28mlen\u001b[39m(val))\n\u001b[1;32m    663\u001b[0m     \u001b[38;5;28;01melif\u001b[39;00m \u001b[38;5;28misinstance\u001b[39m(val, np\u001b[38;5;241m.\u001b[39mndarray) \u001b[38;5;129;01mand\u001b[39;00m val\u001b[38;5;241m.\u001b[39mndim \u001b[38;5;241m>\u001b[39m \u001b[38;5;241m1\u001b[39m:\n\u001b[0;32m--> 664\u001b[0m         \u001b[38;5;28;01mraise\u001b[39;00m \u001b[38;5;167;01mValueError\u001b[39;00m(\u001b[38;5;124m\"\u001b[39m\u001b[38;5;124mPer-column arrays must each be 1-dimensional\u001b[39m\u001b[38;5;124m\"\u001b[39m)\n\u001b[1;32m    666\u001b[0m \u001b[38;5;28;01mif\u001b[39;00m \u001b[38;5;129;01mnot\u001b[39;00m indexes \u001b[38;5;129;01mand\u001b[39;00m \u001b[38;5;129;01mnot\u001b[39;00m raw_lengths:\n\u001b[1;32m    667\u001b[0m     \u001b[38;5;28;01mraise\u001b[39;00m \u001b[38;5;167;01mValueError\u001b[39;00m(\u001b[38;5;124m\"\u001b[39m\u001b[38;5;124mIf using all scalar values, you must pass an index\u001b[39m\u001b[38;5;124m\"\u001b[39m)\n",
      "\u001b[0;31mValueError\u001b[0m: Per-column arrays must each be 1-dimensional"
     ]
    }
   ],
   "source": [
    "df = pd.DataFrame({'sequence':sequences2, 'label':labels2})\n",
    "df"
   ]
  },
  {
   "cell_type": "code",
   "execution_count": null,
   "metadata": {},
   "outputs": [],
   "source": [
    "# X_train, X_test, y_train, y_test = train_test_split(X, y, test_size=0.20,random_state=42)"
   ]
  },
  {
   "cell_type": "code",
   "execution_count": 28,
   "metadata": {},
   "outputs": [
    {
     "data": {
      "text/plain": [
       "((500, 30, 1662), (250, 30, 1662), (500, 25), (250, 25))"
      ]
     },
     "execution_count": 28,
     "metadata": {},
     "output_type": "execute_result"
    }
   ],
   "source": [
    "X_train.shape, X_test.shape, y_train.shape, y_test.shape    "
   ]
  },
  {
   "cell_type": "code",
   "execution_count": 29,
   "metadata": {},
   "outputs": [
    {
     "data": {
      "text/plain": [
       "array([ 0,  0,  0,  0,  0,  0,  0,  0,  0,  0,  0,  0,  0,  0,  0,  0,  0,\n",
       "        0,  0,  0,  1,  1,  1,  1,  1,  1,  1,  1,  1,  1,  1,  1,  1,  1,\n",
       "        1,  1,  1,  1,  1,  1,  2,  2,  2,  2,  2,  2,  2,  2,  2,  2,  2,\n",
       "        2,  2,  2,  2,  2,  2,  2,  2,  2,  3,  3,  3,  3,  3,  3,  3,  3,\n",
       "        3,  3,  3,  3,  3,  3,  3,  3,  3,  3,  3,  3,  4,  4,  4,  4,  4,\n",
       "        4,  4,  4,  4,  4,  4,  4,  4,  4,  4,  4,  4,  4,  4,  4,  5,  5,\n",
       "        5,  5,  5,  5,  5,  5,  5,  5,  5,  5,  5,  5,  5,  5,  5,  5,  5,\n",
       "        5,  6,  6,  6,  6,  6,  6,  6,  6,  6,  6,  6,  6,  6,  6,  6,  6,\n",
       "        6,  6,  6,  6,  7,  7,  7,  7,  7,  7,  7,  7,  7,  7,  7,  7,  7,\n",
       "        7,  7,  7,  7,  7,  7,  7,  8,  8,  8,  8,  8,  8,  8,  8,  8,  8,\n",
       "        8,  8,  8,  8,  8,  8,  8,  8,  8,  8,  9,  9,  9,  9,  9,  9,  9,\n",
       "        9,  9,  9,  9,  9,  9,  9,  9,  9,  9,  9,  9,  9, 10, 10, 10, 10,\n",
       "       10, 10, 10, 10, 10, 10, 10, 10, 10, 10, 10, 10, 10, 10, 10, 10, 11,\n",
       "       11, 11, 11, 11, 11, 11, 11, 11, 11, 11, 11, 11, 11, 11, 11, 11, 11,\n",
       "       11, 11, 12, 12, 12, 12, 12, 12, 12, 12, 12, 12, 12, 12, 12, 12, 12,\n",
       "       12, 12, 12, 12, 12, 13, 13, 13, 13, 13, 13, 13, 13, 13, 13, 13, 13,\n",
       "       13, 13, 13, 13, 13, 13, 13, 13, 14, 14, 14, 14, 14, 14, 14, 14, 14,\n",
       "       14, 14, 14, 14, 14, 14, 14, 14, 14, 14, 14, 15, 15, 15, 15, 15, 15,\n",
       "       15, 15, 15, 15, 15, 15, 15, 15, 15, 15, 15, 15, 15, 15, 16, 16, 16,\n",
       "       16, 16, 16, 16, 16, 16, 16, 16, 16, 16, 16, 16, 16, 16, 16, 16, 16,\n",
       "       17, 17, 17, 17, 17, 17, 17, 17, 17, 17, 17, 17, 17, 17, 17, 17, 17,\n",
       "       17, 17, 17, 18, 18, 18, 18, 18, 18, 18, 18, 18, 18, 18, 18, 18, 18,\n",
       "       18, 18, 18, 18, 18, 18, 19, 19, 19, 19, 19, 19, 19, 19, 19, 19, 19,\n",
       "       19, 19, 19, 19, 19, 19, 19, 19, 19, 20, 20, 20, 20, 20, 20, 20, 20,\n",
       "       20, 20, 20, 20, 20, 20, 20, 20, 20, 20, 20, 20, 21, 21, 21, 21, 21,\n",
       "       21, 21, 21, 21, 21, 21, 21, 21, 21, 21, 21, 21, 21, 21, 21, 22, 22,\n",
       "       22, 22, 22, 22, 22, 22, 22, 22, 22, 22, 22, 22, 22, 22, 22, 22, 22,\n",
       "       22, 23, 23, 23, 23, 23, 23, 23, 23, 23, 23, 23, 23, 23, 23, 23, 23,\n",
       "       23, 23, 23, 23, 24, 24, 24, 24, 24, 24, 24, 24, 24, 24, 24, 24, 24,\n",
       "       24, 24, 24, 24, 24, 24, 24])"
      ]
     },
     "execution_count": 29,
     "metadata": {},
     "output_type": "execute_result"
    }
   ],
   "source": [
    "y_train_sparse = np.argmax(y_train, axis=-1)\n",
    "y_train_sparse"
   ]
  },
  {
   "cell_type": "markdown",
   "metadata": {},
   "source": [
    "__New Model__"
   ]
  },
  {
   "cell_type": "code",
   "execution_count": 30,
   "metadata": {},
   "outputs": [],
   "source": [
    "from keras import models, layers, callbacks\n",
    "from keras import callbacks, Model, Input"
   ]
  },
  {
   "cell_type": "code",
   "execution_count": 64,
   "metadata": {},
   "outputs": [],
   "source": [
    "# include early stopping and reducelr\n",
    "def get_callbacks():\n",
    "    return [\n",
    "        callbacks.EarlyStopping(\n",
    "            monitor=\"val_accuracy\", patience=10, restore_best_weights=True\n",
    "        ),\n",
    "        callbacks.ReduceLROnPlateau(\n",
    "            monitor=\"val_accuracy\", factor=0.5, patience=3\n",
    "        ),\n",
    "    ]\n",
    "\n",
    "\n",
    "# a single dense block followed by a normalization block and relu activation\n",
    "def dense_block(units, name):\n",
    "    fc = layers.Dense(units)\n",
    "    norm = layers.LayerNormalization()\n",
    "    act = layers.Activation(\"relu\")\n",
    "    drop = layers.Dropout(0.1)\n",
    "    return lambda x: drop(act(norm(fc(x))))\n",
    "\n",
    "\n",
    "# the lstm block with the final dense block for the classification\n",
    "def classifier(lstm_units):\n",
    "    lstm = layers.LSTM(lstm_units)\n",
    "    out = layers.Dense(25, activation=\"softmax\")\n",
    "    return lambda x: out(lstm(x))"
   ]
  },
  {
   "cell_type": "code",
   "execution_count": 65,
   "metadata": {},
   "outputs": [
    {
     "data": {
      "text/html": [
       "<pre style=\"white-space:pre;overflow-x:auto;line-height:normal;font-family:Menlo,'DejaVu Sans Mono',consolas,'Courier New',monospace\"><span style=\"font-weight: bold\">Model: \"functional_29\"</span>\n",
       "</pre>\n"
      ],
      "text/plain": [
       "\u001b[1mModel: \"functional_29\"\u001b[0m\n"
      ]
     },
     "metadata": {},
     "output_type": "display_data"
    },
    {
     "data": {
      "text/html": [
       "<pre style=\"white-space:pre;overflow-x:auto;line-height:normal;font-family:Menlo,'DejaVu Sans Mono',consolas,'Courier New',monospace\">┏━━━━━━━━━━━━━━━━━━━━━━━━━━━━━━━━━┳━━━━━━━━━━━━━━━━━━━━━━━━┳━━━━━━━━━━━━━━━┓\n",
       "┃<span style=\"font-weight: bold\"> Layer (type)                    </span>┃<span style=\"font-weight: bold\"> Output Shape           </span>┃<span style=\"font-weight: bold\">       Param # </span>┃\n",
       "┡━━━━━━━━━━━━━━━━━━━━━━━━━━━━━━━━━╇━━━━━━━━━━━━━━━━━━━━━━━━╇━━━━━━━━━━━━━━━┩\n",
       "│ input_layer_24 (<span style=\"color: #0087ff; text-decoration-color: #0087ff\">InputLayer</span>)     │ (<span style=\"color: #00d7ff; text-decoration-color: #00d7ff\">None</span>, <span style=\"color: #00af00; text-decoration-color: #00af00\">30</span>, <span style=\"color: #00af00; text-decoration-color: #00af00\">1662</span>)       │             <span style=\"color: #00af00; text-decoration-color: #00af00\">0</span> │\n",
       "├─────────────────────────────────┼────────────────────────┼───────────────┤\n",
       "│ dense_36 (<span style=\"color: #0087ff; text-decoration-color: #0087ff\">Dense</span>)                │ (<span style=\"color: #00d7ff; text-decoration-color: #00d7ff\">None</span>, <span style=\"color: #00af00; text-decoration-color: #00af00\">30</span>, <span style=\"color: #00af00; text-decoration-color: #00af00\">512</span>)        │       <span style=\"color: #00af00; text-decoration-color: #00af00\">851,456</span> │\n",
       "├─────────────────────────────────┼────────────────────────┼───────────────┤\n",
       "│ layer_normalization_18          │ (<span style=\"color: #00d7ff; text-decoration-color: #00d7ff\">None</span>, <span style=\"color: #00af00; text-decoration-color: #00af00\">30</span>, <span style=\"color: #00af00; text-decoration-color: #00af00\">512</span>)        │         <span style=\"color: #00af00; text-decoration-color: #00af00\">1,024</span> │\n",
       "│ (<span style=\"color: #0087ff; text-decoration-color: #0087ff\">LayerNormalization</span>)            │                        │               │\n",
       "├─────────────────────────────────┼────────────────────────┼───────────────┤\n",
       "│ activation_22 (<span style=\"color: #0087ff; text-decoration-color: #0087ff\">Activation</span>)      │ (<span style=\"color: #00d7ff; text-decoration-color: #00d7ff\">None</span>, <span style=\"color: #00af00; text-decoration-color: #00af00\">30</span>, <span style=\"color: #00af00; text-decoration-color: #00af00\">512</span>)        │             <span style=\"color: #00af00; text-decoration-color: #00af00\">0</span> │\n",
       "├─────────────────────────────────┼────────────────────────┼───────────────┤\n",
       "│ dropout_22 (<span style=\"color: #0087ff; text-decoration-color: #0087ff\">Dropout</span>)            │ (<span style=\"color: #00d7ff; text-decoration-color: #00d7ff\">None</span>, <span style=\"color: #00af00; text-decoration-color: #00af00\">30</span>, <span style=\"color: #00af00; text-decoration-color: #00af00\">512</span>)        │             <span style=\"color: #00af00; text-decoration-color: #00af00\">0</span> │\n",
       "├─────────────────────────────────┼────────────────────────┼───────────────┤\n",
       "│ dense_37 (<span style=\"color: #0087ff; text-decoration-color: #0087ff\">Dense</span>)                │ (<span style=\"color: #00d7ff; text-decoration-color: #00d7ff\">None</span>, <span style=\"color: #00af00; text-decoration-color: #00af00\">30</span>, <span style=\"color: #00af00; text-decoration-color: #00af00\">256</span>)        │       <span style=\"color: #00af00; text-decoration-color: #00af00\">131,328</span> │\n",
       "├─────────────────────────────────┼────────────────────────┼───────────────┤\n",
       "│ layer_normalization_19          │ (<span style=\"color: #00d7ff; text-decoration-color: #00d7ff\">None</span>, <span style=\"color: #00af00; text-decoration-color: #00af00\">30</span>, <span style=\"color: #00af00; text-decoration-color: #00af00\">256</span>)        │           <span style=\"color: #00af00; text-decoration-color: #00af00\">512</span> │\n",
       "│ (<span style=\"color: #0087ff; text-decoration-color: #0087ff\">LayerNormalization</span>)            │                        │               │\n",
       "├─────────────────────────────────┼────────────────────────┼───────────────┤\n",
       "│ activation_23 (<span style=\"color: #0087ff; text-decoration-color: #0087ff\">Activation</span>)      │ (<span style=\"color: #00d7ff; text-decoration-color: #00d7ff\">None</span>, <span style=\"color: #00af00; text-decoration-color: #00af00\">30</span>, <span style=\"color: #00af00; text-decoration-color: #00af00\">256</span>)        │             <span style=\"color: #00af00; text-decoration-color: #00af00\">0</span> │\n",
       "├─────────────────────────────────┼────────────────────────┼───────────────┤\n",
       "│ dropout_23 (<span style=\"color: #0087ff; text-decoration-color: #0087ff\">Dropout</span>)            │ (<span style=\"color: #00d7ff; text-decoration-color: #00d7ff\">None</span>, <span style=\"color: #00af00; text-decoration-color: #00af00\">30</span>, <span style=\"color: #00af00; text-decoration-color: #00af00\">256</span>)        │             <span style=\"color: #00af00; text-decoration-color: #00af00\">0</span> │\n",
       "├─────────────────────────────────┼────────────────────────┼───────────────┤\n",
       "│ lstm_14 (<span style=\"color: #0087ff; text-decoration-color: #0087ff\">LSTM</span>)                  │ (<span style=\"color: #00d7ff; text-decoration-color: #00d7ff\">None</span>, <span style=\"color: #00af00; text-decoration-color: #00af00\">500</span>)            │     <span style=\"color: #00af00; text-decoration-color: #00af00\">1,514,000</span> │\n",
       "├─────────────────────────────────┼────────────────────────┼───────────────┤\n",
       "│ dense_38 (<span style=\"color: #0087ff; text-decoration-color: #0087ff\">Dense</span>)                │ (<span style=\"color: #00d7ff; text-decoration-color: #00d7ff\">None</span>, <span style=\"color: #00af00; text-decoration-color: #00af00\">25</span>)             │        <span style=\"color: #00af00; text-decoration-color: #00af00\">12,525</span> │\n",
       "└─────────────────────────────────┴────────────────────────┴───────────────┘\n",
       "</pre>\n"
      ],
      "text/plain": [
       "┏━━━━━━━━━━━━━━━━━━━━━━━━━━━━━━━━━┳━━━━━━━━━━━━━━━━━━━━━━━━┳━━━━━━━━━━━━━━━┓\n",
       "┃\u001b[1m \u001b[0m\u001b[1mLayer (type)                   \u001b[0m\u001b[1m \u001b[0m┃\u001b[1m \u001b[0m\u001b[1mOutput Shape          \u001b[0m\u001b[1m \u001b[0m┃\u001b[1m \u001b[0m\u001b[1m      Param #\u001b[0m\u001b[1m \u001b[0m┃\n",
       "┡━━━━━━━━━━━━━━━━━━━━━━━━━━━━━━━━━╇━━━━━━━━━━━━━━━━━━━━━━━━╇━━━━━━━━━━━━━━━┩\n",
       "│ input_layer_24 (\u001b[38;5;33mInputLayer\u001b[0m)     │ (\u001b[38;5;45mNone\u001b[0m, \u001b[38;5;34m30\u001b[0m, \u001b[38;5;34m1662\u001b[0m)       │             \u001b[38;5;34m0\u001b[0m │\n",
       "├─────────────────────────────────┼────────────────────────┼───────────────┤\n",
       "│ dense_36 (\u001b[38;5;33mDense\u001b[0m)                │ (\u001b[38;5;45mNone\u001b[0m, \u001b[38;5;34m30\u001b[0m, \u001b[38;5;34m512\u001b[0m)        │       \u001b[38;5;34m851,456\u001b[0m │\n",
       "├─────────────────────────────────┼────────────────────────┼───────────────┤\n",
       "│ layer_normalization_18          │ (\u001b[38;5;45mNone\u001b[0m, \u001b[38;5;34m30\u001b[0m, \u001b[38;5;34m512\u001b[0m)        │         \u001b[38;5;34m1,024\u001b[0m │\n",
       "│ (\u001b[38;5;33mLayerNormalization\u001b[0m)            │                        │               │\n",
       "├─────────────────────────────────┼────────────────────────┼───────────────┤\n",
       "│ activation_22 (\u001b[38;5;33mActivation\u001b[0m)      │ (\u001b[38;5;45mNone\u001b[0m, \u001b[38;5;34m30\u001b[0m, \u001b[38;5;34m512\u001b[0m)        │             \u001b[38;5;34m0\u001b[0m │\n",
       "├─────────────────────────────────┼────────────────────────┼───────────────┤\n",
       "│ dropout_22 (\u001b[38;5;33mDropout\u001b[0m)            │ (\u001b[38;5;45mNone\u001b[0m, \u001b[38;5;34m30\u001b[0m, \u001b[38;5;34m512\u001b[0m)        │             \u001b[38;5;34m0\u001b[0m │\n",
       "├─────────────────────────────────┼────────────────────────┼───────────────┤\n",
       "│ dense_37 (\u001b[38;5;33mDense\u001b[0m)                │ (\u001b[38;5;45mNone\u001b[0m, \u001b[38;5;34m30\u001b[0m, \u001b[38;5;34m256\u001b[0m)        │       \u001b[38;5;34m131,328\u001b[0m │\n",
       "├─────────────────────────────────┼────────────────────────┼───────────────┤\n",
       "│ layer_normalization_19          │ (\u001b[38;5;45mNone\u001b[0m, \u001b[38;5;34m30\u001b[0m, \u001b[38;5;34m256\u001b[0m)        │           \u001b[38;5;34m512\u001b[0m │\n",
       "│ (\u001b[38;5;33mLayerNormalization\u001b[0m)            │                        │               │\n",
       "├─────────────────────────────────┼────────────────────────┼───────────────┤\n",
       "│ activation_23 (\u001b[38;5;33mActivation\u001b[0m)      │ (\u001b[38;5;45mNone\u001b[0m, \u001b[38;5;34m30\u001b[0m, \u001b[38;5;34m256\u001b[0m)        │             \u001b[38;5;34m0\u001b[0m │\n",
       "├─────────────────────────────────┼────────────────────────┼───────────────┤\n",
       "│ dropout_23 (\u001b[38;5;33mDropout\u001b[0m)            │ (\u001b[38;5;45mNone\u001b[0m, \u001b[38;5;34m30\u001b[0m, \u001b[38;5;34m256\u001b[0m)        │             \u001b[38;5;34m0\u001b[0m │\n",
       "├─────────────────────────────────┼────────────────────────┼───────────────┤\n",
       "│ lstm_14 (\u001b[38;5;33mLSTM\u001b[0m)                  │ (\u001b[38;5;45mNone\u001b[0m, \u001b[38;5;34m500\u001b[0m)            │     \u001b[38;5;34m1,514,000\u001b[0m │\n",
       "├─────────────────────────────────┼────────────────────────┼───────────────┤\n",
       "│ dense_38 (\u001b[38;5;33mDense\u001b[0m)                │ (\u001b[38;5;45mNone\u001b[0m, \u001b[38;5;34m25\u001b[0m)             │        \u001b[38;5;34m12,525\u001b[0m │\n",
       "└─────────────────────────────────┴────────────────────────┴───────────────┘\n"
      ]
     },
     "metadata": {},
     "output_type": "display_data"
    },
    {
     "data": {
      "text/html": [
       "<pre style=\"white-space:pre;overflow-x:auto;line-height:normal;font-family:Menlo,'DejaVu Sans Mono',consolas,'Courier New',monospace\"><span style=\"font-weight: bold\"> Total params: </span><span style=\"color: #00af00; text-decoration-color: #00af00\">2,510,845</span> (9.58 MB)\n",
       "</pre>\n"
      ],
      "text/plain": [
       "\u001b[1m Total params: \u001b[0m\u001b[38;5;34m2,510,845\u001b[0m (9.58 MB)\n"
      ]
     },
     "metadata": {},
     "output_type": "display_data"
    },
    {
     "data": {
      "text/html": [
       "<pre style=\"white-space:pre;overflow-x:auto;line-height:normal;font-family:Menlo,'DejaVu Sans Mono',consolas,'Courier New',monospace\"><span style=\"font-weight: bold\"> Trainable params: </span><span style=\"color: #00af00; text-decoration-color: #00af00\">2,510,845</span> (9.58 MB)\n",
       "</pre>\n"
      ],
      "text/plain": [
       "\u001b[1m Trainable params: \u001b[0m\u001b[38;5;34m2,510,845\u001b[0m (9.58 MB)\n"
      ]
     },
     "metadata": {},
     "output_type": "display_data"
    },
    {
     "data": {
      "text/html": [
       "<pre style=\"white-space:pre;overflow-x:auto;line-height:normal;font-family:Menlo,'DejaVu Sans Mono',consolas,'Courier New',monospace\"><span style=\"font-weight: bold\"> Non-trainable params: </span><span style=\"color: #00af00; text-decoration-color: #00af00\">0</span> (0.00 B)\n",
       "</pre>\n"
      ],
      "text/plain": [
       "\u001b[1m Non-trainable params: \u001b[0m\u001b[38;5;34m0\u001b[0m (0.00 B)\n"
      ]
     },
     "metadata": {},
     "output_type": "display_data"
    }
   ],
   "source": [
    "import tensorflow as tf\n",
    "from keras import layers, Model, Input, callbacks,optimizers\n",
    "\n",
    "encoder_units = [512, 256]\n",
    "lstm_units = 500  \n",
    "\n",
    "inputs = Input(shape=(30, 1662))\n",
    "\n",
    "x = inputs\n",
    "for i, n in enumerate(encoder_units):\n",
    "    x = dense_block(n, f\"encoder_{i}\")(x)\n",
    "\n",
    "out = classifier(lstm_units)(x)\n",
    "\n",
    "model = Model(inputs=inputs, outputs=out)\n",
    "model.compile(optimizer=optimizers.Adam(), loss=\"categorical_crossentropy\", metrics=[\"accuracy\"])\n",
    "callbacks_list = get_callbacks()\n",
    "model.summary()"
   ]
  },
  {
   "cell_type": "code",
   "execution_count": 46,
   "metadata": {},
   "outputs": [
    {
     "data": {
      "image/png": "[encoded data removed]",
      "text/plain": [
       "<PIL.Image.Image image mode=RGBA size=809x2196>"
      ]
     },
     "execution_count": 46,
     "metadata": {},
     "output_type": "execute_result"
    }
   ],
   "source": [
    "import visualkeras\n",
    "from PIL import ImageFont\n",
    "# font = ImageFont.truetype(\"SukhumvitSet-Medium.ttf\", 9)\n",
    "visualkeras.layered_view(model, legend=True,spacing=100)"
   ]
  },
  {
   "cell_type": "code",
   "execution_count": 66,
   "metadata": {},
   "outputs": [
    {
     "name": "stdout",
     "output_type": "stream",
     "text": [
      "Epoch 1/100\n",
      "\u001b[1m13/13\u001b[0m \u001b[32m━━━━━━━━━━━━━━━━━━━━\u001b[0m\u001b[37m\u001b[0m \u001b[1m4s\u001b[0m 150ms/step - accuracy: 0.0451 - loss: 3.2618 - val_accuracy: 0.0000e+00 - val_loss: 5.9098\n",
      "Epoch 2/100\n",
      "\u001b[1m13/13\u001b[0m \u001b[32m━━━━━━━━━━━━━━━━━━━━\u001b[0m\u001b[37m\u001b[0m \u001b[1m2s\u001b[0m 130ms/step - accuracy: 0.0780 - loss: 2.9332 - val_accuracy: 0.0000e+00 - val_loss: 6.7246\n",
      "Epoch 3/100\n",
      "\u001b[1m13/13\u001b[0m \u001b[32m━━━━━━━━━━━━━━━━━━━━\u001b[0m\u001b[37m\u001b[0m \u001b[1m2s\u001b[0m 129ms/step - accuracy: 0.2024 - loss: 2.3876 - val_accuracy: 0.0000e+00 - val_loss: 8.0192\n",
      "Epoch 4/100\n",
      "\u001b[1m13/13\u001b[0m \u001b[32m━━━━━━━━━━━━━━━━━━━━\u001b[0m\u001b[37m\u001b[0m \u001b[1m2s\u001b[0m 176ms/step - accuracy: 0.3129 - loss: 1.9220 - val_accuracy: 0.0000e+00 - val_loss: 8.8184\n",
      "Epoch 5/100\n",
      "\u001b[1m13/13\u001b[0m \u001b[32m━━━━━━━━━━━━━━━━━━━━\u001b[0m\u001b[37m\u001b[0m \u001b[1m3s\u001b[0m 245ms/step - accuracy: 0.3123 - loss: 1.6649 - val_accuracy: 0.0000e+00 - val_loss: 8.6611\n",
      "Epoch 6/100\n",
      "\u001b[1m13/13\u001b[0m \u001b[32m━━━━━━━━━━━━━━━━━━━━\u001b[0m\u001b[37m\u001b[0m \u001b[1m3s\u001b[0m 246ms/step - accuracy: 0.4305 - loss: 1.3801 - val_accuracy: 0.0000e+00 - val_loss: 8.8311\n",
      "Epoch 7/100\n",
      "\u001b[1m13/13\u001b[0m \u001b[32m━━━━━━━━━━━━━━━━━━━━\u001b[0m\u001b[37m\u001b[0m \u001b[1m4s\u001b[0m 281ms/step - accuracy: 0.4409 - loss: 1.3744 - val_accuracy: 0.0000e+00 - val_loss: 9.0695\n",
      "Epoch 8/100\n",
      "\u001b[1m13/13\u001b[0m \u001b[32m━━━━━━━━━━━━━━━━━━━━\u001b[0m\u001b[37m\u001b[0m \u001b[1m3s\u001b[0m 245ms/step - accuracy: 0.4005 - loss: 1.5081 - val_accuracy: 0.0000e+00 - val_loss: 8.5178\n",
      "Epoch 9/100\n",
      "\u001b[1m13/13\u001b[0m \u001b[32m━━━━━━━━━━━━━━━━━━━━\u001b[0m\u001b[37m\u001b[0m \u001b[1m3s\u001b[0m 254ms/step - accuracy: 0.4527 - loss: 1.2884 - val_accuracy: 0.0000e+00 - val_loss: 8.4812\n",
      "Epoch 10/100\n",
      "\u001b[1m13/13\u001b[0m \u001b[32m━━━━━━━━━━━━━━━━━━━━\u001b[0m\u001b[37m\u001b[0m \u001b[1m3s\u001b[0m 247ms/step - accuracy: 0.5678 - loss: 1.0827 - val_accuracy: 0.0000e+00 - val_loss: 8.3910\n",
      "Epoch 11/100\n",
      "\u001b[1m13/13\u001b[0m \u001b[32m━━━━━━━━━━━━━━━━━━━━\u001b[0m\u001b[37m\u001b[0m \u001b[1m3s\u001b[0m 245ms/step - accuracy: 0.5694 - loss: 0.9543 - val_accuracy: 0.0000e+00 - val_loss: 8.5563\n",
      "Epoch 12/100\n",
      "\u001b[1m13/13\u001b[0m \u001b[32m━━━━━━━━━━━━━━━━━━━━\u001b[0m\u001b[37m\u001b[0m \u001b[1m3s\u001b[0m 252ms/step - accuracy: 0.6989 - loss: 0.8377 - val_accuracy: 0.0000e+00 - val_loss: 8.7049\n",
      "Epoch 13/100\n",
      "\u001b[1m13/13\u001b[0m \u001b[32m━━━━━━━━━━━━━━━━━━━━\u001b[0m\u001b[37m\u001b[0m \u001b[1m3s\u001b[0m 255ms/step - accuracy: 0.4832 - loss: 1.1172 - val_accuracy: 0.0000e+00 - val_loss: 8.8840\n",
      "Epoch 14/100\n",
      "\u001b[1m13/13\u001b[0m \u001b[32m━━━━━━━━━━━━━━━━━━━━\u001b[0m\u001b[37m\u001b[0m \u001b[1m3s\u001b[0m 245ms/step - accuracy: 0.6038 - loss: 0.8819 - val_accuracy: 0.0000e+00 - val_loss: 8.9767\n",
      "Epoch 15/100\n",
      "\u001b[1m13/13\u001b[0m \u001b[32m━━━━━━━━━━━━━━━━━━━━\u001b[0m\u001b[37m\u001b[0m \u001b[1m3s\u001b[0m 250ms/step - accuracy: 0.6999 - loss: 0.7583 - val_accuracy: 0.0000e+00 - val_loss: 9.0428\n",
      "Epoch 16/100\n",
      "\u001b[1m13/13\u001b[0m \u001b[32m━━━━━━━━━━━━━━━━━━━━\u001b[0m\u001b[37m\u001b[0m \u001b[1m3s\u001b[0m 247ms/step - accuracy: 0.6576 - loss: 0.7415 - val_accuracy: 0.0000e+00 - val_loss: 9.0406\n",
      "Epoch 17/100\n",
      "\u001b[1m13/13\u001b[0m \u001b[32m━━━━━━━━━━━━━━━━━━━━\u001b[0m\u001b[37m\u001b[0m \u001b[1m3s\u001b[0m 253ms/step - accuracy: 0.4334 - loss: 1.3045 - val_accuracy: 0.0000e+00 - val_loss: 8.8014\n",
      "Epoch 18/100\n",
      "\u001b[1m13/13\u001b[0m \u001b[32m━━━━━━━━━━━━━━━━━━━━\u001b[0m\u001b[37m\u001b[0m \u001b[1m3s\u001b[0m 262ms/step - accuracy: 0.6129 - loss: 0.8780 - val_accuracy: 0.0000e+00 - val_loss: 8.8253\n",
      "Epoch 19/100\n",
      "\u001b[1m13/13\u001b[0m \u001b[32m━━━━━━━━━━━━━━━━━━━━\u001b[0m\u001b[37m\u001b[0m \u001b[1m3s\u001b[0m 251ms/step - accuracy: 0.6923 - loss: 0.7208 - val_accuracy: 0.0000e+00 - val_loss: 9.0744\n",
      "Epoch 20/100\n",
      "\u001b[1m13/13\u001b[0m \u001b[32m━━━━━━━━━━━━━━━━━━━━\u001b[0m\u001b[37m\u001b[0m \u001b[1m3s\u001b[0m 250ms/step - accuracy: 0.7794 - loss: 0.5607 - val_accuracy: 0.0000e+00 - val_loss: 8.9016\n",
      "Epoch 21/100\n",
      "\u001b[1m13/13\u001b[0m \u001b[32m━━━━━━━━━━━━━━━━━━━━\u001b[0m\u001b[37m\u001b[0m \u001b[1m3s\u001b[0m 251ms/step - accuracy: 0.7510 - loss: 0.5670 - val_accuracy: 0.0000e+00 - val_loss: 8.9385\n",
      "Epoch 22/100\n",
      "\u001b[1m13/13\u001b[0m \u001b[32m━━━━━━━━━━━━━━━━━━━━\u001b[0m\u001b[37m\u001b[0m \u001b[1m3s\u001b[0m 255ms/step - accuracy: 0.5665 - loss: 1.1151 - val_accuracy: 0.0000e+00 - val_loss: 8.8509\n",
      "Epoch 23/100\n",
      "\u001b[1m13/13\u001b[0m \u001b[32m━━━━━━━━━━━━━━━━━━━━\u001b[0m\u001b[37m\u001b[0m \u001b[1m3s\u001b[0m 245ms/step - accuracy: 0.4117 - loss: 1.5030 - val_accuracy: 0.0000e+00 - val_loss: 9.3943\n",
      "Epoch 24/100\n",
      "\u001b[1m13/13\u001b[0m \u001b[32m━━━━━━━━━━━━━━━━━━━━\u001b[0m\u001b[37m\u001b[0m \u001b[1m3s\u001b[0m 251ms/step - accuracy: 0.6932 - loss: 0.8233 - val_accuracy: 0.0000e+00 - val_loss: 9.1462\n",
      "Epoch 25/100\n",
      "\u001b[1m13/13\u001b[0m \u001b[32m━━━━━━━━━━━━━━━━━━━━\u001b[0m\u001b[37m\u001b[0m \u001b[1m3s\u001b[0m 251ms/step - accuracy: 0.7299 - loss: 0.7018 - val_accuracy: 0.0000e+00 - val_loss: 8.8552\n",
      "Epoch 26/100\n",
      "\u001b[1m13/13\u001b[0m \u001b[32m━━━━━━━━━━━━━━━━━━━━\u001b[0m\u001b[37m\u001b[0m \u001b[1m3s\u001b[0m 253ms/step - accuracy: 0.8258 - loss: 0.5182 - val_accuracy: 0.0000e+00 - val_loss: 8.9959\n",
      "Epoch 27/100\n",
      "\u001b[1m13/13\u001b[0m \u001b[32m━━━━━━━━━━━━━━━━━━━━\u001b[0m\u001b[37m\u001b[0m \u001b[1m4s\u001b[0m 277ms/step - accuracy: 0.8467 - loss: 0.3991 - val_accuracy: 0.0000e+00 - val_loss: 9.1909\n",
      "Epoch 28/100\n",
      "\u001b[1m13/13\u001b[0m \u001b[32m━━━━━━━━━━━━━━━━━━━━\u001b[0m\u001b[37m\u001b[0m \u001b[1m3s\u001b[0m 257ms/step - accuracy: 0.6664 - loss: 0.7497 - val_accuracy: 0.0000e+00 - val_loss: 9.0082\n",
      "Epoch 29/100\n",
      "\u001b[1m13/13\u001b[0m \u001b[32m━━━━━━━━━━━━━━━━━━━━\u001b[0m\u001b[37m\u001b[0m \u001b[1m3s\u001b[0m 267ms/step - accuracy: 0.7144 - loss: 0.7231 - val_accuracy: 0.0000e+00 - val_loss: 8.6537\n",
      "Epoch 30/100\n",
      "\u001b[1m13/13\u001b[0m \u001b[32m━━━━━━━━━━━━━━━━━━━━\u001b[0m\u001b[37m\u001b[0m \u001b[1m3s\u001b[0m 247ms/step - accuracy: 0.7384 - loss: 0.6278 - val_accuracy: 0.0000e+00 - val_loss: 9.0857\n",
      "Epoch 31/100\n",
      "\u001b[1m13/13\u001b[0m \u001b[32m━━━━━━━━━━━━━━━━━━━━\u001b[0m\u001b[37m\u001b[0m \u001b[1m3s\u001b[0m 267ms/step - accuracy: 0.8208 - loss: 0.5063 - val_accuracy: 0.0000e+00 - val_loss: 9.1113\n",
      "Epoch 32/100\n",
      "\u001b[1m13/13\u001b[0m \u001b[32m━━━━━━━━━━━━━━━━━━━━\u001b[0m\u001b[37m\u001b[0m \u001b[1m3s\u001b[0m 248ms/step - accuracy: 0.6335 - loss: 0.9395 - val_accuracy: 0.0000e+00 - val_loss: 9.0656\n",
      "Epoch 33/100\n",
      "\u001b[1m13/13\u001b[0m \u001b[32m━━━━━━━━━━━━━━━━━━━━\u001b[0m\u001b[37m\u001b[0m \u001b[1m3s\u001b[0m 246ms/step - accuracy: 0.6464 - loss: 0.8603 - val_accuracy: 0.0000e+00 - val_loss: 8.8046\n",
      "Epoch 34/100\n",
      "\u001b[1m13/13\u001b[0m \u001b[32m━━━━━━━━━━━━━━━━━━━━\u001b[0m\u001b[37m\u001b[0m \u001b[1m3s\u001b[0m 246ms/step - accuracy: 0.7959 - loss: 0.5848 - val_accuracy: 0.0000e+00 - val_loss: 8.9762\n",
      "Epoch 35/100\n",
      "\u001b[1m13/13\u001b[0m \u001b[32m━━━━━━━━━━━━━━━━━━━━\u001b[0m\u001b[37m\u001b[0m \u001b[1m3s\u001b[0m 245ms/step - accuracy: 0.8480 - loss: 0.4403 - val_accuracy: 0.0000e+00 - val_loss: 9.2759\n",
      "Epoch 36/100\n",
      "\u001b[1m13/13\u001b[0m \u001b[32m━━━━━━━━━━━━━━━━━━━━\u001b[0m\u001b[37m\u001b[0m \u001b[1m3s\u001b[0m 249ms/step - accuracy: 0.8411 - loss: 0.4234 - val_accuracy: 0.0000e+00 - val_loss: 8.8895\n",
      "Epoch 37/100\n",
      "\u001b[1m13/13\u001b[0m \u001b[32m━━━━━━━━━━━━━━━━━━━━\u001b[0m\u001b[37m\u001b[0m \u001b[1m3s\u001b[0m 270ms/step - accuracy: 0.8011 - loss: 0.4573 - val_accuracy: 0.0000e+00 - val_loss: 9.0463\n",
      "Epoch 38/100\n",
      "\u001b[1m13/13\u001b[0m \u001b[32m━━━━━━━━━━━━━━━━━━━━\u001b[0m\u001b[37m\u001b[0m \u001b[1m3s\u001b[0m 254ms/step - accuracy: 0.8059 - loss: 0.5143 - val_accuracy: 0.0000e+00 - val_loss: 10.0188\n",
      "Epoch 39/100\n",
      "\u001b[1m13/13\u001b[0m \u001b[32m━━━━━━━━━━━━━━━━━━━━\u001b[0m\u001b[37m\u001b[0m \u001b[1m3s\u001b[0m 246ms/step - accuracy: 0.8399 - loss: 0.4275 - val_accuracy: 0.0000e+00 - val_loss: 9.4441\n",
      "Epoch 40/100\n",
      "\u001b[1m13/13\u001b[0m \u001b[32m━━━━━━━━━━━━━━━━━━━━\u001b[0m\u001b[37m\u001b[0m \u001b[1m3s\u001b[0m 260ms/step - accuracy: 0.7599 - loss: 0.6158 - val_accuracy: 0.0000e+00 - val_loss: 9.4873\n",
      "Epoch 41/100\n",
      "\u001b[1m13/13\u001b[0m \u001b[32m━━━━━━━━━━━━━━━━━━━━\u001b[0m\u001b[37m\u001b[0m \u001b[1m3s\u001b[0m 242ms/step - accuracy: 0.7921 - loss: 0.4915 - val_accuracy: 0.0000e+00 - val_loss: 9.4070\n",
      "Epoch 42/100\n",
      "\u001b[1m13/13\u001b[0m \u001b[32m━━━━━━━━━━━━━━━━━━━━\u001b[0m\u001b[37m\u001b[0m \u001b[1m3s\u001b[0m 244ms/step - accuracy: 0.8289 - loss: 0.4165 - val_accuracy: 0.0000e+00 - val_loss: 9.7852\n",
      "Epoch 43/100\n",
      "\u001b[1m13/13\u001b[0m \u001b[32m━━━━━━━━━━━━━━━━━━━━\u001b[0m\u001b[37m\u001b[0m \u001b[1m3s\u001b[0m 240ms/step - accuracy: 0.8774 - loss: 0.3423 - val_accuracy: 0.0000e+00 - val_loss: 9.5713\n",
      "Epoch 44/100\n",
      "\u001b[1m13/13\u001b[0m \u001b[32m━━━━━━━━━━━━━━━━━━━━\u001b[0m\u001b[37m\u001b[0m \u001b[1m3s\u001b[0m 244ms/step - accuracy: 0.8530 - loss: 0.3441 - val_accuracy: 0.0000e+00 - val_loss: 10.2048\n",
      "Epoch 45/100\n",
      "\u001b[1m13/13\u001b[0m \u001b[32m━━━━━━━━━━━━━━━━━━━━\u001b[0m\u001b[37m\u001b[0m \u001b[1m3s\u001b[0m 250ms/step - accuracy: 0.8915 - loss: 0.3367 - val_accuracy: 0.0000e+00 - val_loss: 10.3018\n",
      "Epoch 46/100\n",
      "\u001b[1m13/13\u001b[0m \u001b[32m━━━━━━━━━━━━━━━━━━━━\u001b[0m\u001b[37m\u001b[0m \u001b[1m3s\u001b[0m 246ms/step - accuracy: 0.8466 - loss: 0.3901 - val_accuracy: 0.0000e+00 - val_loss: 9.6490\n",
      "Epoch 47/100\n",
      "\u001b[1m13/13\u001b[0m \u001b[32m━━━━━━━━━━━━━━━━━━━━\u001b[0m\u001b[37m\u001b[0m \u001b[1m3s\u001b[0m 241ms/step - accuracy: 0.9049 - loss: 0.2903 - val_accuracy: 0.0000e+00 - val_loss: 9.9080\n",
      "Epoch 48/100\n",
      "\u001b[1m13/13\u001b[0m \u001b[32m━━━━━━━━━━━━━━━━━━━━\u001b[0m\u001b[37m\u001b[0m \u001b[1m3s\u001b[0m 242ms/step - accuracy: 0.8129 - loss: 0.4331 - val_accuracy: 0.0000e+00 - val_loss: 9.7881\n",
      "Epoch 49/100\n",
      "\u001b[1m13/13\u001b[0m \u001b[32m━━━━━━━━━━━━━━━━━━━━\u001b[0m\u001b[37m\u001b[0m \u001b[1m3s\u001b[0m 245ms/step - accuracy: 0.7251 - loss: 0.8447 - val_accuracy: 0.0000e+00 - val_loss: 9.2181\n",
      "Epoch 50/100\n",
      "\u001b[1m13/13\u001b[0m \u001b[32m━━━━━━━━━━━━━━━━━━━━\u001b[0m\u001b[37m\u001b[0m \u001b[1m4s\u001b[0m 271ms/step - accuracy: 0.6921 - loss: 0.6723 - val_accuracy: 0.0000e+00 - val_loss: 9.3540\n",
      "Epoch 51/100\n",
      "\u001b[1m13/13\u001b[0m \u001b[32m━━━━━━━━━━━━━━━━━━━━\u001b[0m\u001b[37m\u001b[0m \u001b[1m3s\u001b[0m 247ms/step - accuracy: 0.8184 - loss: 0.4563 - val_accuracy: 0.0000e+00 - val_loss: 9.1602\n",
      "Epoch 52/100\n",
      "\u001b[1m13/13\u001b[0m \u001b[32m━━━━━━━━━━━━━━━━━━━━\u001b[0m\u001b[37m\u001b[0m \u001b[1m3s\u001b[0m 249ms/step - accuracy: 0.8587 - loss: 0.3642 - val_accuracy: 0.0000e+00 - val_loss: 9.2422\n",
      "Epoch 53/100\n",
      "\u001b[1m13/13\u001b[0m \u001b[32m━━━━━━━━━━━━━━━━━━━━\u001b[0m\u001b[37m\u001b[0m \u001b[1m3s\u001b[0m 247ms/step - accuracy: 0.9049 - loss: 0.3196 - val_accuracy: 0.0000e+00 - val_loss: 9.6215\n",
      "Epoch 54/100\n",
      "\u001b[1m13/13\u001b[0m \u001b[32m━━━━━━━━━━━━━━━━━━━━\u001b[0m\u001b[37m\u001b[0m \u001b[1m3s\u001b[0m 246ms/step - accuracy: 0.8968 - loss: 0.3271 - val_accuracy: 0.0000e+00 - val_loss: 9.3654\n",
      "Epoch 55/100\n",
      "\u001b[1m13/13\u001b[0m \u001b[32m━━━━━━━━━━━━━━━━━━━━\u001b[0m\u001b[37m\u001b[0m \u001b[1m3s\u001b[0m 248ms/step - accuracy: 0.9161 - loss: 0.2590 - val_accuracy: 0.0000e+00 - val_loss: 9.4960\n",
      "Epoch 56/100\n",
      "\u001b[1m13/13\u001b[0m \u001b[32m━━━━━━━━━━━━━━━━━━━━\u001b[0m\u001b[37m\u001b[0m \u001b[1m3s\u001b[0m 242ms/step - accuracy: 0.8395 - loss: 0.4152 - val_accuracy: 0.0000e+00 - val_loss: 9.4509\n",
      "Epoch 57/100\n",
      "\u001b[1m13/13\u001b[0m \u001b[32m━━━━━━━━━━━━━━━━━━━━\u001b[0m\u001b[37m\u001b[0m \u001b[1m3s\u001b[0m 245ms/step - accuracy: 0.8917 - loss: 0.3172 - val_accuracy: 0.0000e+00 - val_loss: 9.8384\n",
      "Epoch 58/100\n",
      "\u001b[1m13/13\u001b[0m \u001b[32m━━━━━━━━━━━━━━━━━━━━\u001b[0m\u001b[37m\u001b[0m \u001b[1m3s\u001b[0m 241ms/step - accuracy: 0.6829 - loss: 0.8834 - val_accuracy: 0.0000e+00 - val_loss: 9.5027\n",
      "Epoch 59/100\n",
      "\u001b[1m13/13\u001b[0m \u001b[32m━━━━━━━━━━━━━━━━━━━━\u001b[0m\u001b[37m\u001b[0m \u001b[1m3s\u001b[0m 259ms/step - accuracy: 0.8280 - loss: 0.5463 - val_accuracy: 0.0000e+00 - val_loss: 9.1443\n",
      "Epoch 60/100\n",
      "\u001b[1m13/13\u001b[0m \u001b[32m━━━━━━━━━━━━━━━━━━━━\u001b[0m\u001b[37m\u001b[0m \u001b[1m3s\u001b[0m 240ms/step - accuracy: 0.9324 - loss: 0.3028 - val_accuracy: 0.0000e+00 - val_loss: 9.3597\n",
      "Epoch 61/100\n",
      "\u001b[1m13/13\u001b[0m \u001b[32m━━━━━━━━━━━━━━━━━━━━\u001b[0m\u001b[37m\u001b[0m \u001b[1m3s\u001b[0m 243ms/step - accuracy: 0.9354 - loss: 0.2355 - val_accuracy: 0.0000e+00 - val_loss: 9.7065\n",
      "Epoch 62/100\n",
      "\u001b[1m13/13\u001b[0m \u001b[32m━━━━━━━━━━━━━━━━━━━━\u001b[0m\u001b[37m\u001b[0m \u001b[1m3s\u001b[0m 241ms/step - accuracy: 0.9492 - loss: 0.2035 - val_accuracy: 0.0000e+00 - val_loss: 9.6429\n",
      "Epoch 63/100\n",
      "\u001b[1m13/13\u001b[0m \u001b[32m━━━━━━━━━━━━━━━━━━━━\u001b[0m\u001b[37m\u001b[0m \u001b[1m3s\u001b[0m 242ms/step - accuracy: 0.9202 - loss: 0.2343 - val_accuracy: 0.0000e+00 - val_loss: 9.7316\n",
      "Epoch 64/100\n",
      "\u001b[1m13/13\u001b[0m \u001b[32m━━━━━━━━━━━━━━━━━━━━\u001b[0m\u001b[37m\u001b[0m \u001b[1m3s\u001b[0m 245ms/step - accuracy: 0.9359 - loss: 0.2446 - val_accuracy: 0.0000e+00 - val_loss: 9.6130\n",
      "Epoch 65/100\n",
      "\u001b[1m13/13\u001b[0m \u001b[32m━━━━━━━━━━━━━━━━━━━━\u001b[0m\u001b[37m\u001b[0m \u001b[1m3s\u001b[0m 244ms/step - accuracy: 0.9304 - loss: 0.2073 - val_accuracy: 0.0000e+00 - val_loss: 9.3431\n",
      "Epoch 66/100\n",
      "\u001b[1m13/13\u001b[0m \u001b[32m━━━━━━━━━━━━━━━━━━━━\u001b[0m\u001b[37m\u001b[0m \u001b[1m3s\u001b[0m 258ms/step - accuracy: 0.9267 - loss: 0.2049 - val_accuracy: 0.0000e+00 - val_loss: 10.4227\n",
      "Epoch 67/100\n",
      "\u001b[1m13/13\u001b[0m \u001b[32m━━━━━━━━━━━━━━━━━━━━\u001b[0m\u001b[37m\u001b[0m \u001b[1m3s\u001b[0m 247ms/step - accuracy: 0.7270 - loss: 0.7248 - val_accuracy: 0.0000e+00 - val_loss: 9.6903\n",
      "Epoch 68/100\n",
      "\u001b[1m13/13\u001b[0m \u001b[32m━━━━━━━━━━━━━━━━━━━━\u001b[0m\u001b[37m\u001b[0m \u001b[1m4s\u001b[0m 279ms/step - accuracy: 0.8155 - loss: 0.5152 - val_accuracy: 0.0000e+00 - val_loss: 9.3952\n",
      "Epoch 69/100\n",
      "\u001b[1m13/13\u001b[0m \u001b[32m━━━━━━━━━━━━━━━━━━━━\u001b[0m\u001b[37m\u001b[0m \u001b[1m3s\u001b[0m 248ms/step - accuracy: 0.8578 - loss: 0.3733 - val_accuracy: 0.0000e+00 - val_loss: 9.6921\n",
      "Epoch 70/100\n",
      "\u001b[1m13/13\u001b[0m \u001b[32m━━━━━━━━━━━━━━━━━━━━\u001b[0m\u001b[37m\u001b[0m \u001b[1m3s\u001b[0m 251ms/step - accuracy: 0.9366 - loss: 0.2280 - val_accuracy: 0.0000e+00 - val_loss: 9.4786\n",
      "Epoch 71/100\n",
      "\u001b[1m13/13\u001b[0m \u001b[32m━━━━━━━━━━━━━━━━━━━━\u001b[0m\u001b[37m\u001b[0m \u001b[1m3s\u001b[0m 260ms/step - accuracy: 0.9558 - loss: 0.1785 - val_accuracy: 0.0000e+00 - val_loss: 9.8452\n",
      "Epoch 72/100\n",
      "\u001b[1m13/13\u001b[0m \u001b[32m━━━━━━━━━━━━━━━━━━━━\u001b[0m\u001b[37m\u001b[0m \u001b[1m3s\u001b[0m 245ms/step - accuracy: 0.9720 - loss: 0.1363 - val_accuracy: 0.0000e+00 - val_loss: 10.0865\n",
      "Epoch 73/100\n",
      "\u001b[1m13/13\u001b[0m \u001b[32m━━━━━━━━━━━━━━━━━━━━\u001b[0m\u001b[37m\u001b[0m \u001b[1m3s\u001b[0m 242ms/step - accuracy: 0.9630 - loss: 0.1228 - val_accuracy: 0.0000e+00 - val_loss: 10.0377\n",
      "Epoch 74/100\n",
      "\u001b[1m13/13\u001b[0m \u001b[32m━━━━━━━━━━━━━━━━━━━━\u001b[0m\u001b[37m\u001b[0m \u001b[1m3s\u001b[0m 246ms/step - accuracy: 0.9577 - loss: 0.1259 - val_accuracy: 0.0000e+00 - val_loss: 10.2670\n",
      "Epoch 75/100\n",
      "\u001b[1m13/13\u001b[0m \u001b[32m━━━━━━━━━━━━━━━━━━━━\u001b[0m\u001b[37m\u001b[0m \u001b[1m3s\u001b[0m 242ms/step - accuracy: 0.8868 - loss: 0.3160 - val_accuracy: 0.0000e+00 - val_loss: 10.2076\n",
      "Epoch 76/100\n",
      "\u001b[1m13/13\u001b[0m \u001b[32m━━━━━━━━━━━━━━━━━━━━\u001b[0m\u001b[37m\u001b[0m \u001b[1m3s\u001b[0m 244ms/step - accuracy: 0.9495 - loss: 0.1862 - val_accuracy: 0.0000e+00 - val_loss: 9.9652\n",
      "Epoch 77/100\n",
      "\u001b[1m13/13\u001b[0m \u001b[32m━━━━━━━━━━━━━━━━━━━━\u001b[0m\u001b[37m\u001b[0m \u001b[1m3s\u001b[0m 248ms/step - accuracy: 0.9535 - loss: 0.1533 - val_accuracy: 0.0000e+00 - val_loss: 10.1530\n",
      "Epoch 78/100\n",
      "\u001b[1m13/13\u001b[0m \u001b[32m━━━━━━━━━━━━━━━━━━━━\u001b[0m\u001b[37m\u001b[0m \u001b[1m3s\u001b[0m 255ms/step - accuracy: 0.9096 - loss: 0.2566 - val_accuracy: 0.0000e+00 - val_loss: 10.4402\n",
      "Epoch 79/100\n",
      "\u001b[1m13/13\u001b[0m \u001b[32m━━━━━━━━━━━━━━━━━━━━\u001b[0m\u001b[37m\u001b[0m \u001b[1m3s\u001b[0m 247ms/step - accuracy: 0.9000 - loss: 0.2986 - val_accuracy: 0.0000e+00 - val_loss: 10.1657\n",
      "Epoch 80/100\n",
      "\u001b[1m13/13\u001b[0m \u001b[32m━━━━━━━━━━━━━━━━━━━━\u001b[0m\u001b[37m\u001b[0m \u001b[1m3s\u001b[0m 244ms/step - accuracy: 0.9836 - loss: 0.1217 - val_accuracy: 0.0000e+00 - val_loss: 10.4219\n",
      "Epoch 81/100\n",
      "\u001b[1m13/13\u001b[0m \u001b[32m━━━━━━━━━━━━━━━━━━━━\u001b[0m\u001b[37m\u001b[0m \u001b[1m3s\u001b[0m 242ms/step - accuracy: 0.9671 - loss: 0.1272 - val_accuracy: 0.0000e+00 - val_loss: 10.5727\n",
      "Epoch 82/100\n",
      "\u001b[1m13/13\u001b[0m \u001b[32m━━━━━━━━━━━━━━━━━━━━\u001b[0m\u001b[37m\u001b[0m \u001b[1m3s\u001b[0m 245ms/step - accuracy: 0.9710 - loss: 0.0973 - val_accuracy: 0.0000e+00 - val_loss: 10.5623\n",
      "Epoch 83/100\n",
      "\u001b[1m13/13\u001b[0m \u001b[32m━━━━━━━━━━━━━━━━━━━━\u001b[0m\u001b[37m\u001b[0m \u001b[1m3s\u001b[0m 240ms/step - accuracy: 0.9598 - loss: 0.1314 - val_accuracy: 0.0000e+00 - val_loss: 10.4875\n",
      "Epoch 84/100\n",
      "\u001b[1m13/13\u001b[0m \u001b[32m━━━━━━━━━━━━━━━━━━━━\u001b[0m\u001b[37m\u001b[0m \u001b[1m3s\u001b[0m 245ms/step - accuracy: 0.9597 - loss: 0.1244 - val_accuracy: 0.0000e+00 - val_loss: 10.7076\n",
      "Epoch 85/100\n",
      "\u001b[1m13/13\u001b[0m \u001b[32m━━━━━━━━━━━━━━━━━━━━\u001b[0m\u001b[37m\u001b[0m \u001b[1m3s\u001b[0m 254ms/step - accuracy: 0.8986 - loss: 0.2476 - val_accuracy: 0.0000e+00 - val_loss: 11.2822\n",
      "Epoch 86/100\n",
      "\u001b[1m13/13\u001b[0m \u001b[32m━━━━━━━━━━━━━━━━━━━━\u001b[0m\u001b[37m\u001b[0m \u001b[1m3s\u001b[0m 243ms/step - accuracy: 0.8690 - loss: 0.2960 - val_accuracy: 0.0000e+00 - val_loss: 10.0897\n",
      "Epoch 87/100\n",
      "\u001b[1m13/13\u001b[0m \u001b[32m━━━━━━━━━━━━━━━━━━━━\u001b[0m\u001b[37m\u001b[0m \u001b[1m3s\u001b[0m 260ms/step - accuracy: 0.9465 - loss: 0.1538 - val_accuracy: 0.0000e+00 - val_loss: 10.1877\n",
      "Epoch 88/100\n",
      "\u001b[1m13/13\u001b[0m \u001b[32m━━━━━━━━━━━━━━━━━━━━\u001b[0m\u001b[37m\u001b[0m \u001b[1m3s\u001b[0m 251ms/step - accuracy: 0.9611 - loss: 0.1309 - val_accuracy: 0.0000e+00 - val_loss: 10.3664\n",
      "Epoch 89/100\n",
      "\u001b[1m13/13\u001b[0m \u001b[32m━━━━━━━━━━━━━━━━━━━━\u001b[0m\u001b[37m\u001b[0m \u001b[1m3s\u001b[0m 239ms/step - accuracy: 0.9487 - loss: 0.1343 - val_accuracy: 0.0000e+00 - val_loss: 10.4048\n",
      "Epoch 90/100\n",
      "\u001b[1m13/13\u001b[0m \u001b[32m━━━━━━━━━━━━━━━━━━━━\u001b[0m\u001b[37m\u001b[0m \u001b[1m3s\u001b[0m 242ms/step - accuracy: 0.9694 - loss: 0.0911 - val_accuracy: 0.0000e+00 - val_loss: 10.5803\n",
      "Epoch 91/100\n",
      "\u001b[1m13/13\u001b[0m \u001b[32m━━━━━━━━━━━━━━━━━━━━\u001b[0m\u001b[37m\u001b[0m \u001b[1m3s\u001b[0m 260ms/step - accuracy: 0.9803 - loss: 0.0646 - val_accuracy: 0.0000e+00 - val_loss: 10.6741\n",
      "Epoch 92/100\n",
      "\u001b[1m13/13\u001b[0m \u001b[32m━━━━━━━━━━━━━━━━━━━━\u001b[0m\u001b[37m\u001b[0m \u001b[1m3s\u001b[0m 243ms/step - accuracy: 0.9581 - loss: 0.1194 - val_accuracy: 0.0000e+00 - val_loss: 10.6045\n",
      "Epoch 93/100\n",
      "\u001b[1m13/13\u001b[0m \u001b[32m━━━━━━━━━━━━━━━━━━━━\u001b[0m\u001b[37m\u001b[0m \u001b[1m3s\u001b[0m 240ms/step - accuracy: 0.9766 - loss: 0.0836 - val_accuracy: 0.0000e+00 - val_loss: 10.7723\n",
      "Epoch 94/100\n",
      "\u001b[1m13/13\u001b[0m \u001b[32m━━━━━━━━━━━━━━━━━━━━\u001b[0m\u001b[37m\u001b[0m \u001b[1m4s\u001b[0m 276ms/step - accuracy: 0.9725 - loss: 0.0785 - val_accuracy: 0.0000e+00 - val_loss: 10.8149\n",
      "Epoch 95/100\n",
      "\u001b[1m13/13\u001b[0m \u001b[32m━━━━━━━━━━━━━━━━━━━━\u001b[0m\u001b[37m\u001b[0m \u001b[1m3s\u001b[0m 244ms/step - accuracy: 0.9732 - loss: 0.0859 - val_accuracy: 0.0000e+00 - val_loss: 11.0124\n",
      "Epoch 96/100\n",
      "\u001b[1m13/13\u001b[0m \u001b[32m━━━━━━━━━━━━━━━━━━━━\u001b[0m\u001b[37m\u001b[0m \u001b[1m3s\u001b[0m 243ms/step - accuracy: 0.9364 - loss: 0.1724 - val_accuracy: 0.0000e+00 - val_loss: 11.2999\n",
      "Epoch 97/100\n",
      "\u001b[1m13/13\u001b[0m \u001b[32m━━━━━━━━━━━━━━━━━━━━\u001b[0m\u001b[37m\u001b[0m \u001b[1m3s\u001b[0m 260ms/step - accuracy: 0.9322 - loss: 0.1805 - val_accuracy: 0.0000e+00 - val_loss: 10.8246\n",
      "Epoch 98/100\n",
      "\u001b[1m13/13\u001b[0m \u001b[32m━━━━━━━━━━━━━━━━━━━━\u001b[0m\u001b[37m\u001b[0m \u001b[1m3s\u001b[0m 244ms/step - accuracy: 0.9730 - loss: 0.0887 - val_accuracy: 0.0000e+00 - val_loss: 11.0309\n",
      "Epoch 99/100\n",
      "\u001b[1m13/13\u001b[0m \u001b[32m━━━━━━━━━━━━━━━━━━━━\u001b[0m\u001b[37m\u001b[0m \u001b[1m3s\u001b[0m 256ms/step - accuracy: 0.9639 - loss: 0.1293 - val_accuracy: 0.0000e+00 - val_loss: 10.9741\n",
      "Epoch 100/100\n",
      "\u001b[1m13/13\u001b[0m \u001b[32m━━━━━━━━━━━━━━━━━━━━\u001b[0m\u001b[37m\u001b[0m \u001b[1m3s\u001b[0m 243ms/step - accuracy: 0.9744 - loss: 0.0711 - val_accuracy: 0.0000e+00 - val_loss: 10.9188\n"
     ]
    }
   ],
   "source": [
    "history = model.fit(\n",
    "                    X_train,\n",
    "                    y_train,\n",
    "                    epochs=100,\n",
    "                    batch_size=32,\n",
    "                    validation_split=0.2,\n",
    "                    # callbacks=callbacks_list,\n",
    "                    verbose=1\n",
    "                    )"
   ]
  },
  {
   "cell_type": "code",
   "execution_count": 68,
   "metadata": {},
   "outputs": [
    {
     "data": {
      "image/png": "[encoded data removed]",
      "text/plain": [
       "<Figure size 1200x600 with 2 Axes>"
      ]
     },
     "metadata": {},
     "output_type": "display_data"
    }
   ],
   "source": [
    "import matplotlib.pyplot as plt\n",
    "\n",
    "# Plot training & validation accuracy\n",
    "plt.figure(figsize=(12, 6))\n",
    "\n",
    "# Accuracy plot\n",
    "plt.subplot(1, 2, 1)\n",
    "plt.plot(history.history['accuracy'], label='Training Accuracy')\n",
    "# plt.plot(history.history['val_accuracy'], label='Validation Accuracy')\n",
    "plt.title('Model Accuracy')\n",
    "plt.xlabel('Epochs')\n",
    "plt.ylabel('Accuracy')\n",
    "plt.legend(loc='upper left')\n",
    "\n",
    "# Loss plot\n",
    "plt.subplot(1, 2, 2)\n",
    "plt.plot(history.history['loss'], label='Training Loss')\n",
    "# plt.plot(history.history['val_loss'], label='Validation Loss')\n",
    "plt.title('Model Loss')\n",
    "plt.xlabel('Epochs')\n",
    "plt.ylabel('Loss')\n",
    "plt.legend(loc='upper left')\n",
    "\n",
    "# Show the plots\n",
    "plt.tight_layout()\n",
    "plt.show()\n"
   ]
  },
  {
   "cell_type": "code",
   "execution_count": 70,
   "metadata": {},
   "outputs": [],
   "source": [
    "# model.save('model_25_2_fix.h5')\n",
    "model.save_weights('weights_25_2_fix.weights.h5')"
   ]
  },
  {
   "cell_type": "code",
   "execution_count": 71,
   "metadata": {},
   "outputs": [
    {
     "name": "stdout",
     "output_type": "stream",
     "text": [
      "\u001b[1m8/8\u001b[0m \u001b[32m━━━━━━━━━━━━━━━━━━━━\u001b[0m\u001b[37m\u001b[0m \u001b[1m1s\u001b[0m 99ms/step\n"
     ]
    }
   ],
   "source": [
    "labels_predict = model.predict(X_test)"
   ]
  },
  {
   "cell_type": "code",
   "execution_count": 72,
   "metadata": {},
   "outputs": [],
   "source": [
    "# Decoding\n",
    "labels_predict = np.argmax(labels_predict , axis=1)\n",
    "labels_test_normal = np.argmax(y_test , axis=1)"
   ]
  },
  {
   "cell_type": "code",
   "execution_count": 73,
   "metadata": {},
   "outputs": [
    {
     "data": {
      "text/plain": [
       "((250,), (250,))"
      ]
     },
     "execution_count": 73,
     "metadata": {},
     "output_type": "execute_result"
    }
   ],
   "source": [
    "labels_test_normal.shape , labels_predict.shape"
   ]
  },
  {
   "cell_type": "code",
   "execution_count": 74,
   "metadata": {},
   "outputs": [
    {
     "data": {
      "text/plain": [
       "array([ 0, 16,  0,  0, 16, 16,  0,  0,  0, 16,  1,  1, 14,  1,  1,  1,  1,\n",
       "        8,  1,  1,  2,  2,  2,  2,  2,  2,  2,  2,  2,  2,  3,  3,  3,  5,\n",
       "        3,  3,  3,  3,  3, 19,  4,  4,  4,  4,  4,  4,  4,  4,  4,  4,  5,\n",
       "        5,  5,  5,  5,  5,  5,  5,  5, 19,  6,  6,  7,  6,  6,  6,  6,  6,\n",
       "        6,  6,  7,  7,  7,  7,  7,  7,  7,  7,  7,  7,  1,  8,  1,  8,  8,\n",
       "        8,  8,  8,  8,  8,  9,  7,  9,  9,  9,  9,  9,  9,  9,  9, 10, 10,\n",
       "       10, 10, 10, 10, 10, 10, 10, 10, 11, 11, 11, 11, 11, 11, 11, 11, 11,\n",
       "       11, 12, 12, 12, 12, 12, 12, 12, 12, 12, 12, 13, 13, 13, 13,  7, 13,\n",
       "       13, 13, 13, 13, 14, 14, 14, 14, 14, 14, 14, 14, 14, 14, 15, 15, 15,\n",
       "       15, 15, 15, 15, 15, 15, 14, 16, 16, 16, 16, 16, 16, 16, 16, 16, 16,\n",
       "       17, 17, 17, 17, 17, 17, 17, 17, 17, 17, 18, 18, 18, 18, 18, 18, 18,\n",
       "       18, 18, 18, 19, 19, 19, 19, 19, 19, 19, 19, 19, 19, 19, 19, 19, 19,\n",
       "       19, 19, 19, 19, 19, 19, 13, 13, 13, 13, 13, 13, 13, 13, 13, 13, 18,\n",
       "       18,  0, 18, 18, 18, 18, 18,  1,  1, 13, 13,  9,  9, 13, 13, 13, 13,\n",
       "       13, 13,  1, 16,  1,  8,  1,  1,  0,  1,  8,  8])"
      ]
     },
     "execution_count": 74,
     "metadata": {},
     "output_type": "execute_result"
    }
   ],
   "source": [
    "labels_predict"
   ]
  },
  {
   "cell_type": "code",
   "execution_count": 75,
   "metadata": {},
   "outputs": [
    {
     "name": "stdout",
     "output_type": "stream",
     "text": [
      "Accuracy Score is :  0.74\n"
     ]
    }
   ],
   "source": [
    "#Accuracy Score\n",
    "from sklearn.metrics import accuracy_score\n",
    "AccScore = accuracy_score(labels_predict, labels_test_normal)\n",
    "print('Accuracy Score is : ', AccScore)"
   ]
  },
  {
   "cell_type": "code",
   "execution_count": 77,
   "metadata": {},
   "outputs": [
    {
     "data": {
      "image/png": "[encoded data removed]",
      "text/plain": [
       "<Figure size 2000x1900 with 2 Axes>"
      ]
     },
     "metadata": {},
     "output_type": "display_data"
    }
   ],
   "source": [
    "import seaborn as sns\n",
    "from sklearn.metrics import confusion_matrix\n",
    "import matplotlib.pyplot as plt\n",
    "import matplotlib\n",
    "from matplotlib import rc\n",
    "\n",
    "# ตั้งค่า Thai Font (ตัวอย่างใช้ฟอนต์ TH Sarabun New)\n",
    "thai_font_path = \"/Users/theerat/Documents/sign-language-translator/Datasets/SukhumvitSet-Medium.ttf\"  # หรือพาธที่ตรงกับระบบของคุณ\n",
    "font_prop = matplotlib.font_manager.FontProperties(fname=thai_font_path)\n",
    "matplotlib.rcParams['font.family'] = font_prop.get_name()\n",
    "\n",
    "class_labels = words\n",
    "\n",
    "\n",
    "cm = confusion_matrix(labels_test_normal, labels_predict)\n",
    "\n",
    "fig, ax = plt.subplots(figsize=(20, 19))\n",
    "sns.heatmap(cm, annot=True, fmt='g', ax=ax, cmap=\"Blues\")\n",
    "\n",
    "ax.set_xlabel('Predicted labels', fontsize=14)\n",
    "ax.set_ylabel('True labels', fontsize=14)\n",
    "ax.set_title('TSL Confusion Matrix', fontsize=16)\n",
    "\n",
    "ax.set_xticklabels(class_labels, rotation=0, fontsize=12)\n",
    "ax.set_yticklabels(class_labels, rotation=0, fontsize=12)\n",
    "\n",
    "plt.show()\n"
   ]
  },
  {
   "cell_type": "code",
   "execution_count": 78,
   "metadata": {},
   "outputs": [
    {
     "name": "stdout",
     "output_type": "stream",
     "text": [
      "[[ 6  0  0  0  0  0  0  0  0  0  0  0  0  0  0  0  4  0  0  0  0  0  0  0\n",
      "   0]\n",
      " [ 0  8  0  0  0  0  0  0  1  0  0  0  0  0  1  0  0  0  0  0  0  0  0  0\n",
      "   0]\n",
      " [ 0  0 10  0  0  0  0  0  0  0  0  0  0  0  0  0  0  0  0  0  0  0  0  0\n",
      "   0]\n",
      " [ 0  0  0  8  0  1  0  0  0  0  0  0  0  0  0  0  0  0  0  1  0  0  0  0\n",
      "   0]\n",
      " [ 0  0  0  0 10  0  0  0  0  0  0  0  0  0  0  0  0  0  0  0  0  0  0  0\n",
      "   0]\n",
      " [ 0  0  0  0  0  9  0  0  0  0  0  0  0  0  0  0  0  0  0  1  0  0  0  0\n",
      "   0]\n",
      " [ 0  0  0  0  0  0  9  1  0  0  0  0  0  0  0  0  0  0  0  0  0  0  0  0\n",
      "   0]\n",
      " [ 0  0  0  0  0  0  0 10  0  0  0  0  0  0  0  0  0  0  0  0  0  0  0  0\n",
      "   0]\n",
      " [ 0  2  0  0  0  0  0  0  8  0  0  0  0  0  0  0  0  0  0  0  0  0  0  0\n",
      "   0]\n",
      " [ 0  0  0  0  0  0  0  1  0  9  0  0  0  0  0  0  0  0  0  0  0  0  0  0\n",
      "   0]\n",
      " [ 0  0  0  0  0  0  0  0  0  0 10  0  0  0  0  0  0  0  0  0  0  0  0  0\n",
      "   0]\n",
      " [ 0  0  0  0  0  0  0  0  0  0  0 10  0  0  0  0  0  0  0  0  0  0  0  0\n",
      "   0]\n",
      " [ 0  0  0  0  0  0  0  0  0  0  0  0 10  0  0  0  0  0  0  0  0  0  0  0\n",
      "   0]\n",
      " [ 0  0  0  0  0  0  0  1  0  0  0  0  0  9  0  0  0  0  0  0  0  0  0  0\n",
      "   0]\n",
      " [ 0  0  0  0  0  0  0  0  0  0  0  0  0  0 10  0  0  0  0  0  0  0  0  0\n",
      "   0]\n",
      " [ 0  0  0  0  0  0  0  0  0  0  0  0  0  0  1  9  0  0  0  0  0  0  0  0\n",
      "   0]\n",
      " [ 0  0  0  0  0  0  0  0  0  0  0  0  0  0  0  0 10  0  0  0  0  0  0  0\n",
      "   0]\n",
      " [ 0  0  0  0  0  0  0  0  0  0  0  0  0  0  0  0  0 10  0  0  0  0  0  0\n",
      "   0]\n",
      " [ 0  0  0  0  0  0  0  0  0  0  0  0  0  0  0  0  0  0 10  0  0  0  0  0\n",
      "   0]\n",
      " [ 0  0  0  0  0  0  0  0  0  0  0  0  0  0  0  0  0  0  0 10  0  0  0  0\n",
      "   0]\n",
      " [ 0  0  0  0  0  0  0  0  0  0  0  0  0  0  0  0  0  0  0 10  0  0  0  0\n",
      "   0]\n",
      " [ 0  0  0  0  0  0  0  0  0  0  0  0  0 10  0  0  0  0  0  0  0  0  0  0\n",
      "   0]\n",
      " [ 1  2  0  0  0  0  0  0  0  0  0  0  0  0  0  0  0  0  7  0  0  0  0  0\n",
      "   0]\n",
      " [ 0  0  0  0  0  0  0  0  0  2  0  0  0  8  0  0  0  0  0  0  0  0  0  0\n",
      "   0]\n",
      " [ 1  5  0  0  0  0  0  0  3  0  0  0  0  0  0  0  1  0  0  0  0  0  0  0\n",
      "   0]]\n"
     ]
    }
   ],
   "source": [
    "print(cm)"
   ]
  },
  {
   "cell_type": "code",
   "execution_count": 79,
   "metadata": {},
   "outputs": [
    {
     "name": "stdout",
     "output_type": "stream",
     "text": [
      "Classification Report is : \n",
      "               precision    recall  f1-score   support\n",
      "\n",
      "           0       0.75      0.60      0.67        10\n",
      "           1       0.47      0.80      0.59        10\n",
      "           2       1.00      1.00      1.00        10\n",
      "           3       1.00      0.80      0.89        10\n",
      "           4       1.00      1.00      1.00        10\n",
      "           5       0.90      0.90      0.90        10\n",
      "           6       1.00      0.90      0.95        10\n",
      "           7       0.77      1.00      0.87        10\n",
      "           8       0.67      0.80      0.73        10\n",
      "           9       0.82      0.90      0.86        10\n",
      "          10       1.00      1.00      1.00        10\n",
      "          11       1.00      1.00      1.00        10\n",
      "          12       1.00      1.00      1.00        10\n",
      "          13       0.33      0.90      0.49        10\n",
      "          14       0.83      1.00      0.91        10\n",
      "          15       1.00      0.90      0.95        10\n",
      "          16       0.67      1.00      0.80        10\n",
      "          17       1.00      1.00      1.00        10\n",
      "          18       0.59      1.00      0.74        10\n",
      "          19       0.45      1.00      0.62        10\n",
      "          20       0.00      0.00      0.00        10\n",
      "          21       0.00      0.00      0.00        10\n",
      "          22       0.00      0.00      0.00        10\n",
      "          23       0.00      0.00      0.00        10\n",
      "          24       0.00      0.00      0.00        10\n",
      "\n",
      "    accuracy                           0.74       250\n",
      "   macro avg       0.65      0.74      0.68       250\n",
      "weighted avg       0.65      0.74      0.68       250\n",
      "\n"
     ]
    },
    {
     "name": "stderr",
     "output_type": "stream",
     "text": [
      "/Users/theerat/Documents/sign-language-translator/.venv/lib/python3.9/site-packages/sklearn/metrics/_classification.py:1565: UndefinedMetricWarning: Precision is ill-defined and being set to 0.0 in labels with no predicted samples. Use `zero_division` parameter to control this behavior.\n",
      "  _warn_prf(average, modifier, f\"{metric.capitalize()} is\", len(result))\n",
      "/Users/theerat/Documents/sign-language-translator/.venv/lib/python3.9/site-packages/sklearn/metrics/_classification.py:1565: UndefinedMetricWarning: Precision is ill-defined and being set to 0.0 in labels with no predicted samples. Use `zero_division` parameter to control this behavior.\n",
      "  _warn_prf(average, modifier, f\"{metric.capitalize()} is\", len(result))\n",
      "/Users/theerat/Documents/sign-language-translator/.venv/lib/python3.9/site-packages/sklearn/metrics/_classification.py:1565: UndefinedMetricWarning: Precision is ill-defined and being set to 0.0 in labels with no predicted samples. Use `zero_division` parameter to control this behavior.\n",
      "  _warn_prf(average, modifier, f\"{metric.capitalize()} is\", len(result))\n"
     ]
    }
   ],
   "source": [
    "from sklearn.metrics import classification_report\n",
    "\n",
    "ClassificationReport = classification_report(labels_test_normal,labels_predict)\n",
    "print('Classification Report is : \\n', ClassificationReport)"
   ]
  },
  {
   "cell_type": "code",
   "execution_count": 51,
   "metadata": {},
   "outputs": [
    {
     "data": {
      "text/plain": [
       "{'หนังสือ': 0,\n",
       " 'อยู่': 1,\n",
       " 'พูด': 2,\n",
       " 'ไก่ผัดกะเพรา': 3,\n",
       " 'ชอบ': 4,\n",
       " 'หัวเราะ': 5,\n",
       " 'ควาย': 6,\n",
       " 'ฟัง': 7,\n",
       " 'ดื่ม': 8,\n",
       " 'คุณ': 9,\n",
       " 'นอน': 10,\n",
       " 'เขา': 11,\n",
       " 'กิน': 12,\n",
       " 'โรงเรียน': 13,\n",
       " 'ฉัน': 14,\n",
       " 'นักเรียน': 15,\n",
       " 'วิ่ง': 16,\n",
       " 'เดิน': 17}"
      ]
     },
     "execution_count": 51,
     "metadata": {},
     "output_type": "execute_result"
    }
   ],
   "source": [
    "label_map"
   ]
  },
  {
   "cell_type": "code",
   "execution_count": null,
   "metadata": {},
   "outputs": [],
   "source": [
    "#คำที่มีปัญหา\n",
    "error_words = ['หัวเราะ','นอน','โรงเรียน','ฉัน']"
   ]
  },
  {
   "cell_type": "code",
   "execution_count": 70,
   "metadata": {},
   "outputs": [
    {
     "data": {
      "text/plain": [
       "19"
      ]
     },
     "execution_count": 70,
     "metadata": {},
     "output_type": "execute_result"
    }
   ],
   "source": [
    "len(cm)"
   ]
  },
  {
   "cell_type": "markdown",
   "metadata": {},
   "source": [
    "# __Test__"
   ]
  },
  {
   "cell_type": "code",
   "execution_count": 235,
   "metadata": {},
   "outputs": [],
   "source": [
    "from scipy import stats\n",
    "import cv2"
   ]
  },
  {
   "cell_type": "markdown",
   "metadata": {},
   "source": [
    "# __Transformer__"
   ]
  },
  {
   "cell_type": "code",
   "execution_count": 3,
   "metadata": {},
   "outputs": [],
   "source": [
    "# MatplotLib Global Settings\n",
    "mpl.rcParams.update(mpl.rcParamsDefault)\n",
    "mpl.rcParams['xtick.labelsize'] = 16\n",
    "mpl.rcParams['ytick.labelsize'] = 16\n",
    "mpl.rcParams['axes.labelsize'] = 18\n",
    "mpl.rcParams['axes.titlesize'] = 24"
   ]
  },
  {
   "cell_type": "code",
   "execution_count": 4,
   "metadata": {},
   "outputs": [],
   "source": [
    "# If True, processing data from scratch\n",
    "# If False, loads preprocessed data\n",
    "PREPROCESS_DATA = False\n",
    "TRAIN_MODEL = True\n",
    "# True: use 10% of participants as validation set\n",
    "# False: use all data for training -> gives better LB result\n",
    "USE_VAL = False\n",
    "\n",
    "N_ROWS = 543\n",
    "N_DIMS = 3\n",
    "DIM_NAMES = ['x', 'y', 'z']\n",
    "SEED = 42\n",
    "NUM_CLASSES = 100\n",
    "IS_INTERACTIVE = True\n",
    "VERBOSE = 1 if IS_INTERACTIVE else 2\n",
    "\n",
    "INPUT_SIZE = 64\n",
    "\n",
    "BATCH_ALL_SIGNS_N = 4\n",
    "BATCH_SIZE = 32\n",
    "N_EPOCHS = 100\n",
    "LR_MAX = 1e-3\n",
    "N_WARMUP_EPOCHS = 0\n",
    "WD_RATIO = 0.05\n",
    "MASK_VAL = 4237"
   ]
  },
  {
   "cell_type": "code",
   "execution_count": 5,
   "metadata": {},
   "outputs": [],
   "source": [
    "def print_shape_dtype(l, names):\n",
    "    for e, n in zip(l, names):\n",
    "        print(f'{n} shape: {e.shape}, dtype: {e.dtype}')"
   ]
  },
  {
   "cell_type": "code",
   "execution_count": 12,
   "metadata": {},
   "outputs": [],
   "source": [
    "#for csv file\n",
    "import os\n",
    "import pandas as pd\n",
    "\n",
    "folder_path = '/Users/theerat/Downloads/บ้าน-2'\n",
    "data = []\n",
    "\n",
    "for subfolder in os.listdir(folder_path):\n",
    "    subfolder_path = os.path.join(folder_path, subfolder)\n",
    "    \n",
    "    if os.path.isdir(subfolder_path):\n",
    "        for filename in os.listdir(subfolder_path):\n",
    "            if filename.endswith('.csv'):\n",
    "                file_path = os.path.join(subfolder_path, filename)\n",
    "                sequence_id = int(filename.split('_')[1].split('.')[0])  # ได้ sequence_id จากชื่อไฟล์\n",
    "                participant_id = 70\n",
    "                sign = 'บ้าน'\n",
    "\n",
    "                # เพิ่มข้อมูลลงใน list\n",
    "                data.append({\n",
    "                    'path': file_path,\n",
    "                    'participant_id': participant_id,\n",
    "                    'sequence_id': sequence_id,\n",
    "                    'sign': sign\n",
    "                })\n",
    "\n",
    "# สร้าง DataFrame จากข้อมูลที่เก็บรวบรวม\n",
    "df = pd.DataFrame(data)\n",
    "\n",
    "df = df.sort_values(by='sequence_id')\n",
    "\n",
    "# บันทึกเป็นไฟล์ CSV\n",
    "df.to_csv('output.csv', index=False)\n"
   ]
  },
  {
   "cell_type": "code",
   "execution_count": 23,
   "metadata": {},
   "outputs": [],
   "source": [
    "import os\n",
    "import numpy as np\n",
    "import pandas as pd\n",
    "\n",
    "folder_path = '/Users/theerat/Downloads/MP_DATA3/คุย'\n",
    "data = []\n",
    "participant_id = 0\n",
    "\n",
    "# อ่านโฟลเดอร์ทั้งหมดภายใน\n",
    "for subfolder in os.listdir(folder_path):\n",
    "    subfolder_path = os.path.join(folder_path, subfolder)\n",
    "    \n",
    "    if os.path.isdir(subfolder_path):\n",
    "        # อ่านไฟล์ .npy ภายในแต่ละโฟลเดอร์\n",
    "        for filename in os.listdir(subfolder_path):\n",
    "            if filename.endswith('.npy'):\n",
    "                file_path = os.path.join(subfolder_path, filename)\n",
    "                sequence_id = int(filename.split('.')[0])  # ได้ sequence_id จากชื่อไฟล์\n",
    "                sign = 'ก'\n",
    "\n",
    "                # เพิ่มข้อมูลลงใน list\n",
    "                data.append({\n",
    "                    'path': file_path,\n",
    "                    'participant_id': participant_id,\n",
    "                    'sequence_id': sequence_id,\n",
    "                    'sign': sign\n",
    "                })\n",
    "                participant_id += 1\n",
    "\n",
    "\n",
    "# สร้าง DataFrame จากข้อมูลที่เก็บรวบรวม\n",
    "df = pd.DataFrame(data)\n",
    "\n",
    "df = df.sort_values(by='sequence_id')\n",
    "# บันทึกเป็นไฟล์ CSV\n",
    "df.to_csv('outputnpy.csv', index=False)\n"
   ]
  },
  {
   "cell_type": "code",
   "execution_count": 24,
   "metadata": {},
   "outputs": [
    {
     "data": {
      "text/html": [
       "<div>\n",
       "<style scoped>\n",
       "    .dataframe tbody tr th:only-of-type {\n",
       "        vertical-align: middle;\n",
       "    }\n",
       "\n",
       "    .dataframe tbody tr th {\n",
       "        vertical-align: top;\n",
       "    }\n",
       "\n",
       "    .dataframe thead th {\n",
       "        text-align: right;\n",
       "    }\n",
       "</style>\n",
       "<table border=\"1\" class=\"dataframe\">\n",
       "  <thead>\n",
       "    <tr style=\"text-align: right;\">\n",
       "      <th></th>\n",
       "      <th>path</th>\n",
       "      <th>participant_id</th>\n",
       "      <th>sequence_id</th>\n",
       "      <th>sign</th>\n",
       "    </tr>\n",
       "  </thead>\n",
       "  <tbody>\n",
       "    <tr>\n",
       "      <th>0</th>\n",
       "      <td>/Users/theerat/Downloads/MP_DATA3/คุย/17/0.npy</td>\n",
       "      <td>76</td>\n",
       "      <td>0</td>\n",
       "      <td>ก</td>\n",
       "    </tr>\n",
       "    <tr>\n",
       "      <th>1</th>\n",
       "      <td>/Users/theerat/Downloads/MP_DATA3/คุย/15/0.npy</td>\n",
       "      <td>166</td>\n",
       "      <td>0</td>\n",
       "      <td>ก</td>\n",
       "    </tr>\n",
       "    <tr>\n",
       "      <th>2</th>\n",
       "      <td>/Users/theerat/Downloads/MP_DATA3/คุย/3/0.npy</td>\n",
       "      <td>196</td>\n",
       "      <td>0</td>\n",
       "      <td>ก</td>\n",
       "    </tr>\n",
       "    <tr>\n",
       "      <th>3</th>\n",
       "      <td>/Users/theerat/Downloads/MP_DATA3/คุย/4/0.npy</td>\n",
       "      <td>136</td>\n",
       "      <td>0</td>\n",
       "      <td>ก</td>\n",
       "    </tr>\n",
       "    <tr>\n",
       "      <th>4</th>\n",
       "      <td>/Users/theerat/Downloads/MP_DATA3/คุย/2/0.npy</td>\n",
       "      <td>226</td>\n",
       "      <td>0</td>\n",
       "      <td>ก</td>\n",
       "    </tr>\n",
       "    <tr>\n",
       "      <th>...</th>\n",
       "      <td>...</td>\n",
       "      <td>...</td>\n",
       "      <td>...</td>\n",
       "      <td>...</td>\n",
       "    </tr>\n",
       "    <tr>\n",
       "      <th>235</th>\n",
       "      <td>/Users/theerat/Downloads/MP_DATA3/คุย/4/29.npy</td>\n",
       "      <td>140</td>\n",
       "      <td>29</td>\n",
       "      <td>ก</td>\n",
       "    </tr>\n",
       "    <tr>\n",
       "      <th>236</th>\n",
       "      <td>/Users/theerat/Downloads/MP_DATA3/คุย/29/29.npy</td>\n",
       "      <td>50</td>\n",
       "      <td>29</td>\n",
       "      <td>ก</td>\n",
       "    </tr>\n",
       "    <tr>\n",
       "      <th>237</th>\n",
       "      <td>/Users/theerat/Downloads/MP_DATA3/คุย/3/29.npy</td>\n",
       "      <td>200</td>\n",
       "      <td>29</td>\n",
       "      <td>ก</td>\n",
       "    </tr>\n",
       "    <tr>\n",
       "      <th>238</th>\n",
       "      <td>/Users/theerat/Downloads/MP_DATA3/คุย/15/29.npy</td>\n",
       "      <td>170</td>\n",
       "      <td>29</td>\n",
       "      <td>ก</td>\n",
       "    </tr>\n",
       "    <tr>\n",
       "      <th>239</th>\n",
       "      <td>/Users/theerat/Downloads/MP_DATA3/คุย/18/29.npy</td>\n",
       "      <td>20</td>\n",
       "      <td>29</td>\n",
       "      <td>ก</td>\n",
       "    </tr>\n",
       "  </tbody>\n",
       "</table>\n",
       "<p>240 rows × 4 columns</p>\n",
       "</div>"
      ],
      "text/plain": [
       "                                                path  participant_id  \\\n",
       "0     /Users/theerat/Downloads/MP_DATA3/คุย/17/0.npy              76   \n",
       "1     /Users/theerat/Downloads/MP_DATA3/คุย/15/0.npy             166   \n",
       "2      /Users/theerat/Downloads/MP_DATA3/คุย/3/0.npy             196   \n",
       "3      /Users/theerat/Downloads/MP_DATA3/คุย/4/0.npy             136   \n",
       "4      /Users/theerat/Downloads/MP_DATA3/คุย/2/0.npy             226   \n",
       "..                                               ...             ...   \n",
       "235   /Users/theerat/Downloads/MP_DATA3/คุย/4/29.npy             140   \n",
       "236  /Users/theerat/Downloads/MP_DATA3/คุย/29/29.npy              50   \n",
       "237   /Users/theerat/Downloads/MP_DATA3/คุย/3/29.npy             200   \n",
       "238  /Users/theerat/Downloads/MP_DATA3/คุย/15/29.npy             170   \n",
       "239  /Users/theerat/Downloads/MP_DATA3/คุย/18/29.npy              20   \n",
       "\n",
       "     sequence_id sign  \n",
       "0              0    ก  \n",
       "1              0    ก  \n",
       "2              0    ก  \n",
       "3              0    ก  \n",
       "4              0    ก  \n",
       "..           ...  ...  \n",
       "235           29    ก  \n",
       "236           29    ก  \n",
       "237           29    ก  \n",
       "238           29    ก  \n",
       "239           29    ก  \n",
       "\n",
       "[240 rows x 4 columns]"
      ]
     },
     "execution_count": 24,
     "metadata": {},
     "output_type": "execute_result"
    }
   ],
   "source": [
    "pd.read_csv('outputnpy.csv')"
   ]
  },
  {
   "cell_type": "code",
   "execution_count": 6,
   "metadata": {},
   "outputs": [],
   "source": [
    "word_list = { \"สวัสดี\": 0,\n",
    " \"ตก\": 1,\n",
    " \"รอ\": 2,\n",
    " \"กลับ\": 3,\n",
    " \"ขอบคุณ\": 4,\n",
    " \"ตัด\": 5,\n",
    " \"ลง\": 6,\n",
    " \"ขึ้น\": 7,\n",
    " \"เฝ้า\": 8,\n",
    " \"คุย\": 9,\n",
    " \"ช่วย\": 10,\n",
    " \"เชื่อ\": 11,\n",
    " \"ฟัง\": 12,\n",
    " \"มอง\": 13,\n",
    " \"พา\": 14,\n",
    " \"ชวน หลีกภัย\": 15,\n",
    " \"ทักษิณ ชินวัตร\": 16,\n",
    " \"ขนม\": 17,\n",
    " \"พิธา ลิ้มเจริญรัตน์\": 18,\n",
    " \"ศิริกัญญา ตันสกุล\": 19,\n",
    " \"แบก\": 20,\n",
    " \"อนุทิน ชาญวีรกูล\": 21,\n",
    " \"รังสิมันต์ โรม\": 22,\n",
    " \"พีระพันธุ์ สาลีรัฐวิภาค\": 23,\n",
    " \"คุณหญิงสุดารัตน์ เกยุราพันธุ์\": 24,\n",
    " \"พลเอกอนุพงษ์ เผ่าจินดา\": 25,\n",
    " \"สุวัจน์ ลิปตพัลลภ\": 26,\n",
    " \"กรณ์ จาติกวณิช\": 27,\n",
    " \"วราวุธ ศิลปะอาชา\": 28,\n",
    " \"พล.ต.อ.เสรีพิศุทธ์ เตมียเวสวราวุธ ศิลปะอาชา\": 29,\n",
    " \"ศักดิ์สยาม ชิดชอบ\": 30,\n",
    " \"ชาดา ไทยเศรษฐ์\": 31,\n",
    " \"สุชัชวีร์ สุวรรณสวัสดิ์\": 32,\n",
    " \"จุรินทร์ ลักษณวิศิษฏ์\": 33,\n",
    " \"ไตรรงค์ สุวรรณคีรี\": 34,\n",
    " \"พลเอกประยุทธ์ จันทร์โอชา\": 35,\n",
    " \"นฤมล ภิญโญสินวัฒน์\": 36,\n",
    " \"ธรรมนัส พรหมเผ่า\": 37,\n",
    " \"ชัยวุฒิ ธนาคมานุสรณ์\": 38,\n",
    " \"ไพบูลย์ นิติตะวัน\": 39,\n",
    " \"พลเอกประวิตร วงษ์สุวรรณ\": 40,\n",
    " \"พริษฐ์ วัชรสินธุ\": 41,\n",
    " \"ยิ่งลักษณ์ ชินวัตร\": 42,\n",
    " \"ณัฐวุฒิ ใสยเกื้อ\": 43,\n",
    " \"นพ.ชลน่าน ศรีแก้ว\": 44,\n",
    " \"เศรษฐา ทวีสิน\": 45,\n",
    " \"แพทองธาร ชินวัตร\": 46,\n",
    " \"อะไร\": 47,\n",
    " \"สมัคร\": 48,\n",
    " \"กระโดด\": 49,\n",
    " \"ยก\": 50,\n",
    " \"ชน\": 51,\n",
    " \"ผ่าน\": 52,\n",
    " \"แนะนำ\": 53,\n",
    " \"จำได้\": 54,\n",
    " \"ปลูก\": 55,\n",
    " \"รวม\": 56,\n",
    " \"ทำหาย\": 57,\n",
    " \"เจอ\": 58,\n",
    " \"หาย\": 59,\n",
    " \"พนักงานขาย\": 60,\n",
    " \"นักเขียนโปรแกรม\": 61,\n",
    " \"พ่อครัว\": 62,\n",
    " \"เจ้าหน้าที่ตำรวจ\": 63,\n",
    " \"เนื้อลูกแกะ\": 64,\n",
    " \"เนื้อหมู\": 65,\n",
    " \"คุณสบายดีไหม\": 66,\n",
    " \"ดูเหมือน\": 67,\n",
    " \"วาง\": 68,\n",
    " \"อยู่\": 69,\n",
    " \"ก\": 70,\n",
    " \"ข\": 71,\n",
    " \"ค\": 72,\n",
    " \"ฆ\": 73,\n",
    " \"ต\": 74,\n",
    " \"ถ\": 75,\n",
    " \"ง\": 76,\n",
    " \"จ\": 77,\n",
    " \"ฉ\": 78,\n",
    " \"ช\": 79,\n",
    " \"ซ\": 80,\n",
    " \"ฏ\": 81,\n",
    " \"ฐ\": 82,\n",
    " \"ฑ\": 83,\n",
    " \"ฒ\": 84,\n",
    " \"ณ\": 85,\n",
    " \"ด\": 86,\n",
    " \"ท\": 87,\n",
    " \"ธ\": 88,\n",
    " \"น\": 89,\n",
    " \"บ\": 90,\n",
    " \"ป\": 91,\n",
    " \"ผ\": 92,\n",
    " \"ฝ\": 93,\n",
    " \"พ\": 94,\n",
    " \"ฟ\": 95,\n",
    " \"ภ\": 96,\n",
    " \"ม\": 97,\n",
    " \"ย\": 98,\n",
    " \"ร\": 99,\n",
    " \"ล\": 100,\n",
    " \"ว\": 101,\n",
    " \"ศ\": 102,\n",
    " \"ษ\": 103,\n",
    " \"ส\": 104,\n",
    " \"ห\": 105,\n",
    " \"ฬ\": 106,\n",
    " \"อ\": 107,\n",
    " \"ฮ\": 108,\n",
    " \"ญ\": 109,\n",
    " \"ฎ\": 110\n",
    "}\n"
   ]
  },
  {
   "cell_type": "code",
   "execution_count": null,
   "metadata": {},
   "outputs": [
    {
     "name": "stdout",
     "output_type": "stream",
     "text": [
      "/Users/theerat/Downloads/MP_DATA3/สวัสดี\n",
      "/Users/theerat/Downloads/MP_DATA3/ตก\n",
      "/Users/theerat/Downloads/MP_DATA3/รอ\n",
      "/Users/theerat/Downloads/MP_DATA3/กลับ\n",
      "/Users/theerat/Downloads/MP_DATA3/ขอบคุณ\n",
      "/Users/theerat/Downloads/MP_DATA3/ตัด\n",
      "/Users/theerat/Downloads/MP_DATA3/ลง\n",
      "/Users/theerat/Downloads/MP_DATA3/ขึ้น\n",
      "/Users/theerat/Downloads/MP_DATA3/เฝ้า\n",
      "/Users/theerat/Downloads/MP_DATA3/คุย\n",
      "/Users/theerat/Downloads/MP_DATA3/ช่วย\n",
      "/Users/theerat/Downloads/MP_DATA3/เชื่อ\n",
      "/Users/theerat/Downloads/MP_DATA3/ฟัง\n",
      "/Users/theerat/Downloads/MP_DATA3/มอง\n",
      "/Users/theerat/Downloads/MP_DATA3/พา\n",
      "/Users/theerat/Downloads/MP_DATA3/ชวน หลีกภัย\n",
      "/Users/theerat/Downloads/MP_DATA3/ทักษิณ ชินวัตร\n",
      "/Users/theerat/Downloads/MP_DATA3/ขนม\n",
      "/Users/theerat/Downloads/MP_DATA3/พิธา ลิ้มเจริญรัตน์\n",
      "/Users/theerat/Downloads/MP_DATA3/ศิริกัญญา ตันสกุล\n",
      "/Users/theerat/Downloads/MP_DATA3/แบก\n",
      "/Users/theerat/Downloads/MP_DATA3/อนุทิน ชาญวีรกูล\n",
      "/Users/theerat/Downloads/MP_DATA3/รังสิมันต์ โรม\n",
      "/Users/theerat/Downloads/MP_DATA3/พีระพันธุ์ สาลีรัฐวิภาค\n",
      "/Users/theerat/Downloads/MP_DATA3/คุณหญิงสุดารัตน์ เกยุราพันธุ์\n",
      "/Users/theerat/Downloads/MP_DATA3/พลเอกอนุพงษ์ เผ่าจินดา\n",
      "/Users/theerat/Downloads/MP_DATA3/สุวัจน์ ลิปตพัลลภ\n",
      "/Users/theerat/Downloads/MP_DATA3/กรณ์ จาติกวณิช\n",
      "/Users/theerat/Downloads/MP_DATA3/วราวุธ ศิลปะอาชา\n",
      "/Users/theerat/Downloads/MP_DATA3/พล.ต.อ.เสรีพิศุทธ์ เตมียเวสวราวุธ ศิลปะอาชา\n",
      "/Users/theerat/Downloads/MP_DATA3/ศักดิ์สยาม ชิดชอบ\n",
      "/Users/theerat/Downloads/MP_DATA3/ชาดา ไทยเศรษฐ์\n",
      "/Users/theerat/Downloads/MP_DATA3/สุชัชวีร์ สุวรรณสวัสดิ์\n",
      "/Users/theerat/Downloads/MP_DATA3/จุรินทร์ ลักษณวิศิษฏ์\n",
      "/Users/theerat/Downloads/MP_DATA3/ไตรรงค์ สุวรรณคีรี\n",
      "/Users/theerat/Downloads/MP_DATA3/พลเอกประยุทธ์ จันทร์โอชา\n",
      "/Users/theerat/Downloads/MP_DATA3/นฤมล ภิญโญสินวัฒน์\n",
      "/Users/theerat/Downloads/MP_DATA3/ธรรมนัส พรหมเผ่า\n",
      "/Users/theerat/Downloads/MP_DATA3/ชัยวุฒิ ธนาคมานุสรณ์\n",
      "/Users/theerat/Downloads/MP_DATA3/ไพบูลย์ นิติตะวัน\n",
      "/Users/theerat/Downloads/MP_DATA3/พลเอกประวิตร วงษ์สุวรรณ\n",
      "/Users/theerat/Downloads/MP_DATA3/พริษฐ์ วัชรสินธุ\n",
      "/Users/theerat/Downloads/MP_DATA3/ยิ่งลักษณ์ ชินวัตร\n",
      "/Users/theerat/Downloads/MP_DATA3/ณัฐวุฒิ ใสยเกื้อ\n",
      "/Users/theerat/Downloads/MP_DATA3/นพ.ชลน่าน ศรีแก้ว\n",
      "/Users/theerat/Downloads/MP_DATA3/เศรษฐา ทวีสิน\n",
      "/Users/theerat/Downloads/MP_DATA3/แพทองธาร ชินวัตร\n",
      "/Users/theerat/Downloads/MP_DATA3/อะไร\n",
      "/Users/theerat/Downloads/MP_DATA3/สมัคร\n",
      "/Users/theerat/Downloads/MP_DATA3/กระโดด\n",
      "/Users/theerat/Downloads/MP_DATA3/ยก\n",
      "/Users/theerat/Downloads/MP_DATA3/ชน\n",
      "/Users/theerat/Downloads/MP_DATA3/ผ่าน\n",
      "/Users/theerat/Downloads/MP_DATA3/แนะนำ\n",
      "/Users/theerat/Downloads/MP_DATA3/จำได้\n",
      "/Users/theerat/Downloads/MP_DATA3/ปลูก\n",
      "/Users/theerat/Downloads/MP_DATA3/รวม\n",
      "/Users/theerat/Downloads/MP_DATA3/ทำหาย\n",
      "/Users/theerat/Downloads/MP_DATA3/เจอ\n",
      "/Users/theerat/Downloads/MP_DATA3/หาย\n",
      "/Users/theerat/Downloads/MP_DATA3/พนักงานขาย\n",
      "/Users/theerat/Downloads/MP_DATA3/นักเขียนโปรแกรม\n",
      "/Users/theerat/Downloads/MP_DATA3/พ่อครัว\n",
      "/Users/theerat/Downloads/MP_DATA3/เจ้าหน้าที่ตำรวจ\n",
      "/Users/theerat/Downloads/MP_DATA3/เนื้อลูกแกะ\n",
      "/Users/theerat/Downloads/MP_DATA3/เนื้อหมู\n",
      "/Users/theerat/Downloads/MP_DATA3/คุณสบายดีไหม\n",
      "/Users/theerat/Downloads/MP_DATA3/ดูเหมือน\n",
      "/Users/theerat/Downloads/MP_DATA3/วาง\n",
      "/Users/theerat/Downloads/MP_DATA3/อยู่\n",
      "/Users/theerat/Downloads/MP_DATA3/ก\n",
      "/Users/theerat/Downloads/MP_DATA3/ข\n",
      "/Users/theerat/Downloads/MP_DATA3/ค\n",
      "/Users/theerat/Downloads/MP_DATA3/ฆ\n",
      "/Users/theerat/Downloads/MP_DATA3/ต\n",
      "/Users/theerat/Downloads/MP_DATA3/ถ\n",
      "/Users/theerat/Downloads/MP_DATA3/ง\n",
      "/Users/theerat/Downloads/MP_DATA3/จ\n",
      "/Users/theerat/Downloads/MP_DATA3/ฉ\n",
      "/Users/theerat/Downloads/MP_DATA3/ช\n",
      "/Users/theerat/Downloads/MP_DATA3/ซ\n",
      "/Users/theerat/Downloads/MP_DATA3/ฏ\n",
      "/Users/theerat/Downloads/MP_DATA3/ฐ\n",
      "/Users/theerat/Downloads/MP_DATA3/ฑ\n",
      "/Users/theerat/Downloads/MP_DATA3/ฒ\n",
      "/Users/theerat/Downloads/MP_DATA3/ณ\n",
      "/Users/theerat/Downloads/MP_DATA3/ด\n",
      "/Users/theerat/Downloads/MP_DATA3/ท\n",
      "/Users/theerat/Downloads/MP_DATA3/ธ\n",
      "/Users/theerat/Downloads/MP_DATA3/น\n",
      "/Users/theerat/Downloads/MP_DATA3/บ\n",
      "/Users/theerat/Downloads/MP_DATA3/ป\n",
      "/Users/theerat/Downloads/MP_DATA3/ผ\n",
      "/Users/theerat/Downloads/MP_DATA3/ฝ\n",
      "/Users/theerat/Downloads/MP_DATA3/พ\n",
      "/Users/theerat/Downloads/MP_DATA3/ฟ\n",
      "/Users/theerat/Downloads/MP_DATA3/ภ\n",
      "/Users/theerat/Downloads/MP_DATA3/ม\n",
      "/Users/theerat/Downloads/MP_DATA3/ย\n",
      "/Users/theerat/Downloads/MP_DATA3/ร\n",
      "/Users/theerat/Downloads/MP_DATA3/ล\n",
      "/Users/theerat/Downloads/MP_DATA3/ว\n",
      "/Users/theerat/Downloads/MP_DATA3/ศ\n",
      "/Users/theerat/Downloads/MP_DATA3/ษ\n",
      "/Users/theerat/Downloads/MP_DATA3/ส\n",
      "/Users/theerat/Downloads/MP_DATA3/ห\n",
      "/Users/theerat/Downloads/MP_DATA3/ฬ\n",
      "/Users/theerat/Downloads/MP_DATA3/อ\n",
      "/Users/theerat/Downloads/MP_DATA3/ฮ\n",
      "/Users/theerat/Downloads/MP_DATA3/ญ\n",
      "/Users/theerat/Downloads/MP_DATA3/ฎ\n"
     ]
    }
   ],
   "source": [
    "\n",
    "# กำหนด path ของโฟลเดอร์ที่ต้องการอ่าน\n",
    "base_path = '/Users/theerat/Downloads/MP_DATA3'\n",
    "# สร้างลิสต์เพื่อเก็บข้อมูล\n",
    "data = []\n",
    "\n",
    "\n",
    "# อ่านข้อมูลจากโฟลเดอร์และไฟล์\n",
    "for folder_name, participant_id in word_list.items():\n",
    "    folder_path = os.path.join(base_path, folder_name)\n",
    "    print(folder_path)\n",
    "    for subfolder in os.listdir(folder_path):\n",
    "        subfolder_path = os.path.join(folder_path, subfolder)\n",
    "        if os.path.isdir(subfolder_path):\n",
    "            for i in range(30):  # อ่านไฟล์จาก 0 ถึง 29\n",
    "                file_path = os.path.join(subfolder_path, f\"{i}.npy\")\n",
    "                try:\n",
    "                    # โหลดข้อมูลจากไฟล์ .npy\n",
    "                    data_array = np.load(file_path)\n",
    "                    sign = os.path.basename(folder_path)  # ชื่อโฟลเดอร์เป็น sign\n",
    "                    for sequence_id, value in enumerate(data_array):\n",
    "                        # เพิ่มข้อมูลลงในลิสต์\n",
    "                        data.append({\n",
    "                            'path': file_path,\n",
    "                            'participant_id': participant_id,\n",
    "                            'sequence_id': sequence_id,\n",
    "                            'sign': sign\n",
    "                        })\n",
    "                except FileNotFoundError:\n",
    "                    # ข้ามไฟล์ที่ไม่พบ\n",
    "                    pass\n",
    "\n",
    "# สร้าง DataFrame จากลิสต์ข้อมูล\n",
    "df = pd.DataFrame(data)\n",
    "df.to_csv('outputnpy.csv', index=False)\n",
    "# แสดงข้อมูล\n",
    "print(df)\n"
   ]
  },
  {
   "cell_type": "code",
   "execution_count": 35,
   "metadata": {},
   "outputs": [
    {
     "data": {
      "text/html": [
       "<div>\n",
       "<style scoped>\n",
       "    .dataframe tbody tr th:only-of-type {\n",
       "        vertical-align: middle;\n",
       "    }\n",
       "\n",
       "    .dataframe tbody tr th {\n",
       "        vertical-align: top;\n",
       "    }\n",
       "\n",
       "    .dataframe thead th {\n",
       "        text-align: right;\n",
       "    }\n",
       "</style>\n",
       "<table border=\"1\" class=\"dataframe\">\n",
       "  <thead>\n",
       "    <tr style=\"text-align: right;\">\n",
       "      <th></th>\n",
       "      <th>path</th>\n",
       "      <th>participant_id</th>\n",
       "      <th>sequence_id</th>\n",
       "      <th>sign</th>\n",
       "    </tr>\n",
       "  </thead>\n",
       "  <tbody>\n",
       "    <tr>\n",
       "      <th>0</th>\n",
       "      <td>/Users/theerat/Downloads/MP_DATA3/สวัสดี/20/20...</td>\n",
       "      <td>0</td>\n",
       "      <td>20</td>\n",
       "      <td>สวัสดี</td>\n",
       "    </tr>\n",
       "    <tr>\n",
       "      <th>1</th>\n",
       "      <td>/Users/theerat/Downloads/MP_DATA3/สวัสดี/20/21...</td>\n",
       "      <td>0</td>\n",
       "      <td>21</td>\n",
       "      <td>สวัสดี</td>\n",
       "    </tr>\n",
       "    <tr>\n",
       "      <th>2</th>\n",
       "      <td>/Users/theerat/Downloads/MP_DATA3/สวัสดี/20/23...</td>\n",
       "      <td>0</td>\n",
       "      <td>23</td>\n",
       "      <td>สวัสดี</td>\n",
       "    </tr>\n",
       "    <tr>\n",
       "      <th>3</th>\n",
       "      <td>/Users/theerat/Downloads/MP_DATA3/สวัสดี/20/22...</td>\n",
       "      <td>0</td>\n",
       "      <td>22</td>\n",
       "      <td>สวัสดี</td>\n",
       "    </tr>\n",
       "    <tr>\n",
       "      <th>4</th>\n",
       "      <td>/Users/theerat/Downloads/MP_DATA3/สวัสดี/20/26...</td>\n",
       "      <td>0</td>\n",
       "      <td>26</td>\n",
       "      <td>สวัสดี</td>\n",
       "    </tr>\n",
       "    <tr>\n",
       "      <th>...</th>\n",
       "      <td>...</td>\n",
       "      <td>...</td>\n",
       "      <td>...</td>\n",
       "      <td>...</td>\n",
       "    </tr>\n",
       "    <tr>\n",
       "      <th>36414</th>\n",
       "      <td>/Users/theerat/Downloads/MP_DATA3/ฎ/25/17.npy</td>\n",
       "      <td>110</td>\n",
       "      <td>17</td>\n",
       "      <td>ฎ</td>\n",
       "    </tr>\n",
       "    <tr>\n",
       "      <th>36415</th>\n",
       "      <td>/Users/theerat/Downloads/MP_DATA3/ฎ/25/13.npy</td>\n",
       "      <td>110</td>\n",
       "      <td>13</td>\n",
       "      <td>ฎ</td>\n",
       "    </tr>\n",
       "    <tr>\n",
       "      <th>36416</th>\n",
       "      <td>/Users/theerat/Downloads/MP_DATA3/ฎ/25/12.npy</td>\n",
       "      <td>110</td>\n",
       "      <td>12</td>\n",
       "      <td>ฎ</td>\n",
       "    </tr>\n",
       "    <tr>\n",
       "      <th>36417</th>\n",
       "      <td>/Users/theerat/Downloads/MP_DATA3/ฎ/25/10.npy</td>\n",
       "      <td>110</td>\n",
       "      <td>10</td>\n",
       "      <td>ฎ</td>\n",
       "    </tr>\n",
       "    <tr>\n",
       "      <th>36418</th>\n",
       "      <td>/Users/theerat/Downloads/MP_DATA3/ฎ/25/11.npy</td>\n",
       "      <td>110</td>\n",
       "      <td>11</td>\n",
       "      <td>ฎ</td>\n",
       "    </tr>\n",
       "  </tbody>\n",
       "</table>\n",
       "<p>36419 rows × 4 columns</p>\n",
       "</div>"
      ],
      "text/plain": [
       "                                                    path  participant_id  \\\n",
       "0      /Users/theerat/Downloads/MP_DATA3/สวัสดี/20/20...               0   \n",
       "1      /Users/theerat/Downloads/MP_DATA3/สวัสดี/20/21...               0   \n",
       "2      /Users/theerat/Downloads/MP_DATA3/สวัสดี/20/23...               0   \n",
       "3      /Users/theerat/Downloads/MP_DATA3/สวัสดี/20/22...               0   \n",
       "4      /Users/theerat/Downloads/MP_DATA3/สวัสดี/20/26...               0   \n",
       "...                                                  ...             ...   \n",
       "36414      /Users/theerat/Downloads/MP_DATA3/ฎ/25/17.npy             110   \n",
       "36415      /Users/theerat/Downloads/MP_DATA3/ฎ/25/13.npy             110   \n",
       "36416      /Users/theerat/Downloads/MP_DATA3/ฎ/25/12.npy             110   \n",
       "36417      /Users/theerat/Downloads/MP_DATA3/ฎ/25/10.npy             110   \n",
       "36418      /Users/theerat/Downloads/MP_DATA3/ฎ/25/11.npy             110   \n",
       "\n",
       "      sequence_id    sign  \n",
       "0              20  สวัสดี  \n",
       "1              21  สวัสดี  \n",
       "2              23  สวัสดี  \n",
       "3              22  สวัสดี  \n",
       "4              26  สวัสดี  \n",
       "...           ...     ...  \n",
       "36414          17       ฎ  \n",
       "36415          13       ฎ  \n",
       "36416          12       ฎ  \n",
       "36417          10       ฎ  \n",
       "36418          11       ฎ  \n",
       "\n",
       "[36419 rows x 4 columns]"
      ]
     },
     "execution_count": 35,
     "metadata": {},
     "output_type": "execute_result"
    }
   ],
   "source": [
    "base_path = '/Users/theerat/Downloads/MP_DATA3'\n",
    "data = []\n",
    "id = 0\n",
    "for folder_name, participant_id in word_list.items():\n",
    "    folder_path = os.path.join(base_path, folder_name)\n",
    "    for subfolder in os.listdir(folder_path):\n",
    "        if subfolder == '.DS_Store':\n",
    "                continue\n",
    "        subfolder_path = os.path.join(folder_path, subfolder)\n",
    "        sign = os.path.basename(folder_path)\n",
    "        \n",
    "        for i in os.listdir(subfolder_path):\n",
    "            if i == '.DS_Store':\n",
    "                continue\n",
    "            npy_path = os.path.join(subfolder_path, i)\n",
    "            sequence_id = os.path.splitext(i)[0]\n",
    "            data.append({\n",
    "                'path': npy_path,\n",
    "                'participant_id': participant_id,\n",
    "                'sequence_id': sequence_id,\n",
    "                'sign': sign\n",
    "            })\n",
    "            \n",
    "            \n",
    "    id += 1\n",
    "df = pd.DataFrame(data)\n",
    "df_sorted = df.sort_values(by=['participant_id', 'sequence_id']).reset_index(drop=True)\n",
    "df"
   ]
  },
  {
   "cell_type": "code",
   "execution_count": 37,
   "metadata": {},
   "outputs": [],
   "source": [
    "new_df = pd.read_csv('train.csv')"
   ]
  },
  {
   "cell_type": "code",
   "execution_count": 42,
   "metadata": {},
   "outputs": [
    {
     "data": {
      "text/html": [
       "<div>\n",
       "<style scoped>\n",
       "    .dataframe tbody tr th:only-of-type {\n",
       "        vertical-align: middle;\n",
       "    }\n",
       "\n",
       "    .dataframe tbody tr th {\n",
       "        vertical-align: top;\n",
       "    }\n",
       "\n",
       "    .dataframe thead th {\n",
       "        text-align: right;\n",
       "    }\n",
       "</style>\n",
       "<table border=\"1\" class=\"dataframe\">\n",
       "  <thead>\n",
       "    <tr style=\"text-align: right;\">\n",
       "      <th></th>\n",
       "      <th>index</th>\n",
       "      <th>path</th>\n",
       "      <th>participant_id</th>\n",
       "      <th>sequence_id</th>\n",
       "      <th>sign</th>\n",
       "    </tr>\n",
       "  </thead>\n",
       "  <tbody>\n",
       "    <tr>\n",
       "      <th>0</th>\n",
       "      <td>2389</td>\n",
       "      <td>สวัสดี\\22.parquet</td>\n",
       "      <td>22</td>\n",
       "      <td>0</td>\n",
       "      <td>สวัสดี</td>\n",
       "    </tr>\n",
       "    <tr>\n",
       "      <th>1</th>\n",
       "      <td>2377</td>\n",
       "      <td>สวัสดี\\1.parquet</td>\n",
       "      <td>1</td>\n",
       "      <td>0</td>\n",
       "      <td>สวัสดี</td>\n",
       "    </tr>\n",
       "    <tr>\n",
       "      <th>2</th>\n",
       "      <td>2378</td>\n",
       "      <td>สวัสดี\\10.parquet</td>\n",
       "      <td>10</td>\n",
       "      <td>0</td>\n",
       "      <td>สวัสดี</td>\n",
       "    </tr>\n",
       "    <tr>\n",
       "      <th>3</th>\n",
       "      <td>2379</td>\n",
       "      <td>สวัสดี\\11.parquet</td>\n",
       "      <td>11</td>\n",
       "      <td>0</td>\n",
       "      <td>สวัสดี</td>\n",
       "    </tr>\n",
       "    <tr>\n",
       "      <th>4</th>\n",
       "      <td>2380</td>\n",
       "      <td>สวัสดี\\12.parquet</td>\n",
       "      <td>12</td>\n",
       "      <td>0</td>\n",
       "      <td>สวัสดี</td>\n",
       "    </tr>\n",
       "    <tr>\n",
       "      <th>...</th>\n",
       "      <td>...</td>\n",
       "      <td>...</td>\n",
       "      <td>...</td>\n",
       "      <td>...</td>\n",
       "      <td>...</td>\n",
       "    </tr>\n",
       "    <tr>\n",
       "      <th>2992</th>\n",
       "      <td>723</td>\n",
       "      <td>ฎ\\4.parquet</td>\n",
       "      <td>4</td>\n",
       "      <td>110</td>\n",
       "      <td>ฎ</td>\n",
       "    </tr>\n",
       "    <tr>\n",
       "      <th>2993</th>\n",
       "      <td>724</td>\n",
       "      <td>ฎ\\5.parquet</td>\n",
       "      <td>5</td>\n",
       "      <td>110</td>\n",
       "      <td>ฎ</td>\n",
       "    </tr>\n",
       "    <tr>\n",
       "      <th>2994</th>\n",
       "      <td>725</td>\n",
       "      <td>ฎ\\6.parquet</td>\n",
       "      <td>6</td>\n",
       "      <td>110</td>\n",
       "      <td>ฎ</td>\n",
       "    </tr>\n",
       "    <tr>\n",
       "      <th>2995</th>\n",
       "      <td>727</td>\n",
       "      <td>ฎ\\8.parquet</td>\n",
       "      <td>8</td>\n",
       "      <td>110</td>\n",
       "      <td>ฎ</td>\n",
       "    </tr>\n",
       "    <tr>\n",
       "      <th>2996</th>\n",
       "      <td>728</td>\n",
       "      <td>ฎ\\9.parquet</td>\n",
       "      <td>9</td>\n",
       "      <td>110</td>\n",
       "      <td>ฎ</td>\n",
       "    </tr>\n",
       "  </tbody>\n",
       "</table>\n",
       "<p>2997 rows × 5 columns</p>\n",
       "</div>"
      ],
      "text/plain": [
       "      index               path  participant_id  sequence_id    sign\n",
       "0      2389  สวัสดี\\22.parquet              22            0  สวัสดี\n",
       "1      2377   สวัสดี\\1.parquet               1            0  สวัสดี\n",
       "2      2378  สวัสดี\\10.parquet              10            0  สวัสดี\n",
       "3      2379  สวัสดี\\11.parquet              11            0  สวัสดี\n",
       "4      2380  สวัสดี\\12.parquet              12            0  สวัสดี\n",
       "...     ...                ...             ...          ...     ...\n",
       "2992    723        ฎ\\4.parquet               4          110       ฎ\n",
       "2993    724        ฎ\\5.parquet               5          110       ฎ\n",
       "2994    725        ฎ\\6.parquet               6          110       ฎ\n",
       "2995    727        ฎ\\8.parquet               8          110       ฎ\n",
       "2996    728        ฎ\\9.parquet               9          110       ฎ\n",
       "\n",
       "[2997 rows x 5 columns]"
      ]
     },
     "execution_count": 42,
     "metadata": {},
     "output_type": "execute_result"
    }
   ],
   "source": [
    "df = new_df.sort_values(by=['sequence_id']).reset_index(drop=False)\n",
    "df"
   ]
  },
  {
   "cell_type": "code",
   "execution_count": 49,
   "metadata": {},
   "outputs": [
    {
     "ename": "KeyboardInterrupt",
     "evalue": "",
     "output_type": "error",
     "traceback": [
      "\u001b[0;31m---------------------------------------------------------------------------\u001b[0m",
      "\u001b[0;31mKeyboardInterrupt\u001b[0m                         Traceback (most recent call last)",
      "Cell \u001b[0;32mIn[49], line 24\u001b[0m\n\u001b[1;32m     19\u001b[0m                 \u001b[38;5;28;01mcontinue\u001b[39;00m\n\u001b[1;32m     20\u001b[0m             \u001b[38;5;28;01mfor\u001b[39;00m seq_id, value \u001b[38;5;129;01min\u001b[39;00m \u001b[38;5;28menumerate\u001b[39m(np_data):\n\u001b[1;32m     21\u001b[0m                 data\u001b[38;5;241m.\u001b[39mappend({\n\u001b[1;32m     22\u001b[0m                         \u001b[38;5;124m'\u001b[39m\u001b[38;5;124mpath\u001b[39m\u001b[38;5;124m'\u001b[39m: file_path,\n\u001b[1;32m     23\u001b[0m                         \u001b[38;5;124m'\u001b[39m\u001b[38;5;124mparticipant_id\u001b[39m\u001b[38;5;124m'\u001b[39m: participant_id,\n\u001b[0;32m---> 24\u001b[0m                         \u001b[38;5;124m'\u001b[39m\u001b[38;5;124msequence_id\u001b[39m\u001b[38;5;124m'\u001b[39m: \u001b[43mseq_id\u001b[49m,\n\u001b[1;32m     25\u001b[0m                         \u001b[38;5;124m'\u001b[39m\u001b[38;5;124msign\u001b[39m\u001b[38;5;124m'\u001b[39m: sign\n\u001b[1;32m     26\u001b[0m                     })\n\u001b[1;32m     28\u001b[0m         \u001b[38;5;66;03m#อ่านค่า npy แต่ละไฟล์ละนำมาเก็บเป็น parquet file ตามแต่ละ subfolder\u001b[39;00m\n\u001b[1;32m     32\u001b[0m \u001b[38;5;28mid\u001b[39m \u001b[38;5;241m+\u001b[39m\u001b[38;5;241m=\u001b[39m \u001b[38;5;241m1\u001b[39m\n",
      "\u001b[0;31mKeyboardInterrupt\u001b[0m: "
     ]
    }
   ],
   "source": [
    "base_path = '/Users/theerat/Downloads/MP_DATA3'\n",
    "data = []\n",
    "id = 0\n",
    "for folder_name, participant_id in word_list.items():\n",
    "    folder_path = os.path.join(base_path, folder_name)\n",
    "    for subfolder in os.listdir(folder_path):\n",
    "        if subfolder == '.DS_Store':\n",
    "                continue\n",
    "        subfolder_path = os.path.join(folder_path, subfolder)\n",
    "        sign = os.path.basename(folder_path)\n",
    "        \n",
    "        for filename in os.listdir(subfolder_path):\n",
    "            if filename.endswith('.npy') and filename != '.DS_Store':\n",
    "                file_path = os.path.join(subfolder_path, filename)\n",
    "                try:\n",
    "                    np_data = np.load(file_path)\n",
    "                except Exception as e :\n",
    "                    print('Error')\n",
    "                    continue\n",
    "                for seq_id, value in enumerate(np_data):\n",
    "                    data.append({\n",
    "                            'path': file_path,\n",
    "                            'participant_id': participant_id,\n",
    "                            'sequence_id': seq_id,\n",
    "                            'sign': sign\n",
    "                        })\n",
    "                    \n",
    "            #อ่านค่า npy แต่ละไฟล์ละนำมาเก็บเป็น parquet file ตามแต่ละ subfolder\n",
    "        \n",
    "\n",
    "            \n",
    "    id += 1\n",
    "df = pd.DataFrame(data)\n",
    "df_sorted = df.sort_values(by=['participant_id', 'sequence_id']).reset_index(drop=True)\n",
    "df"
   ]
  },
  {
   "cell_type": "code",
   "execution_count": 64,
   "metadata": {},
   "outputs": [],
   "source": [
    "def create_landmark_rows(landmarks, frame, index, type_label):\n",
    "    for landmark_index, (x, y, z) in enumerate(landmarks):\n",
    "        new_row = {\n",
    "            'frame': frame,\n",
    "            'row_id': f'{folder_name}-{index}',\n",
    "            'type': type_label,\n",
    "            'landmark_index': landmark_index,\n",
    "            'x': x,\n",
    "            'y': y,\n",
    "            'z': z\n",
    "        }\n",
    "    yield new_row"
   ]
  },
  {
   "cell_type": "code",
   "execution_count": 75,
   "metadata": {},
   "outputs": [
    {
     "name": "stdout",
     "output_type": "stream",
     "text": [
      "/Users/theerat/Downloads/MP_DATA3/สวัสดี/20/20.npy\n",
      "Columns: Index(['NUMPY\u0001', ' 'fortran_order': False', ' 'shape': (1662', ')',\n",
      "       ' }                                                         '],\n",
      "      dtype='object')\n",
      "First rows:\n",
      "   NUMPY\u0001  'fortran_order': False  'shape': (1662   )  \\\n",
      "0     NaN                     NaN             NaN NaN   \n",
      "1      ß?                     Qö?             NaN NaN   \n",
      "2       ?                     ~Ô?             NaN NaN   \n",
      "3      Ø?                     NaN             NaN NaN   \n",
      "4      Ð?                     Út¿             NaN NaN   \n",
      "\n",
      "    }                                                           \n",
      "0                                                NaN            \n",
      "1                                                NaN            \n",
      "2                                                NaN            \n",
      "3                                                NaN            \n",
      "4                                                NaN            \n",
      "Error processing file /Users/theerat/Downloads/MP_DATA3/สวัสดี/20/20.npy: 'Body'\n",
      "/Users/theerat/Downloads/MP_DATA3/สวัสดี/20/21.npy\n",
      "Columns: Index(['NUMPY\u0001', ' 'fortran_order': False', ' 'shape': (1662', ')',\n",
      "       ' }                                                         '],\n",
      "      dtype='object')\n",
      "First rows:\n",
      "   NUMPY\u0001  'fortran_order': False  'shape': (1662    )  \\\n",
      "0     NaN                     NaN             NaN  NaN   \n",
      "1     ?Á¿                     NaN             NaN  NaN   \n",
      "2     \u0013ö?                      \u0003@             e\u0004@  NaN   \n",
      "3       ?                     NaN             NaN  NaN   \n",
      "4     dá?                     NaN             NaN  NaN   \n",
      "\n",
      "    }                                                           \n",
      "0                                                NaN            \n",
      "1                                                NaN            \n",
      "2                                                NaN            \n",
      "3                                                NaN            \n",
      "4                                                NaN            \n",
      "Error processing file /Users/theerat/Downloads/MP_DATA3/สวัสดี/20/21.npy: 'Body'\n",
      "/Users/theerat/Downloads/MP_DATA3/สวัสดี/20/23.npy\n",
      "Columns: Index(['NUMPY\u0001', ' 'fortran_order': False', ' 'shape': (1662', ')',\n",
      "       ' }                                                         '],\n",
      "      dtype='object')\n",
      "First rows:\n",
      "   NUMPY\u0001  'fortran_order': False  'shape': (1662    )  \\\n",
      "0     NaN                     NaN             NaN  NaN   \n",
      "1     BÔ?                     $Ó?              õ>  NaN   \n",
      "2     ¡¿                     NaN             NaN  NaN   \n",
      "3     ¡Õ?                     ¼Õ?             NaN  NaN   \n",
      "4     êà?                     à?             Qà?   Ø?   \n",
      "\n",
      "    }                                                           \n",
      "0                                                NaN            \n",
      "1                                                NaN            \n",
      "2                                                NaN            \n",
      "3                                                NaN            \n",
      "4                                                NaN            \n",
      "Error processing file /Users/theerat/Downloads/MP_DATA3/สวัสดี/20/23.npy: 'Body'\n",
      "/Users/theerat/Downloads/MP_DATA3/สวัสดี/20/22.npy\n",
      "Columns: Index(['NUMPY\u0001', ' 'fortran_order': False', ' 'shape': (1662', ')',\n",
      "       ' }                                                         '],\n",
      "      dtype='object')\n",
      "First rows:\n",
      "   NUMPY\u0001  'fortran_order': False  'shape': (1662    )  \\\n",
      "0     NaN                     NaN             NaN  NaN   \n",
      "1      Ò?                     NaN             NaN  NaN   \n",
      "2     fì?                     NaN             NaN  NaN   \n",
      "3      Ù?                     NaN             NaN  NaN   \n",
      "4     <Ò?                     NaN             NaN  NaN   \n",
      "\n",
      "    }                                                           \n",
      "0                                                NaN            \n",
      "1                                                NaN            \n",
      "2                                                NaN            \n",
      "3                                                NaN            \n",
      "4                                                NaN            \n",
      "Error processing file /Users/theerat/Downloads/MP_DATA3/สวัสดี/20/22.npy: 'Body'\n",
      "/Users/theerat/Downloads/MP_DATA3/สวัสดี/20/26.npy\n",
      "Columns: Index(['NUMPY\u0001', ' 'fortran_order': False', ' 'shape': (1662', ')',\n",
      "       ' }                                                         '],\n",
      "      dtype='object')\n",
      "First rows:\n",
      "   NUMPY\u0001  'fortran_order': False   'shape': (1662   )  \\\n",
      "0     NaN                     NaN              NaN NaN   \n",
      "1     \u0005â¿                     \u001dþ?              NaN NaN   \n",
      "2     á?                     NaN              NaN NaN   \n",
      "3     yØ?                     NaN              NaN NaN   \n",
      "4      Ö?                       ¿              NaN NaN   \n",
      "\n",
      "    }                                                           \n",
      "0                                                NaN            \n",
      "1                                                NaN            \n",
      "2                                                NaN            \n",
      "3                                                NaN            \n",
      "4                                                NaN            \n",
      "Error processing file /Users/theerat/Downloads/MP_DATA3/สวัสดี/20/26.npy: 'Body'\n",
      "/Users/theerat/Downloads/MP_DATA3/สวัสดี/20/27.npy\n",
      "Columns: Index(['NUMPY\u0001', ' 'fortran_order': False', ' 'shape': (1662', ')',\n",
      "       ' }                                                         '],\n",
      "      dtype='object')\n",
      "First rows:\n",
      "   NUMPY\u0001  'fortran_order': False  'shape': (1662    )  \\\n",
      "0     NaN                     Bá¿             NaN  NaN   \n",
      "1      à?                     NaN             NaN  NaN   \n",
      "2      ?                     NaN             NaN  NaN   \n",
      "3      á?                     NaN             NaN  NaN   \n",
      "4      ¿                     NaN             NaN  NaN   \n",
      "\n",
      "    }                                                           \n",
      "0                                                NaN            \n",
      "1                                                NaN            \n",
      "2                                                NaN            \n",
      "3                                                NaN            \n",
      "4                                                NaN            \n",
      "Error processing file /Users/theerat/Downloads/MP_DATA3/สวัสดี/20/27.npy: 'Body'\n",
      "/Users/theerat/Downloads/MP_DATA3/สวัสดี/20/25.npy\n",
      "Columns: Index(['NUMPY\u0001', ' 'fortran_order': False', ' 'shape': (1662', ')',\n",
      "       ' }                                                         '],\n",
      "      dtype='object')\n",
      "First rows:\n",
      "   NUMPY\u0001  'fortran_order': False  'shape': (1662   )  \\\n",
      "0     NaN                     NaN             NaN NaN   \n",
      "1      ö¿                     NaN             NaN NaN   \n",
      "2     \u0002\u0006?                      ¿             NaN NaN   \n",
      "3     LÒ?                     NaN             NaN NaN   \n",
      "4     Æc¿                     NaN             NaN NaN   \n",
      "\n",
      "    }                                                           \n",
      "0                                                NaN            \n",
      "1                                                NaN            \n",
      "2                                                NaN            \n",
      "3                                                NaN            \n",
      "4                                                NaN            \n",
      "Error processing file /Users/theerat/Downloads/MP_DATA3/สวัสดี/20/25.npy: 'Body'\n",
      "/Users/theerat/Downloads/MP_DATA3/สวัสดี/20/19.npy\n",
      "Columns: Index(['NUMPY\u0001', ' 'fortran_order': False', ' 'shape': (1662', ')',\n",
      "       ' }                                                         '],\n",
      "      dtype='object')\n",
      "First rows:\n",
      "   NUMPY\u0001  'fortran_order': False  'shape': (1662   )  \\\n",
      "0     NaN                     NaN             NaN NaN   \n",
      "1     RÑ?                     þï?             NaN NaN   \n",
      "2      à?                     õ¿             NaN NaN   \n",
      "3     Lö?                     NaN             NaN NaN   \n",
      "4      D?                     NaN             NaN NaN   \n",
      "\n",
      "    }                                                           \n",
      "0                                                NaN            \n",
      "1                                                NaN            \n",
      "2                                                NaN            \n",
      "3                                                NaN            \n",
      "4                                                NaN            \n",
      "Error processing file /Users/theerat/Downloads/MP_DATA3/สวัสดี/20/19.npy: 'Body'\n",
      "/Users/theerat/Downloads/MP_DATA3/สวัสดี/20/18.npy\n",
      "Columns: Index(['NUMPY\u0001', ' 'fortran_order': False', ' 'shape': (1662', ')',\n",
      "       ' }                                                         '],\n",
      "      dtype='object')\n",
      "First rows:\n",
      "   NUMPY\u0001  'fortran_order': False  'shape': (1662    )  \\\n",
      "0     NaN                      õ?             Ë¿  Õ?   \n",
      "1      Í?                     NaN             NaN  NaN   \n",
      "2      {¿                     êà?             NaN  NaN   \n",
      "3     :¿                     NaN             NaN  NaN   \n",
      "4      á?                      á?             NaN  NaN   \n",
      "\n",
      "    }                                                           \n",
      "0                                                NaN            \n",
      "1                                                NaN            \n",
      "2                                                NaN            \n",
      "3                                                NaN            \n",
      "4                                                NaN            \n",
      "Error processing file /Users/theerat/Downloads/MP_DATA3/สวัสดี/20/18.npy: 'Body'\n",
      "/Users/theerat/Downloads/MP_DATA3/สวัสดี/20/24.npy\n",
      "Columns: Index(['NUMPY\u0001', ' 'fortran_order': False', ' 'shape': (1662', ')',\n",
      "       ' }                                                         '],\n",
      "      dtype='object')\n",
      "First rows:\n",
      "   NUMPY\u0001  'fortran_order': False  'shape': (1662    )  \\\n",
      "0     NaN                      Ñ?              è?  ç?   \n",
      "1     ÇØ?                     NaN             NaN  NaN   \n",
      "2      ¿                     k?              Ó?   ?   \n",
      "3      Ò?                     NaN             NaN  NaN   \n",
      "4     \u001e?                      á?             NaN  NaN   \n",
      "\n",
      "    }                                                           \n",
      "0                                                NaN            \n",
      "1                                                NaN            \n",
      "2                                                NaN            \n",
      "3                                                NaN            \n",
      "4                                                NaN            \n",
      "Error processing file /Users/theerat/Downloads/MP_DATA3/สวัสดี/20/24.npy: 'Body'\n",
      "/Users/theerat/Downloads/MP_DATA3/สวัสดี/20/5.npy\n",
      "Columns: Index(['NUMPY\u0001', ' 'fortran_order': False', ' 'shape': (1662', ')',\n",
      "       ' }                                                         '],\n",
      "      dtype='object')\n",
      "First rows:\n",
      "   NUMPY\u0001  'fortran_order': False  'shape': (1662   )  \\\n",
      "0     NaN                     NaN             NaN NaN   \n",
      "1     NaN                     NaN             NaN NaN   \n",
      "2     »á?                     NaN             NaN NaN   \n",
      "3     Ãá?                      Õ?              u? NaN   \n",
      "4      ¿                     \u001eØ?             NaN NaN   \n",
      "\n",
      "    }                                                           \n",
      "0                                                NaN            \n",
      "1                                                NaN            \n",
      "2                                                NaN            \n",
      "3                                                NaN            \n",
      "4                                                NaN            \n",
      "Error processing file /Users/theerat/Downloads/MP_DATA3/สวัสดี/20/5.npy: 'Body'\n",
      "/Users/theerat/Downloads/MP_DATA3/สวัสดี/20/4.npy\n",
      "Columns: Index(['NUMPY\u0001', ' 'fortran_order': False', ' 'shape': (1662', ')',\n",
      "       ' }                                                         '],\n",
      "      dtype='object')\n",
      "First rows:\n",
      "   NUMPY\u0001  'fortran_order': False  'shape': (1662    )  \\\n",
      "0     NaN                      Á¿             NaN  NaN   \n",
      "1     \u0004\u0004@                      â?             NaN  NaN   \n",
      "2     NaN                     ¬á?             NaN  NaN   \n",
      "3      à?                     NaN             NaN  NaN   \n",
      "4      à?                     {Ø?             ÂÔ?   ¿   \n",
      "\n",
      "   }                                                           \n",
      "0                                                NaN           \n",
      "1                                                NaN           \n",
      "2                                                NaN           \n",
      "3                                                NaN           \n",
      "4                                                 á?           \n",
      "Error processing file /Users/theerat/Downloads/MP_DATA3/สวัสดี/20/4.npy: 'Body'\n",
      "/Users/theerat/Downloads/MP_DATA3/สวัสดี/20/6.npy\n",
      "Error processing file /Users/theerat/Downloads/MP_DATA3/สวัสดี/20/6.npy: Error tokenizing data. C error: Expected 5 fields in line 22, saw 6\n",
      "\n",
      "/Users/theerat/Downloads/MP_DATA3/สวัสดี/20/7.npy\n",
      "Error processing file /Users/theerat/Downloads/MP_DATA3/สวัสดี/20/7.npy: Error tokenizing data. C error: Expected 5 fields in line 24, saw 8\n",
      "\n",
      "/Users/theerat/Downloads/MP_DATA3/สวัสดี/20/3.npy\n",
      "Error processing file /Users/theerat/Downloads/MP_DATA3/สวัสดี/20/3.npy: Error tokenizing data. C error: Buffer overflow caught - possible malformed input file.\n",
      "\n",
      "/Users/theerat/Downloads/MP_DATA3/สวัสดี/20/2.npy\n",
      "Columns: Index(['NUMPY\u0001', ' 'fortran_order': False', ' 'shape': (1662', ')',\n",
      "       ' }                                                         '],\n",
      "      dtype='object')\n",
      "First rows:\n",
      "   NUMPY\u0001  'fortran_order': False  'shape': (1662   )  \\\n",
      "0     NaN                     NaN             NaN NaN   \n",
      "1     µÑ?                     þï?             NaN NaN   \n",
      "2     ÞÔ?                      Â?             NaN NaN   \n",
      "3     ^é?                     NaN             NaN NaN   \n",
      "4      ~¿                     NaN             NaN NaN   \n",
      "\n",
      "    }                                                           \n",
      "0                                                NaN            \n",
      "1                                                NaN            \n",
      "2                                                NaN            \n",
      "3                                                NaN            \n",
      "4                                                NaN            \n",
      "Error processing file /Users/theerat/Downloads/MP_DATA3/สวัสดี/20/2.npy: 'Body'\n",
      "/Users/theerat/Downloads/MP_DATA3/สวัสดี/20/0.npy\n",
      "Columns: Index(['NUMPY\u0001', ' 'fortran_order': False', ' 'shape': (1662', ')',\n",
      "       ' }                                                         '],\n",
      "      dtype='object')\n",
      "First rows:\n",
      "   NUMPY\u0001  'fortran_order': False  'shape': (1662    )  \\\n",
      "0     NaN                     NaN             NaN  NaN   \n",
      "1      ?                     NaN             NaN  NaN   \n",
      "2      V?                     NaN             NaN  NaN   \n",
      "3      Ø?                     Ká?             NaN  NaN   \n",
      "4      Õ?                     NaN             NaN  NaN   \n",
      "\n",
      "   }                                                           \n",
      "0                                                NaN           \n",
      "1                                                NaN           \n",
      "2                                                NaN           \n",
      "3                                                NaN           \n",
      "4                                                NaN           \n",
      "Error processing file /Users/theerat/Downloads/MP_DATA3/สวัสดี/20/0.npy: 'Body'\n",
      "/Users/theerat/Downloads/MP_DATA3/สวัสดี/20/1.npy\n",
      "Columns: Index(['NUMPY\u0001', ' 'fortran_order': False', ' 'shape': (1662', ')',\n",
      "       ' }                                                         '],\n",
      "      dtype='object')\n",
      "First rows:\n",
      "   NUMPY\u0001  'fortran_order': False  'shape': (1662   )  \\\n",
      "0     NaN                     NaN             NaN NaN   \n",
      "1      õ?                      å¿             NaN NaN   \n",
      "2     Úð>                     NaN             NaN NaN   \n",
      "3     &â?                     NaN             NaN NaN   \n",
      "4     {?                     NaN             NaN NaN   \n",
      "\n",
      "    }                                                           \n",
      "0                                                NaN            \n",
      "1                                                NaN            \n",
      "2                                                NaN            \n",
      "3                                                NaN            \n",
      "4                                                NaN            \n",
      "Error processing file /Users/theerat/Downloads/MP_DATA3/สวัสดี/20/1.npy: 'Body'\n",
      "/Users/theerat/Downloads/MP_DATA3/สวัสดี/20/9.npy\n",
      "Columns: Index(['NUMPY\u0001', ' 'fortran_order': False', ' 'shape': (1662', ')',\n",
      "       ' }                                                         '],\n",
      "      dtype='object')\n",
      "First rows:\n",
      "   NUMPY\u0001  'fortran_order': False  'shape': (1662   )  \\\n",
      "0     NaN                      Ó?             B? NaN   \n",
      "1      þ?                     NaN             NaN NaN   \n",
      "2     ¿                     NaN             NaN NaN   \n",
      "3     Þ?                     âß?             NaN NaN   \n",
      "4     \u0014á?                     \u0006á?             NaN NaN   \n",
      "\n",
      "    }                                                           \n",
      "0                                                NaN            \n",
      "1                                                NaN            \n",
      "2                                                NaN            \n",
      "3                                                NaN            \n",
      "4                                                NaN            \n",
      "Error processing file /Users/theerat/Downloads/MP_DATA3/สวัสดี/20/9.npy: 'Body'\n",
      "/Users/theerat/Downloads/MP_DATA3/สวัสดี/20/8.npy\n",
      "Columns: Index(['NUMPY\u0001', ' 'fortran_order': False', ' 'shape': (1662', ')',\n",
      "       ' }                                                         '],\n",
      "      dtype='object')\n",
      "First rows:\n",
      "   NUMPY\u0001  'fortran_order': False  'shape': (1662   )  \\\n",
      "0     NaN                     NaN             NaN NaN   \n",
      "1     FÑ?                     NaN             NaN NaN   \n",
      "2      ë¿                     NaN             NaN NaN   \n",
      "3       ?                     NaN             NaN NaN   \n",
      "4     á?                     Ü¿             NaN NaN   \n",
      "\n",
      "    }                                                           \n",
      "0                                                NaN            \n",
      "1                                                NaN            \n",
      "2                                                NaN            \n",
      "3                                                NaN            \n",
      "4                                                NaN            \n",
      "Error processing file /Users/theerat/Downloads/MP_DATA3/สวัสดี/20/8.npy: 'Body'\n",
      "/Users/theerat/Downloads/MP_DATA3/สวัสดี/20/29.npy\n",
      "Columns: Index(['NUMPY\u0001', ' 'fortran_order': False', ' 'shape': (1662', ')',\n",
      "       ' }                                                         '],\n",
      "      dtype='object')\n",
      "First rows:\n",
      "   NUMPY\u0001  'fortran_order': False  'shape': (1662   )  \\\n",
      "0     NaN                      þ>             NaN NaN   \n",
      "1      à?                     ¿             NaN NaN   \n",
      "2      V¿                      á?             NaN NaN   \n",
      "3      ß?                      á?             ?? NaN   \n",
      "4      k¿                      ?             NaN NaN   \n",
      "\n",
      "    }                                                           \n",
      "0                                                NaN            \n",
      "1                                                NaN            \n",
      "2                                                NaN            \n",
      "3                                                NaN            \n",
      "4                                                NaN            \n",
      "Error processing file /Users/theerat/Downloads/MP_DATA3/สวัสดี/20/29.npy: 'Body'\n",
      "/Users/theerat/Downloads/MP_DATA3/สวัสดี/20/15.npy\n",
      "Columns: Index(['NUMPY\u0001', ' 'fortran_order': False', ' 'shape': (1662', ')',\n",
      "       ' }                                                         '],\n",
      "      dtype='object')\n",
      "First rows:\n",
      "   NUMPY\u0001  'fortran_order': False  'shape': (1662    )  \\\n",
      "0     NaN                     NaN             NaN  NaN   \n",
      "1      ý¿                      Û?             NaN  NaN   \n",
      "2      \u0004@                     Ñ£¿             NaN  NaN   \n",
      "3     Cá?                     NaN             NaN  NaN   \n",
      "4     ·Ò?                     NaN             NaN  NaN   \n",
      "\n",
      "   }                                                           \n",
      "0                                                NaN           \n",
      "1                                                NaN           \n",
      "2                                                NaN           \n",
      "3                                                NaN           \n",
      "4                                                NaN           \n",
      "Error processing file /Users/theerat/Downloads/MP_DATA3/สวัสดี/20/15.npy: 'Body'\n",
      "/Users/theerat/Downloads/MP_DATA3/สวัสดี/20/14.npy\n",
      "Columns: Index(['NUMPY\u0001', ' 'fortran_order': False', ' 'shape': (1662', ')',\n",
      "       ' }                                                         '],\n",
      "      dtype='object')\n",
      "First rows:\n",
      "   NUMPY\u0001  'fortran_order': False  'shape': (1662    )  \\\n",
      "0     NaN                     üï?              Ø?   ô?   \n",
      "1      á?                     NaN             NaN  NaN   \n",
      "2      á?                     NaN             NaN  NaN   \n",
      "3     ¿                     NaN             NaN  NaN   \n",
      "4      Ø?                     NaN             NaN  NaN   \n",
      "\n",
      "   }                                                           \n",
      "0                                                 Ê?           \n",
      "1                                                NaN           \n",
      "2                                                NaN           \n",
      "3                                                NaN           \n",
      "4                                                NaN           \n",
      "Error processing file /Users/theerat/Downloads/MP_DATA3/สวัสดี/20/14.npy: 'Body'\n",
      "/Users/theerat/Downloads/MP_DATA3/สวัสดี/20/28.npy\n",
      "Error processing file /Users/theerat/Downloads/MP_DATA3/สวัสดี/20/28.npy: Error tokenizing data. C error: Expected 5 fields in line 9, saw 6\n",
      "\n",
      "/Users/theerat/Downloads/MP_DATA3/สวัสดี/20/16.npy\n",
      "Columns: Index(['NUMPY\u0001', ' 'fortran_order': False', ' 'shape': (1662', ')',\n",
      "       ' }                                                         '],\n",
      "      dtype='object')\n",
      "First rows:\n",
      "   NUMPY\u0001  'fortran_order': False  'shape': (1662   )  \\\n",
      "0     NaN                     ê¿             NaN NaN   \n",
      "1    ?                     NaN             NaN NaN   \n",
      "2     mu?                     NaN             NaN NaN   \n",
      "3     ¤Õ?                      á?             Sá? NaN   \n",
      "4      à?                     NaN             NaN NaN   \n",
      "\n",
      "    }                                                           \n",
      "0                                                NaN            \n",
      "1                                                NaN            \n",
      "2                                                NaN            \n",
      "3                                                NaN            \n",
      "4                                                NaN            \n",
      "Error processing file /Users/theerat/Downloads/MP_DATA3/สวัสดี/20/16.npy: 'Body'\n",
      "/Users/theerat/Downloads/MP_DATA3/สวัสดี/20/17.npy\n",
      "Columns: Index(['NUMPY\u0001', ' 'fortran_order': False', ' 'shape': (1662', ')',\n",
      "       ' }                                                         '],\n",
      "      dtype='object')\n",
      "First rows:\n",
      "   NUMPY\u0001  'fortran_order': False  'shape': (1662   )  \\\n",
      "0     NaN                     NaN             NaN NaN   \n",
      "1     êà?                     \u0019¿             NaN NaN   \n",
      "2      ¿                     NaN             NaN NaN   \n",
      "3     tà?                     NaN             NaN NaN   \n",
      "4      o?                     NaN             NaN NaN   \n",
      "\n",
      "    }                                                           \n",
      "0                                                NaN            \n",
      "1                                                NaN            \n",
      "2                                                NaN            \n",
      "3                                                NaN            \n",
      "4                                                NaN            \n",
      "Error processing file /Users/theerat/Downloads/MP_DATA3/สวัสดี/20/17.npy: 'Body'\n",
      "/Users/theerat/Downloads/MP_DATA3/สวัสดี/20/13.npy\n",
      "Columns: Index(['NUMPY\u0001', ' 'fortran_order': False', ' 'shape': (1662', ')',\n",
      "       ' }                                                         '],\n",
      "      dtype='object')\n",
      "First rows:\n",
      "   NUMPY\u0001  'fortran_order': False  'shape': (1662   )  \\\n",
      "0     NaN                     Aã?              ? NaN   \n",
      "1     ¥ ?                      Ñ?             NaN NaN   \n",
      "2      Þ?                     NaN             NaN NaN   \n",
      "3     7Ñ?                     tà?              ß? NaN   \n",
      "4     Y¢?                     NaN             NaN NaN   \n",
      "\n",
      "    }                                                           \n",
      "0                                                NaN            \n",
      "1                                                NaN            \n",
      "2                                                NaN            \n",
      "3                                                NaN            \n",
      "4                                                NaN            \n",
      "Error processing file /Users/theerat/Downloads/MP_DATA3/สวัสดี/20/13.npy: 'Body'\n",
      "/Users/theerat/Downloads/MP_DATA3/สวัสดี/20/12.npy\n",
      "Columns: Index(['NUMPY\u0001', ' 'fortran_order': False', ' 'shape': (1662', ')',\n",
      "       ' }                                                         '],\n",
      "      dtype='object')\n",
      "First rows:\n",
      "   NUMPY\u0001  'fortran_order': False  'shape': (1662    )  \\\n",
      "0     NaN                     NaN             NaN  NaN   \n",
      "1      ã¿                     NaN             NaN  NaN   \n",
      "2     øè?                     ïÀ?             NaN  NaN   \n",
      "3      Ù?                     NaN             NaN  NaN   \n",
      "4      S?                     Và?             NaN  NaN   \n",
      "\n",
      "   }                                                           \n",
      "0                                                NaN           \n",
      "1                                                NaN           \n",
      "2                                                NaN           \n",
      "3                                                NaN           \n",
      "4                                                NaN           \n",
      "Error processing file /Users/theerat/Downloads/MP_DATA3/สวัสดี/20/12.npy: 'Body'\n",
      "/Users/theerat/Downloads/MP_DATA3/สวัสดี/20/10.npy\n",
      "Columns: Index(['NUMPY\u0001', ' 'fortran_order': False', ' 'shape': (1662', ')',\n",
      "       ' }                                                         '],\n",
      "      dtype='object')\n",
      "First rows:\n",
      "   NUMPY\u0001  'fortran_order': False  'shape': (1662    )  \\\n",
      "0     NaN                     NaN             NaN  NaN   \n",
      "1      õ?                     NaN             NaN  NaN   \n",
      "2      Ô?                     8\u0004@             NaN  NaN   \n",
      "3       ?                     NaN             NaN  NaN   \n",
      "4      £¿                     Hà?             NaN  NaN   \n",
      "\n",
      "    }                                                           \n",
      "0                                                NaN            \n",
      "1                                                NaN            \n",
      "2                                                NaN            \n",
      "3                                                NaN            \n",
      "4                                                NaN            \n",
      "Error processing file /Users/theerat/Downloads/MP_DATA3/สวัสดี/20/10.npy: 'Body'\n",
      "/Users/theerat/Downloads/MP_DATA3/สวัสดี/20/11.npy\n",
      "Columns: Index(['NUMPY\u0001', ' 'fortran_order': False', ' 'shape': (1662', ')',\n",
      "       ' }                                                         '],\n",
      "      dtype='object')\n",
      "First rows:\n",
      "   NUMPY\u0001  'fortran_order': False  'shape': (1662   )  \\\n",
      "0     NaN                     NaN             NaN NaN   \n",
      "1      ä?                     NaN             NaN NaN   \n",
      "2      ç?                     NaN             NaN NaN   \n",
      "3      á?                      Ð?             NaN NaN   \n",
      "4     ÛÙ?                     NaN             NaN NaN   \n",
      "\n",
      "    }                                                           \n",
      "0                                                NaN            \n",
      "1                                                NaN            \n",
      "2                                                NaN            \n",
      "3                                                NaN            \n",
      "4                                                NaN            \n",
      "Error processing file /Users/theerat/Downloads/MP_DATA3/สวัสดี/20/11.npy: 'Body'\n",
      "/Users/theerat/Downloads/MP_DATA3/สวัสดี/7/20.npy\n",
      "Columns: Index(['NUMPY\u0001', ' 'fortran_order': False', ' 'shape': (1662', ')',\n",
      "       ' }                                                         '],\n",
      "      dtype='object')\n",
      "First rows:\n",
      "   NUMPY\u0001  'fortran_order': False  'shape': (1662   )  \\\n",
      "0     NaN                     NaN             NaN NaN   \n",
      "1      ã?                      Ø?             NaN NaN   \n",
      "2      ï?                      á?              Ò? NaN   \n",
      "3     HÒ?                     NaN             NaN NaN   \n",
      "4      e¿                     NaN             NaN NaN   \n",
      "\n",
      "    }                                                           \n",
      "0                                                NaN            \n",
      "1                                                NaN            \n",
      "2                                                NaN            \n",
      "3                                                NaN            \n",
      "4                                                NaN            \n",
      "Error processing file /Users/theerat/Downloads/MP_DATA3/สวัสดี/7/20.npy: 'Body'\n",
      "/Users/theerat/Downloads/MP_DATA3/สวัสดี/7/21.npy\n",
      "Columns: Index(['NUMPY\u0001', ' 'fortran_order': False', ' 'shape': (1662', ')',\n",
      "       ' }                                                         '],\n",
      "      dtype='object')\n",
      "First rows:\n",
      "   NUMPY\u0001  'fortran_order': False  'shape': (1662   )  \\\n",
      "0     NaN                     NaN             NaN NaN   \n",
      "1     <à?                     NaN             NaN NaN   \n",
      "2      á?                      ¿             NaN NaN   \n",
      "3      p¿                     NaN             NaN NaN   \n",
      "4     \u0004á?                     NaN             NaN NaN   \n",
      "\n",
      "    }                                                           \n",
      "0                                                NaN            \n",
      "1                                                NaN            \n",
      "2                                                NaN            \n",
      "3                                                NaN            \n",
      "4                                                NaN            \n",
      "Error processing file /Users/theerat/Downloads/MP_DATA3/สวัสดี/7/21.npy: 'Body'\n",
      "/Users/theerat/Downloads/MP_DATA3/สวัสดี/7/23.npy\n",
      "Columns: Index(['NUMPY\u0001', ' 'fortran_order': False', ' 'shape': (1662', ')',\n",
      "       ' }                                                         '],\n",
      "      dtype='object')\n",
      "First rows:\n",
      "   NUMPY\u0001  'fortran_order': False  'shape': (1662    )  \\\n",
      "0     NaN                     NaN             NaN  NaN   \n",
      "1     è?                     NaN             NaN  NaN   \n",
      "2       ?                     NaN             NaN  NaN   \n",
      "3       ?                     NaN             NaN  NaN   \n",
      "4     \u0003Ó?                     Û¤¿             NaN  NaN   \n",
      "\n",
      "    }                                                           \n",
      "0                                                NaN            \n",
      "1                                                NaN            \n",
      "2                                                NaN            \n",
      "3                                                NaN            \n",
      "4                                                NaN            \n",
      "Error processing file /Users/theerat/Downloads/MP_DATA3/สวัสดี/7/23.npy: 'Body'\n",
      "/Users/theerat/Downloads/MP_DATA3/สวัสดี/7/22.npy\n",
      "Columns: Index(['NUMPY\u0001', ' 'fortran_order': False', ' 'shape': (1662', ')',\n",
      "       ' }                                                         '],\n",
      "      dtype='object')\n",
      "First rows:\n",
      "   NUMPY\u0001  'fortran_order': False  'shape': (1662   )  \\\n",
      "0     NaN                     ð\u0003@             NaN NaN   \n",
      "1      ¿                     NaN             NaN NaN   \n",
      "2      á?                     NaN             NaN NaN   \n",
      "3      á?                      ¿             NaN NaN   \n",
      "4     \u001b?                     NaN             NaN NaN   \n",
      "\n",
      "    }                                                           \n",
      "0                                                NaN            \n",
      "1                                                NaN            \n",
      "2                                                NaN            \n",
      "3                                                NaN            \n",
      "4                                                NaN            \n",
      "Error processing file /Users/theerat/Downloads/MP_DATA3/สวัสดี/7/22.npy: 'Body'\n",
      "/Users/theerat/Downloads/MP_DATA3/สวัสดี/7/26.npy\n",
      "Columns: Index(['NUMPY\u0001', ' 'fortran_order': False', ' 'shape': (1662', ')',\n",
      "       ' }                                                         '],\n",
      "      dtype='object')\n",
      "First rows:\n",
      "   NUMPY\u0001  'fortran_order': False  'shape': (1662    )  \\\n",
      "0     NaN                      Ó?             NaN  NaN   \n",
      "1      è?                     à?              £?   á?   \n",
      "2      ?                      á?             1ß?  NaN   \n",
      "3      ã?                     NaN             NaN  NaN   \n",
      "4      â?                     NaN             NaN  NaN   \n",
      "\n",
      "    }                                                           \n",
      "0                                                NaN            \n",
      "1                                                NaN            \n",
      "2                                                NaN            \n",
      "3                                                NaN            \n",
      "4                                                NaN            \n",
      "Error processing file /Users/theerat/Downloads/MP_DATA3/สวัสดี/7/26.npy: 'Body'\n",
      "/Users/theerat/Downloads/MP_DATA3/สวัสดี/7/27.npy\n",
      "Columns: Index(['NUMPY\u0001', ' 'fortran_order': False', ' 'shape': (1662', ')',\n",
      "       ' }                                                         '],\n",
      "      dtype='object')\n",
      "First rows:\n",
      "   NUMPY\u0001  'fortran_order': False  'shape': (1662    )  \\\n",
      "0     NaN                     NaN             NaN  NaN   \n",
      "1      ö?                      ï?             Àô?  ý?   \n",
      "2      \u0004@                      \u0006?              á?  NaN   \n",
      "3      ?                     NaN             NaN  NaN   \n",
      "4      ¿                     NaN             NaN  NaN   \n",
      "\n",
      "    }                                                           \n",
      "0                                                NaN            \n",
      "1                                                NaN            \n",
      "2                                                NaN            \n",
      "3                                                NaN            \n",
      "4                                                NaN            \n",
      "Error processing file /Users/theerat/Downloads/MP_DATA3/สวัสดี/7/27.npy: 'Body'\n",
      "/Users/theerat/Downloads/MP_DATA3/สวัสดี/7/25.npy\n",
      "Columns: Index(['NUMPY\u0001', ' 'fortran_order': False', ' 'shape': (1662', ')',\n",
      "       ' }                                                         '],\n",
      "      dtype='object')\n",
      "First rows:\n",
      "   NUMPY\u0001  'fortran_order': False  'shape': (1662    )  \\\n",
      "0     NaN                      á?             NaN  NaN   \n",
      "1     ç?                     NaN             NaN  NaN   \n",
      "2      Î?                     NaN             NaN  NaN   \n",
      "3     é\u0003@                     NaN             NaN  NaN   \n",
      "4      á?                     NaN             NaN  NaN   \n",
      "\n",
      "    }                                                           \n",
      "0                                                NaN            \n",
      "1                                                NaN            \n",
      "2                                                NaN            \n",
      "3                                                NaN            \n",
      "4                                                NaN            \n",
      "Error processing file /Users/theerat/Downloads/MP_DATA3/สวัสดี/7/25.npy: 'Body'\n",
      "/Users/theerat/Downloads/MP_DATA3/สวัสดี/7/19.npy\n",
      "Columns: Index(['NUMPY\u0001', ' 'fortran_order': False', ' 'shape': (1662', ')',\n",
      "       ' }                                                         '],\n",
      "      dtype='object')\n",
      "First rows:\n",
      "   NUMPY\u0001  'fortran_order': False  'shape': (1662    )  \\\n",
      "0     NaN                     NaN             NaN  NaN   \n",
      "1     nÑ?                     NaN             NaN  NaN   \n",
      "2     fÓ?                     NaN             NaN  NaN   \n",
      "3     ^â?                     NaN             NaN  NaN   \n",
      "4     2Ø?                     èî?             X\u0011?  NaN   \n",
      "\n",
      "    }                                                           \n",
      "0                                                NaN            \n",
      "1                                                NaN            \n",
      "2                                                NaN            \n",
      "3                                                NaN            \n",
      "4                                                NaN            \n",
      "Error processing file /Users/theerat/Downloads/MP_DATA3/สวัสดี/7/19.npy: 'Body'\n",
      "/Users/theerat/Downloads/MP_DATA3/สวัสดี/7/18.npy\n",
      "Columns: Index(['NUMPY\u0001', ' 'fortran_order': False', ' 'shape': (1662', ')',\n",
      "       ' }                                                         '],\n",
      "      dtype='object')\n",
      "First rows:\n",
      "   NUMPY\u0001  'fortran_order': False  'shape': (1662   )  \\\n",
      "0     NaN                     Çö¿             NaN NaN   \n",
      "1     ¬ô?                      Û?              ß? NaN   \n",
      "2     ß?                     NaN             NaN NaN   \n",
      "3     /u?                     ¤à?             NaN NaN   \n",
      "4      à?                      |?             Và? NaN   \n",
      "\n",
      "    }                                                           \n",
      "0                                                NaN            \n",
      "1                                                NaN            \n",
      "2                                                NaN            \n",
      "3                                                NaN            \n",
      "4                                                NaN            \n",
      "Error processing file /Users/theerat/Downloads/MP_DATA3/สวัสดี/7/18.npy: 'Body'\n",
      "/Users/theerat/Downloads/MP_DATA3/สวัสดี/7/24.npy\n",
      "Error processing file /Users/theerat/Downloads/MP_DATA3/สวัสดี/7/24.npy: Error tokenizing data. C error: Buffer overflow caught - possible malformed input file.\n",
      "\n",
      "/Users/theerat/Downloads/MP_DATA3/สวัสดี/7/5.npy\n",
      "Columns: Index(['NUMPY\u0001', ' 'fortran_order': False', ' 'shape': (1662', ')',\n",
      "       ' }                                                         '],\n",
      "      dtype='object')\n",
      "First rows:\n",
      "   NUMPY\u0001  'fortran_order': False  'shape': (1662   )  \\\n",
      "0     NaN                     NaN             NaN NaN   \n",
      "1     £Ð¿                     NaN             NaN NaN   \n",
      "2      Ò?                     NaN             NaN NaN   \n",
      "3     IÜ?                     Iå?             NaN NaN   \n",
      "4     «Ø?                     NaN             NaN NaN   \n",
      "\n",
      "    }                                                           \n",
      "0                                                NaN            \n",
      "1                                                NaN            \n",
      "2                                                NaN            \n",
      "3                                                NaN            \n",
      "4                                                NaN            \n",
      "Error processing file /Users/theerat/Downloads/MP_DATA3/สวัสดี/7/5.npy: 'Body'\n",
      "/Users/theerat/Downloads/MP_DATA3/สวัสดี/7/4.npy\n",
      "Columns: Index(['NUMPY\u0001', ' 'fortran_order': False', ' 'shape': (1662', ')',\n",
      "       ' }                                                         '],\n",
      "      dtype='object')\n",
      "First rows:\n",
      "   NUMPY\u0001  'fortran_order': False  'shape': (1662   )  \\\n",
      "0     NaN                     þï?             NaN NaN   \n",
      "1      Ó¿                     NaN             NaN NaN   \n",
      "2     ÓÖ?                     NaN             NaN NaN   \n",
      "3       ?                     NaN             NaN NaN   \n",
      "4      Ò?                     NaN             NaN NaN   \n",
      "\n",
      "    }                                                           \n",
      "0                                                NaN            \n",
      "1                                                NaN            \n",
      "2                                                NaN            \n",
      "3                                                NaN            \n",
      "4                                                NaN            \n",
      "Error processing file /Users/theerat/Downloads/MP_DATA3/สวัสดี/7/4.npy: 'Body'\n",
      "/Users/theerat/Downloads/MP_DATA3/สวัสดี/7/6.npy\n",
      "Columns: Index(['NUMPY\u0001', ' 'fortran_order': False', ' 'shape': (1662', ')',\n",
      "       ' }                                                         '],\n",
      "      dtype='object')\n",
      "First rows:\n",
      "   NUMPY\u0001  'fortran_order': False  'shape': (1662    )  \\\n",
      "0     NaN                     NaN             NaN  NaN   \n",
      "1     Eá?                     NaN             NaN  NaN   \n",
      "2     ÆØ?                     ?              á?   Ù?   \n",
      "3      ß?                     NaN             NaN  NaN   \n",
      "4      á?                     NaN             NaN  NaN   \n",
      "\n",
      "   }                                                           \n",
      "0                                                NaN           \n",
      "1                                                NaN           \n",
      "2                                                YÕ?           \n",
      "3                                                NaN           \n",
      "4                                                NaN           \n",
      "Error processing file /Users/theerat/Downloads/MP_DATA3/สวัสดี/7/6.npy: 'Body'\n",
      "/Users/theerat/Downloads/MP_DATA3/สวัสดี/7/7.npy\n",
      "Error processing file /Users/theerat/Downloads/MP_DATA3/สวัสดี/7/7.npy: Error tokenizing data. C error: Expected 5 fields in line 13, saw 6\n",
      "\n",
      "/Users/theerat/Downloads/MP_DATA3/สวัสดี/7/3.npy\n",
      "Error processing file /Users/theerat/Downloads/MP_DATA3/สวัสดี/7/3.npy: Error tokenizing data. C error: Buffer overflow caught - possible malformed input file.\n",
      "\n",
      "/Users/theerat/Downloads/MP_DATA3/สวัสดี/7/2.npy\n",
      "Error processing file /Users/theerat/Downloads/MP_DATA3/สวัสดี/7/2.npy: Error tokenizing data. C error: EOF inside string starting at row 17\n",
      "/Users/theerat/Downloads/MP_DATA3/สวัสดี/7/0.npy\n",
      "Columns: Index(['NUMPY\u0001', ' 'fortran_order': False', ' 'shape': (1662', ')',\n",
      "       ' }                                                         '],\n",
      "      dtype='object')\n",
      "First rows:\n",
      "   NUMPY\u0001  'fortran_order': False  'shape': (1662   )  \\\n",
      "0     NaN                     õá¿             NaN NaN   \n",
      "1      Ô?                     NaN             NaN NaN   \n",
      "2       ?                      Ñ?             fÎ? NaN   \n",
      "3     ¿                      T?             NaN NaN   \n",
      "4      Ð?                     NaN             NaN NaN   \n",
      "\n",
      "    }                                                           \n",
      "0                                                NaN            \n",
      "1                                                NaN            \n",
      "2                                                NaN            \n",
      "3                                                NaN            \n",
      "4                                                NaN            \n",
      "Error processing file /Users/theerat/Downloads/MP_DATA3/สวัสดี/7/0.npy: 'Body'\n",
      "/Users/theerat/Downloads/MP_DATA3/สวัสดี/7/1.npy\n",
      "Columns: Index(['NUMPY\u0001', ' 'fortran_order': False', ' 'shape': (1662', ')',\n",
      "       ' }                                                         '],\n",
      "      dtype='object')\n",
      "First rows:\n",
      "   NUMPY\u0001  'fortran_order': False  'shape': (1662    )  \\\n",
      "0     NaN                      Ê?             NaN  NaN   \n",
      "1     ëå?                     2Ö?              Â¿  \u000fà?   \n",
      "2     Ç?                     £?             NaN  NaN   \n",
      "3      ¿                     NaN             NaN  NaN   \n",
      "4     sá?                      A¿             NaN  NaN   \n",
      "\n",
      "   }                                                           \n",
      "0                                                NaN           \n",
      "1                                                NaN           \n",
      "2                                                NaN           \n",
      "3                                                NaN           \n",
      "4                                                NaN           \n",
      "Error processing file /Users/theerat/Downloads/MP_DATA3/สวัสดี/7/1.npy: 'Body'\n",
      "/Users/theerat/Downloads/MP_DATA3/สวัสดี/7/9.npy\n",
      "Columns: Index(['NUMPY\u0001', ' 'fortran_order': False', ' 'shape': (1662', ')',\n",
      "       ' }                                                         '],\n",
      "      dtype='object')\n",
      "First rows:\n",
      "   NUMPY\u0001  'fortran_order': False  'shape': (1662    )  \\\n",
      "0     NaN                     \u001bæ¿             NaN  NaN   \n",
      "1     þï?                     NaN             NaN  NaN   \n",
      "2      Ì?                     NaN             NaN  NaN   \n",
      "3     Ëõ?                     NaN             NaN  NaN   \n",
      "4     Ö\u0003@                     NaN             NaN  NaN   \n",
      "\n",
      "    }                                                           \n",
      "0                                                NaN            \n",
      "1                                                NaN            \n",
      "2                                                NaN            \n",
      "3                                                NaN            \n",
      "4                                                NaN            \n",
      "Error processing file /Users/theerat/Downloads/MP_DATA3/สวัสดี/7/9.npy: 'Body'\n",
      "/Users/theerat/Downloads/MP_DATA3/สวัสดี/7/8.npy\n",
      "Columns: Index(['NUMPY\u0001', ' 'fortran_order': False', ' 'shape': (1662', ')',\n",
      "       ' }                                                         '],\n",
      "      dtype='object')\n",
      "First rows:\n",
      "   NUMPY\u0001  'fortran_order': False  'shape': (1662    )  \\\n",
      "0     NaN                     Sî?             NaN  NaN   \n",
      "1     ?                      Ó?             NaN  NaN   \n",
      "2     1¿                     NaN             NaN  NaN   \n",
      "3     Ms¿                     NaN             NaN  NaN   \n",
      "4     ãß?                     NaN             NaN  NaN   \n",
      "\n",
      "    }                                                           \n",
      "0                                                NaN            \n",
      "1                                                NaN            \n",
      "2                                                NaN            \n",
      "3                                                NaN            \n",
      "4                                                NaN            \n",
      "Error processing file /Users/theerat/Downloads/MP_DATA3/สวัสดี/7/8.npy: 'Body'\n",
      "/Users/theerat/Downloads/MP_DATA3/สวัสดี/7/29.npy\n",
      "Columns: Index(['NUMPY\u0001', ' 'fortran_order': False', ' 'shape': (1662', ')',\n",
      "       ' }                                                         '],\n",
      "      dtype='object')\n",
      "First rows:\n",
      "   NUMPY\u0001  'fortran_order': False  'shape': (1662    )  \\\n",
      "0     NaN                      Ñ?             NaN  NaN   \n",
      "1     Pá¿                     NaN             NaN  NaN   \n",
      "2      ß?                     NaN             NaN  NaN   \n",
      "3     ÀÑ?                     8Ò?             \u001fç?  NaN   \n",
      "4      \u0004@                      á?              á?   Õ?   \n",
      "\n",
      "    }                                                           \n",
      "0                                                NaN            \n",
      "1                                                NaN            \n",
      "2                                                NaN            \n",
      "3                                                NaN            \n",
      "4                                                NaN            \n",
      "Error processing file /Users/theerat/Downloads/MP_DATA3/สวัสดี/7/29.npy: 'Body'\n",
      "/Users/theerat/Downloads/MP_DATA3/สวัสดี/7/15.npy\n",
      "Columns: Index(['NUMPY\u0001', ' 'fortran_order': False', ' 'shape': (1662', ')',\n",
      "       ' }                                                         '],\n",
      "      dtype='object')\n",
      "First rows:\n",
      "   NUMPY\u0001  'fortran_order': False  'shape': (1662    )  \\\n",
      "0     NaN                     NaN             NaN  NaN   \n",
      "1     þâ¿                      ä?             NaN  NaN   \n",
      "2      ô?                     NaN             NaN  NaN   \n",
      "3      Ó?                     [£¿              Ò?  l¿   \n",
      "4      [?                     NaN             NaN  NaN   \n",
      "\n",
      "   }                                                           \n",
      "0                                                NaN           \n",
      "1                                                NaN           \n",
      "2                                                NaN           \n",
      "3                                                NaN           \n",
      "4                                                NaN           \n",
      "Error processing file /Users/theerat/Downloads/MP_DATA3/สวัสดี/7/15.npy: 'Body'\n",
      "/Users/theerat/Downloads/MP_DATA3/สวัสดี/7/14.npy\n",
      "Error processing file /Users/theerat/Downloads/MP_DATA3/สวัสดี/7/14.npy: Error tokenizing data. C error: Expected 5 fields in line 12, saw 8\n",
      "\n",
      "/Users/theerat/Downloads/MP_DATA3/สวัสดี/7/28.npy\n",
      "Columns: Index(['NUMPY\u0001', ' 'fortran_order': False', ' 'shape': (1662', ')',\n",
      "       ' }                                                         '],\n",
      "      dtype='object')\n",
      "First rows:\n",
      "   NUMPY\u0001  'fortran_order': False  'shape': (1662   )  \\\n",
      "0     NaN                     NaN             NaN NaN   \n",
      "1      ß?                     NaN             NaN NaN   \n",
      "2     NaN                      à?             \u0001ã? NaN   \n",
      "3      \u0004@                     NaN             NaN NaN   \n",
      "4      Ô?                      á?             ZY¿ NaN   \n",
      "\n",
      "    }                                                           \n",
      "0                                                NaN            \n",
      "1                                                NaN            \n",
      "2                                                NaN            \n",
      "3                                                NaN            \n",
      "4                                                NaN            \n",
      "Error processing file /Users/theerat/Downloads/MP_DATA3/สวัสดี/7/28.npy: 'Body'\n",
      "/Users/theerat/Downloads/MP_DATA3/สวัสดี/7/16.npy\n",
      "Columns: Index(['NUMPY\u0001', ' 'fortran_order': False', ' 'shape': (1662', ')',\n",
      "       ' }                                                         '],\n",
      "      dtype='object')\n",
      "First rows:\n",
      "   NUMPY\u0001  'fortran_order': False  'shape': (1662   )  \\\n",
      "0     NaN                     þï?             NaN NaN   \n",
      "1     hâ?                      ä?             NaN NaN   \n",
      "2      Å¿                     NaN             NaN NaN   \n",
      "3     ÿÓ?                     NaN             NaN NaN   \n",
      "4     Ú\u0003@                     NaN             NaN NaN   \n",
      "\n",
      "    }                                                           \n",
      "0                                                NaN            \n",
      "1                                                NaN            \n",
      "2                                                NaN            \n",
      "3                                                NaN            \n",
      "4                                                NaN            \n",
      "Error processing file /Users/theerat/Downloads/MP_DATA3/สวัสดี/7/16.npy: 'Body'\n",
      "/Users/theerat/Downloads/MP_DATA3/สวัสดี/7/17.npy\n",
      "Columns: Index(['NUMPY\u0001', ' 'fortran_order': False', ' 'shape': (1662', ')',\n",
      "       ' }                                                         '],\n",
      "      dtype='object')\n",
      "First rows:\n",
      "   NUMPY\u0001  'fortran_order': False  'shape': (1662    )  \\\n",
      "0     NaN                     NaN             NaN  NaN   \n",
      "1      å¿                     ²Ñ?              Ø?   à?   \n",
      "2      á?                     NaN             NaN  NaN   \n",
      "3     à?                     NaN             NaN  NaN   \n",
      "4      Ð?                      ¿             NaN  NaN   \n",
      "\n",
      "   }                                                           \n",
      "0                                                NaN           \n",
      "1                                                NaN           \n",
      "2                                                NaN           \n",
      "3                                                NaN           \n",
      "4                                                NaN           \n",
      "Error processing file /Users/theerat/Downloads/MP_DATA3/สวัสดี/7/17.npy: 'Body'\n",
      "/Users/theerat/Downloads/MP_DATA3/สวัสดี/7/13.npy\n",
      "Columns: Index(['NUMPY\u0001', ' 'fortran_order': False', ' 'shape': (1662', ')',\n",
      "       ' }                                                         '],\n",
      "      dtype='object')\n",
      "First rows:\n",
      "   NUMPY\u0001  'fortran_order': False  'shape': (1662   )  \\\n",
      "0     NaN                     NaN             NaN NaN   \n",
      "1     Øå¿                     NaN             NaN NaN   \n",
      "2     µã¿                     ²Û?             NaN NaN   \n",
      "3       ?                     NaN             NaN NaN   \n",
      "4      ä?                     NaN             NaN NaN   \n",
      "\n",
      "    }                                                           \n",
      "0                                                NaN            \n",
      "1                                                NaN            \n",
      "2                                                NaN            \n",
      "3                                                NaN            \n",
      "4                                                NaN            \n",
      "Error processing file /Users/theerat/Downloads/MP_DATA3/สวัสดี/7/13.npy: 'Body'\n",
      "/Users/theerat/Downloads/MP_DATA3/สวัสดี/7/12.npy\n",
      "Error processing file /Users/theerat/Downloads/MP_DATA3/สวัสดี/7/12.npy: Error tokenizing data. C error: Buffer overflow caught - possible malformed input file.\n",
      "\n",
      "/Users/theerat/Downloads/MP_DATA3/สวัสดี/7/10.npy\n",
      "Columns: Index(['NUMPY\u0001', ' 'fortran_order': False', ' 'shape': (1662', ')',\n",
      "       ' }                                                         '],\n",
      "      dtype='object')\n",
      "First rows:\n",
      "   NUMPY\u0001  'fortran_order': False  'shape': (1662   )  \\\n",
      "0     NaN                     NaN             NaN NaN   \n",
      "1       ?                     NaN             NaN NaN   \n",
      "2      Ö¿                     Ò?             NaN NaN   \n",
      "3      ¿                     NaN             NaN NaN   \n",
      "4      á?                     NaN             NaN NaN   \n",
      "\n",
      "    }                                                           \n",
      "0                                                NaN            \n",
      "1                                                NaN            \n",
      "2                                                NaN            \n",
      "3                                                NaN            \n",
      "4                                                NaN            \n",
      "Error processing file /Users/theerat/Downloads/MP_DATA3/สวัสดี/7/10.npy: 'Body'\n",
      "/Users/theerat/Downloads/MP_DATA3/สวัสดี/7/11.npy\n",
      "Columns: Index(['NUMPY\u0001', ' 'fortran_order': False', ' 'shape': (1662', ')',\n",
      "       ' }                                                         '],\n",
      "      dtype='object')\n",
      "First rows:\n",
      "   NUMPY\u0001  'fortran_order': False  'shape': (1662    )  \\\n",
      "0     NaN                     >â?              ã?  NaN   \n",
      "1     VÔ?                     NaN             NaN  NaN   \n",
      "2       ?                     ae¿             NaN  NaN   \n",
      "3     YÑ?                      Ò?              Ù?  NaN   \n",
      "4      ?                     NaN             NaN  NaN   \n",
      "\n",
      "    }                                                           \n",
      "0                                                NaN            \n",
      "1                                                NaN            \n",
      "2                                                NaN            \n",
      "3                                                NaN            \n",
      "4                                                NaN            \n",
      "Error processing file /Users/theerat/Downloads/MP_DATA3/สวัสดี/7/11.npy: 'Body'\n",
      "/Users/theerat/Downloads/MP_DATA3/สวัสดี/17/20.npy\n",
      "Columns: Index(['NUMPY\u0001', ' 'fortran_order': False', ' 'shape': (1662', ')',\n",
      "       ' }                                                         '],\n",
      "      dtype='object')\n",
      "First rows:\n",
      "   NUMPY\u0001  'fortran_order': False  'shape': (1662    )  \\\n",
      "0     NaN                     NaN             NaN  NaN   \n",
      "1      é?                     NaN             NaN  NaN   \n",
      "2      Ô?                     NaN             NaN  NaN   \n",
      "3      ¾¿                     NaN             NaN  NaN   \n",
      "4      ß?                      ¿             NaN  NaN   \n",
      "\n",
      "   }                                                           \n",
      "0                                                NaN           \n",
      "1                                                NaN           \n",
      "2                                                NaN           \n",
      "3                                                NaN           \n",
      "4                                                NaN           \n",
      "Error processing file /Users/theerat/Downloads/MP_DATA3/สวัสดี/17/20.npy: 'Body'\n",
      "/Users/theerat/Downloads/MP_DATA3/สวัสดี/17/21.npy\n",
      "Error processing file /Users/theerat/Downloads/MP_DATA3/สวัสดี/17/21.npy: Error tokenizing data. C error: Expected 5 fields in line 8, saw 6\n",
      "\n",
      "/Users/theerat/Downloads/MP_DATA3/สวัสดี/17/23.npy\n",
      "Columns: Index(['NUMPY\u0001', ' 'fortran_order': False', ' 'shape': (1662', ')',\n",
      "       ' }                                                         '],\n",
      "      dtype='object')\n",
      "First rows:\n",
      "   NUMPY\u0001  'fortran_order': False  'shape': (1662    )  \\\n",
      "0     NaN                      Ñ?             NaN  NaN   \n",
      "1       ?                      á?              ß?  NaN   \n",
      "2      Ø?                     NaN             NaN  NaN   \n",
      "3     ÛÝ?                     NaN             NaN  NaN   \n",
      "4      ß?                     NaN             NaN  NaN   \n",
      "\n",
      "    }                                                           \n",
      "0                                                NaN            \n",
      "1                                                NaN            \n",
      "2                                                NaN            \n",
      "3                                                NaN            \n",
      "4                                                NaN            \n",
      "Error processing file /Users/theerat/Downloads/MP_DATA3/สวัสดี/17/23.npy: 'Body'\n",
      "/Users/theerat/Downloads/MP_DATA3/สวัสดี/17/22.npy\n",
      "Columns: Index(['NUMPY\u0001', ' 'fortran_order': False', ' 'shape': (1662', ')',\n",
      "       ' }                                                         '],\n",
      "      dtype='object')\n",
      "First rows:\n",
      "   NUMPY\u0001  'fortran_order': False  'shape': (1662    )  \\\n",
      "0     NaN                     þï?             üï?  NaN   \n",
      "1      Ò?                     NaN             NaN  NaN   \n",
      "2      ¿                     ºô?             NaN  NaN   \n",
      "3      9?                      á?              ¿  x£¿   \n",
      "4     ¿                      ¿             NaN  NaN   \n",
      "\n",
      "    }                                                           \n",
      "0                                                NaN            \n",
      "1                                                NaN            \n",
      "2                                                NaN            \n",
      "3                                                NaN            \n",
      "4                                                NaN            \n",
      "Error processing file /Users/theerat/Downloads/MP_DATA3/สวัสดี/17/22.npy: 'Body'\n",
      "/Users/theerat/Downloads/MP_DATA3/สวัสดี/17/26.npy\n",
      "Error processing file /Users/theerat/Downloads/MP_DATA3/สวัสดี/17/26.npy: Error tokenizing data. C error: EOF inside string starting at row 25\n",
      "/Users/theerat/Downloads/MP_DATA3/สวัสดี/17/27.npy\n",
      "Columns: Index(['NUMPY\u0001', ' 'fortran_order': False', ' 'shape': (1662', ')',\n",
      "       ' }                                                         '],\n",
      "      dtype='object')\n",
      "First rows:\n",
      "   NUMPY\u0001  'fortran_order': False  'shape': (1662    )  \\\n",
      "0     NaN                     NaN             NaN  NaN   \n",
      "1      ¥¿                     èà?             NaN  NaN   \n",
      "2      Ð?                     NaN             NaN  NaN   \n",
      "3      à?                     NaN             NaN  NaN   \n",
      "4     ¼à?                     ø¿             NaN  NaN   \n",
      "\n",
      "    }                                                           \n",
      "0                                                NaN            \n",
      "1                                                NaN            \n",
      "2                                                NaN            \n",
      "3                                                NaN            \n",
      "4                                                NaN            \n",
      "Error processing file /Users/theerat/Downloads/MP_DATA3/สวัสดี/17/27.npy: 'Body'\n",
      "/Users/theerat/Downloads/MP_DATA3/สวัสดี/17/25.npy\n",
      "Columns: Index(['NUMPY\u0001', ' 'fortran_order': False', ' 'shape': (1662', ')',\n",
      "       ' }                                                         '],\n",
      "      dtype='object')\n",
      "First rows:\n",
      "   NUMPY\u0001  'fortran_order': False  'shape': (1662    )  \\\n",
      "0     NaN                      è?             NaN  NaN   \n",
      "1     Gá?                     NaN             NaN  NaN   \n",
      "2     G?                     NaN             NaN  NaN   \n",
      "3     ZÞ?                     NaN             NaN  NaN   \n",
      "4     \u0014?                     NaN             NaN  NaN   \n",
      "\n",
      "    }                                                           \n",
      "0                                                NaN            \n",
      "1                                                NaN            \n",
      "2                                                NaN            \n",
      "3                                                NaN            \n",
      "4                                                NaN            \n",
      "Error processing file /Users/theerat/Downloads/MP_DATA3/สวัสดี/17/25.npy: 'Body'\n",
      "/Users/theerat/Downloads/MP_DATA3/สวัสดี/17/19.npy\n",
      "Columns: Index(['NUMPY\u0001', ' 'fortran_order': False', ' 'shape': (1662', ')',\n",
      "       ' }                                                         '],\n",
      "      dtype='object')\n",
      "First rows:\n",
      "   NUMPY\u0001  'fortran_order': False  'shape': (1662   )  \\\n",
      "0     NaN                     NaN             NaN NaN   \n",
      "1     NaN                     Ñß?              Ô? NaN   \n",
      "2      Õ?                      \\?             NaN NaN   \n",
      "3     Ð?                     NaN             NaN NaN   \n",
      "4     ÷Ý?                     NaN             NaN NaN   \n",
      "\n",
      "    }                                                           \n",
      "0                                                NaN            \n",
      "1                                                NaN            \n",
      "2                                                NaN            \n",
      "3                                                NaN            \n",
      "4                                                NaN            \n",
      "Error processing file /Users/theerat/Downloads/MP_DATA3/สวัสดี/17/19.npy: 'Body'\n",
      "/Users/theerat/Downloads/MP_DATA3/สวัสดี/17/18.npy\n",
      "Columns: Index(['NUMPY\u0001', ' 'fortran_order': False', ' 'shape': (1662', ')',\n",
      "       ' }                                                         '],\n",
      "      dtype='object')\n",
      "First rows:\n",
      "   NUMPY\u0001  'fortran_order': False  'shape': (1662   )  \\\n",
      "0     NaN                     NaN             NaN NaN   \n",
      "1      Ñ?                     \u0018Ñ?             NaN NaN   \n",
      "2      è?                     NaN             NaN NaN   \n",
      "3     p\u0001?                     NaN             NaN NaN   \n",
      "4      á?                     NaN             NaN NaN   \n",
      "\n",
      "    }                                                           \n",
      "0                                                NaN            \n",
      "1                                                NaN            \n",
      "2                                                NaN            \n",
      "3                                                NaN            \n",
      "4                                                NaN            \n",
      "Error processing file /Users/theerat/Downloads/MP_DATA3/สวัสดี/17/18.npy: 'Body'\n",
      "/Users/theerat/Downloads/MP_DATA3/สวัสดี/17/24.npy\n",
      "Columns: Index(['NUMPY\u0001', ' 'fortran_order': False', ' 'shape': (1662', ')',\n",
      "       ' }                                                         '],\n",
      "      dtype='object')\n",
      "First rows:\n",
      "   NUMPY\u0001  'fortran_order': False  'shape': (1662   )  \\\n",
      "0     NaN                      ?             NaN NaN   \n",
      "1     ÿÒ?                      ?             NaN NaN   \n",
      "2     Rá?                      ?              Ò? NaN   \n",
      "3     á¡¿                      C?             NaN NaN   \n",
      "4      ¿                     NaN             NaN NaN   \n",
      "\n",
      "    }                                                           \n",
      "0                                                NaN            \n",
      "1                                                NaN            \n",
      "2                                                NaN            \n",
      "3                                                NaN            \n",
      "4                                                NaN            \n",
      "Error processing file /Users/theerat/Downloads/MP_DATA3/สวัสดี/17/24.npy: 'Body'\n",
      "/Users/theerat/Downloads/MP_DATA3/สวัสดี/17/5.npy\n",
      "Columns: Index(['NUMPY\u0001', ' 'fortran_order': False', ' 'shape': (1662', ')',\n",
      "       ' }                                                         '],\n",
      "      dtype='object')\n",
      "First rows:\n",
      "   NUMPY\u0001  'fortran_order': False  'shape': (1662   )  \\\n",
      "0     NaN                     NaN             NaN NaN   \n",
      "1     ä?                     NaN             NaN NaN   \n",
      "2     Té?                     NaN             NaN NaN   \n",
      "3      Õ?                      ?              ? NaN   \n",
      "4       ?                     NaN             NaN NaN   \n",
      "\n",
      "    }                                                           \n",
      "0                                                NaN            \n",
      "1                                                NaN            \n",
      "2                                                NaN            \n",
      "3                                                NaN            \n",
      "4                                                NaN            \n",
      "Error processing file /Users/theerat/Downloads/MP_DATA3/สวัสดี/17/5.npy: 'Body'\n",
      "/Users/theerat/Downloads/MP_DATA3/สวัสดี/17/4.npy\n",
      "Columns: Index(['NUMPY\u0001', ' 'fortran_order': False', ' 'shape': (1662', ')',\n",
      "       ' }                                                         '],\n",
      "      dtype='object')\n",
      "First rows:\n",
      "   NUMPY\u0001  'fortran_order': False  'shape': (1662    )  \\\n",
      "0     NaN                      ß?             NaN  NaN   \n",
      "1      õ?                     NaN             NaN  NaN   \n",
      "2      Ë?                      à?             NaN  NaN   \n",
      "3      u?                     NaN             NaN  NaN   \n",
      "4     à?                     NaN             NaN  NaN   \n",
      "\n",
      "    }                                                           \n",
      "0                                                NaN            \n",
      "1                                                NaN            \n",
      "2                                                NaN            \n",
      "3                                                NaN            \n",
      "4                                                NaN            \n",
      "Error processing file /Users/theerat/Downloads/MP_DATA3/สวัสดี/17/4.npy: 'Body'\n",
      "/Users/theerat/Downloads/MP_DATA3/สวัสดี/17/6.npy\n",
      "Error processing file /Users/theerat/Downloads/MP_DATA3/สวัสดี/17/6.npy: Error tokenizing data. C error: Expected 5 fields in line 24, saw 6\n",
      "\n",
      "/Users/theerat/Downloads/MP_DATA3/สวัสดี/17/7.npy\n",
      "Columns: Index(['NUMPY\u0001', ' 'fortran_order': False', ' 'shape': (1662', ')',\n",
      "       ' }                                                         '],\n",
      "      dtype='object')\n",
      "First rows:\n",
      "   NUMPY\u0001  'fortran_order': False  'shape': (1662    )  \\\n",
      "0     NaN                     NaN             NaN  NaN   \n",
      "1      Ñ?                     V\u000e?             âÇ?  NaN   \n",
      "2     ]Ð?                     ¬Ð?             NaN  NaN   \n",
      "3     NaN                     NaN             NaN  NaN   \n",
      "4      Õ?                     NaN             NaN  NaN   \n",
      "\n",
      "   }                                                           \n",
      "0                                                NaN           \n",
      "1                                                NaN           \n",
      "2                                                NaN           \n",
      "3                                                NaN           \n",
      "4                                                NaN           \n",
      "Error processing file /Users/theerat/Downloads/MP_DATA3/สวัสดี/17/7.npy: 'Body'\n",
      "/Users/theerat/Downloads/MP_DATA3/สวัสดี/17/3.npy\n",
      "Columns: Index(['NUMPY\u0001', ' 'fortran_order': False', ' 'shape': (1662', ')',\n",
      "       ' }                                                         '],\n",
      "      dtype='object')\n",
      "First rows:\n",
      "   NUMPY\u0001  'fortran_order': False  'shape': (1662   )  \\\n",
      "0     NaN                     NaN             NaN NaN   \n",
      "1      Ò¿                     NaN             NaN NaN   \n",
      "2      î?                     NaN             NaN NaN   \n",
      "3      \u0003@                     NaN             NaN NaN   \n",
      "4      ¿                     NaN             NaN NaN   \n",
      "\n",
      "    }                                                           \n",
      "0                                                NaN            \n",
      "1                                                NaN            \n",
      "2                                                NaN            \n",
      "3                                                NaN            \n",
      "4                                                NaN            \n",
      "Error processing file /Users/theerat/Downloads/MP_DATA3/สวัสดี/17/3.npy: 'Body'\n",
      "/Users/theerat/Downloads/MP_DATA3/สวัสดี/17/2.npy\n",
      "Columns: Index(['NUMPY\u0001', ' 'fortran_order': False', ' 'shape': (1662', ')',\n",
      "       ' }                                                         '],\n",
      "      dtype='object')\n",
      "First rows:\n",
      "   NUMPY\u0001  'fortran_order': False  'shape': (1662   )  \\\n",
      "0     NaN                     \u0010ß?             NaN NaN   \n",
      "1     ç?                     NaN             NaN NaN   \n",
      "2      ù¿                     \u0012á?             NaN NaN   \n",
      "3     \u0003Ø?                     NaN             NaN NaN   \n",
      "4     Ö?                     NaN             NaN NaN   \n",
      "\n",
      "    }                                                           \n",
      "0                                                NaN            \n",
      "1                                                NaN            \n",
      "2                                                NaN            \n",
      "3                                                NaN            \n",
      "4                                                NaN            \n",
      "Error processing file /Users/theerat/Downloads/MP_DATA3/สวัสดี/17/2.npy: 'Body'\n",
      "/Users/theerat/Downloads/MP_DATA3/สวัสดี/17/0.npy\n",
      "Columns: Index(['NUMPY\u0001', ' 'fortran_order': False', ' 'shape': (1662', ')',\n",
      "       ' }                                                         '],\n",
      "      dtype='object')\n",
      "First rows:\n",
      "   NUMPY\u0001  'fortran_order': False  'shape': (1662   )  \\\n",
      "0     NaN                     NaN             NaN NaN   \n",
      "1      Ñ?                     Sà?             NaN NaN   \n",
      "2     ×?                     NaN             NaN NaN   \n",
      "3      Õ¿                     NaN             NaN NaN   \n",
      "4     \u0003Î?                     NaN             NaN NaN   \n",
      "\n",
      "    }                                                           \n",
      "0                                                NaN            \n",
      "1                                                NaN            \n",
      "2                                                NaN            \n",
      "3                                                NaN            \n",
      "4                                                NaN            \n",
      "Error processing file /Users/theerat/Downloads/MP_DATA3/สวัสดี/17/0.npy: 'Body'\n",
      "/Users/theerat/Downloads/MP_DATA3/สวัสดี/17/1.npy\n",
      "Columns: Index(['NUMPY\u0001', ' 'fortran_order': False', ' 'shape': (1662', ')',\n",
      "       ' }                                                         '],\n",
      "      dtype='object')\n",
      "First rows:\n",
      "   NUMPY\u0001  'fortran_order': False  'shape': (1662   )  \\\n",
      "0     NaN                     NaN             NaN NaN   \n",
      "1     üï?                     NaN             NaN NaN   \n",
      "2      Õ?                     NaN             NaN NaN   \n",
      "3       ?                     NaN             NaN NaN   \n",
      "4      á?                     NaN             NaN NaN   \n",
      "\n",
      "    }                                                           \n",
      "0                                                NaN            \n",
      "1                                                NaN            \n",
      "2                                                NaN            \n",
      "3                                                NaN            \n",
      "4                                                NaN            \n",
      "Error processing file /Users/theerat/Downloads/MP_DATA3/สวัสดี/17/1.npy: 'Body'\n",
      "/Users/theerat/Downloads/MP_DATA3/สวัสดี/17/9.npy\n",
      "Error processing file /Users/theerat/Downloads/MP_DATA3/สวัสดี/17/9.npy: Error tokenizing data. C error: Expected 5 fields in line 23, saw 6\n",
      "\n",
      "/Users/theerat/Downloads/MP_DATA3/สวัสดี/17/8.npy\n",
      "Columns: Index(['NUMPY\u0001', ' 'fortran_order': False', ' 'shape': (1662', ')',\n",
      "       ' }                                                         '],\n",
      "      dtype='object')\n",
      "First rows:\n",
      "   NUMPY\u0001  'fortran_order': False  'shape': (1662    )  \\\n",
      "0     NaN                     \u0007\u0016¿             NaN  NaN   \n",
      "1      ×?                     NaN             NaN  NaN   \n",
      "2     ?Ô?                     NaN             NaN  NaN   \n",
      "3      Ð?                     NaN             NaN  NaN   \n",
      "4      Ò?                     ~t?             NaN  NaN   \n",
      "\n",
      "    }                                                           \n",
      "0                                                NaN            \n",
      "1                                                NaN            \n",
      "2                                                NaN            \n",
      "3                                                NaN            \n",
      "4                                                NaN            \n",
      "Error processing file /Users/theerat/Downloads/MP_DATA3/สวัสดี/17/8.npy: 'Body'\n",
      "/Users/theerat/Downloads/MP_DATA3/สวัสดี/17/29.npy\n",
      "Columns: Index(['NUMPY\u0001', ' 'fortran_order': False', ' 'shape': (1662', ')',\n",
      "       ' }                                                         '],\n",
      "      dtype='object')\n",
      "First rows:\n",
      "   NUMPY\u0001  'fortran_order': False  'shape': (1662    )  \\\n",
      "0     NaN                     NaN             NaN  NaN   \n",
      "1     ûâ?                     NaN             NaN  NaN   \n",
      "2     Ûâ¿                     NaN             NaN  NaN   \n",
      "3     þï?                      ¸¿              è?  NaN   \n",
      "4      Å?                     NaN             NaN  NaN   \n",
      "\n",
      "   }                                                           \n",
      "0                                                NaN           \n",
      "1                                                NaN           \n",
      "2                                                NaN           \n",
      "3                                                NaN           \n",
      "4                                                NaN           \n",
      "Error processing file /Users/theerat/Downloads/MP_DATA3/สวัสดี/17/29.npy: 'Body'\n",
      "/Users/theerat/Downloads/MP_DATA3/สวัสดี/17/15.npy\n",
      "Error processing file /Users/theerat/Downloads/MP_DATA3/สวัสดี/17/15.npy: Error tokenizing data. C error: Expected 5 fields in line 15, saw 6\n",
      "\n",
      "/Users/theerat/Downloads/MP_DATA3/สวัสดี/17/14.npy\n",
      "Columns: Index(['NUMPY\u0001', ' 'fortran_order': False', ' 'shape': (1662', ')',\n",
      "       ' }                                                         '],\n",
      "      dtype='object')\n",
      "First rows:\n",
      "   NUMPY\u0001  'fortran_order': False  'shape': (1662    )  \\\n",
      "0     NaN                     NaN             NaN  NaN   \n",
      "1     ~ù¿                      é?             o\u0003@  NaN   \n",
      "2      Ö?                     NaN             NaN  NaN   \n",
      "3     ïÓ?                     NaN             NaN  NaN   \n",
      "4     [Ý?                      Þ?             NaN  NaN   \n",
      "\n",
      "    }                                                           \n",
      "0                                                NaN            \n",
      "1                                                NaN            \n",
      "2                                                NaN            \n",
      "3                                                NaN            \n",
      "4                                                NaN            \n",
      "Error processing file /Users/theerat/Downloads/MP_DATA3/สวัสดี/17/14.npy: 'Body'\n",
      "/Users/theerat/Downloads/MP_DATA3/สวัสดี/17/28.npy\n",
      "Columns: Index(['NUMPY\u0001', ' 'fortran_order': False', ' 'shape': (1662', ')',\n",
      "       ' }                                                         '],\n",
      "      dtype='object')\n",
      "First rows:\n",
      "   NUMPY\u0001  'fortran_order': False  'shape': (1662    )  \\\n",
      "0     NaN                     þï?             ÇÑ?  NaN   \n",
      "1      á?                     +Þ?             NaN  NaN   \n",
      "2      ¿                     «à?             NaN  NaN   \n",
      "3      Þ?                     NaN             NaN  NaN   \n",
      "4      á?                      Õ?             øÝ?  NaN   \n",
      "\n",
      "    }                                                           \n",
      "0                                                NaN            \n",
      "1                                                NaN            \n",
      "2                                                NaN            \n",
      "3                                                NaN            \n",
      "4                                                NaN            \n",
      "Error processing file /Users/theerat/Downloads/MP_DATA3/สวัสดี/17/28.npy: 'Body'\n",
      "/Users/theerat/Downloads/MP_DATA3/สวัสดี/17/16.npy\n",
      "Columns: Index(['NUMPY\u0001', ' 'fortran_order': False', ' 'shape': (1662', ')',\n",
      "       ' }                                                         '],\n",
      "      dtype='object')\n",
      "First rows:\n",
      "   NUMPY\u0001  'fortran_order': False  'shape': (1662   )  \\\n",
      "0     NaN                     NaN             NaN NaN   \n",
      "1      ç¿                     NaN             NaN NaN   \n",
      "2     iÑ?                     NaN             NaN NaN   \n",
      "3      Ø?                     NaN             NaN NaN   \n",
      "4     úÚ?                     NaN             NaN NaN   \n",
      "\n",
      "    }                                                           \n",
      "0                                                NaN            \n",
      "1                                                NaN            \n",
      "2                                                NaN            \n",
      "3                                                NaN            \n",
      "4                                                NaN            \n",
      "Error processing file /Users/theerat/Downloads/MP_DATA3/สวัสดี/17/16.npy: 'Body'\n",
      "/Users/theerat/Downloads/MP_DATA3/สวัสดี/17/17.npy\n",
      "Columns: Index(['NUMPY\u0001', ' 'fortran_order': False', ' 'shape': (1662', ')',\n",
      "       ' }                                                         '],\n",
      "      dtype='object')\n",
      "First rows:\n",
      "   NUMPY\u0001  'fortran_order': False  'shape': (1662    )  \\\n",
      "0     NaN                     NaN             NaN  NaN   \n",
      "1      Ø?                     NaN             NaN  NaN   \n",
      "2     Iï?                     ø¿              \u0002?  NaN   \n",
      "3       ?                      á?             .á?  NaN   \n",
      "4     öÞ?                     \u0010Ø?             °?   Ê?   \n",
      "\n",
      "   }                                                           \n",
      "0                                                NaN           \n",
      "1                                                NaN           \n",
      "2                                                NaN           \n",
      "3                                                NaN           \n",
      "4                                                NaN           \n",
      "Error processing file /Users/theerat/Downloads/MP_DATA3/สวัสดี/17/17.npy: 'Body'\n",
      "/Users/theerat/Downloads/MP_DATA3/สวัสดี/17/13.npy\n",
      "Columns: Index(['NUMPY\u0001', ' 'fortran_order': False', ' 'shape': (1662', ')',\n",
      "       ' }                                                         '],\n",
      "      dtype='object')\n",
      "First rows:\n",
      "   NUMPY\u0001  'fortran_order': False  'shape': (1662    )  \\\n",
      "0     NaN                     NaN             NaN  NaN   \n",
      "1     \u0019Ó?                     \u0015j¿             NaN  NaN   \n",
      "2      ¿                     NaN             NaN  NaN   \n",
      "3     \u001c¿                      Ð?             eÝ?   Ý?   \n",
      "4     L2¿                     NaN             NaN  NaN   \n",
      "\n",
      "   }                                                           \n",
      "0                                                NaN           \n",
      "1                                                NaN           \n",
      "2                                                NaN           \n",
      "3                                                \u0006Õ?           \n",
      "4                                                NaN           \n",
      "Error processing file /Users/theerat/Downloads/MP_DATA3/สวัสดี/17/13.npy: 'Body'\n",
      "/Users/theerat/Downloads/MP_DATA3/สวัสดี/17/12.npy\n",
      "Columns: Index(['NUMPY\u0001', ' 'fortran_order': False', ' 'shape': (1662', ')',\n",
      "       ' }                                                         '],\n",
      "      dtype='object')\n",
      "First rows:\n",
      "   NUMPY\u0001  'fortran_order': False  'shape': (1662    )  \\\n",
      "0     NaN                     NaN             NaN  NaN   \n",
      "1     ÆÒ¿                     NaN             NaN  NaN   \n",
      "2     ç?                     ·Õ?             %Ñ¿  à?   \n",
      "3     \u0015Ò?                     NaN             NaN  NaN   \n",
      "4     à?                     Ä ?             \u000fÞ?  NaN   \n",
      "\n",
      "   }                                                           \n",
      "0                                                NaN           \n",
      "1                                                NaN           \n",
      "2                                                NaN           \n",
      "3                                                NaN           \n",
      "4                                                NaN           \n",
      "Error processing file /Users/theerat/Downloads/MP_DATA3/สวัสดี/17/12.npy: 'Body'\n",
      "/Users/theerat/Downloads/MP_DATA3/สวัสดี/17/10.npy\n",
      "Columns: Index(['NUMPY\u0001', ' 'fortran_order': False', ' 'shape': (1662', ')',\n",
      "       ' }                                                         '],\n",
      "      dtype='object')\n",
      "First rows:\n",
      "   NUMPY\u0001  'fortran_order': False  'shape': (1662   )  \\\n",
      "0     NaN                     NaN             NaN NaN   \n",
      "1     %á?                     NaN             NaN NaN   \n",
      "2      Ñ?                     NaN             NaN NaN   \n",
      "3     \u0016Ö?                     NaN             NaN NaN   \n",
      "4      ~?                     15?             NaN NaN   \n",
      "\n",
      "    }                                                           \n",
      "0                                                NaN            \n",
      "1                                                NaN            \n",
      "2                                                NaN            \n",
      "3                                                NaN            \n",
      "4                                                NaN            \n",
      "Error processing file /Users/theerat/Downloads/MP_DATA3/สวัสดี/17/10.npy: 'Body'\n",
      "/Users/theerat/Downloads/MP_DATA3/สวัสดี/17/11.npy\n",
      "Error processing file /Users/theerat/Downloads/MP_DATA3/สวัสดี/17/11.npy: Error tokenizing data. C error: Expected 5 fields in line 30, saw 7\n",
      "\n",
      "/Users/theerat/Downloads/MP_DATA3/สวัสดี/10/20.npy\n",
      "Columns: Index(['NUMPY\u0001', ' 'fortran_order': False', ' 'shape': (1662', ')',\n",
      "       ' }                                                         '],\n",
      "      dtype='object')\n",
      "First rows:\n",
      "   NUMPY\u0001  'fortran_order': False  'shape': (1662    )  \\\n",
      "0     NaN                     \u000fÑ?             NaN  NaN   \n",
      "1     \u0001Î¿                      è?             NaN  ý?   \n",
      "2     ¤¿                     NaN             NaN  NaN   \n",
      "3      á?                     NaN             NaN  NaN   \n",
      "4      á?                      m¿              Þ?  NaN   \n",
      "\n",
      "    }                                                           \n",
      "0                                                NaN            \n",
      "1                                                NaN            \n",
      "2                                                NaN            \n",
      "3                                                NaN            \n",
      "4                                                NaN            \n",
      "Error processing file /Users/theerat/Downloads/MP_DATA3/สวัสดี/10/20.npy: 'Body'\n",
      "/Users/theerat/Downloads/MP_DATA3/สวัสดี/10/21.npy\n",
      "Error processing file /Users/theerat/Downloads/MP_DATA3/สวัสดี/10/21.npy: Error tokenizing data. C error: Expected 5 fields in line 3, saw 6\n",
      "\n",
      "/Users/theerat/Downloads/MP_DATA3/สวัสดี/10/23.npy\n",
      "Columns: Index(['NUMPY\u0001', ' 'fortran_order': False', ' 'shape': (1662', ')',\n",
      "       ' }                                                         '],\n",
      "      dtype='object')\n",
      "First rows:\n",
      "   NUMPY\u0001  'fortran_order': False  'shape': (1662   )  \\\n",
      "0     NaN                     NaN             NaN NaN   \n",
      "1       ?                     NaN             NaN NaN   \n",
      "2      Ô¿                      ß?             NaN NaN   \n",
      "3     ñ¿                     NaN             NaN NaN   \n",
      "4      ¿                     NaN             NaN NaN   \n",
      "\n",
      "    }                                                           \n",
      "0                                                NaN            \n",
      "1                                                NaN            \n",
      "2                                                NaN            \n",
      "3                                                NaN            \n",
      "4                                                NaN            \n",
      "Error processing file /Users/theerat/Downloads/MP_DATA3/สวัสดี/10/23.npy: 'Body'\n",
      "/Users/theerat/Downloads/MP_DATA3/สวัสดี/10/22.npy\n",
      "Columns: Index(['NUMPY\u0001', ' 'fortran_order': False', ' 'shape': (1662', ')',\n",
      "       ' }                                                         '],\n",
      "      dtype='object')\n",
      "First rows:\n",
      "   NUMPY\u0001  'fortran_order': False  'shape': (1662   )  \\\n",
      "0     NaN                     NaN             NaN NaN   \n",
      "1     üï?                      Ó?             ÍÝ? NaN   \n",
      "2     :à?                     NaN             NaN NaN   \n",
      "3     _Ú?                     Sí?             NaN NaN   \n",
      "4      Õ?                     W¿             NaN NaN   \n",
      "\n",
      "    }                                                           \n",
      "0                                                NaN            \n",
      "1                                                NaN            \n",
      "2                                                NaN            \n",
      "3                                                NaN            \n",
      "4                                                NaN            \n",
      "Error processing file /Users/theerat/Downloads/MP_DATA3/สวัสดี/10/22.npy: 'Body'\n",
      "/Users/theerat/Downloads/MP_DATA3/สวัสดี/10/26.npy\n",
      "Columns: Index(['NUMPY\u0001', ' 'fortran_order': False', ' 'shape': (1662', ')',\n",
      "       ' }                                                         '],\n",
      "      dtype='object')\n",
      "First rows:\n",
      "   NUMPY\u0001  'fortran_order': False  'shape': (1662    )  \\\n",
      "0     NaN                     Bß?              Ï?  NaN   \n",
      "1     ~Ø?                     NaN             NaN  NaN   \n",
      "2     W­?                     NaN             NaN  NaN   \n",
      "3      ß?                     NaN             NaN  NaN   \n",
      "4     º7¿                     NaN             NaN  NaN   \n",
      "\n",
      "    }                                                           \n",
      "0                                                NaN            \n",
      "1                                                NaN            \n",
      "2                                                NaN            \n",
      "3                                                NaN            \n",
      "4                                                NaN            \n",
      "Error processing file /Users/theerat/Downloads/MP_DATA3/สวัสดี/10/26.npy: 'Body'\n",
      "/Users/theerat/Downloads/MP_DATA3/สวัสดี/10/27.npy\n",
      "Columns: Index(['NUMPY\u0001', ' 'fortran_order': False', ' 'shape': (1662', ')',\n",
      "       ' }                                                         '],\n",
      "      dtype='object')\n",
      "First rows:\n",
      "   NUMPY\u0001  'fortran_order': False  'shape': (1662    )  \\\n",
      "0     NaN                      Ô?             °á¿  NaN   \n",
      "1      ã?                     NaN             NaN  NaN   \n",
      "2      ß?                     NaN             NaN  NaN   \n",
      "3      Ù?                     NaN             NaN  NaN   \n",
      "4      ×?                     \u0017Ü?             NaN  NaN   \n",
      "\n",
      "    }                                                           \n",
      "0                                                NaN            \n",
      "1                                                NaN            \n",
      "2                                                NaN            \n",
      "3                                                NaN            \n",
      "4                                                NaN            \n",
      "Error processing file /Users/theerat/Downloads/MP_DATA3/สวัสดี/10/27.npy: 'Body'\n",
      "/Users/theerat/Downloads/MP_DATA3/สวัสดี/10/25.npy\n",
      "Columns: Index(['NUMPY\u0001', ' 'fortran_order': False', ' 'shape': (1662', ')',\n",
      "       ' }                                                         '],\n",
      "      dtype='object')\n",
      "First rows:\n",
      "   NUMPY\u0001  'fortran_order': False  'shape': (1662   )  \\\n",
      "0     NaN                      Î?              Ó¿ NaN   \n",
      "1      á?                     NaN             NaN NaN   \n",
      "2     à?                     NaN             NaN NaN   \n",
      "3     Uà?                     8Ï?             NaN NaN   \n",
      "4     ÎÒ?                     NaN             NaN NaN   \n",
      "\n",
      "    }                                                           \n",
      "0                                                NaN            \n",
      "1                                                NaN            \n",
      "2                                                NaN            \n",
      "3                                                NaN            \n",
      "4                                                NaN            \n",
      "Error processing file /Users/theerat/Downloads/MP_DATA3/สวัสดี/10/25.npy: 'Body'\n",
      "/Users/theerat/Downloads/MP_DATA3/สวัสดี/10/19.npy\n",
      "Columns: Index(['NUMPY\u0001', ' 'fortran_order': False', ' 'shape': (1662', ')',\n",
      "       ' }                                                         '],\n",
      "      dtype='object')\n",
      "First rows:\n",
      "   NUMPY\u0001  'fortran_order': False  'shape': (1662    )  \\\n",
      "0     NaN                     NaN             NaN  NaN   \n",
      "1      Ñ?                     mà?              Õ?   Ý?   \n",
      "2      á?                     NaN             NaN  NaN   \n",
      "3     ÌÈ?                     H¿              Ñ?   Ò?   \n",
      "4      ?                     NaN             NaN  NaN   \n",
      "\n",
      "   }                                                           \n",
      "0                                                NaN           \n",
      "1                                                \fÐ?           \n",
      "2                                                NaN           \n",
      "3                                                NaN           \n",
      "4                                                NaN           \n",
      "Error processing file /Users/theerat/Downloads/MP_DATA3/สวัสดี/10/19.npy: 'Body'\n",
      "/Users/theerat/Downloads/MP_DATA3/สวัสดี/10/18.npy\n",
      "Columns: Index(['NUMPY\u0001', ' 'fortran_order': False', ' 'shape': (1662', ')',\n",
      "       ' }                                                         '],\n",
      "      dtype='object')\n",
      "First rows:\n",
      "   NUMPY\u0001  'fortran_order': False  'shape': (1662    )  \\\n",
      "0     NaN                     NaN             NaN  NaN   \n",
      "1      â?                     NaN             NaN  NaN   \n",
      "2      ã?                     Ó?              À¿   Õ¿   \n",
      "3     ³ô?                     s¿             _\u0003@  NaN   \n",
      "4      \u0004@                     NaN             NaN  NaN   \n",
      "\n",
      "    }                                                           \n",
      "0                                                NaN            \n",
      "1                                                NaN            \n",
      "2                                                NaN            \n",
      "3                                                NaN            \n",
      "4                                                NaN            \n",
      "Error processing file /Users/theerat/Downloads/MP_DATA3/สวัสดี/10/18.npy: 'Body'\n",
      "/Users/theerat/Downloads/MP_DATA3/สวัสดี/10/24.npy\n",
      "Columns: Index(['NUMPY\u0001', ' 'fortran_order': False', ' 'shape': (1662', ')',\n",
      "       ' }                                                         '],\n",
      "      dtype='object')\n",
      "First rows:\n",
      "   NUMPY\u0001  'fortran_order': False  'shape': (1662    )  \\\n",
      "0     NaN                     NaN             NaN  NaN   \n",
      "1      Ñ?                     NaN             NaN  NaN   \n",
      "2     ?Ø?                     NaN             NaN  NaN   \n",
      "3      ç?                     NaN             NaN  NaN   \n",
      "4     L\u0001?                     NaN             NaN  NaN   \n",
      "\n",
      "   }                                                           \n",
      "0                                                NaN           \n",
      "1                                                NaN           \n",
      "2                                                NaN           \n",
      "3                                                NaN           \n",
      "4                                                NaN           \n",
      "Error processing file /Users/theerat/Downloads/MP_DATA3/สวัสดี/10/24.npy: 'Body'\n",
      "/Users/theerat/Downloads/MP_DATA3/สวัสดี/10/5.npy\n",
      "Columns: Index(['NUMPY\u0001', ' 'fortran_order': False', ' 'shape': (1662', ')',\n",
      "       ' }                                                         '],\n",
      "      dtype='object')\n",
      "First rows:\n",
      "   NUMPY\u0001  'fortran_order': False  'shape': (1662    )  \\\n",
      "0     NaN                     NaN             NaN  NaN   \n",
      "1     Dâ?                     ¥ã¿             »ó?  NaN   \n",
      "2     NaN                      \u0017?             NaN  NaN   \n",
      "3      Ó?                     fá?             NaN  NaN   \n",
      "4      à?                     NaN             NaN  NaN   \n",
      "\n",
      "   }                                                           \n",
      "0                                                NaN           \n",
      "1                                                NaN           \n",
      "2                                                NaN           \n",
      "3                                                NaN           \n",
      "4                                                NaN           \n",
      "Error processing file /Users/theerat/Downloads/MP_DATA3/สวัสดี/10/5.npy: 'Body'\n",
      "/Users/theerat/Downloads/MP_DATA3/สวัสดี/10/4.npy\n",
      "Error processing file /Users/theerat/Downloads/MP_DATA3/สวัสดี/10/4.npy: Error tokenizing data. C error: Expected 5 fields in line 6, saw 7\n",
      "\n",
      "/Users/theerat/Downloads/MP_DATA3/สวัสดี/10/6.npy\n",
      "Columns: Index(['NUMPY\u0001', ' 'fortran_order': False', ' 'shape': (1662', ')',\n",
      "       ' }                                                         '],\n",
      "      dtype='object')\n",
      "First rows:\n",
      "   NUMPY\u0001  'fortran_order': False   'shape': (1662   )  \\\n",
      "0     NaN                     þï?              NaN NaN   \n",
      "1     ãè?                     NaN              NaN NaN   \n",
      "2     ²Ð?                     NaN              NaN NaN   \n",
      "3      ¿                     NaN              NaN NaN   \n",
      "4      É?                     NaN              NaN NaN   \n",
      "\n",
      "    }                                                           \n",
      "0                                                NaN            \n",
      "1                                                NaN            \n",
      "2                                                NaN            \n",
      "3                                                NaN            \n",
      "4                                                NaN            \n",
      "Error processing file /Users/theerat/Downloads/MP_DATA3/สวัสดี/10/6.npy: 'Body'\n",
      "/Users/theerat/Downloads/MP_DATA3/สวัสดี/10/7.npy\n",
      "Columns: Index(['NUMPY\u0001', ' 'fortran_order': False', ' 'shape': (1662', ')',\n",
      "       ' }                                                         '],\n",
      "      dtype='object')\n",
      "First rows:\n",
      "   NUMPY\u0001  'fortran_order': False  'shape': (1662    )  \\\n",
      "0     NaN                     +ö?             NaN  NaN   \n",
      "1     ?                      Õ?              á?   á?   \n",
      "2      à?                      Õ?             NaN  NaN   \n",
      "3     Ñ¿                     NaN             NaN  NaN   \n",
      "4      á?                     NaN             NaN  NaN   \n",
      "\n",
      "    }                                                           \n",
      "0                                                NaN            \n",
      "1                                                NaN            \n",
      "2                                                NaN            \n",
      "3                                                NaN            \n",
      "4                                                NaN            \n",
      "Error processing file /Users/theerat/Downloads/MP_DATA3/สวัสดี/10/7.npy: 'Body'\n",
      "/Users/theerat/Downloads/MP_DATA3/สวัสดี/10/3.npy\n",
      "Columns: Index(['NUMPY\u0001', ' 'fortran_order': False', ' 'shape': (1662', ')',\n",
      "       ' }                                                         '],\n",
      "      dtype='object')\n",
      "First rows:\n",
      "   NUMPY\u0001  'fortran_order': False  'shape': (1662   )  \\\n",
      "0     NaN                      Ñ?             NaN NaN   \n",
      "1     Ù¿                     NaN             NaN NaN   \n",
      "2     üï?                     NaN             NaN NaN   \n",
      "3     tå¿                     NaN             NaN NaN   \n",
      "4     ßã?                      ô?             NaN NaN   \n",
      "\n",
      "    }                                                           \n",
      "0                                                NaN            \n",
      "1                                                NaN            \n",
      "2                                                NaN            \n",
      "3                                                NaN            \n",
      "4                                                NaN            \n",
      "Error processing file /Users/theerat/Downloads/MP_DATA3/สวัสดี/10/3.npy: 'Body'\n",
      "/Users/theerat/Downloads/MP_DATA3/สวัสดี/10/2.npy\n",
      "Columns: Index(['NUMPY\u0001', ' 'fortran_order': False', ' 'shape': (1662', ')',\n",
      "       ' }                                                         '],\n",
      "      dtype='object')\n",
      "First rows:\n",
      "   NUMPY\u0001  'fortran_order': False  'shape': (1662    )  \\\n",
      "0     NaN                     PÔ?             NaN  NaN   \n",
      "1      Û?                     NaN             NaN  NaN   \n",
      "2     B¤¿                     ¼\u0003@             NaN  NaN   \n",
      "3      à?                     NaN             NaN  NaN   \n",
      "4      ×?                      o¿              Ï?  NaN   \n",
      "\n",
      "    }                                                           \n",
      "0                                                NaN            \n",
      "1                                                NaN            \n",
      "2                                                NaN            \n",
      "3                                                NaN            \n",
      "4                                                NaN            \n",
      "Error processing file /Users/theerat/Downloads/MP_DATA3/สวัสดี/10/2.npy: 'Body'\n",
      "/Users/theerat/Downloads/MP_DATA3/สวัสดี/10/0.npy\n",
      "Columns: Index(['NUMPY\u0001', ' 'fortran_order': False', ' 'shape': (1662', ')',\n",
      "       ' }                                                         '],\n",
      "      dtype='object')\n",
      "First rows:\n",
      "   NUMPY\u0001  'fortran_order': False  'shape': (1662   )  \\\n",
      "0     NaN                     NaN             NaN NaN   \n",
      "1      ×?                     ?             NaN NaN   \n",
      "2      à?                     NaN             NaN NaN   \n",
      "3     gà?                     }Ø?             NaN NaN   \n",
      "4     d¿                     NaN             NaN NaN   \n",
      "\n",
      "    }                                                           \n",
      "0                                                NaN            \n",
      "1                                                NaN            \n",
      "2                                                NaN            \n",
      "3                                                NaN            \n",
      "4                                                NaN            \n",
      "Error processing file /Users/theerat/Downloads/MP_DATA3/สวัสดี/10/0.npy: 'Body'\n",
      "/Users/theerat/Downloads/MP_DATA3/สวัสดี/10/1.npy\n",
      "Columns: Index(['NUMPY\u0001', ' 'fortran_order': False', ' 'shape': (1662', ')',\n",
      "       ' }                                                         '],\n",
      "      dtype='object')\n",
      "First rows:\n",
      "   NUMPY\u0001  'fortran_order': False  'shape': (1662    )  \\\n",
      "0     NaN                     NaN             NaN  NaN   \n",
      "1      â?                     NaN             NaN  NaN   \n",
      "2     .ì?                     äÓ?             ¶¿  6¿   \n",
      "3      «?                     NaN             NaN  NaN   \n",
      "4     ¿                     ¸à?             à?  NaN   \n",
      "\n",
      "   }                                                           \n",
      "0                                                NaN           \n",
      "1                                                NaN           \n",
      "2                                                 Ñ?           \n",
      "3                                                NaN           \n",
      "4                                                NaN           \n",
      "Error processing file /Users/theerat/Downloads/MP_DATA3/สวัสดี/10/1.npy: 'Body'\n",
      "/Users/theerat/Downloads/MP_DATA3/สวัสดี/10/9.npy\n",
      "Columns: Index(['NUMPY\u0001', ' 'fortran_order': False', ' 'shape': (1662', ')',\n",
      "       ' }                                                         '],\n",
      "      dtype='object')\n",
      "First rows:\n",
      "   NUMPY\u0001  'fortran_order': False   'shape': (1662   )  \\\n",
      "0     NaN                     NaN              NaN NaN   \n",
      "1      ×?                      á?              NaN NaN   \n",
      "2     4¿                     NaN              NaN NaN   \n",
      "3     Þ?                     NaN              NaN NaN   \n",
      "4     à?                     NaN              NaN NaN   \n",
      "\n",
      "    }                                                           \n",
      "0                                                NaN            \n",
      "1                                                NaN            \n",
      "2                                                NaN            \n",
      "3                                                NaN            \n",
      "4                                                NaN            \n",
      "Error processing file /Users/theerat/Downloads/MP_DATA3/สวัสดี/10/9.npy: 'Body'\n",
      "/Users/theerat/Downloads/MP_DATA3/สวัสดี/10/8.npy\n",
      "Error processing file /Users/theerat/Downloads/MP_DATA3/สวัสดี/10/8.npy: Error tokenizing data. C error: Buffer overflow caught - possible malformed input file.\n",
      "\n",
      "/Users/theerat/Downloads/MP_DATA3/สวัสดี/10/29.npy\n",
      "Columns: Index(['NUMPY\u0001', ' 'fortran_order': False', ' 'shape': (1662', ')',\n",
      "       ' }                                                         '],\n",
      "      dtype='object')\n",
      "First rows:\n",
      "   NUMPY\u0001  'fortran_order': False  'shape': (1662    )  \\\n",
      "0     NaN                     NaN             NaN  NaN   \n",
      "1      ç?                     U\u0003@             NaN  NaN   \n",
      "2      Ò?                      ?             NaN  NaN   \n",
      "3     &Þ?                     NaN             NaN  NaN   \n",
      "4     Å¿                     NaN             NaN  NaN   \n",
      "\n",
      "    }                                                           \n",
      "0                                                NaN            \n",
      "1                                                NaN            \n",
      "2                                                NaN            \n",
      "3                                                NaN            \n",
      "4                                                NaN            \n",
      "Error processing file /Users/theerat/Downloads/MP_DATA3/สวัสดี/10/29.npy: 'Body'\n",
      "/Users/theerat/Downloads/MP_DATA3/สวัสดี/10/15.npy\n",
      "Columns: Index(['NUMPY\u0001', ' 'fortran_order': False', ' 'shape': (1662', ')',\n",
      "       ' }                                                         '],\n",
      "      dtype='object')\n",
      "First rows:\n",
      "   NUMPY\u0001  'fortran_order': False   'shape': (1662   )  \\\n",
      "0     NaN                     ùô?              NaN NaN   \n",
      "1     7Û?                     NaN              NaN NaN   \n",
      "2      ?                     NaN              NaN NaN   \n",
      "3     NaN                      Ø?              NaN NaN   \n",
      "4     ~Þ?                     ®à?              NaN NaN   \n",
      "\n",
      "    }                                                           \n",
      "0                                                NaN            \n",
      "1                                                NaN            \n",
      "2                                                NaN            \n",
      "3                                                NaN            \n",
      "4                                                NaN            \n",
      "Error processing file /Users/theerat/Downloads/MP_DATA3/สวัสดี/10/15.npy: 'Body'\n",
      "/Users/theerat/Downloads/MP_DATA3/สวัสดี/10/14.npy\n",
      "Columns: Index(['NUMPY\u0001', ' 'fortran_order': False', ' 'shape': (1662', ')',\n",
      "       ' }                                                         '],\n",
      "      dtype='object')\n",
      "First rows:\n",
      "   NUMPY\u0001  'fortran_order': False  'shape': (1662   )  \\\n",
      "0     NaN                     NaN             NaN NaN   \n",
      "1      É?                     NaN             NaN NaN   \n",
      "2     £ä?                     »?             NaN NaN   \n",
      "3      à?                     NaN             NaN NaN   \n",
      "4      Þ?                     NaN             NaN NaN   \n",
      "\n",
      "    }                                                           \n",
      "0                                                NaN            \n",
      "1                                                NaN            \n",
      "2                                                NaN            \n",
      "3                                                NaN            \n",
      "4                                                NaN            \n",
      "Error processing file /Users/theerat/Downloads/MP_DATA3/สวัสดี/10/14.npy: 'Body'\n",
      "/Users/theerat/Downloads/MP_DATA3/สวัสดี/10/28.npy\n",
      "Columns: Index(['NUMPY\u0001', ' 'fortran_order': False', ' 'shape': (1662', ')',\n",
      "       ' }                                                         '],\n",
      "      dtype='object')\n",
      "First rows:\n",
      "   NUMPY\u0001  'fortran_order': False  'shape': (1662    )  \\\n",
      "0     NaN                     NaN             NaN  NaN   \n",
      "1      ß?                     NaN             NaN  NaN   \n",
      "2      ³¿                     NaN             NaN  NaN   \n",
      "3     V¿                     NaN             NaN  NaN   \n",
      "4      F?                     NaN             NaN  NaN   \n",
      "\n",
      "    }                                                           \n",
      "0                                                NaN            \n",
      "1                                                NaN            \n",
      "2                                                NaN            \n",
      "3                                                NaN            \n",
      "4                                                NaN            \n",
      "Error processing file /Users/theerat/Downloads/MP_DATA3/สวัสดี/10/28.npy: 'Body'\n",
      "/Users/theerat/Downloads/MP_DATA3/สวัสดี/10/16.npy\n",
      "Columns: Index(['NUMPY\u0001', ' 'fortran_order': False', ' 'shape': (1662', ')',\n",
      "       ' }                                                         '],\n",
      "      dtype='object')\n",
      "First rows:\n",
      "   NUMPY\u0001  'fortran_order': False  'shape': (1662    )  \\\n",
      "0     NaN                     ±ë?             NaN  NaN   \n",
      "1      Ó?                      Ï?             NaN  NaN   \n",
      "2      Õ?                     NaN             NaN  NaN   \n",
      "3     Vß?                     NaN             NaN  NaN   \n",
      "4      á?                     NaN             NaN  NaN   \n",
      "\n",
      "    }                                                           \n",
      "0                                                NaN            \n",
      "1                                                NaN            \n",
      "2                                                NaN            \n",
      "3                                                NaN            \n",
      "4                                                NaN            \n",
      "Error processing file /Users/theerat/Downloads/MP_DATA3/สวัสดี/10/16.npy: 'Body'\n",
      "/Users/theerat/Downloads/MP_DATA3/สวัสดี/10/17.npy\n",
      "Columns: Index(['NUMPY\u0001', ' 'fortran_order': False', ' 'shape': (1662', ')',\n",
      "       ' }                                                         '],\n",
      "      dtype='object')\n",
      "First rows:\n",
      "   NUMPY\u0001  'fortran_order': False  'shape': (1662   )  \\\n",
      "0     NaN                      Ñ?             NaN NaN   \n",
      "1      È¿                     NaN             NaN NaN   \n",
      "2     \u0013à?                     NaN             NaN NaN   \n",
      "3     \\Ð?                     NaN             NaN NaN   \n",
      "4     à?                      Õ?             s¿ NaN   \n",
      "\n",
      "    }                                                           \n",
      "0                                                NaN            \n",
      "1                                                NaN            \n",
      "2                                                NaN            \n",
      "3                                                NaN            \n",
      "4                                                NaN            \n",
      "Error processing file /Users/theerat/Downloads/MP_DATA3/สวัสดี/10/17.npy: 'Body'\n",
      "/Users/theerat/Downloads/MP_DATA3/สวัสดี/10/13.npy\n",
      "Columns: Index(['NUMPY\u0001', ' 'fortran_order': False', ' 'shape': (1662', ')',\n",
      "       ' }                                                         '],\n",
      "      dtype='object')\n",
      "First rows:\n",
      "   NUMPY\u0001  'fortran_order': False  'shape': (1662    )  \\\n",
      "0     NaN                     NaN             NaN  NaN   \n",
      "1      Ú?                      Ü?             NaN  NaN   \n",
      "2      Ê?                      à?             NaN  NaN   \n",
      "3      à?                     -¢?             NaN  NaN   \n",
      "4      Ñ?                      ?             NaN  NaN   \n",
      "\n",
      "    }                                                           \n",
      "0                                                NaN            \n",
      "1                                                NaN            \n",
      "2                                                NaN            \n",
      "3                                                NaN            \n",
      "4                                                NaN            \n",
      "Error processing file /Users/theerat/Downloads/MP_DATA3/สวัสดี/10/13.npy: 'Body'\n",
      "/Users/theerat/Downloads/MP_DATA3/สวัสดี/10/12.npy\n",
      "Columns: Index(['NUMPY\u0001', ' 'fortran_order': False', ' 'shape': (1662', ')',\n",
      "       ' }                                                         '],\n",
      "      dtype='object')\n",
      "First rows:\n",
      "   NUMPY\u0001  'fortran_order': False  'shape': (1662    )  \\\n",
      "0     NaN                      í¿             SÖ?  NaN   \n",
      "1     Â¿                     NaN             NaN  NaN   \n",
      "2     à?                     NaN             NaN  NaN   \n",
      "3     ÇØ?                     NaN             NaN  NaN   \n",
      "4      Ù?                     NaN             NaN  NaN   \n",
      "\n",
      "    }                                                           \n",
      "0                                                NaN            \n",
      "1                                                NaN            \n",
      "2                                                NaN            \n",
      "3                                                NaN            \n",
      "4                                                NaN            \n",
      "Error processing file /Users/theerat/Downloads/MP_DATA3/สวัสดี/10/12.npy: 'Body'\n",
      "/Users/theerat/Downloads/MP_DATA3/สวัสดี/10/10.npy\n",
      "Columns: Index(['NUMPY\u0001', ' 'fortran_order': False', ' 'shape': (1662', ')',\n",
      "       ' }                                                         '],\n",
      "      dtype='object')\n",
      "First rows:\n",
      "   NUMPY\u0001  'fortran_order': False  'shape': (1662    )  \\\n",
      "0     NaN                     NaN             NaN  NaN   \n",
      "1     1Å?                      á?             NaN  NaN   \n",
      "2      ¿                     NaN             NaN  NaN   \n",
      "3      c¿                     NaN             NaN  NaN   \n",
      "4     Ø?                     °°?            \\tá?  \u0016¿   \n",
      "\n",
      "    }                                                           \n",
      "0                                                NaN            \n",
      "1                                                NaN            \n",
      "2                                                NaN            \n",
      "3                                                NaN            \n",
      "4                                                NaN            \n",
      "Error processing file /Users/theerat/Downloads/MP_DATA3/สวัสดี/10/10.npy: 'Body'\n",
      "/Users/theerat/Downloads/MP_DATA3/สวัสดี/10/11.npy\n",
      "Columns: Index(['NUMPY\u0001', ' 'fortran_order': False', ' 'shape': (1662', ')',\n",
      "       ' }                                                         '],\n",
      "      dtype='object')\n",
      "First rows:\n",
      "   NUMPY\u0001  'fortran_order': False  'shape': (1662    )  \\\n",
      "0     NaN                     NaN             NaN  NaN   \n",
      "1      ¢¿                     NaN             NaN  NaN   \n",
      "2      ¿                     \u0003?             NaN  NaN   \n",
      "3      Q?                     NaN             NaN  NaN   \n",
      "4     Rm¿                     ¿             NaN  NaN   \n",
      "\n",
      "    }                                                           \n",
      "0                                                NaN            \n",
      "1                                                NaN            \n",
      "2                                                NaN            \n",
      "3                                                NaN            \n",
      "4                                                NaN            \n",
      "Error processing file /Users/theerat/Downloads/MP_DATA3/สวัสดี/10/11.npy: 'Body'\n",
      "/Users/theerat/Downloads/MP_DATA3/สวัสดี/19/20.npy\n",
      "Columns: Index(['NUMPY\u0001', ' 'fortran_order': False', ' 'shape': (1662', ')',\n",
      "       ' }                                                         '],\n",
      "      dtype='object')\n",
      "First rows:\n",
      "   NUMPY\u0001  'fortran_order': False  'shape': (1662    )  \\\n",
      "0     NaN                     Bã?             NaN  NaN   \n",
      "1     4ì?                     NaN             NaN  NaN   \n",
      "2     ð\u0002@                     NaN             NaN  NaN   \n",
      "3       ?                     Rá?             NaN  NaN   \n",
      "4     \u0010á?                     NaN             NaN  NaN   \n",
      "\n",
      "   }                                                           \n",
      "0                                                NaN           \n",
      "1                                                NaN           \n",
      "2                                                NaN           \n",
      "3                                                NaN           \n",
      "4                                                NaN           \n",
      "Error processing file /Users/theerat/Downloads/MP_DATA3/สวัสดี/19/20.npy: 'Body'\n",
      "/Users/theerat/Downloads/MP_DATA3/สวัสดี/19/21.npy\n",
      "Columns: Index(['NUMPY\u0001', ' 'fortran_order': False', ' 'shape': (1662', ')',\n",
      "       ' }                                                         '],\n",
      "      dtype='object')\n",
      "First rows:\n",
      "   NUMPY\u0001  'fortran_order': False  'shape': (1662    )  \\\n",
      "0     NaN                     NaN             NaN  NaN   \n",
      "1     ÷Ñ?                      û¿              ¿  NaN   \n",
      "2     ]á?                       ?             NaN  NaN   \n",
      "3     >Õ?                     \u001d~¿             NaN  NaN   \n",
      "4     G¤?                     rÒ?             Ö?   x¿   \n",
      "\n",
      "    }                                                           \n",
      "0                                                NaN            \n",
      "1                                                NaN            \n",
      "2                                                NaN            \n",
      "3                                                NaN            \n",
      "4                                                NaN            \n",
      "Error processing file /Users/theerat/Downloads/MP_DATA3/สวัสดี/19/21.npy: 'Body'\n",
      "/Users/theerat/Downloads/MP_DATA3/สวัสดี/19/23.npy\n",
      "Columns: Index(['NUMPY\u0001', ' 'fortran_order': False', ' 'shape': (1662', ')',\n",
      "       ' }                                                         '],\n",
      "      dtype='object')\n",
      "First rows:\n",
      "   NUMPY\u0001  'fortran_order': False  'shape': (1662   )  \\\n",
      "0     NaN                     NaN             NaN NaN   \n",
      "1     ýï?                     NaN             NaN NaN   \n",
      "2      ã?                      Á¿             NaN NaN   \n",
      "3      Ò?                     NaN             NaN NaN   \n",
      "4     ËÜ?                     NaN             NaN NaN   \n",
      "\n",
      "    }                                                           \n",
      "0                                                NaN            \n",
      "1                                                NaN            \n",
      "2                                                NaN            \n",
      "3                                                NaN            \n",
      "4                                                NaN            \n",
      "Error processing file /Users/theerat/Downloads/MP_DATA3/สวัสดี/19/23.npy: 'Body'\n",
      "/Users/theerat/Downloads/MP_DATA3/สวัสดี/19/22.npy\n",
      "Columns: Index(['NUMPY\u0001', ' 'fortran_order': False', ' 'shape': (1662', ')',\n",
      "       ' }                                                         '],\n",
      "      dtype='object')\n",
      "First rows:\n",
      "   NUMPY\u0001  'fortran_order': False  'shape': (1662    )  \\\n",
      "0     NaN                     NaN             NaN  NaN   \n",
      "1       ?                     NaN             NaN  NaN   \n",
      "2     á?                     NaN             NaN  NaN   \n",
      "3     2à?                      Î?              á?   á?   \n",
      "4      V?                     NaN             NaN  NaN   \n",
      "\n",
      "    }                                                           \n",
      "0                                                NaN            \n",
      "1                                                NaN            \n",
      "2                                                NaN            \n",
      "3                                                NaN            \n",
      "4                                                NaN            \n",
      "Error processing file /Users/theerat/Downloads/MP_DATA3/สวัสดี/19/22.npy: 'Body'\n",
      "/Users/theerat/Downloads/MP_DATA3/สวัสดี/19/26.npy\n",
      "Columns: Index(['NUMPY\u0001', ' 'fortran_order': False', ' 'shape': (1662', ')',\n",
      "       ' }                                                         '],\n",
      "      dtype='object')\n",
      "First rows:\n",
      "   NUMPY\u0001  'fortran_order': False  'shape': (1662    )  \\\n",
      "0     NaN                      à?             ¿è?  2Ò?   \n",
      "1     å{¿                     NaN             NaN  NaN   \n",
      "2     |¿                     NaN             NaN  NaN   \n",
      "3      |¿                     NaN             NaN  NaN   \n",
      "4      ¿                      Õ?              Ð?  NaN   \n",
      "\n",
      "    }                                                           \n",
      "0                                                NaN            \n",
      "1                                                NaN            \n",
      "2                                                NaN            \n",
      "3                                                NaN            \n",
      "4                                                NaN            \n",
      "Error processing file /Users/theerat/Downloads/MP_DATA3/สวัสดี/19/26.npy: 'Body'\n",
      "/Users/theerat/Downloads/MP_DATA3/สวัสดี/19/27.npy\n",
      "Columns: Index(['NUMPY\u0001', ' 'fortran_order': False', ' 'shape': (1662', ')',\n",
      "       ' }                                                         '],\n",
      "      dtype='object')\n",
      "First rows:\n",
      "   NUMPY\u0001  'fortran_order': False  'shape': (1662   )  \\\n",
      "0     NaN                     V\u0003@             NaN NaN   \n",
      "1     ×?                     NaN             NaN NaN   \n",
      "2     ËÕ?                     NaN             NaN NaN   \n",
      "3      Ð?                     NaN             NaN NaN   \n",
      "4      ?                     À~?             NaN NaN   \n",
      "\n",
      "    }                                                           \n",
      "0                                                NaN            \n",
      "1                                                NaN            \n",
      "2                                                NaN            \n",
      "3                                                NaN            \n",
      "4                                                NaN            \n",
      "Error processing file /Users/theerat/Downloads/MP_DATA3/สวัสดี/19/27.npy: 'Body'\n",
      "/Users/theerat/Downloads/MP_DATA3/สวัสดี/19/25.npy\n",
      "Columns: Index(['NUMPY\u0001', ' 'fortran_order': False', ' 'shape': (1662', ')',\n",
      "       ' }                                                         '],\n",
      "      dtype='object')\n",
      "First rows:\n",
      "   NUMPY\u0001  'fortran_order': False  'shape': (1662    )  \\\n",
      "0     NaN                      Ò?             NaN  NaN   \n",
      "1     Xß?                     NaN             NaN  NaN   \n",
      "2     #\u0019?                      Ù?             NaN  NaN   \n",
      "3     \u000e\u0010?                     NaN             NaN  NaN   \n",
      "4     IÊ?                     NaN             NaN  NaN   \n",
      "\n",
      "   }                                                           \n",
      "0                                                NaN           \n",
      "1                                                NaN           \n",
      "2                                                NaN           \n",
      "3                                                NaN           \n",
      "4                                                NaN           \n",
      "Error processing file /Users/theerat/Downloads/MP_DATA3/สวัสดี/19/25.npy: 'Body'\n",
      "/Users/theerat/Downloads/MP_DATA3/สวัสดี/19/19.npy\n",
      "Columns: Index(['NUMPY\u0001', ' 'fortran_order': False', ' 'shape': (1662', ')',\n",
      "       ' }                                                         '],\n",
      "      dtype='object')\n",
      "First rows:\n",
      "   NUMPY\u0001  'fortran_order': False  'shape': (1662    )  \\\n",
      "0     NaN                     kï?             NaN  NaN   \n",
      "1      ì?                     NaN             NaN  NaN   \n",
      "2       ?                     z?             NaN  NaN   \n",
      "3      à?                     NaN             NaN  NaN   \n",
      "4     Ò?                     NaN             NaN  NaN   \n",
      "\n",
      "    }                                                           \n",
      "0                                                NaN            \n",
      "1                                                NaN            \n",
      "2                                                NaN            \n",
      "3                                                NaN            \n",
      "4                                                NaN            \n",
      "Error processing file /Users/theerat/Downloads/MP_DATA3/สวัสดี/19/19.npy: 'Body'\n",
      "/Users/theerat/Downloads/MP_DATA3/สวัสดี/19/18.npy\n",
      "Columns: Index(['NUMPY\u0001', ' 'fortran_order': False', ' 'shape': (1662', ')',\n",
      "       ' }                                                         '],\n",
      "      dtype='object')\n",
      "First rows:\n",
      "   NUMPY\u0001  'fortran_order': False  'shape': (1662   )  \\\n",
      "0     NaN                     #Ô?              \u0004@ NaN   \n",
      "1       ?                     NaN             NaN NaN   \n",
      "2      ¿                      ¿             NaN NaN   \n",
      "3      Ð?                     NaN             NaN NaN   \n",
      "4      Ò?                     NaN             NaN NaN   \n",
      "\n",
      "    }                                                           \n",
      "0                                                NaN            \n",
      "1                                                NaN            \n",
      "2                                                NaN            \n",
      "3                                                NaN            \n",
      "4                                                NaN            \n",
      "Error processing file /Users/theerat/Downloads/MP_DATA3/สวัสดี/19/18.npy: 'Body'\n",
      "/Users/theerat/Downloads/MP_DATA3/สวัสดี/19/24.npy\n",
      "Columns: Index(['NUMPY\u0001', ' 'fortran_order': False', ' 'shape': (1662', ')',\n",
      "       ' }                                                         '],\n",
      "      dtype='object')\n",
      "First rows:\n",
      "   NUMPY\u0001  'fortran_order': False  'shape': (1662   )  \\\n",
      "0     NaN                      â¿              Ò? NaN   \n",
      "1      ä?                     NaN             NaN NaN   \n",
      "2      ¢¿                     NaN             NaN NaN   \n",
      "3     ¿                      á?             NaN NaN   \n",
      "4     \u0018á?                     ÄØ?             NaN NaN   \n",
      "\n",
      "    }                                                           \n",
      "0                                                NaN            \n",
      "1                                                NaN            \n",
      "2                                                NaN            \n",
      "3                                                NaN            \n",
      "4                                                NaN            \n",
      "Error processing file /Users/theerat/Downloads/MP_DATA3/สวัสดี/19/24.npy: 'Body'\n",
      "/Users/theerat/Downloads/MP_DATA3/สวัสดี/19/5.npy\n",
      "Columns: Index(['NUMPY\u0001', ' 'fortran_order': False', ' 'shape': (1662', ')',\n",
      "       ' }                                                         '],\n",
      "      dtype='object')\n",
      "First rows:\n",
      "   NUMPY\u0001  'fortran_order': False  'shape': (1662    )  \\\n",
      "0     NaN                     NaN             NaN  NaN   \n",
      "1      Õ¿                     NaN             NaN  NaN   \n",
      "2     jÓ?                     NaN             NaN  NaN   \n",
      "3      ê?                     \u0007¿               ?  ^Ñ?   \n",
      "4     (ß?                     NaN             NaN  NaN   \n",
      "\n",
      "   }                                                           \n",
      "0                                                NaN           \n",
      "1                                                NaN           \n",
      "2                                                NaN           \n",
      "3                                                Qj¿           \n",
      "4                                                NaN           \n",
      "Error processing file /Users/theerat/Downloads/MP_DATA3/สวัสดี/19/5.npy: 'Body'\n",
      "/Users/theerat/Downloads/MP_DATA3/สวัสดี/19/4.npy\n",
      "Columns: Index(['NUMPY\u0001', ' 'fortran_order': False', ' 'shape': (1662', ')',\n",
      "       ' }                                                         '],\n",
      "      dtype='object')\n",
      "First rows:\n",
      "   NUMPY\u0001  'fortran_order': False  'shape': (1662   )  \\\n",
      "0     NaN                     NaN             NaN NaN   \n",
      "1      ä?                      é?             NaN NaN   \n",
      "2     ¹Ö?                     NaN             NaN NaN   \n",
      "3     µÓ?                     NaN             NaN NaN   \n",
      "4      ?                     yß?             NaN NaN   \n",
      "\n",
      "    }                                                           \n",
      "0                                                NaN            \n",
      "1                                                NaN            \n",
      "2                                                NaN            \n",
      "3                                                NaN            \n",
      "4                                                NaN            \n",
      "Error processing file /Users/theerat/Downloads/MP_DATA3/สวัสดี/19/4.npy: 'Body'\n",
      "/Users/theerat/Downloads/MP_DATA3/สวัสดี/19/6.npy\n",
      "Columns: Index(['NUMPY\u0001', ' 'fortran_order': False', ' 'shape': (1662', ')',\n",
      "       ' }                                                         '],\n",
      "      dtype='object')\n",
      "First rows:\n",
      "   NUMPY\u0001  'fortran_order': False  'shape': (1662    )  \\\n",
      "0     NaN                     NaN             NaN  NaN   \n",
      "1     rç¿                      ×?             NaN  NaN   \n",
      "2     Ø?                     NaN             NaN  NaN   \n",
      "3      ?                     NaN             NaN  NaN   \n",
      "4     9y?                     NaN             NaN  NaN   \n",
      "\n",
      "    }                                                           \n",
      "0                                                NaN            \n",
      "1                                                NaN            \n",
      "2                                                NaN            \n",
      "3                                                NaN            \n",
      "4                                                NaN            \n",
      "Error processing file /Users/theerat/Downloads/MP_DATA3/สวัสดี/19/6.npy: 'Body'\n",
      "/Users/theerat/Downloads/MP_DATA3/สวัสดี/19/7.npy\n",
      "Columns: Index(['NUMPY\u0001', ' 'fortran_order': False', ' 'shape': (1662', ')',\n",
      "       ' }                                                         '],\n",
      "      dtype='object')\n",
      "First rows:\n",
      "   NUMPY\u0001  'fortran_order': False  'shape': (1662   )  \\\n",
      "0     NaN                     NaN             NaN NaN   \n",
      "1      Þ?                     %Ñ?             NaN NaN   \n",
      "2      Ø?                     ób¿             NaN NaN   \n",
      "3     Õ±?                     NaN             NaN NaN   \n",
      "4      Ù?                      Þ?             NaN NaN   \n",
      "\n",
      "    }                                                           \n",
      "0                                                NaN            \n",
      "1                                                NaN            \n",
      "2                                                NaN            \n",
      "3                                                NaN            \n",
      "4                                                NaN            \n",
      "Error processing file /Users/theerat/Downloads/MP_DATA3/สวัสดี/19/7.npy: 'Body'\n",
      "/Users/theerat/Downloads/MP_DATA3/สวัสดี/19/3.npy\n",
      "Columns: Index(['NUMPY\u0001', ' 'fortran_order': False', ' 'shape': (1662', ')',\n",
      "       ' }                                                         '],\n",
      "      dtype='object')\n",
      "First rows:\n",
      "   NUMPY\u0001  'fortran_order': False  'shape': (1662    )  \\\n",
      "0     NaN                     NaN             NaN  NaN   \n",
      "1     ]õ?                     ¹?             Ïö?  NaN   \n",
      "2     ¡v?                     NaN             NaN  NaN   \n",
      "3      \u0004@                     NaN             NaN  NaN   \n",
      "4       ?                     NaN             NaN  NaN   \n",
      "\n",
      "    }                                                           \n",
      "0                                                NaN            \n",
      "1                                                NaN            \n",
      "2                                                NaN            \n",
      "3                                                NaN            \n",
      "4                                                NaN            \n",
      "Error processing file /Users/theerat/Downloads/MP_DATA3/สวัสดี/19/3.npy: 'Body'\n",
      "/Users/theerat/Downloads/MP_DATA3/สวัสดี/19/2.npy\n",
      "Columns: Index(['NUMPY\u0001', ' 'fortran_order': False', ' 'shape': (1662', ')',\n",
      "       ' }                                                         '],\n",
      "      dtype='object')\n",
      "First rows:\n",
      "   NUMPY\u0001  'fortran_order': False  'shape': (1662    )  \\\n",
      "0     NaN                     NaN             NaN  NaN   \n",
      "1      x¿                     NaN             NaN  NaN   \n",
      "2      ä?                      À¿             NaN  NaN   \n",
      "3     ¯Ô?                     NaN             NaN  NaN   \n",
      "4      à?                      Ð?             NaN  NaN   \n",
      "\n",
      "    }                                                           \n",
      "0                                                NaN            \n",
      "1                                                NaN            \n",
      "2                                                NaN            \n",
      "3                                                NaN            \n",
      "4                                                NaN            \n",
      "Error processing file /Users/theerat/Downloads/MP_DATA3/สวัสดี/19/2.npy: 'Body'\n",
      "/Users/theerat/Downloads/MP_DATA3/สวัสดี/19/0.npy\n",
      "Columns: Index(['NUMPY\u0001', ' 'fortran_order': False', ' 'shape': (1662', ')',\n",
      "       ' }                                                         '],\n",
      "      dtype='object')\n",
      "First rows:\n",
      "   NUMPY\u0001  'fortran_order': False  'shape': (1662    )  \\\n",
      "0     NaN                      è?             \u001b\u0004@  NaN   \n",
      "1       ?                     NaN             NaN  NaN   \n",
      "2      ¿                      ¿             NaN  NaN   \n",
      "3      ¿                       ?              Ø?  NaN   \n",
      "4      ?                     NaN             NaN  NaN   \n",
      "\n",
      "   }                                                           \n",
      "0                                                NaN           \n",
      "1                                                NaN           \n",
      "2                                                NaN           \n",
      "3                                                NaN           \n",
      "4                                                NaN           \n",
      "Error processing file /Users/theerat/Downloads/MP_DATA3/สวัสดี/19/0.npy: 'Body'\n",
      "/Users/theerat/Downloads/MP_DATA3/สวัสดี/19/1.npy\n",
      "Columns: Index(['NUMPY\u0001', ' 'fortran_order': False', ' 'shape': (1662', ')',\n",
      "       ' }                                                         '],\n",
      "      dtype='object')\n",
      "First rows:\n",
      "   NUMPY\u0001  'fortran_order': False  'shape': (1662    )  \\\n",
      "0     NaN                      à?             Á?  NaN   \n",
      "1     bå¿                     ¹ä?             NaN  NaN   \n",
      "2     \u0005ä?                     NaN             NaN  NaN   \n",
      "3       ?                     lÑ?             NaN  NaN   \n",
      "4      ?                      Ð?             NaN  NaN   \n",
      "\n",
      "    }                                                           \n",
      "0                                                NaN            \n",
      "1                                                NaN            \n",
      "2                                                NaN            \n",
      "3                                                NaN            \n",
      "4                                                NaN            \n",
      "Error processing file /Users/theerat/Downloads/MP_DATA3/สวัสดี/19/1.npy: 'Body'\n",
      "/Users/theerat/Downloads/MP_DATA3/สวัสดี/19/9.npy\n",
      "Error processing file /Users/theerat/Downloads/MP_DATA3/สวัสดี/19/9.npy: Error tokenizing data. C error: Expected 5 fields in line 6, saw 6\n",
      "\n",
      "/Users/theerat/Downloads/MP_DATA3/สวัสดี/19/8.npy\n",
      "Columns: Index(['NUMPY\u0001', ' 'fortran_order': False', ' 'shape': (1662', ')',\n",
      "       ' }                                                         '],\n",
      "      dtype='object')\n",
      "First rows:\n",
      "   NUMPY\u0001  'fortran_order': False  'shape': (1662    )  \\\n",
      "0     NaN                     NaN             NaN  NaN   \n",
      "1     ýï?                      É¿             NaN  NaN   \n",
      "2      »¿                     NaN             NaN  NaN   \n",
      "3      \u0003@                     NaN             NaN  NaN   \n",
      "4     ¯÷>                     NaN             NaN  NaN   \n",
      "\n",
      "    }                                                           \n",
      "0                                                NaN            \n",
      "1                                                NaN            \n",
      "2                                                NaN            \n",
      "3                                                NaN            \n",
      "4                                                NaN            \n",
      "Error processing file /Users/theerat/Downloads/MP_DATA3/สวัสดี/19/8.npy: 'Body'\n",
      "/Users/theerat/Downloads/MP_DATA3/สวัสดี/19/29.npy\n",
      "Columns: Index(['NUMPY\u0001', ' 'fortran_order': False', ' 'shape': (1662', ')',\n",
      "       ' }                                                         '],\n",
      "      dtype='object')\n",
      "First rows:\n",
      "   NUMPY\u0001  'fortran_order': False  'shape': (1662    )  \\\n",
      "0     NaN                     NaN             NaN  NaN   \n",
      "1      ã?                     NaN             NaN  NaN   \n",
      "2     \u001bà?                     NaN             NaN  NaN   \n",
      "3      Ø?                     ëà?              à?  NaN   \n",
      "4     Ø?                     NaN             NaN  NaN   \n",
      "\n",
      "    }                                                           \n",
      "0                                                NaN            \n",
      "1                                                NaN            \n",
      "2                                                NaN            \n",
      "3                                                NaN            \n",
      "4                                                NaN            \n",
      "Error processing file /Users/theerat/Downloads/MP_DATA3/สวัสดี/19/29.npy: 'Body'\n",
      "/Users/theerat/Downloads/MP_DATA3/สวัสดี/19/15.npy\n",
      "Columns: Index(['NUMPY\u0001', ' 'fortran_order': False', ' 'shape': (1662', ')',\n",
      "       ' }                                                         '],\n",
      "      dtype='object')\n",
      "First rows:\n",
      "   NUMPY\u0001  'fortran_order': False  'shape': (1662    )  \\\n",
      "0     NaN                     ðß?             \u0010û¿  NaN   \n",
      "1      ¿                     NaN             NaN  NaN   \n",
      "2      Ö?                     NaN             NaN  NaN   \n",
      "3      ®?                     !á?             NaN  NaN   \n",
      "4     â¿                     0Ù?             NaN  NaN   \n",
      "\n",
      "    }                                                           \n",
      "0                                                NaN            \n",
      "1                                                NaN            \n",
      "2                                                NaN            \n",
      "3                                                NaN            \n",
      "4                                                NaN            \n",
      "Error processing file /Users/theerat/Downloads/MP_DATA3/สวัสดี/19/15.npy: 'Body'\n",
      "/Users/theerat/Downloads/MP_DATA3/สวัสดี/19/14.npy\n",
      "Columns: Index(['NUMPY\u0001', ' 'fortran_order': False', ' 'shape': (1662', ')',\n",
      "       ' }                                                         '],\n",
      "      dtype='object')\n",
      "First rows:\n",
      "   NUMPY\u0001  'fortran_order': False  'shape': (1662    )  \\\n",
      "0     NaN                     NaN             NaN  NaN   \n",
      "1     Uâ?                      õ?             *Ð?   ¿   \n",
      "2      ß?                     NaN             NaN  NaN   \n",
      "3      ¿                      á?              á?  NaN   \n",
      "4     Þ?                     A?              ~¿  \u0002Ú?   \n",
      "\n",
      "    }                                                           \n",
      "0                                                NaN            \n",
      "1                                                NaN            \n",
      "2                                                NaN            \n",
      "3                                                NaN            \n",
      "4                                                NaN            \n",
      "Error processing file /Users/theerat/Downloads/MP_DATA3/สวัสดี/19/14.npy: 'Body'\n",
      "/Users/theerat/Downloads/MP_DATA3/สวัสดี/19/28.npy\n",
      "Columns: Index(['NUMPY\u0001', ' 'fortran_order': False', ' 'shape': (1662', ')',\n",
      "       ' }                                                         '],\n",
      "      dtype='object')\n",
      "First rows:\n",
      "   NUMPY\u0001  'fortran_order': False  'shape': (1662    )  \\\n",
      "0     NaN                     NaN             NaN  NaN   \n",
      "1      Ù?                     NaN             NaN  NaN   \n",
      "2      î?                     NaN             NaN  NaN   \n",
      "3       ?                     NaN             NaN  NaN   \n",
      "4     X\u0003@                     NaN             NaN  NaN   \n",
      "\n",
      "    }                                                           \n",
      "0                                                NaN            \n",
      "1                                                NaN            \n",
      "2                                                NaN            \n",
      "3                                                NaN            \n",
      "4                                                NaN            \n",
      "Error processing file /Users/theerat/Downloads/MP_DATA3/สวัสดี/19/28.npy: 'Body'\n",
      "/Users/theerat/Downloads/MP_DATA3/สวัสดี/19/16.npy\n",
      "Error processing file /Users/theerat/Downloads/MP_DATA3/สวัสดี/19/16.npy: Error tokenizing data. C error: Expected 5 fields in line 14, saw 7\n",
      "\n",
      "/Users/theerat/Downloads/MP_DATA3/สวัสดี/19/17.npy\n",
      "Columns: Index(['NUMPY\u0001', ' 'fortran_order': False', ' 'shape': (1662', ')',\n",
      "       ' }                                                         '],\n",
      "      dtype='object')\n",
      "First rows:\n",
      "   NUMPY\u0001  'fortran_order': False   'shape': (1662   )  \\\n",
      "0     NaN                     NaN              NaN NaN   \n",
      "1     ?á¿                     NaN              NaN NaN   \n",
      "2     ý¾¿                     NaN              NaN NaN   \n",
      "3      Ö?                     NaN              NaN NaN   \n",
      "4      Ø?                     NaN              NaN NaN   \n",
      "\n",
      "    }                                                           \n",
      "0                                                NaN            \n",
      "1                                                NaN            \n",
      "2                                                NaN            \n",
      "3                                                NaN            \n",
      "4                                                NaN            \n",
      "Error processing file /Users/theerat/Downloads/MP_DATA3/สวัสดี/19/17.npy: 'Body'\n",
      "/Users/theerat/Downloads/MP_DATA3/สวัสดี/19/13.npy\n",
      "Columns: Index(['NUMPY\u0001', ' 'fortran_order': False', ' 'shape': (1662', ')',\n",
      "       ' }                                                         '],\n",
      "      dtype='object')\n",
      "First rows:\n",
      "   NUMPY\u0001  'fortran_order': False  'shape': (1662    )  \\\n",
      "0     NaN                     NaN             NaN  NaN   \n",
      "1     õÑ?                      Ð¿             NaN  NaN   \n",
      "2      Þ?                      à?             NaN  NaN   \n",
      "3      Ù?                     NaN             NaN  NaN   \n",
      "4     t¿                     NaN             NaN  NaN   \n",
      "\n",
      "    }                                                           \n",
      "0                                                NaN            \n",
      "1                                                NaN            \n",
      "2                                                NaN            \n",
      "3                                                NaN            \n",
      "4                                                NaN            \n",
      "Error processing file /Users/theerat/Downloads/MP_DATA3/สวัสดี/19/13.npy: 'Body'\n",
      "/Users/theerat/Downloads/MP_DATA3/สวัสดี/19/12.npy\n",
      "Columns: Index(['NUMPY\u0001', ' 'fortran_order': False', ' 'shape': (1662', ')',\n",
      "       ' }                                                         '],\n",
      "      dtype='object')\n",
      "First rows:\n",
      "   NUMPY\u0001  'fortran_order': False  'shape': (1662    )  \\\n",
      "0     NaN                     ëé?             NaN  NaN   \n",
      "1      Ô?                      Þ?             NaN  NaN   \n",
      "2     #à?                     NaN             NaN  NaN   \n",
      "3     óH¿                     NaN             NaN  NaN   \n",
      "4      Í?                     NaN             NaN  NaN   \n",
      "\n",
      "    }                                                           \n",
      "0                                                NaN            \n",
      "1                                                NaN            \n",
      "2                                                NaN            \n",
      "3                                                NaN            \n",
      "4                                                NaN            \n",
      "Error processing file /Users/theerat/Downloads/MP_DATA3/สวัสดี/19/12.npy: 'Body'\n",
      "/Users/theerat/Downloads/MP_DATA3/สวัสดี/19/10.npy\n",
      "Error processing file /Users/theerat/Downloads/MP_DATA3/สวัสดี/19/10.npy: Error tokenizing data. C error: Expected 5 fields in line 18, saw 6\n",
      "\n",
      "/Users/theerat/Downloads/MP_DATA3/สวัสดี/19/11.npy\n",
      "Columns: Index(['NUMPY\u0001', ' 'fortran_order': False', ' 'shape': (1662', ')',\n",
      "       ' }                                                         '],\n",
      "      dtype='object')\n",
      "First rows:\n",
      "   NUMPY\u0001  'fortran_order': False  'shape': (1662   )  \\\n",
      "0     NaN                      Ó¿             NaN NaN   \n",
      "1      ¸¿                     NaN             NaN NaN   \n",
      "2     ¾û¿                     NaN             NaN NaN   \n",
      "3      \u001c?                     \u0003¿             NaN NaN   \n",
      "4     @Ó?                     NaN             NaN NaN   \n",
      "\n",
      "    }                                                           \n",
      "0                                                NaN            \n",
      "1                                                NaN            \n",
      "2                                                NaN            \n",
      "3                                                NaN            \n",
      "4                                                NaN            \n",
      "Error processing file /Users/theerat/Downloads/MP_DATA3/สวัสดี/19/11.npy: 'Body'\n",
      "/Users/theerat/Downloads/MP_DATA3/สวัสดี/21/20.npy\n",
      "Columns: Index(['NUMPY\u0001', ' 'fortran_order': False', ' 'shape': (1662', ')',\n",
      "       ' }                                                         '],\n",
      "      dtype='object')\n",
      "First rows:\n",
      "   NUMPY\u0001  'fortran_order': False  'shape': (1662   )  \\\n",
      "0     NaN                     NaN             NaN NaN   \n",
      "1      ä¿                     NaN             NaN NaN   \n",
      "2     ÿï?                     NaN             NaN NaN   \n",
      "3     ®ç?                     NaN             NaN NaN   \n",
      "4      ö?                      Á¿             NaN NaN   \n",
      "\n",
      "    }                                                           \n",
      "0                                                NaN            \n",
      "1                                                NaN            \n",
      "2                                                NaN            \n",
      "3                                                NaN            \n",
      "4                                                NaN            \n",
      "Error processing file /Users/theerat/Downloads/MP_DATA3/สวัสดี/21/20.npy: 'Body'\n",
      "/Users/theerat/Downloads/MP_DATA3/สวัสดี/21/21.npy\n",
      "Columns: Index(['NUMPY\u0001', ' 'fortran_order': False', ' 'shape': (1662', ')',\n",
      "       ' }                                                         '],\n",
      "      dtype='object')\n",
      "First rows:\n",
      "   NUMPY\u0001  'fortran_order': False  'shape': (1662   )  \\\n",
      "0     NaN                     NaN             NaN NaN   \n",
      "1     NaN                      â?             NaN NaN   \n",
      "2     µà?                     NaN             NaN NaN   \n",
      "3     ©Þ?                      w¿             NaN NaN   \n",
      "4     ®à?                      Þ?             NaN NaN   \n",
      "\n",
      "    }                                                           \n",
      "0                                                NaN            \n",
      "1                                                NaN            \n",
      "2                                                NaN            \n",
      "3                                                NaN            \n",
      "4                                                NaN            \n",
      "Error processing file /Users/theerat/Downloads/MP_DATA3/สวัสดี/21/21.npy: 'Body'\n",
      "/Users/theerat/Downloads/MP_DATA3/สวัสดี/21/23.npy\n",
      "Columns: Index(['NUMPY\u0001', ' 'fortran_order': False', ' 'shape': (1662', ')',\n",
      "       ' }                                                         '],\n",
      "      dtype='object')\n",
      "First rows:\n",
      "   NUMPY\u0001  'fortran_order': False  'shape': (1662   )  \\\n",
      "0     NaN                     NaN             NaN NaN   \n",
      "1     \u0002|?                      Ò?             NaN NaN   \n",
      "2     Ùà?                     \u0017á?             NaN NaN   \n",
      "3      Ð?                      ?             NaN NaN   \n",
      "4     hp¿                     \u0002r¿             ¿Ñ? NaN   \n",
      "\n",
      "    }                                                           \n",
      "0                                                NaN            \n",
      "1                                                NaN            \n",
      "2                                                NaN            \n",
      "3                                                NaN            \n",
      "4                                                NaN            \n",
      "Error processing file /Users/theerat/Downloads/MP_DATA3/สวัสดี/21/23.npy: 'Body'\n",
      "/Users/theerat/Downloads/MP_DATA3/สวัสดี/21/22.npy\n",
      "Columns: Index(['NUMPY\u0001', ' 'fortran_order': False', ' 'shape': (1662', ')',\n",
      "       ' }                                                         '],\n",
      "      dtype='object')\n",
      "First rows:\n",
      "   NUMPY\u0001  'fortran_order': False  'shape': (1662    )  \\\n",
      "0     NaN                     NaN             NaN  NaN   \n",
      "1      á?                     NaN             NaN  NaN   \n",
      "2      á?                     NaN             NaN  NaN   \n",
      "3      Ð?                     NaN             NaN  NaN   \n",
      "4      à?                     NaN             NaN  NaN   \n",
      "\n",
      "   }                                                           \n",
      "0                                                NaN           \n",
      "1                                                NaN           \n",
      "2                                                NaN           \n",
      "3                                                NaN           \n",
      "4                                                NaN           \n",
      "Error processing file /Users/theerat/Downloads/MP_DATA3/สวัสดี/21/22.npy: 'Body'\n",
      "/Users/theerat/Downloads/MP_DATA3/สวัสดี/21/26.npy\n",
      "Columns: Index(['NUMPY\u0001', ' 'fortran_order': False', ' 'shape': (1662', ')',\n",
      "       ' }                                                         '],\n",
      "      dtype='object')\n",
      "First rows:\n",
      "   NUMPY\u0001  'fortran_order': False  'shape': (1662    )  \\\n",
      "0     NaN                     NaN             NaN  NaN   \n",
      "1     $ö?                     &¿             NaN  NaN   \n",
      "2      ¿                      Ø?             há?  NaN   \n",
      "3      w?                     NaN             NaN  NaN   \n",
      "4     KÓ?                      Ð?              ?  NaN   \n",
      "\n",
      "    }                                                           \n",
      "0                                                NaN            \n",
      "1                                                NaN            \n",
      "2                                                NaN            \n",
      "3                                                NaN            \n",
      "4                                                NaN            \n",
      "Error processing file /Users/theerat/Downloads/MP_DATA3/สวัสดี/21/26.npy: 'Body'\n",
      "/Users/theerat/Downloads/MP_DATA3/สวัสดี/21/27.npy\n",
      "Columns: Index(['NUMPY\u0001', ' 'fortran_order': False', ' 'shape': (1662', ')',\n",
      "       ' }                                                         '],\n",
      "      dtype='object')\n",
      "First rows:\n",
      "   NUMPY\u0001  'fortran_order': False  'shape': (1662    )  \\\n",
      "0     NaN                      Æ¿             NaN  NaN   \n",
      "1     Óô?                     àù¿             NaN  NaN   \n",
      "2      ×?                     NaN             NaN  NaN   \n",
      "3      Ó?                      ¿             NaN  NaN   \n",
      "4     c¿                     NaN             NaN  NaN   \n",
      "\n",
      "   }                                                           \n",
      "0                                                NaN           \n",
      "1                                                NaN           \n",
      "2                                                NaN           \n",
      "3                                                NaN           \n",
      "4                                                NaN           \n",
      "Error processing file /Users/theerat/Downloads/MP_DATA3/สวัสดี/21/27.npy: 'Body'\n",
      "/Users/theerat/Downloads/MP_DATA3/สวัสดี/21/25.npy\n",
      "Columns: Index(['NUMPY\u0001', ' 'fortran_order': False', ' 'shape': (1662', ')',\n",
      "       ' }                                                         '],\n",
      "      dtype='object')\n",
      "First rows:\n",
      "   NUMPY\u0001  'fortran_order': False  'shape': (1662   )  \\\n",
      "0     NaN                      ã?             ä? NaN   \n",
      "1     <Ö¿                     \u0010ú¿              Ø¿ NaN   \n",
      "2      þ?                     {Ô?             NaN NaN   \n",
      "3     ®Ó?                     NaN             NaN NaN   \n",
      "4    Ñ?                      á?             NaN NaN   \n",
      "\n",
      "    }                                                           \n",
      "0                                                NaN            \n",
      "1                                                NaN            \n",
      "2                                                NaN            \n",
      "3                                                NaN            \n",
      "4                                                NaN            \n",
      "Error processing file /Users/theerat/Downloads/MP_DATA3/สวัสดี/21/25.npy: 'Body'\n",
      "/Users/theerat/Downloads/MP_DATA3/สวัสดี/21/19.npy\n",
      "Columns: Index(['NUMPY\u0001', ' 'fortran_order': False', ' 'shape': (1662', ')',\n",
      "       ' }                                                         '],\n",
      "      dtype='object')\n",
      "First rows:\n",
      "   NUMPY\u0001  'fortran_order': False  'shape': (1662    )  \\\n",
      "0     NaN                     äá¿              ?  NaN   \n",
      "1      þ>                     NaN             NaN  NaN   \n",
      "2     ^á?                     NaN             NaN  NaN   \n",
      "3     \u0006Ñ?                     NaN             NaN  NaN   \n",
      "4     \u000e\u0010¿                     ´­?              Ø?  NaN   \n",
      "\n",
      "    }                                                           \n",
      "0                                                NaN            \n",
      "1                                                NaN            \n",
      "2                                                NaN            \n",
      "3                                                NaN            \n",
      "4                                                NaN            \n",
      "Error processing file /Users/theerat/Downloads/MP_DATA3/สวัสดี/21/19.npy: 'Body'\n",
      "/Users/theerat/Downloads/MP_DATA3/สวัสดี/21/18.npy\n",
      "Error processing file /Users/theerat/Downloads/MP_DATA3/สวัสดี/21/18.npy: Error tokenizing data. C error: Expected 5 fields in line 14, saw 6\n",
      "\n",
      "/Users/theerat/Downloads/MP_DATA3/สวัสดี/21/24.npy\n",
      "Columns: Index(['NUMPY\u0001', ' 'fortran_order': False', ' 'shape': (1662', ')',\n",
      "       ' }                                                         '],\n",
      "      dtype='object')\n",
      "First rows:\n",
      "   NUMPY\u0001  'fortran_order': False  'shape': (1662   )  \\\n",
      "0     NaN                     NaN             NaN NaN   \n",
      "1     äÒ?                     NaN             NaN NaN   \n",
      "2      ö?                     NaN             NaN NaN   \n",
      "3     )Û?                     NaN             NaN NaN   \n",
      "4     PÝ?                     l?             NaN NaN   \n",
      "\n",
      "    }                                                           \n",
      "0                                                NaN            \n",
      "1                                                NaN            \n",
      "2                                                NaN            \n",
      "3                                                NaN            \n",
      "4                                                NaN            \n",
      "Error processing file /Users/theerat/Downloads/MP_DATA3/สวัสดี/21/24.npy: 'Body'\n",
      "/Users/theerat/Downloads/MP_DATA3/สวัสดี/21/5.npy\n",
      "Columns: Index(['NUMPY\u0001', ' 'fortran_order': False', ' 'shape': (1662', ')',\n",
      "       ' }                                                         '],\n",
      "      dtype='object')\n",
      "First rows:\n",
      "   NUMPY\u0001  'fortran_order': False  'shape': (1662   )  \\\n",
      "0     NaN                     ÿï?             NaN NaN   \n",
      "1      Ù?                      ÷¿              Ý? NaN   \n",
      "2      Ó?                     NaN             NaN NaN   \n",
      "3      á?                     ù¿              \\? NaN   \n",
      "4     2Ø?                     NaN             NaN NaN   \n",
      "\n",
      "    }                                                           \n",
      "0                                                NaN            \n",
      "1                                                NaN            \n",
      "2                                                NaN            \n",
      "3                                                NaN            \n",
      "4                                                NaN            \n",
      "Error processing file /Users/theerat/Downloads/MP_DATA3/สวัสดี/21/5.npy: 'Body'\n",
      "/Users/theerat/Downloads/MP_DATA3/สวัสดี/21/4.npy\n",
      "Columns: Index(['NUMPY\u0001', ' 'fortran_order': False', ' 'shape': (1662', ')',\n",
      "       ' }                                                         '],\n",
      "      dtype='object')\n",
      "First rows:\n",
      "   NUMPY\u0001  'fortran_order': False  'shape': (1662    )  \\\n",
      "0     NaN                     NaN             NaN  NaN   \n",
      "1      ù¿                       ?             NaN  NaN   \n",
      "2       ?                     NaN             NaN  NaN   \n",
      "3     7Ý?                     NaN             NaN  NaN   \n",
      "4      à?                     NaN             NaN  NaN   \n",
      "\n",
      "   }                                                           \n",
      "0                                                NaN           \n",
      "1                                                NaN           \n",
      "2                                                NaN           \n",
      "3                                                NaN           \n",
      "4                                                NaN           \n",
      "Error processing file /Users/theerat/Downloads/MP_DATA3/สวัสดี/21/4.npy: 'Body'\n",
      "/Users/theerat/Downloads/MP_DATA3/สวัสดี/21/6.npy\n",
      "Error processing file /Users/theerat/Downloads/MP_DATA3/สวัสดี/21/6.npy: Error tokenizing data. C error: Buffer overflow caught - possible malformed input file.\n",
      "\n",
      "/Users/theerat/Downloads/MP_DATA3/สวัสดี/21/7.npy\n",
      "Columns: Index(['NUMPY\u0001', ' 'fortran_order': False', ' 'shape': (1662', ')',\n",
      "       ' }                                                         '],\n",
      "      dtype='object')\n",
      "First rows:\n",
      "   NUMPY\u0001  'fortran_order': False  'shape': (1662   )  \\\n",
      "0     NaN                      ö?              Ñ? NaN   \n",
      "1     A?                     NaN             NaN NaN   \n",
      "2     Já?                     NaN             NaN NaN   \n",
      "3     |á?                     NaN             NaN NaN   \n",
      "4     [á?                     NaN             NaN NaN   \n",
      "\n",
      "    }                                                           \n",
      "0                                                NaN            \n",
      "1                                                NaN            \n",
      "2                                                NaN            \n",
      "3                                                NaN            \n",
      "4                                                NaN            \n",
      "Error processing file /Users/theerat/Downloads/MP_DATA3/สวัสดี/21/7.npy: 'Body'\n",
      "/Users/theerat/Downloads/MP_DATA3/สวัสดี/21/3.npy\n",
      "Columns: Index(['NUMPY\u0001', ' 'fortran_order': False', ' 'shape': (1662', ')',\n",
      "       ' }                                                         '],\n",
      "      dtype='object')\n",
      "First rows:\n",
      "   NUMPY\u0001  'fortran_order': False  'shape': (1662    )  \\\n",
      "0     NaN                     ÿï?             NaN  NaN   \n",
      "1     pÑ?                     ³Ó?             NaN  NaN   \n",
      "2      ø¿                       ?             NaN  NaN   \n",
      "3     ½ä?                     NaN             NaN  NaN   \n",
      "4       ?                     NaN             NaN  NaN   \n",
      "\n",
      "   }                                                           \n",
      "0                                                NaN           \n",
      "1                                                NaN           \n",
      "2                                                NaN           \n",
      "3                                                NaN           \n",
      "4                                                NaN           \n",
      "Error processing file /Users/theerat/Downloads/MP_DATA3/สวัสดี/21/3.npy: 'Body'\n",
      "/Users/theerat/Downloads/MP_DATA3/สวัสดี/21/2.npy\n",
      "Columns: Index(['NUMPY\u0001', ' 'fortran_order': False', ' 'shape': (1662', ')',\n",
      "       ' }                                                         '],\n",
      "      dtype='object')\n",
      "First rows:\n",
      "   NUMPY\u0001  'fortran_order': False  'shape': (1662    )  \\\n",
      "0     NaN                     NaN             NaN  NaN   \n",
      "1      à¿                     NaN             NaN  NaN   \n",
      "2     ¼¿                     NaN             NaN  NaN   \n",
      "3      á?                     NaN             NaN  NaN   \n",
      "4     ßà?                     NaN             NaN  NaN   \n",
      "\n",
      "    }                                                           \n",
      "0                                                NaN            \n",
      "1                                                NaN            \n",
      "2                                                NaN            \n",
      "3                                                NaN            \n",
      "4                                                NaN            \n",
      "Error processing file /Users/theerat/Downloads/MP_DATA3/สวัสดี/21/2.npy: 'Body'\n",
      "/Users/theerat/Downloads/MP_DATA3/สวัสดี/21/0.npy\n",
      "Error processing file /Users/theerat/Downloads/MP_DATA3/สวัสดี/21/0.npy: Error tokenizing data. C error: Expected 5 fields in line 31, saw 6\n",
      "\n",
      "/Users/theerat/Downloads/MP_DATA3/สวัสดี/21/1.npy\n",
      "Columns: Index(['NUMPY\u0001', ' 'fortran_order': False', ' 'shape': (1662', ')',\n",
      "       ' }                                                         '],\n",
      "      dtype='object')\n",
      "First rows:\n",
      "   NUMPY\u0001  'fortran_order': False  'shape': (1662    )  \\\n",
      "0     NaN                      ß?             IÀ¿  Éå?   \n",
      "1     óô?                     NaN             NaN  NaN   \n",
      "2       ?                     NaN             NaN  NaN   \n",
      "3     \u001fÒ?                     NaN             NaN  NaN   \n",
      "4     C?                     NaN             NaN  NaN   \n",
      "\n",
      "    }                                                           \n",
      "0                                                NaN            \n",
      "1                                                NaN            \n",
      "2                                                NaN            \n",
      "3                                                NaN            \n",
      "4                                                NaN            \n",
      "Error processing file /Users/theerat/Downloads/MP_DATA3/สวัสดี/21/1.npy: 'Body'\n",
      "/Users/theerat/Downloads/MP_DATA3/สวัสดี/21/9.npy\n",
      "Columns: Index(['NUMPY\u0001', ' 'fortran_order': False', ' 'shape': (1662', ')',\n",
      "       ' }                                                         '],\n",
      "      dtype='object')\n",
      "First rows:\n",
      "   NUMPY\u0001  'fortran_order': False  'shape': (1662    )  \\\n",
      "0     NaN                     NaN             NaN  NaN   \n",
      "1     þï?                     NaN             NaN  NaN   \n",
      "2      è?                     NaN             NaN  NaN   \n",
      "3      Î¿                     NaN             NaN  NaN   \n",
      "4     kå?                       ?             Å×?  NaN   \n",
      "\n",
      "    }                                                           \n",
      "0                                                NaN            \n",
      "1                                                NaN            \n",
      "2                                                NaN            \n",
      "3                                                NaN            \n",
      "4                                                NaN            \n",
      "Error processing file /Users/theerat/Downloads/MP_DATA3/สวัสดี/21/9.npy: 'Body'\n",
      "/Users/theerat/Downloads/MP_DATA3/สวัสดี/21/8.npy\n",
      "Error processing file /Users/theerat/Downloads/MP_DATA3/สวัสดี/21/8.npy: Error tokenizing data. C error: Expected 5 fields in line 19, saw 6\n",
      "\n",
      "/Users/theerat/Downloads/MP_DATA3/สวัสดี/21/29.npy\n",
      "Columns: Index(['NUMPY\u0001', ' 'fortran_order': False', ' 'shape': (1662', ')',\n",
      "       ' }                                                         '],\n",
      "      dtype='object')\n",
      "First rows:\n",
      "   NUMPY\u0001  'fortran_order': False  'shape': (1662    )  \\\n",
      "0     NaN                     NaN             NaN  NaN   \n",
      "1       ?                     NaN             NaN  NaN   \n",
      "2     ?Ò?                      Ó?             NaN  NaN   \n",
      "3      Ð?                     ùÔ?             NaN  NaN   \n",
      "4      }?                     NaN             NaN  NaN   \n",
      "\n",
      "    }                                                           \n",
      "0                                                NaN            \n",
      "1                                                NaN            \n",
      "2                                                NaN            \n",
      "3                                                NaN            \n",
      "4                                                NaN            \n",
      "Error processing file /Users/theerat/Downloads/MP_DATA3/สวัสดี/21/29.npy: 'Body'\n",
      "/Users/theerat/Downloads/MP_DATA3/สวัสดี/21/15.npy\n",
      "Columns: Index(['NUMPY\u0001', ' 'fortran_order': False', ' 'shape': (1662', ')',\n",
      "       ' }                                                         '],\n",
      "      dtype='object')\n",
      "First rows:\n",
      "   NUMPY\u0001  'fortran_order': False  'shape': (1662    )  \\\n",
      "0     NaN                     NaN             NaN  NaN   \n",
      "1     Èô?                      Û?             NaN  NaN   \n",
      "2       ?                     NaN             NaN  NaN   \n",
      "3      ¿                     NaN             NaN  NaN   \n",
      "4     Eà?                     NaN             NaN  NaN   \n",
      "\n",
      "    }                                                           \n",
      "0                                                NaN            \n",
      "1                                                NaN            \n",
      "2                                                NaN            \n",
      "3                                                NaN            \n",
      "4                                                NaN            \n",
      "Error processing file /Users/theerat/Downloads/MP_DATA3/สวัสดี/21/15.npy: 'Body'\n",
      "/Users/theerat/Downloads/MP_DATA3/สวัสดี/21/14.npy\n",
      "Columns: Index(['NUMPY\u0001', ' 'fortran_order': False', ' 'shape': (1662', ')',\n",
      "       ' }                                                         '],\n",
      "      dtype='object')\n",
      "First rows:\n",
      "   NUMPY\u0001  'fortran_order': False  'shape': (1662    )  \\\n",
      "0     NaN                      â?             NaN  NaN   \n",
      "1     xÃ¿                     NaN             NaN  NaN   \n",
      "2      \u000f?                     NaN             NaN  NaN   \n",
      "3     \u0017á?                     \u0011?             NaN  NaN   \n",
      "4      Ó?                     NaN             NaN  NaN   \n",
      "\n",
      "    }                                                           \n",
      "0                                                NaN            \n",
      "1                                                NaN            \n",
      "2                                                NaN            \n",
      "3                                                NaN            \n",
      "4                                                NaN            \n",
      "Error processing file /Users/theerat/Downloads/MP_DATA3/สวัสดี/21/14.npy: 'Body'\n",
      "/Users/theerat/Downloads/MP_DATA3/สวัสดี/21/28.npy\n",
      "Columns: Index(['NUMPY\u0001', ' 'fortran_order': False', ' 'shape': (1662', ')',\n",
      "       ' }                                                         '],\n",
      "      dtype='object')\n",
      "First rows:\n",
      "   NUMPY\u0001  'fortran_order': False  'shape': (1662    )  \\\n",
      "0     NaN                     GÑ?              î?  $û¿   \n",
      "1     \u0012£¿                     NaN             NaN  NaN   \n",
      "2     ká?                     NaN             NaN  NaN   \n",
      "3      Ò?                     NaN             NaN  NaN   \n",
      "4     µØ?                      Ø?              á?   á?   \n",
      "\n",
      "   }                                                           \n",
      "0                                                 þ?           \n",
      "1                                                NaN           \n",
      "2                                                NaN           \n",
      "3                                                NaN           \n",
      "4                                                NaN           \n",
      "Error processing file /Users/theerat/Downloads/MP_DATA3/สวัสดี/21/28.npy: 'Body'\n",
      "/Users/theerat/Downloads/MP_DATA3/สวัสดี/21/16.npy\n",
      "Columns: Index(['NUMPY\u0001', ' 'fortran_order': False', ' 'shape': (1662', ')',\n",
      "       ' }                                                         '],\n",
      "      dtype='object')\n",
      "First rows:\n",
      "   NUMPY\u0001  'fortran_order': False  'shape': (1662    )  \\\n",
      "0     NaN                     NaN             NaN  NaN   \n",
      "1     næ¿                     â?             NaN  NaN   \n",
      "2     Ú«¿                      R?             NaN  NaN   \n",
      "3      ß?                     rÞ?             NaN  NaN   \n",
      "4     D?                     NaN             NaN  NaN   \n",
      "\n",
      "    }                                                           \n",
      "0                                                NaN            \n",
      "1                                                NaN            \n",
      "2                                                NaN            \n",
      "3                                                NaN            \n",
      "4                                                NaN            \n",
      "Error processing file /Users/theerat/Downloads/MP_DATA3/สวัสดี/21/16.npy: 'Body'\n",
      "/Users/theerat/Downloads/MP_DATA3/สวัสดี/21/17.npy\n",
      "Columns: Index(['NUMPY\u0001', ' 'fortran_order': False', ' 'shape': (1662', ')',\n",
      "       ' }                                                         '],\n",
      "      dtype='object')\n",
      "First rows:\n",
      "   NUMPY\u0001  'fortran_order': False  'shape': (1662   )  \\\n",
      "0     NaN                      é¿             NaN NaN   \n",
      "1      ?                     NaN             NaN NaN   \n",
      "2       ?                     NaN             NaN NaN   \n",
      "3      á?                      ¿              Þ? NaN   \n",
      "4     Ò?                     NaN             NaN NaN   \n",
      "\n",
      "    }                                                           \n",
      "0                                                NaN            \n",
      "1                                                NaN            \n",
      "2                                                NaN            \n",
      "3                                                NaN            \n",
      "4                                                NaN            \n",
      "Error processing file /Users/theerat/Downloads/MP_DATA3/สวัสดี/21/17.npy: 'Body'\n",
      "/Users/theerat/Downloads/MP_DATA3/สวัสดี/21/13.npy\n",
      "Columns: Index(['NUMPY\u0001', ' 'fortran_order': False', ' 'shape': (1662', ')',\n",
      "       ' }                                                         '],\n",
      "      dtype='object')\n",
      "First rows:\n",
      "   NUMPY\u0001  'fortran_order': False  'shape': (1662    )  \\\n",
      "0     NaN                      ¶¿             NaN  NaN   \n",
      "1       ?                     K¢¿             NaN  NaN   \n",
      "2      ¿                      Ñ?             NaN  NaN   \n",
      "3      w¿                     ¥¿             .r¿  ÄØ?   \n",
      "4      ?                     NaN             NaN  NaN   \n",
      "\n",
      "   }                                                           \n",
      "0                                                NaN           \n",
      "1                                                NaN           \n",
      "2                                                NaN           \n",
      "3                                                 Î?           \n",
      "4                                                NaN           \n",
      "Error processing file /Users/theerat/Downloads/MP_DATA3/สวัสดี/21/13.npy: 'Body'\n",
      "/Users/theerat/Downloads/MP_DATA3/สวัสดี/21/12.npy\n",
      "Columns: Index(['NUMPY\u0001', ' 'fortran_order': False', ' 'shape': (1662', ')',\n",
      "       ' }                                                         '],\n",
      "      dtype='object')\n",
      "First rows:\n",
      "   NUMPY\u0001  'fortran_order': False  'shape': (1662    )  \\\n",
      "0     NaN                     NaN             NaN  NaN   \n",
      "1      ç?                     5ñ>             NaN  NaN   \n",
      "2      á?                     NaN             NaN  NaN   \n",
      "3     1¿                      Ø?             °?  cØ?   \n",
      "4     \u001aÔ?                     NaN             NaN  NaN   \n",
      "\n",
      "   }                                                           \n",
      "0                                                NaN           \n",
      "1                                                NaN           \n",
      "2                                                NaN           \n",
      "3                                                 Õ?           \n",
      "4                                                NaN           \n",
      "Error processing file /Users/theerat/Downloads/MP_DATA3/สวัสดี/21/12.npy: 'Body'\n",
      "/Users/theerat/Downloads/MP_DATA3/สวัสดี/21/10.npy\n",
      "Columns: Index(['NUMPY\u0001', ' 'fortran_order': False', ' 'shape': (1662', ')',\n",
      "       ' }                                                         '],\n",
      "      dtype='object')\n",
      "First rows:\n",
      "   NUMPY\u0001  'fortran_order': False  'shape': (1662    )  \\\n",
      "0     NaN                      å?             NaN  NaN   \n",
      "1      õ?                       ?             NaN  NaN   \n",
      "2      ã?                     NaN             NaN  NaN   \n",
      "3     \u0003@                     \\Õ?              á?  NaN   \n",
      "4     Ï}?                     NaN             NaN  NaN   \n",
      "\n",
      "    }                                                           \n",
      "0                                                NaN            \n",
      "1                                                NaN            \n",
      "2                                                NaN            \n",
      "3                                                NaN            \n",
      "4                                                NaN            \n",
      "Error processing file /Users/theerat/Downloads/MP_DATA3/สวัสดี/21/10.npy: 'Body'\n",
      "/Users/theerat/Downloads/MP_DATA3/สวัสดี/21/11.npy\n",
      "Columns: Index(['NUMPY\u0001', ' 'fortran_order': False', ' 'shape': (1662', ')',\n",
      "       ' }                                                         '],\n",
      "      dtype='object')\n",
      "First rows:\n",
      "   NUMPY\u0001  'fortran_order': False  'shape': (1662   )  \\\n",
      "0     NaN                     NaN             NaN NaN   \n",
      "1     ¤Ð¿                     NaN             NaN NaN   \n",
      "2      ¯¿                     NaN             NaN NaN   \n",
      "3      á?                      ¿             NaN NaN   \n",
      "4      Þ?                     NaN             NaN NaN   \n",
      "\n",
      "    }                                                           \n",
      "0                                                NaN            \n",
      "1                                                NaN            \n",
      "2                                                NaN            \n",
      "3                                                NaN            \n",
      "4                                                NaN            \n",
      "Error processing file /Users/theerat/Downloads/MP_DATA3/สวัสดี/21/11.npy: 'Body'\n",
      "/Users/theerat/Downloads/MP_DATA3/สวัสดี/12/20.npy\n",
      "Columns: Index(['NUMPY\u0001', ' 'fortran_order': False', ' 'shape': (1662', ')',\n",
      "       ' }                                                         '],\n",
      "      dtype='object')\n",
      "First rows:\n",
      "   NUMPY\u0001  'fortran_order': False  'shape': (1662   )  \\\n",
      "0     NaN                     NaN             NaN NaN   \n",
      "1      Ø?                     NaN             NaN NaN   \n",
      "2     úé?                      Ð?             NaN NaN   \n",
      "3      Ñ?                     ªÒ?             m¿ NaN   \n",
      "4     ëà?                     NaN             NaN NaN   \n",
      "\n",
      "    }                                                           \n",
      "0                                                NaN            \n",
      "1                                                NaN            \n",
      "2                                                NaN            \n",
      "3                                                NaN            \n",
      "4                                                NaN            \n",
      "Error processing file /Users/theerat/Downloads/MP_DATA3/สวัสดี/12/20.npy: 'Body'\n",
      "/Users/theerat/Downloads/MP_DATA3/สวัสดี/12/21.npy\n",
      "Columns: Index(['NUMPY\u0001', ' 'fortran_order': False', ' 'shape': (1662', ')',\n",
      "       ' }                                                         '],\n",
      "      dtype='object')\n",
      "First rows:\n",
      "   NUMPY\u0001  'fortran_order': False  'shape': (1662    )  \\\n",
      "0     NaN                     NaN             NaN  NaN   \n",
      "1      Ø?                     NaN             NaN  NaN   \n",
      "2     Ò¿                     NaN             NaN  NaN   \n",
      "3     \u0018Ù?                     NaN             NaN  NaN   \n",
      "4     x\u001e?                     NaN             NaN  NaN   \n",
      "\n",
      "   }                                                           \n",
      "0                                                NaN           \n",
      "1                                                NaN           \n",
      "2                                                NaN           \n",
      "3                                                NaN           \n",
      "4                                                NaN           \n",
      "Error processing file /Users/theerat/Downloads/MP_DATA3/สวัสดี/12/21.npy: 'Body'\n",
      "/Users/theerat/Downloads/MP_DATA3/สวัสดี/12/23.npy\n",
      "Columns: Index(['NUMPY\u0001', ' 'fortran_order': False', ' 'shape': (1662', ')',\n",
      "       ' }                                                         '],\n",
      "      dtype='object')\n",
      "First rows:\n",
      "   NUMPY\u0001  'fortran_order': False  'shape': (1662   )  \\\n",
      "0     NaN                     NaN             NaN NaN   \n",
      "1     §ß?                     NaN             NaN NaN   \n",
      "2     \u0018ë?                     NaN             NaN NaN   \n",
      "3      Ø?                     NaN             NaN NaN   \n",
      "4      Û?                      á?             NaN NaN   \n",
      "\n",
      "    }                                                           \n",
      "0                                                NaN            \n",
      "1                                                NaN            \n",
      "2                                                NaN            \n",
      "3                                                NaN            \n",
      "4                                                NaN            \n",
      "Error processing file /Users/theerat/Downloads/MP_DATA3/สวัสดี/12/23.npy: 'Body'\n",
      "/Users/theerat/Downloads/MP_DATA3/สวัสดี/12/22.npy\n",
      "Columns: Index(['NUMPY\u0001', ' 'fortran_order': False', ' 'shape': (1662', ')',\n",
      "       ' }                                                         '],\n",
      "      dtype='object')\n",
      "First rows:\n",
      "   NUMPY\u0001  'fortran_order': False  'shape': (1662   )  \\\n",
      "0     NaN                     NaN             NaN NaN   \n",
      "1      Ø?                      ×?             NaN NaN   \n",
      "2      ë?                     NaN             NaN NaN   \n",
      "3     á\u0002@                     NaN             NaN NaN   \n",
      "4      Û?                     NaN             NaN NaN   \n",
      "\n",
      "    }                                                           \n",
      "0                                                NaN            \n",
      "1                                                NaN            \n",
      "2                                                NaN            \n",
      "3                                                NaN            \n",
      "4                                                NaN            \n",
      "Error processing file /Users/theerat/Downloads/MP_DATA3/สวัสดี/12/22.npy: 'Body'\n",
      "/Users/theerat/Downloads/MP_DATA3/สวัสดี/12/26.npy\n",
      "Columns: Index(['NUMPY\u0001', ' 'fortran_order': False', ' 'shape': (1662', ')',\n",
      "       ' }                                                         '],\n",
      "      dtype='object')\n",
      "First rows:\n",
      "   NUMPY\u0001  'fortran_order': False  'shape': (1662    )  \\\n",
      "0     NaN                     NaN             NaN  NaN   \n",
      "1     3ã¿                     NaN             NaN  NaN   \n",
      "2     2Ñ?                     NaN             NaN  NaN   \n",
      "3      á?                     \u0006á?             NaN  NaN   \n",
      "4      Ò?                     NaN             NaN  NaN   \n",
      "\n",
      "   }                                                           \n",
      "0                                                NaN           \n",
      "1                                                NaN           \n",
      "2                                                NaN           \n",
      "3                                                NaN           \n",
      "4                                                NaN           \n",
      "Error processing file /Users/theerat/Downloads/MP_DATA3/สวัสดี/12/26.npy: 'Body'\n",
      "/Users/theerat/Downloads/MP_DATA3/สวัสดี/12/27.npy\n",
      "Columns: Index(['NUMPY\u0001', ' 'fortran_order': False', ' 'shape': (1662', ')',\n",
      "       ' }                                                         '],\n",
      "      dtype='object')\n",
      "First rows:\n",
      "   NUMPY\u0001  'fortran_order': False  'shape': (1662   )  \\\n",
      "0     NaN                      å¿             NaN NaN   \n",
      "1     Vß?                     zÒ?             NaN NaN   \n",
      "2       ?                      Þ?              á? NaN   \n",
      "3      m?                     NaN             NaN NaN   \n",
      "4      á?                      Þ?             NaN NaN   \n",
      "\n",
      "    }                                                           \n",
      "0                                                NaN            \n",
      "1                                                NaN            \n",
      "2                                                NaN            \n",
      "3                                                NaN            \n",
      "4                                                NaN            \n",
      "Error processing file /Users/theerat/Downloads/MP_DATA3/สวัสดี/12/27.npy: 'Body'\n",
      "/Users/theerat/Downloads/MP_DATA3/สวัสดี/12/25.npy\n",
      "Columns: Index(['NUMPY\u0001', ' 'fortran_order': False', ' 'shape': (1662', ')',\n",
      "       ' }                                                         '],\n",
      "      dtype='object')\n",
      "First rows:\n",
      "   NUMPY\u0001  'fortran_order': False  'shape': (1662    )  \\\n",
      "0     NaN                     NaN             NaN  NaN   \n",
      "1     °è?                     NaN             NaN  NaN   \n",
      "2      Ò?                     NaN             NaN  NaN   \n",
      "3     \u0002ß?                     NaN             NaN  NaN   \n",
      "4     \u0012á?                      Ñ?              Ø?  ·\u001c?   \n",
      "\n",
      "    }                                                           \n",
      "0                                                NaN            \n",
      "1                                                NaN            \n",
      "2                                                NaN            \n",
      "3                                                NaN            \n",
      "4                                                NaN            \n",
      "Error processing file /Users/theerat/Downloads/MP_DATA3/สวัสดี/12/25.npy: 'Body'\n",
      "/Users/theerat/Downloads/MP_DATA3/สวัสดี/12/19.npy\n",
      "Columns: Index(['NUMPY\u0001', ' 'fortran_order': False', ' 'shape': (1662', ')',\n",
      "       ' }                                                         '],\n",
      "      dtype='object')\n",
      "First rows:\n",
      "   NUMPY\u0001  'fortran_order': False  'shape': (1662    )  \\\n",
      "0     NaN                     NaN             NaN  NaN   \n",
      "1     ã¿                     NaN             NaN  NaN   \n",
      "2      é?                     NaN             NaN  NaN   \n",
      "3      ®¿                      Ò¿              á?  NaN   \n",
      "4     \u001fà?                     NaN             NaN  NaN   \n",
      "\n",
      "    }                                                           \n",
      "0                                                NaN            \n",
      "1                                                NaN            \n",
      "2                                                NaN            \n",
      "3                                                NaN            \n",
      "4                                                NaN            \n",
      "Error processing file /Users/theerat/Downloads/MP_DATA3/สวัสดี/12/19.npy: 'Body'\n",
      "/Users/theerat/Downloads/MP_DATA3/สวัสดี/12/18.npy\n",
      "Error processing file /Users/theerat/Downloads/MP_DATA3/สวัสดี/12/18.npy: Error tokenizing data. C error: Expected 5 fields in line 16, saw 6\n",
      "\n",
      "/Users/theerat/Downloads/MP_DATA3/สวัสดี/12/24.npy\n",
      "Columns: Index(['NUMPY\u0001', ' 'fortran_order': False', ' 'shape': (1662', ')',\n",
      "       ' }                                                         '],\n",
      "      dtype='object')\n",
      "First rows:\n",
      "   NUMPY\u0001  'fortran_order': False  'shape': (1662    )  \\\n",
      "0     NaN                     NaN             NaN  NaN   \n",
      "1     Çä¿                      á?             /á?  NaN   \n",
      "2      ×?                     NaN             NaN  NaN   \n",
      "3     ìÞ?                     NaN             NaN  NaN   \n",
      "4     û¿                     ºØ?             NaN  NaN   \n",
      "\n",
      "   }                                                           \n",
      "0                                                NaN           \n",
      "1                                                NaN           \n",
      "2                                                NaN           \n",
      "3                                                NaN           \n",
      "4                                                NaN           \n",
      "Error processing file /Users/theerat/Downloads/MP_DATA3/สวัสดี/12/24.npy: 'Body'\n",
      "/Users/theerat/Downloads/MP_DATA3/สวัสดี/12/5.npy\n",
      "Error processing file /Users/theerat/Downloads/MP_DATA3/สวัสดี/12/5.npy: Error tokenizing data. C error: Buffer overflow caught - possible malformed input file.\n",
      "\n",
      "/Users/theerat/Downloads/MP_DATA3/สวัสดี/12/4.npy\n",
      "Error processing file /Users/theerat/Downloads/MP_DATA3/สวัสดี/12/4.npy: Error tokenizing data. C error: Buffer overflow caught - possible malformed input file.\n",
      "\n",
      "/Users/theerat/Downloads/MP_DATA3/สวัสดี/12/6.npy\n",
      "Columns: Index(['NUMPY\u0001', ' 'fortran_order': False', ' 'shape': (1662', ')',\n",
      "       ' }                                                         '],\n",
      "      dtype='object')\n",
      "First rows:\n",
      "   NUMPY\u0001  'fortran_order': False  'shape': (1662   )  \\\n",
      "0     NaN                     üï?             NaN NaN   \n",
      "1      ã?                     NaN             NaN NaN   \n",
      "2     þï?                     NaN             NaN NaN   \n",
      "3      õ?                     NaN             NaN NaN   \n",
      "4       ?                     NaN             NaN NaN   \n",
      "\n",
      "    }                                                           \n",
      "0                                                NaN            \n",
      "1                                                NaN            \n",
      "2                                                NaN            \n",
      "3                                                NaN            \n",
      "4                                                NaN            \n",
      "Error processing file /Users/theerat/Downloads/MP_DATA3/สวัสดี/12/6.npy: 'Body'\n",
      "/Users/theerat/Downloads/MP_DATA3/สวัสดี/12/7.npy\n",
      "Columns: Index(['NUMPY\u0001', ' 'fortran_order': False', ' 'shape': (1662', ')',\n",
      "       ' }                                                         '],\n",
      "      dtype='object')\n",
      "First rows:\n",
      "   NUMPY\u0001  'fortran_order': False  'shape': (1662    )  \\\n",
      "0     NaN                     zä?              ¿  }Þ?   \n",
      "1      Ö?                      µ?             NaN  NaN   \n",
      "2     §à?                     NaN             NaN  NaN   \n",
      "3      ­?                     NaN             NaN  NaN   \n",
      "4     kÔ?                     ¡Ú?             NaN  NaN   \n",
      "\n",
      "    }                                                           \n",
      "0                                                NaN            \n",
      "1                                                NaN            \n",
      "2                                                NaN            \n",
      "3                                                NaN            \n",
      "4                                                NaN            \n",
      "Error processing file /Users/theerat/Downloads/MP_DATA3/สวัสดี/12/7.npy: 'Body'\n",
      "/Users/theerat/Downloads/MP_DATA3/สวัสดี/12/3.npy\n",
      "Columns: Index(['NUMPY\u0001', ' 'fortran_order': False', ' 'shape': (1662', ')',\n",
      "       ' }                                                         '],\n",
      "      dtype='object')\n",
      "First rows:\n",
      "   NUMPY\u0001  'fortran_order': False  'shape': (1662    )  \\\n",
      "0     NaN                      Û?             NaN  NaN   \n",
      "1     ª£¿                     NaN             NaN  NaN   \n",
      "2     \u001aá?                     ðÔ?              Ò?  Q?   \n",
      "3     WÞ?                     NaN             NaN  NaN   \n",
      "4     \u000bá?                     NaN             NaN  NaN   \n",
      "\n",
      "    }                                                           \n",
      "0                                                NaN            \n",
      "1                                                NaN            \n",
      "2                                                NaN            \n",
      "3                                                NaN            \n",
      "4                                                NaN            \n",
      "Error processing file /Users/theerat/Downloads/MP_DATA3/สวัสดี/12/3.npy: 'Body'\n",
      "/Users/theerat/Downloads/MP_DATA3/สวัสดี/12/2.npy\n",
      "Columns: Index(['NUMPY\u0001', ' 'fortran_order': False', ' 'shape': (1662', ')',\n",
      "       ' }                                                         '],\n",
      "      dtype='object')\n",
      "First rows:\n",
      "   NUMPY\u0001  'fortran_order': False  'shape': (1662    )  \\\n",
      "0     NaN                     »¿             NaN  NaN   \n",
      "1      Ø?                      Û?             NaN  NaN   \n",
      "2     ?                     NaN             NaN  NaN   \n",
      "3     \u001bß?                     NaN             NaN  NaN   \n",
      "4      Þ?                      Þ?             NaN  NaN   \n",
      "\n",
      "    }                                                           \n",
      "0                                                NaN            \n",
      "1                                                NaN            \n",
      "2                                                NaN            \n",
      "3                                                NaN            \n",
      "4                                                NaN            \n",
      "Error processing file /Users/theerat/Downloads/MP_DATA3/สวัสดี/12/2.npy: 'Body'\n",
      "/Users/theerat/Downloads/MP_DATA3/สวัสดี/12/0.npy\n",
      "Error processing file /Users/theerat/Downloads/MP_DATA3/สวัสดี/12/0.npy: Error tokenizing data. C error: Buffer overflow caught - possible malformed input file.\n",
      "\n",
      "/Users/theerat/Downloads/MP_DATA3/สวัสดี/12/1.npy\n",
      "Columns: Index(['NUMPY\u0001', ' 'fortran_order': False', ' 'shape': (1662', ')',\n",
      "       ' }                                                         '],\n",
      "      dtype='object')\n",
      "First rows:\n",
      "   NUMPY\u0001  'fortran_order': False  'shape': (1662   )  \\\n",
      "0     NaN                     Íå¿             NaN NaN   \n",
      "1     æâ?                      Ö?             NaN NaN   \n",
      "2     ¯\u0018?                     \u001e¿             NaN NaN   \n",
      "3     tà?                      ?             NaN NaN   \n",
      "4     Ý¿                      n?             NaN NaN   \n",
      "\n",
      "    }                                                           \n",
      "0                                                NaN            \n",
      "1                                                NaN            \n",
      "2                                                NaN            \n",
      "3                                                NaN            \n",
      "4                                                NaN            \n",
      "Error processing file /Users/theerat/Downloads/MP_DATA3/สวัสดี/12/1.npy: 'Body'\n",
      "/Users/theerat/Downloads/MP_DATA3/สวัสดี/12/9.npy\n",
      "Columns: Index(['NUMPY\u0001', ' 'fortran_order': False', ' 'shape': (1662', ')',\n",
      "       ' }                                                         '],\n",
      "      dtype='object')\n",
      "First rows:\n",
      "   NUMPY\u0001  'fortran_order': False  'shape': (1662   )  \\\n",
      "0     NaN                     NaN             NaN NaN   \n",
      "1     P¼?                      Õ?             NaN NaN   \n",
      "2     ÖÍ?                      ¿             NaN NaN   \n",
      "3     /ß?                     d×?             NaN NaN   \n",
      "4     fÔ?                     NaN             NaN NaN   \n",
      "\n",
      "    }                                                           \n",
      "0                                                NaN            \n",
      "1                                                NaN            \n",
      "2                                                NaN            \n",
      "3                                                NaN            \n",
      "4                                                NaN            \n",
      "Error processing file /Users/theerat/Downloads/MP_DATA3/สวัสดี/12/9.npy: 'Body'\n",
      "/Users/theerat/Downloads/MP_DATA3/สวัสดี/12/8.npy\n",
      "Columns: Index(['NUMPY\u0001', ' 'fortran_order': False', ' 'shape': (1662', ')',\n",
      "       ' }                                                         '],\n",
      "      dtype='object')\n",
      "First rows:\n",
      "   NUMPY\u0001  'fortran_order': False  'shape': (1662    )  \\\n",
      "0     NaN                     NaN             NaN  NaN   \n",
      "1      Ö?                      ¿             NaN  NaN   \n",
      "2     µÖ?                      á?              á?  NaN   \n",
      "3     ×?                      ?             NaN  NaN   \n",
      "4      à?                     NaN             NaN  NaN   \n",
      "\n",
      "   }                                                           \n",
      "0                                                NaN           \n",
      "1                                                NaN           \n",
      "2                                                NaN           \n",
      "3                                                NaN           \n",
      "4                                                NaN           \n",
      "Error processing file /Users/theerat/Downloads/MP_DATA3/สวัสดี/12/8.npy: 'Body'\n",
      "/Users/theerat/Downloads/MP_DATA3/สวัสดี/12/29.npy\n",
      "Columns: Index(['NUMPY\u0001', ' 'fortran_order': False', ' 'shape': (1662', ')',\n",
      "       ' }                                                         '],\n",
      "      dtype='object')\n",
      "First rows:\n",
      "   NUMPY\u0001  'fortran_order': False  'shape': (1662    )  \\\n",
      "0     NaN                     Ù?              Û?  NaN   \n",
      "1      Ò?                     yà?             NaN  NaN   \n",
      "2      ß?                     NaN             NaN  NaN   \n",
      "3     Þ?                     G`?             NaN  NaN   \n",
      "4      ¿                      Ø?             NaN  NaN   \n",
      "\n",
      "    }                                                           \n",
      "0                                                NaN            \n",
      "1                                                NaN            \n",
      "2                                                NaN            \n",
      "3                                                NaN            \n",
      "4                                                NaN            \n",
      "Error processing file /Users/theerat/Downloads/MP_DATA3/สวัสดี/12/29.npy: 'Body'\n",
      "/Users/theerat/Downloads/MP_DATA3/สวัสดี/12/15.npy\n",
      "Columns: Index(['NUMPY\u0001', ' 'fortran_order': False', ' 'shape': (1662', ')',\n",
      "       ' }                                                         '],\n",
      "      dtype='object')\n",
      "First rows:\n",
      "   NUMPY\u0001  'fortran_order': False  'shape': (1662   )  \\\n",
      "0     NaN                     êï?             NaN NaN   \n",
      "1      Ñ?                     NaN             NaN NaN   \n",
      "2     ~ä?                      Ò?             NaN NaN   \n",
      "3      Û?                     NaN             NaN NaN   \n",
      "4      Ò?                     NaN             NaN NaN   \n",
      "\n",
      "    }                                                           \n",
      "0                                                NaN            \n",
      "1                                                NaN            \n",
      "2                                                NaN            \n",
      "3                                                NaN            \n",
      "4                                                NaN            \n",
      "Error processing file /Users/theerat/Downloads/MP_DATA3/สวัสดี/12/15.npy: 'Body'\n",
      "/Users/theerat/Downloads/MP_DATA3/สวัสดี/12/14.npy\n",
      "Columns: Index(['NUMPY\u0001', ' 'fortran_order': False', ' 'shape': (1662', ')',\n",
      "       ' }                                                         '],\n",
      "      dtype='object')\n",
      "First rows:\n",
      "   NUMPY\u0001  'fortran_order': False  'shape': (1662    )  \\\n",
      "0     NaN                     NaN             NaN  NaN   \n",
      "1     \u0011ã?                     NaN             NaN  NaN   \n",
      "2      Ñ?                     4Ú?             NaN  NaN   \n",
      "3     Ñ?                      à?             NaN  NaN   \n",
      "4     ²à?                     r¿             NaN  NaN   \n",
      "\n",
      "    }                                                           \n",
      "0                                                NaN            \n",
      "1                                                NaN            \n",
      "2                                                NaN            \n",
      "3                                                NaN            \n",
      "4                                                NaN            \n",
      "Error processing file /Users/theerat/Downloads/MP_DATA3/สวัสดี/12/14.npy: 'Body'\n",
      "/Users/theerat/Downloads/MP_DATA3/สวัสดี/12/28.npy\n",
      "Columns: Index(['NUMPY\u0001', ' 'fortran_order': False', ' 'shape': (1662', ')',\n",
      "       ' }                                                         '],\n",
      "      dtype='object')\n",
      "First rows:\n",
      "   NUMPY\u0001  'fortran_order': False  'shape': (1662   )  \\\n",
      "0     NaN                     NaN             NaN NaN   \n",
      "1      é?                     NaN             NaN NaN   \n",
      "2      Û?                     NaN             NaN NaN   \n",
      "3       ?                     NaN             NaN NaN   \n",
      "4     ;á?                     NaN             NaN NaN   \n",
      "\n",
      "    }                                                           \n",
      "0                                                NaN            \n",
      "1                                                NaN            \n",
      "2                                                NaN            \n",
      "3                                                NaN            \n",
      "4                                                NaN            \n",
      "Error processing file /Users/theerat/Downloads/MP_DATA3/สวัสดี/12/28.npy: 'Body'\n",
      "/Users/theerat/Downloads/MP_DATA3/สวัสดี/12/16.npy\n",
      "Columns: Index(['NUMPY\u0001', ' 'fortran_order': False', ' 'shape': (1662', ')',\n",
      "       ' }                                                         '],\n",
      "      dtype='object')\n",
      "First rows:\n",
      "   NUMPY\u0001  'fortran_order': False  'shape': (1662    )  \\\n",
      "0     NaN                     NaN             NaN  NaN   \n",
      "1     ùï?                     NaN             NaN  NaN   \n",
      "2     \u0011ç?                     NaN             NaN  NaN   \n",
      "3      á?                     NaN             NaN  NaN   \n",
      "4     \u0019?                     NaN             NaN  NaN   \n",
      "\n",
      "   }                                                           \n",
      "0                                                NaN           \n",
      "1                                                NaN           \n",
      "2                                                NaN           \n",
      "3                                                NaN           \n",
      "4                                                NaN           \n",
      "Error processing file /Users/theerat/Downloads/MP_DATA3/สวัสดี/12/16.npy: 'Body'\n",
      "/Users/theerat/Downloads/MP_DATA3/สวัสดี/12/17.npy\n",
      "Columns: Index(['NUMPY\u0001', ' 'fortran_order': False', ' 'shape': (1662', ')',\n",
      "       ' }                                                         '],\n",
      "      dtype='object')\n",
      "First rows:\n",
      "   NUMPY\u0001  'fortran_order': False  'shape': (1662   )  \\\n",
      "0     NaN                      Ó?             \fÜ? NaN   \n",
      "1      \u0013?                     üà?             NaN NaN   \n",
      "2      ?                     ìà?             NaN NaN   \n",
      "3      á?                     NaN             NaN NaN   \n",
      "4      Ó?                      Ù?             NaN NaN   \n",
      "\n",
      "    }                                                           \n",
      "0                                                NaN            \n",
      "1                                                NaN            \n",
      "2                                                NaN            \n",
      "3                                                NaN            \n",
      "4                                                NaN            \n",
      "Error processing file /Users/theerat/Downloads/MP_DATA3/สวัสดี/12/17.npy: 'Body'\n",
      "/Users/theerat/Downloads/MP_DATA3/สวัสดี/12/13.npy\n",
      "Columns: Index(['NUMPY\u0001', ' 'fortran_order': False', ' 'shape': (1662', ')',\n",
      "       ' }                                                         '],\n",
      "      dtype='object')\n",
      "First rows:\n",
      "   NUMPY\u0001  'fortran_order': False  'shape': (1662   )  \\\n",
      "0     NaN                     NaN             NaN NaN   \n",
      "1      õ?                     NaN             NaN NaN   \n",
      "2      Ø?                     NaN             NaN NaN   \n",
      "3     -á?                     NaN             NaN NaN   \n",
      "4      ß?                     NaN             NaN NaN   \n",
      "\n",
      "    }                                                           \n",
      "0                                                NaN            \n",
      "1                                                NaN            \n",
      "2                                                NaN            \n",
      "3                                                NaN            \n",
      "4                                                NaN            \n",
      "Error processing file /Users/theerat/Downloads/MP_DATA3/สวัสดี/12/13.npy: 'Body'\n",
      "/Users/theerat/Downloads/MP_DATA3/สวัสดี/12/12.npy\n",
      "Columns: Index(['NUMPY\u0001', ' 'fortran_order': False', ' 'shape': (1662', ')',\n",
      "       ' }                                                         '],\n",
      "      dtype='object')\n",
      "First rows:\n",
      "   NUMPY\u0001  'fortran_order': False  'shape': (1662    )  \\\n",
      "0     NaN                     NaN             NaN  NaN   \n",
      "1      Ó?                      ­?             4?  NaN   \n",
      "2      à?                     !?              Ø?  NaN   \n",
      "3      Ð?                     NaN             NaN  NaN   \n",
      "4      á?                     NaN             NaN  NaN   \n",
      "\n",
      "    }                                                           \n",
      "0                                                NaN            \n",
      "1                                                NaN            \n",
      "2                                                NaN            \n",
      "3                                                NaN            \n",
      "4                                                NaN            \n",
      "Error processing file /Users/theerat/Downloads/MP_DATA3/สวัสดี/12/12.npy: 'Body'\n",
      "/Users/theerat/Downloads/MP_DATA3/สวัสดี/12/10.npy\n",
      "Columns: Index(['NUMPY\u0001', ' 'fortran_order': False', ' 'shape': (1662', ')',\n",
      "       ' }                                                         '],\n",
      "      dtype='object')\n",
      "First rows:\n",
      "   NUMPY\u0001  'fortran_order': False  'shape': (1662    )  \\\n",
      "0     NaN                      à?             Û¿   è?   \n",
      "1      ¿                     NaN             NaN  NaN   \n",
      "2     ÒÞ?                     NaN             NaN  NaN   \n",
      "3     OÙ?                     NaN             NaN  NaN   \n",
      "4      ×?                     NaN             NaN  NaN   \n",
      "\n",
      "    }                                                           \n",
      "0                                                NaN            \n",
      "1                                                NaN            \n",
      "2                                                NaN            \n",
      "3                                                NaN            \n",
      "4                                                NaN            \n",
      "Error processing file /Users/theerat/Downloads/MP_DATA3/สวัสดี/12/10.npy: 'Body'\n",
      "/Users/theerat/Downloads/MP_DATA3/สวัสดี/12/11.npy\n",
      "Columns: Index(['NUMPY\u0001', ' 'fortran_order': False', ' 'shape': (1662', ')',\n",
      "       ' }                                                         '],\n",
      "      dtype='object')\n",
      "First rows:\n",
      "   NUMPY\u0001  'fortran_order': False  'shape': (1662    )  \\\n",
      "0     NaN                      À?             NaN  NaN   \n",
      "1      Ñ?                      ¢¿             NaN  NaN   \n",
      "2      ¬?                     NaN             NaN  NaN   \n",
      "3      ß?                     NaN             NaN  NaN   \n",
      "4     Ýw?                      à?             NaN  NaN   \n",
      "\n",
      "    }                                                           \n",
      "0                                                NaN            \n",
      "1                                                NaN            \n",
      "2                                                NaN            \n",
      "3                                                NaN            \n",
      "4                                                NaN            \n",
      "Error processing file /Users/theerat/Downloads/MP_DATA3/สวัสดี/12/11.npy: 'Body'\n",
      "/Users/theerat/Downloads/MP_DATA3/สวัสดี/13/20.npy\n",
      "Columns: Index(['NUMPY\u0001', ' 'fortran_order': False', ' 'shape': (1662', ')',\n",
      "       ' }                                                         '],\n",
      "      dtype='object')\n",
      "First rows:\n",
      "   NUMPY\u0001  'fortran_order': False   'shape': (1662   )  \\\n",
      "0     NaN                     NaN              NaN NaN   \n",
      "1      Ç?                     NaN              NaN NaN   \n",
      "2     Ðæ?                      Ö?              NaN NaN   \n",
      "3      Ò?                     NaN              NaN NaN   \n",
      "4     ïÐ?                     NaN              NaN NaN   \n",
      "\n",
      "    }                                                           \n",
      "0                                                NaN            \n",
      "1                                                NaN            \n",
      "2                                                NaN            \n",
      "3                                                NaN            \n",
      "4                                                NaN            \n",
      "Error processing file /Users/theerat/Downloads/MP_DATA3/สวัสดี/13/20.npy: 'Body'\n",
      "/Users/theerat/Downloads/MP_DATA3/สวัสดี/13/21.npy\n",
      "Columns: Index(['NUMPY\u0001', ' 'fortran_order': False', ' 'shape': (1662', ')',\n",
      "       ' }                                                         '],\n",
      "      dtype='object')\n",
      "First rows:\n",
      "   NUMPY\u0001  'fortran_order': False  'shape': (1662   )  \\\n",
      "0     NaN                     NaN             NaN NaN   \n",
      "1      ä¿                     NaN             NaN NaN   \n",
      "2      ä¿                     NaN             NaN NaN   \n",
      "3      ä¿                     oÙ?             NaN NaN   \n",
      "4     KØ?                     NaN             NaN NaN   \n",
      "\n",
      "    }                                                           \n",
      "0                                                NaN            \n",
      "1                                                NaN            \n",
      "2                                                NaN            \n",
      "3                                                NaN            \n",
      "4                                                NaN            \n",
      "Error processing file /Users/theerat/Downloads/MP_DATA3/สวัสดี/13/21.npy: 'Body'\n",
      "/Users/theerat/Downloads/MP_DATA3/สวัสดี/13/23.npy\n",
      "Columns: Index(['NUMPY\u0001', ' 'fortran_order': False', ' 'shape': (1662', ')',\n",
      "       ' }                                                         '],\n",
      "      dtype='object')\n",
      "First rows:\n",
      "   NUMPY\u0001  'fortran_order': False  'shape': (1662    )  \\\n",
      "0     NaN                     NaN             NaN  NaN   \n",
      "1     Û?                     NaN             NaN  NaN   \n",
      "2      á?                      á?             NaN  NaN   \n",
      "3     Ü¿                     NaN             NaN  NaN   \n",
      "4     yà?                     NaN             NaN  NaN   \n",
      "\n",
      "    }                                                           \n",
      "0                                                NaN            \n",
      "1                                                NaN            \n",
      "2                                                NaN            \n",
      "3                                                NaN            \n",
      "4                                                NaN            \n",
      "Error processing file /Users/theerat/Downloads/MP_DATA3/สวัสดี/13/23.npy: 'Body'\n",
      "/Users/theerat/Downloads/MP_DATA3/สวัสดี/13/22.npy\n",
      "Columns: Index(['NUMPY\u0001', ' 'fortran_order': False', ' 'shape': (1662', ')',\n",
      "       ' }                                                         '],\n",
      "      dtype='object')\n",
      "First rows:\n",
      "   NUMPY\u0001  'fortran_order': False  'shape': (1662   )  \\\n",
      "0     NaN                     üï?             ç? NaN   \n",
      "1     3á?                     NaN             NaN NaN   \n",
      "2      Ò?                     NaN             NaN NaN   \n",
      "3      ß?                     NaN             NaN NaN   \n",
      "4      ?                     NaN             NaN NaN   \n",
      "\n",
      "    }                                                           \n",
      "0                                                NaN            \n",
      "1                                                NaN            \n",
      "2                                                NaN            \n",
      "3                                                NaN            \n",
      "4                                                NaN            \n",
      "Error processing file /Users/theerat/Downloads/MP_DATA3/สวัสดี/13/22.npy: 'Body'\n",
      "/Users/theerat/Downloads/MP_DATA3/สวัสดี/13/26.npy\n",
      "Columns: Index(['NUMPY\u0001', ' 'fortran_order': False', ' 'shape': (1662', ')',\n",
      "       ' }                                                         '],\n",
      "      dtype='object')\n",
      "First rows:\n",
      "   NUMPY\u0001  'fortran_order': False  'shape': (1662    )  \\\n",
      "0     NaN                      â?              ô?  NaN   \n",
      "1      ×?                     NaN             NaN  NaN   \n",
      "2     Õõ?                     NaN             NaN  NaN   \n",
      "3      ¿                     NaN             NaN  NaN   \n",
      "4      ¿                     NaN             NaN  NaN   \n",
      "\n",
      "   }                                                           \n",
      "0                                                NaN           \n",
      "1                                                NaN           \n",
      "2                                                NaN           \n",
      "3                                                NaN           \n",
      "4                                                NaN           \n",
      "Error processing file /Users/theerat/Downloads/MP_DATA3/สวัสดี/13/26.npy: 'Body'\n",
      "/Users/theerat/Downloads/MP_DATA3/สวัสดี/13/27.npy\n",
      "Error processing file /Users/theerat/Downloads/MP_DATA3/สวัสดี/13/27.npy: Error tokenizing data. C error: EOF inside string starting at row 20\n",
      "/Users/theerat/Downloads/MP_DATA3/สวัสดี/13/25.npy\n",
      "Columns: Index(['NUMPY\u0001', ' 'fortran_order': False', ' 'shape': (1662', ')',\n",
      "       ' }                                                         '],\n",
      "      dtype='object')\n",
      "First rows:\n",
      "   NUMPY\u0001  'fortran_order': False  'shape': (1662   )  \\\n",
      "0     NaN                     NaN             NaN NaN   \n",
      "1     ýï?                      Þ?             NaN NaN   \n",
      "2     SÆ?                      È?             NaN NaN   \n",
      "3     \u0019á?                      á?             NaN NaN   \n",
      "4      ß?                     Ü ?             NaN NaN   \n",
      "\n",
      "    }                                                           \n",
      "0                                                NaN            \n",
      "1                                                NaN            \n",
      "2                                                NaN            \n",
      "3                                                NaN            \n",
      "4                                                NaN            \n",
      "Error processing file /Users/theerat/Downloads/MP_DATA3/สวัสดี/13/25.npy: 'Body'\n",
      "/Users/theerat/Downloads/MP_DATA3/สวัสดี/13/19.npy\n",
      "Columns: Index(['NUMPY\u0001', ' 'fortran_order': False', ' 'shape': (1662', ')',\n",
      "       ' }                                                         '],\n",
      "      dtype='object')\n",
      "First rows:\n",
      "   NUMPY\u0001  'fortran_order': False  'shape': (1662   )  \\\n",
      "0     NaN                     NaN             NaN NaN   \n",
      "1     XÓ?                      á?             NaN NaN   \n",
      "2     vÙ?                     NaN             NaN NaN   \n",
      "3     ¿¯?                     NaN             NaN NaN   \n",
      "4     ?                     _à?             NaN NaN   \n",
      "\n",
      "    }                                                           \n",
      "0                                                NaN            \n",
      "1                                                NaN            \n",
      "2                                                NaN            \n",
      "3                                                NaN            \n",
      "4                                                NaN            \n",
      "Error processing file /Users/theerat/Downloads/MP_DATA3/สวัสดี/13/19.npy: 'Body'\n",
      "/Users/theerat/Downloads/MP_DATA3/สวัสดี/13/18.npy\n",
      "Error processing file /Users/theerat/Downloads/MP_DATA3/สวัสดี/13/18.npy: Error tokenizing data. C error: Expected 5 fields in line 8, saw 6\n",
      "\n",
      "/Users/theerat/Downloads/MP_DATA3/สวัสดี/13/24.npy\n",
      "Columns: Index(['NUMPY\u0001', ' 'fortran_order': False', ' 'shape': (1662', ')',\n",
      "       ' }                                                         '],\n",
      "      dtype='object')\n",
      "First rows:\n",
      "   NUMPY\u0001  'fortran_order': False  'shape': (1662   )  \\\n",
      "0     NaN                     NaN             NaN NaN   \n",
      "1     üï?                     NaN             NaN NaN   \n",
      "2     ûÎ?                     NaN             NaN NaN   \n",
      "3     )à?                     'ß?             NaN NaN   \n",
      "4     ?Ì?                     NaN             NaN NaN   \n",
      "\n",
      "    }                                                           \n",
      "0                                                NaN            \n",
      "1                                                NaN            \n",
      "2                                                NaN            \n",
      "3                                                NaN            \n",
      "4                                                NaN            \n",
      "Error processing file /Users/theerat/Downloads/MP_DATA3/สวัสดี/13/24.npy: 'Body'\n",
      "/Users/theerat/Downloads/MP_DATA3/สวัสดี/13/5.npy\n",
      "Columns: Index(['NUMPY\u0001', ' 'fortran_order': False', ' 'shape': (1662', ')',\n",
      "       ' }                                                         '],\n",
      "      dtype='object')\n",
      "First rows:\n",
      "   NUMPY\u0001  'fortran_order': False  'shape': (1662    )  \\\n",
      "0     NaN                     NaN             NaN  NaN   \n",
      "1     íï?                     NaN             NaN  NaN   \n",
      "2      ä?                     NaN             NaN  NaN   \n",
      "3     q¿                     ?ã?             NaN  NaN   \n",
      "4     Ká?                     NaN             NaN  NaN   \n",
      "\n",
      "    }                                                           \n",
      "0                                                NaN            \n",
      "1                                                NaN            \n",
      "2                                                NaN            \n",
      "3                                                NaN            \n",
      "4                                                NaN            \n",
      "Error processing file /Users/theerat/Downloads/MP_DATA3/สวัสดี/13/5.npy: 'Body'\n",
      "/Users/theerat/Downloads/MP_DATA3/สวัสดี/13/4.npy\n",
      "Columns: Index(['NUMPY\u0001', ' 'fortran_order': False', ' 'shape': (1662', ')',\n",
      "       ' }                                                         '],\n",
      "      dtype='object')\n",
      "First rows:\n",
      "   NUMPY\u0001  'fortran_order': False  'shape': (1662    )  \\\n",
      "0     NaN                     NaN             NaN  NaN   \n",
      "1     ±Ô?                     NaN             NaN  NaN   \n",
      "2      Þ?                     NaN             NaN  NaN   \n",
      "3      à?                     NaN             NaN  NaN   \n",
      "4      á?                     à?             NaN  NaN   \n",
      "\n",
      "    }                                                           \n",
      "0                                                NaN            \n",
      "1                                                NaN            \n",
      "2                                                NaN            \n",
      "3                                                NaN            \n",
      "4                                                NaN            \n",
      "Error processing file /Users/theerat/Downloads/MP_DATA3/สวัสดี/13/4.npy: 'Body'\n",
      "/Users/theerat/Downloads/MP_DATA3/สวัสดี/13/6.npy\n",
      "Columns: Index(['NUMPY\u0001', ' 'fortran_order': False', ' 'shape': (1662', ')',\n",
      "       ' }                                                         '],\n",
      "      dtype='object')\n",
      "First rows:\n",
      "   NUMPY\u0001  'fortran_order': False  'shape': (1662    )  \\\n",
      "0     NaN                     NaN             NaN  NaN   \n",
      "1     ­è?                     NaN             NaN  NaN   \n",
      "2      ·?                      á?             NaN  NaN   \n",
      "3     Mà?                     a?              ß?  NaN   \n",
      "4      u¿                     NaN             NaN  NaN   \n",
      "\n",
      "    }                                                           \n",
      "0                                                NaN            \n",
      "1                                                NaN            \n",
      "2                                                NaN            \n",
      "3                                                NaN            \n",
      "4                                                NaN            \n",
      "Error processing file /Users/theerat/Downloads/MP_DATA3/สวัสดี/13/6.npy: 'Body'\n",
      "/Users/theerat/Downloads/MP_DATA3/สวัสดี/13/7.npy\n",
      "Error processing file /Users/theerat/Downloads/MP_DATA3/สวัสดี/13/7.npy: Error tokenizing data. C error: Expected 5 fields in line 7, saw 6\n",
      "\n",
      "/Users/theerat/Downloads/MP_DATA3/สวัสดี/13/3.npy\n",
      "Error processing file /Users/theerat/Downloads/MP_DATA3/สวัสดี/13/3.npy: Error tokenizing data. C error: Expected 5 fields in line 5, saw 7\n",
      "\n",
      "/Users/theerat/Downloads/MP_DATA3/สวัสดี/13/2.npy\n",
      "Columns: Index(['NUMPY\u0001', ' 'fortran_order': False', ' 'shape': (1662', ')',\n",
      "       ' }                                                         '],\n",
      "      dtype='object')\n",
      "First rows:\n",
      "   NUMPY\u0001  'fortran_order': False  'shape': (1662    )  \\\n",
      "0     NaN                     ²z?             NaN  NaN   \n",
      "1      ¿                     NaN             NaN  NaN   \n",
      "2     `à?                     NaN             NaN  NaN   \n",
      "3      Ò?                      á?             NaN  NaN   \n",
      "4      Ð?                     NaN             NaN  NaN   \n",
      "\n",
      "    }                                                           \n",
      "0                                                NaN            \n",
      "1                                                NaN            \n",
      "2                                                NaN            \n",
      "3                                                NaN            \n",
      "4                                                NaN            \n",
      "Error processing file /Users/theerat/Downloads/MP_DATA3/สวัสดี/13/2.npy: 'Body'\n",
      "/Users/theerat/Downloads/MP_DATA3/สวัสดี/13/0.npy\n",
      "Columns: Index(['NUMPY\u0001', ' 'fortran_order': False', ' 'shape': (1662', ')',\n",
      "       ' }                                                         '],\n",
      "      dtype='object')\n",
      "First rows:\n",
      "   NUMPY\u0001  'fortran_order': False  'shape': (1662   )  \\\n",
      "0     NaN                     NaN             NaN NaN   \n",
      "1     \u0005Ö?                      Û?             NaN NaN   \n",
      "2      \u0004@                     NaN             NaN NaN   \n",
      "3      Ò?                     ò¿              Ð? NaN   \n",
      "4      Ø?                      V?             NaN NaN   \n",
      "\n",
      "    }                                                           \n",
      "0                                                NaN            \n",
      "1                                                NaN            \n",
      "2                                                NaN            \n",
      "3                                                NaN            \n",
      "4                                                NaN            \n",
      "Error processing file /Users/theerat/Downloads/MP_DATA3/สวัสดี/13/0.npy: 'Body'\n",
      "/Users/theerat/Downloads/MP_DATA3/สวัสดี/13/1.npy\n",
      "Columns: Index(['NUMPY\u0001', ' 'fortran_order': False', ' 'shape': (1662', ')',\n",
      "       ' }                                                         '],\n",
      "      dtype='object')\n",
      "First rows:\n",
      "   NUMPY\u0001  'fortran_order': False  'shape': (1662   )  \\\n",
      "0     NaN                     NaN             NaN NaN   \n",
      "1     Õã?                      Ô?             NaN NaN   \n",
      "2      ô?                      ¢¿             NaN NaN   \n",
      "3      ?                      Ó?             à? NaN   \n",
      "4     Nà?                     NaN             NaN NaN   \n",
      "\n",
      "    }                                                           \n",
      "0                                                NaN            \n",
      "1                                                NaN            \n",
      "2                                                NaN            \n",
      "3                                                NaN            \n",
      "4                                                NaN            \n",
      "Error processing file /Users/theerat/Downloads/MP_DATA3/สวัสดี/13/1.npy: 'Body'\n",
      "/Users/theerat/Downloads/MP_DATA3/สวัสดี/13/9.npy\n",
      "Error processing file /Users/theerat/Downloads/MP_DATA3/สวัสดี/13/9.npy: Error tokenizing data. C error: Buffer overflow caught - possible malformed input file.\n",
      "\n",
      "/Users/theerat/Downloads/MP_DATA3/สวัสดี/13/8.npy\n",
      "Columns: Index(['NUMPY\u0001', ' 'fortran_order': False', ' 'shape': (1662', ')',\n",
      "       ' }                                                         '],\n",
      "      dtype='object')\n",
      "First rows:\n",
      "   NUMPY\u0001  'fortran_order': False  'shape': (1662    )  \\\n",
      "0     NaN                     NaN             NaN  NaN   \n",
      "1      ï?                      å?             NaN  NaN   \n",
      "2      û¿                     NaN             NaN  NaN   \n",
      "3      ä?                     NaN             NaN  NaN   \n",
      "4      ¿                     öÖ?              Õ?  NaN   \n",
      "\n",
      "   }                                                           \n",
      "0                                                NaN           \n",
      "1                                                NaN           \n",
      "2                                                NaN           \n",
      "3                                                NaN           \n",
      "4                                                NaN           \n",
      "Error processing file /Users/theerat/Downloads/MP_DATA3/สวัสดี/13/8.npy: 'Body'\n",
      "/Users/theerat/Downloads/MP_DATA3/สวัสดี/13/29.npy\n",
      "Columns: Index(['NUMPY\u0001', ' 'fortran_order': False', ' 'shape': (1662', ')',\n",
      "       ' }                                                         '],\n",
      "      dtype='object')\n",
      "First rows:\n",
      "   NUMPY\u0001  'fortran_order': False  'shape': (1662    )  \\\n",
      "0     NaN                     \u0014î?             NaN  NaN   \n",
      "1      ?                     NaN             NaN  NaN   \n",
      "2      ^¿                     NaN             NaN  NaN   \n",
      "3      ®?                     NaN             NaN  NaN   \n",
      "4      Ø?                      ¿             âà?  ]Ó?   \n",
      "\n",
      "    }                                                           \n",
      "0                                                NaN            \n",
      "1                                                NaN            \n",
      "2                                                NaN            \n",
      "3                                                NaN            \n",
      "4                                                NaN            \n",
      "Error processing file /Users/theerat/Downloads/MP_DATA3/สวัสดี/13/29.npy: 'Body'\n",
      "/Users/theerat/Downloads/MP_DATA3/สวัสดี/13/15.npy\n",
      "Columns: Index(['NUMPY\u0001', ' 'fortran_order': False', ' 'shape': (1662', ')',\n",
      "       ' }                                                         '],\n",
      "      dtype='object')\n",
      "First rows:\n",
      "   NUMPY\u0001  'fortran_order': False  'shape': (1662   )  \\\n",
      "0     NaN                     nÔ?             NaN NaN   \n",
      "1     Ñ?                     NaN             NaN NaN   \n",
      "2     ßû¿                     Ú?             NaN NaN   \n",
      "3      ¿                     NaN             NaN NaN   \n",
      "4      Ø?                     NaN             NaN NaN   \n",
      "\n",
      "    }                                                           \n",
      "0                                                NaN            \n",
      "1                                                NaN            \n",
      "2                                                NaN            \n",
      "3                                                NaN            \n",
      "4                                                NaN            \n",
      "Error processing file /Users/theerat/Downloads/MP_DATA3/สวัสดี/13/15.npy: 'Body'\n",
      "/Users/theerat/Downloads/MP_DATA3/สวัสดี/13/14.npy\n",
      "Columns: Index(['NUMPY\u0001', ' 'fortran_order': False', ' 'shape': (1662', ')',\n",
      "       ' }                                                         '],\n",
      "      dtype='object')\n",
      "First rows:\n",
      "   NUMPY\u0001  'fortran_order': False  'shape': (1662    )  \\\n",
      "0     NaN                     NaN             NaN  NaN   \n",
      "1     qæ?                     NaN             NaN  NaN   \n",
      "2      Ü?                     NaN             NaN  NaN   \n",
      "3     H¿                     NaN             NaN  NaN   \n",
      "4      á?                     Ì×?             NaN  NaN   \n",
      "\n",
      "    }                                                           \n",
      "0                                                NaN            \n",
      "1                                                NaN            \n",
      "2                                                NaN            \n",
      "3                                                NaN            \n",
      "4                                                NaN            \n",
      "Error processing file /Users/theerat/Downloads/MP_DATA3/สวัสดี/13/14.npy: 'Body'\n",
      "/Users/theerat/Downloads/MP_DATA3/สวัสดี/13/28.npy\n",
      "Columns: Index(['NUMPY\u0001', ' 'fortran_order': False', ' 'shape': (1662', ')',\n",
      "       ' }                                                         '],\n",
      "      dtype='object')\n",
      "First rows:\n",
      "   NUMPY\u0001  'fortran_order': False  'shape': (1662   )  \\\n",
      "0     NaN                     \u001bã?             NaN NaN   \n",
      "1      ×?                      ¿             NaN NaN   \n",
      "2      ¿                     NaN             NaN NaN   \n",
      "3      j¿                     NaN             NaN NaN   \n",
      "4      ?                     ¦×?             NaN NaN   \n",
      "\n",
      "    }                                                           \n",
      "0                                                NaN            \n",
      "1                                                NaN            \n",
      "2                                                NaN            \n",
      "3                                                NaN            \n",
      "4                                                NaN            \n",
      "Error processing file /Users/theerat/Downloads/MP_DATA3/สวัสดี/13/28.npy: 'Body'\n",
      "/Users/theerat/Downloads/MP_DATA3/สวัสดี/13/16.npy\n",
      "Columns: Index(['NUMPY\u0001', ' 'fortran_order': False', ' 'shape': (1662', ')',\n",
      "       ' }                                                         '],\n",
      "      dtype='object')\n",
      "First rows:\n",
      "   NUMPY\u0001  'fortran_order': False  'shape': (1662    )  \\\n",
      "0     NaN                     NaN             NaN  NaN   \n",
      "1      á?                     NaN             NaN  NaN   \n",
      "2     '¿                     ÞÙ?             NaN  NaN   \n",
      "3      Ñ?                      à?             ÎÐ?   ¬?   \n",
      "4     \u0004à?                     \u0010Ï?              ?  NaN   \n",
      "\n",
      "   }                                                           \n",
      "0                                                NaN           \n",
      "1                                                NaN           \n",
      "2                                                NaN           \n",
      "3                                                NaN           \n",
      "4                                                NaN           \n",
      "Error processing file /Users/theerat/Downloads/MP_DATA3/สวัสดี/13/16.npy: 'Body'\n",
      "/Users/theerat/Downloads/MP_DATA3/สวัสดี/13/17.npy\n",
      "Columns: Index(['NUMPY\u0001', ' 'fortran_order': False', ' 'shape': (1662', ')',\n",
      "       ' }                                                         '],\n",
      "      dtype='object')\n",
      "First rows:\n",
      "   NUMPY\u0001  'fortran_order': False  'shape': (1662    )  \\\n",
      "0     NaN                     NaN             NaN  NaN   \n",
      "1      Ø?                     NaN             NaN  NaN   \n",
      "2      Ø?                     \u001eÐ¿             êé?   ä?   \n",
      "3      \u0002?                      ?              á?   á?   \n",
      "4      Ñ?                     NaN             NaN  NaN   \n",
      "\n",
      "   }                                                           \n",
      "0                                                NaN           \n",
      "1                                                NaN           \n",
      "2                                                NaN           \n",
      "3                                                NaN           \n",
      "4                                                NaN           \n",
      "Error processing file /Users/theerat/Downloads/MP_DATA3/สวัสดี/13/17.npy: 'Body'\n",
      "/Users/theerat/Downloads/MP_DATA3/สวัสดี/13/13.npy\n",
      "Columns: Index(['NUMPY\u0001', ' 'fortran_order': False', ' 'shape': (1662', ')',\n",
      "       ' }                                                         '],\n",
      "      dtype='object')\n",
      "First rows:\n",
      "   NUMPY\u0001  'fortran_order': False  'shape': (1662   )  \\\n",
      "0     NaN                      ù¿             NaN NaN   \n",
      "1      \u0004@                     NaN             NaN NaN   \n",
      "2      á?                     NaN             NaN NaN   \n",
      "3      á?                      Õ?             NaN NaN   \n",
      "4      ?                     NaN             NaN NaN   \n",
      "\n",
      "    }                                                           \n",
      "0                                                NaN            \n",
      "1                                                NaN            \n",
      "2                                                NaN            \n",
      "3                                                NaN            \n",
      "4                                                NaN            \n",
      "Error processing file /Users/theerat/Downloads/MP_DATA3/สวัสดี/13/13.npy: 'Body'\n",
      "/Users/theerat/Downloads/MP_DATA3/สวัสดี/13/12.npy\n",
      "Columns: Index(['NUMPY\u0001', ' 'fortran_order': False', ' 'shape': (1662', ')',\n",
      "       ' }                                                         '],\n",
      "      dtype='object')\n",
      "First rows:\n",
      "   NUMPY\u0001  'fortran_order': False  'shape': (1662    )  \\\n",
      "0     NaN                     Õ?             NaN  NaN   \n",
      "1      Á¿                     NaN             NaN  NaN   \n",
      "2     Gã?                     NaN             NaN  NaN   \n",
      "3      á?                     NaN             NaN  NaN   \n",
      "4     ]¿                      Õ?             NaN  NaN   \n",
      "\n",
      "    }                                                           \n",
      "0                                                NaN            \n",
      "1                                                NaN            \n",
      "2                                                NaN            \n",
      "3                                                NaN            \n",
      "4                                                NaN            \n",
      "Error processing file /Users/theerat/Downloads/MP_DATA3/สวัสดี/13/12.npy: 'Body'\n",
      "/Users/theerat/Downloads/MP_DATA3/สวัสดี/13/10.npy\n",
      "Columns: Index(['NUMPY\u0001', ' 'fortran_order': False', ' 'shape': (1662', ')',\n",
      "       ' }                                                         '],\n",
      "      dtype='object')\n",
      "First rows:\n",
      "   NUMPY\u0001  'fortran_order': False   'shape': (1662   )  \\\n",
      "0     NaN                     NaN              NaN NaN   \n",
      "1      ç?                     NaN              NaN NaN   \n",
      "2     ìÓ¿                     NaN              NaN NaN   \n",
      "3      Ù?                     NaN              NaN NaN   \n",
      "4     «|?                     NaN              NaN NaN   \n",
      "\n",
      "    }                                                           \n",
      "0                                                NaN            \n",
      "1                                                NaN            \n",
      "2                                                NaN            \n",
      "3                                                NaN            \n",
      "4                                                NaN            \n",
      "Error processing file /Users/theerat/Downloads/MP_DATA3/สวัสดี/13/10.npy: 'Body'\n",
      "/Users/theerat/Downloads/MP_DATA3/สวัสดี/13/11.npy\n",
      "Columns: Index(['NUMPY\u0001', ' 'fortran_order': False', ' 'shape': (1662', ')',\n",
      "       ' }                                                         '],\n",
      "      dtype='object')\n",
      "First rows:\n",
      "   NUMPY\u0001  'fortran_order': False  'shape': (1662   )  \\\n",
      "0     NaN                      Ñ?              æ¿ NaN   \n",
      "1      Ö?                      á?              á? NaN   \n",
      "2      à?                     ]ß?             NaN NaN   \n",
      "3      ¿                     NaN             NaN NaN   \n",
      "4     Í¨?                     NaN             NaN NaN   \n",
      "\n",
      "    }                                                           \n",
      "0                                                NaN            \n",
      "1                                                NaN            \n",
      "2                                                NaN            \n",
      "3                                                NaN            \n",
      "4                                                NaN            \n",
      "Error processing file /Users/theerat/Downloads/MP_DATA3/สวัสดี/13/11.npy: 'Body'\n",
      "/Users/theerat/Downloads/MP_DATA3/สวัสดี/14/20.npy\n",
      "Columns: Index(['NUMPY\u0001', ' 'fortran_order': False', ' 'shape': (1662', ')',\n",
      "       ' }                                                         '],\n",
      "      dtype='object')\n",
      "First rows:\n",
      "   NUMPY\u0001  'fortran_order': False  'shape': (1662    )  \\\n",
      "0     NaN                     NaN             NaN  NaN   \n",
      "1     ýï?                     NaN             NaN  NaN   \n",
      "2     ßã¿                     NaN             NaN  NaN   \n",
      "3      à?                      Å?             NaN  NaN   \n",
      "4       ?                     NaN             NaN  NaN   \n",
      "\n",
      "    }                                                           \n",
      "0                                                NaN            \n",
      "1                                                NaN            \n",
      "2                                                NaN            \n",
      "3                                                NaN            \n",
      "4                                                NaN            \n",
      "Error processing file /Users/theerat/Downloads/MP_DATA3/สวัสดี/14/20.npy: 'Body'\n",
      "/Users/theerat/Downloads/MP_DATA3/สวัสดี/14/21.npy\n",
      "Columns: Index(['NUMPY\u0001', ' 'fortran_order': False', ' 'shape': (1662', ')',\n",
      "       ' }                                                         '],\n",
      "      dtype='object')\n",
      "First rows:\n",
      "   NUMPY\u0001  'fortran_order': False  'shape': (1662   )  \\\n",
      "0     NaN                     NaN             NaN NaN   \n",
      "1     úá?                     NaN             NaN NaN   \n",
      "2      é?                     ß?             &à? NaN   \n",
      "3     ?                     NaN             NaN NaN   \n",
      "4     H?                     Zà?             Ð¿ NaN   \n",
      "\n",
      "    }                                                           \n",
      "0                                                NaN            \n",
      "1                                                NaN            \n",
      "2                                                NaN            \n",
      "3                                                NaN            \n",
      "4                                                NaN            \n",
      "Error processing file /Users/theerat/Downloads/MP_DATA3/สวัสดี/14/21.npy: 'Body'\n",
      "/Users/theerat/Downloads/MP_DATA3/สวัสดี/14/23.npy\n",
      "Columns: Index(['NUMPY\u0001', ' 'fortran_order': False', ' 'shape': (1662', ')',\n",
      "       ' }                                                         '],\n",
      "      dtype='object')\n",
      "First rows:\n",
      "   NUMPY\u0001  'fortran_order': False  'shape': (1662    )  \\\n",
      "0     NaN                     ±Ð¿             NaN  NaN   \n",
      "1     fÛ?                     NaN             NaN  NaN   \n",
      "2       ?                     NaN             NaN  NaN   \n",
      "3      ¿                     NaN             NaN  NaN   \n",
      "4      á?                      ?             NaN  NaN   \n",
      "\n",
      "    }                                                           \n",
      "0                                                NaN            \n",
      "1                                                NaN            \n",
      "2                                                NaN            \n",
      "3                                                NaN            \n",
      "4                                                NaN            \n",
      "Error processing file /Users/theerat/Downloads/MP_DATA3/สวัสดี/14/23.npy: 'Body'\n",
      "/Users/theerat/Downloads/MP_DATA3/สวัสดี/14/22.npy\n",
      "Columns: Index(['NUMPY\u0001', ' 'fortran_order': False', ' 'shape': (1662', ')',\n",
      "       ' }                                                         '],\n",
      "      dtype='object')\n",
      "First rows:\n",
      "   NUMPY\u0001  'fortran_order': False  'shape': (1662   )  \\\n",
      "0     NaN                     '¿             NaN NaN   \n",
      "1      á?                     NaN             NaN NaN   \n",
      "2     à?                     NaN             NaN NaN   \n",
      "3      Ö?                     NaN             NaN NaN   \n",
      "4      Ù?                     NaN             NaN NaN   \n",
      "\n",
      "    }                                                           \n",
      "0                                                NaN            \n",
      "1                                                NaN            \n",
      "2                                                NaN            \n",
      "3                                                NaN            \n",
      "4                                                NaN            \n",
      "Error processing file /Users/theerat/Downloads/MP_DATA3/สวัสดี/14/22.npy: 'Body'\n",
      "/Users/theerat/Downloads/MP_DATA3/สวัสดี/14/26.npy\n",
      "Columns: Index(['NUMPY\u0001', ' 'fortran_order': False', ' 'shape': (1662', ')',\n",
      "       ' }                                                         '],\n",
      "      dtype='object')\n",
      "First rows:\n",
      "   NUMPY\u0001  'fortran_order': False  'shape': (1662    )  \\\n",
      "0     NaN                     NaN             NaN  NaN   \n",
      "1      ã?                     NaN             NaN  NaN   \n",
      "2     JÝ?                     NaN             NaN  NaN   \n",
      "3      ¿                     NaN             NaN  NaN   \n",
      "4      á?                      ¥?             NaN  NaN   \n",
      "\n",
      "    }                                                           \n",
      "0                                                NaN            \n",
      "1                                                NaN            \n",
      "2                                                NaN            \n",
      "3                                                NaN            \n",
      "4                                                NaN            \n",
      "Error processing file /Users/theerat/Downloads/MP_DATA3/สวัสดี/14/26.npy: 'Body'\n",
      "/Users/theerat/Downloads/MP_DATA3/สวัสดี/14/27.npy\n",
      "Columns: Index(['NUMPY\u0001', ' 'fortran_order': False', ' 'shape': (1662', ')',\n",
      "       ' }                                                         '],\n",
      "      dtype='object')\n",
      "First rows:\n",
      "   NUMPY\u0001  'fortran_order': False  'shape': (1662    )  \\\n",
      "0     NaN                     NaN             NaN  NaN   \n",
      "1     \u001fì?                     4å?             P\u0003@   Ý?   \n",
      "2     Zà?                     NaN             NaN  NaN   \n",
      "3     mÝ?                     NaN             NaN  NaN   \n",
      "4     `à?                     ØØ?             NaN  NaN   \n",
      "\n",
      "   }                                                           \n",
      "0                                                NaN           \n",
      "1                                                 r?           \n",
      "2                                                NaN           \n",
      "3                                                NaN           \n",
      "4                                                NaN           \n",
      "Error processing file /Users/theerat/Downloads/MP_DATA3/สวัสดี/14/27.npy: 'Body'\n",
      "/Users/theerat/Downloads/MP_DATA3/สวัสดี/14/25.npy\n",
      "Columns: Index(['NUMPY\u0001', ' 'fortran_order': False', ' 'shape': (1662', ')',\n",
      "       ' }                                                         '],\n",
      "      dtype='object')\n",
      "First rows:\n",
      "   NUMPY\u0001  'fortran_order': False  'shape': (1662   )  \\\n",
      "0     NaN                     NaN             NaN NaN   \n",
      "1     üï?                     NaN             NaN NaN   \n",
      "2     ÆÝ?                     NaN             NaN NaN   \n",
      "3     Ç?                     NaN             NaN NaN   \n",
      "4      ¿                     NaN             NaN NaN   \n",
      "\n",
      "    }                                                           \n",
      "0                                                NaN            \n",
      "1                                                NaN            \n",
      "2                                                NaN            \n",
      "3                                                NaN            \n",
      "4                                                NaN            \n",
      "Error processing file /Users/theerat/Downloads/MP_DATA3/สวัสดี/14/25.npy: 'Body'\n",
      "/Users/theerat/Downloads/MP_DATA3/สวัสดี/14/19.npy\n",
      "Columns: Index(['NUMPY\u0001', ' 'fortran_order': False', ' 'shape': (1662', ')',\n",
      "       ' }                                                         '],\n",
      "      dtype='object')\n",
      "First rows:\n",
      "   NUMPY\u0001  'fortran_order': False  'shape': (1662    )  \\\n",
      "0     NaN                      Ë?             NaN  NaN   \n",
      "1      Ð?                      à?             NaN  NaN   \n",
      "2     2Þ?                     NaN             NaN  NaN   \n",
      "3     fÐ?                      ¡?             NaN  NaN   \n",
      "4     à?                     NaN             NaN  NaN   \n",
      "\n",
      "    }                                                           \n",
      "0                                                NaN            \n",
      "1                                                NaN            \n",
      "2                                                NaN            \n",
      "3                                                NaN            \n",
      "4                                                NaN            \n",
      "Error processing file /Users/theerat/Downloads/MP_DATA3/สวัสดี/14/19.npy: 'Body'\n",
      "/Users/theerat/Downloads/MP_DATA3/สวัสดี/14/18.npy\n",
      "Columns: Index(['NUMPY\u0001', ' 'fortran_order': False', ' 'shape': (1662', ')',\n",
      "       ' }                                                         '],\n",
      "      dtype='object')\n",
      "First rows:\n",
      "   NUMPY\u0001  'fortran_order': False  'shape': (1662   )  \\\n",
      "0     NaN                     NaN             NaN NaN   \n",
      "1     bà?                     NaN             NaN NaN   \n",
      "2      Ó?                     NaN             NaN NaN   \n",
      "3     çu¿                     NaN             NaN NaN   \n",
      "4     NaN                     NaN             NaN NaN   \n",
      "\n",
      "    }                                                           \n",
      "0                                                NaN            \n",
      "1                                                NaN            \n",
      "2                                                NaN            \n",
      "3                                                NaN            \n",
      "4                                                NaN            \n",
      "Error processing file /Users/theerat/Downloads/MP_DATA3/สวัสดี/14/18.npy: 'Body'\n",
      "/Users/theerat/Downloads/MP_DATA3/สวัสดี/14/24.npy\n",
      "Columns: Index(['NUMPY\u0001', ' 'fortran_order': False', ' 'shape': (1662', ')',\n",
      "       ' }                                                         '],\n",
      "      dtype='object')\n",
      "First rows:\n",
      "   NUMPY\u0001  'fortran_order': False  'shape': (1662    )  \\\n",
      "0     NaN                      Û?             NaN  NaN   \n",
      "1       ?                     NaN             NaN  NaN   \n",
      "2      Õ?                     NaN             NaN  NaN   \n",
      "3      Ö?                      à?             «Ø?  NaN   \n",
      "4     `Ì?                     NaN             NaN  NaN   \n",
      "\n",
      "    }                                                           \n",
      "0                                                NaN            \n",
      "1                                                NaN            \n",
      "2                                                NaN            \n",
      "3                                                NaN            \n",
      "4                                                NaN            \n",
      "Error processing file /Users/theerat/Downloads/MP_DATA3/สวัสดี/14/24.npy: 'Body'\n",
      "/Users/theerat/Downloads/MP_DATA3/สวัสดี/14/5.npy\n",
      "Columns: Index(['NUMPY\u0001', ' 'fortran_order': False', ' 'shape': (1662', ')',\n",
      "       ' }                                                         '],\n",
      "      dtype='object')\n",
      "First rows:\n",
      "   NUMPY\u0001  'fortran_order': False  'shape': (1662    )  \\\n",
      "0     NaN                      á¿             NaN  NaN   \n",
      "1      Õ¿                     NaN             NaN  NaN   \n",
      "2     wá?                     NaN             NaN  NaN   \n",
      "3     wá?                     NaN             NaN  NaN   \n",
      "4      Ì?                     NaN             NaN  NaN   \n",
      "\n",
      "    }                                                           \n",
      "0                                                NaN            \n",
      "1                                                NaN            \n",
      "2                                                NaN            \n",
      "3                                                NaN            \n",
      "4                                                NaN            \n",
      "Error processing file /Users/theerat/Downloads/MP_DATA3/สวัสดี/14/5.npy: 'Body'\n",
      "/Users/theerat/Downloads/MP_DATA3/สวัสดี/14/4.npy\n",
      "Columns: Index(['NUMPY\u0001', ' 'fortran_order': False', ' 'shape': (1662', ')',\n",
      "       ' }                                                         '],\n",
      "      dtype='object')\n",
      "First rows:\n",
      "   NUMPY\u0001  'fortran_order': False  'shape': (1662    )  \\\n",
      "0     NaN                     NaN             NaN  NaN   \n",
      "1      A?                     NaN             NaN  NaN   \n",
      "2      ä?                     NaN             NaN  NaN   \n",
      "3       ?                     NaN             NaN  NaN   \n",
      "4      Ô?                     NaN             NaN  NaN   \n",
      "\n",
      "   }                                                           \n",
      "0                                                NaN           \n",
      "1                                                NaN           \n",
      "2                                                NaN           \n",
      "3                                                NaN           \n",
      "4                                                NaN           \n",
      "Error processing file /Users/theerat/Downloads/MP_DATA3/สวัสดี/14/4.npy: 'Body'\n",
      "/Users/theerat/Downloads/MP_DATA3/สวัสดี/14/6.npy\n",
      "Columns: Index(['NUMPY\u0001', ' 'fortran_order': False', ' 'shape': (1662', ')',\n",
      "       ' }                                                         '],\n",
      "      dtype='object')\n",
      "First rows:\n",
      "   NUMPY\u0001  'fortran_order': False  'shape': (1662   )  \\\n",
      "0     NaN                      Ø?             NaN NaN   \n",
      "1     Ñ?                     NaN             NaN NaN   \n",
      "2      ×?                     NaN             NaN NaN   \n",
      "3     ­à?                      Þ?              à? NaN   \n",
      "4      Ò?                     NaN             NaN NaN   \n",
      "\n",
      "    }                                                           \n",
      "0                                                NaN            \n",
      "1                                                NaN            \n",
      "2                                                NaN            \n",
      "3                                                NaN            \n",
      "4                                                NaN            \n",
      "Error processing file /Users/theerat/Downloads/MP_DATA3/สวัสดี/14/6.npy: 'Body'\n",
      "/Users/theerat/Downloads/MP_DATA3/สวัสดี/14/7.npy\n",
      "Columns: Index(['NUMPY\u0001', ' 'fortran_order': False', ' 'shape': (1662', ')',\n",
      "       ' }                                                         '],\n",
      "      dtype='object')\n",
      "First rows:\n",
      "   NUMPY\u0001  'fortran_order': False  'shape': (1662   )  \\\n",
      "0     NaN                     NaN             NaN NaN   \n",
      "1      æ¿                     NaN             NaN NaN   \n",
      "2     æØ?                     NaN             NaN NaN   \n",
      "3      Ó?                     NaN             NaN NaN   \n",
      "4     úÖ?                     NaN             NaN NaN   \n",
      "\n",
      "    }                                                           \n",
      "0                                                NaN            \n",
      "1                                                NaN            \n",
      "2                                                NaN            \n",
      "3                                                NaN            \n",
      "4                                                NaN            \n",
      "Error processing file /Users/theerat/Downloads/MP_DATA3/สวัสดี/14/7.npy: 'Body'\n",
      "/Users/theerat/Downloads/MP_DATA3/สวัสดี/14/3.npy\n",
      "Columns: Index(['NUMPY\u0001', ' 'fortran_order': False', ' 'shape': (1662', ')',\n",
      "       ' }                                                         '],\n",
      "      dtype='object')\n",
      "First rows:\n",
      "   NUMPY\u0001  'fortran_order': False  'shape': (1662   )  \\\n",
      "0     NaN                      \u0003@             NaN NaN   \n",
      "1      Ô?                     NaN             NaN NaN   \n",
      "2      á?                     x×?             Ä¿ NaN   \n",
      "3     ;Õ?                     NaN             NaN NaN   \n",
      "4      à?                     NaN             NaN NaN   \n",
      "\n",
      "    }                                                           \n",
      "0                                                NaN            \n",
      "1                                                NaN            \n",
      "2                                                NaN            \n",
      "3                                                NaN            \n",
      "4                                                NaN            \n",
      "Error processing file /Users/theerat/Downloads/MP_DATA3/สวัสดี/14/3.npy: 'Body'\n",
      "/Users/theerat/Downloads/MP_DATA3/สวัสดี/14/2.npy\n",
      "Columns: Index(['NUMPY\u0001', ' 'fortran_order': False', ' 'shape': (1662', ')',\n",
      "       ' }                                                         '],\n",
      "      dtype='object')\n",
      "First rows:\n",
      "   NUMPY\u0001  'fortran_order': False  'shape': (1662    )  \\\n",
      "0     NaN                     NaN             NaN  NaN   \n",
      "1      Ð¿                     NaN             NaN  NaN   \n",
      "2      ü¿                     NaN             NaN  NaN   \n",
      "3      Õ?                     NaN             NaN  NaN   \n",
      "4     \fà?                     NaN             NaN  NaN   \n",
      "\n",
      "    }                                                           \n",
      "0                                                NaN            \n",
      "1                                                NaN            \n",
      "2                                                NaN            \n",
      "3                                                NaN            \n",
      "4                                                NaN            \n",
      "Error processing file /Users/theerat/Downloads/MP_DATA3/สวัสดี/14/2.npy: 'Body'\n",
      "/Users/theerat/Downloads/MP_DATA3/สวัสดี/14/0.npy\n",
      "Columns: Index(['NUMPY\u0001', ' 'fortran_order': False', ' 'shape': (1662', ')',\n",
      "       ' }                                                         '],\n",
      "      dtype='object')\n",
      "First rows:\n",
      "   NUMPY\u0001  'fortran_order': False  'shape': (1662   )  \\\n",
      "0     NaN                     NaN             NaN NaN   \n",
      "1      è?                     NaN             NaN NaN   \n",
      "2     BË¿                     NaN             NaN NaN   \n",
      "3     2¿                     NaN             NaN NaN   \n",
      "4     9á?                      ß?             NaN NaN   \n",
      "\n",
      "    }                                                           \n",
      "0                                                NaN            \n",
      "1                                                NaN            \n",
      "2                                                NaN            \n",
      "3                                                NaN            \n",
      "4                                                NaN            \n",
      "Error processing file /Users/theerat/Downloads/MP_DATA3/สวัสดี/14/0.npy: 'Body'\n",
      "/Users/theerat/Downloads/MP_DATA3/สวัสดี/14/1.npy\n",
      "Columns: Index(['NUMPY\u0001', ' 'fortran_order': False', ' 'shape': (1662', ')',\n",
      "       ' }                                                         '],\n",
      "      dtype='object')\n",
      "First rows:\n",
      "   NUMPY\u0001  'fortran_order': False  'shape': (1662    )  \\\n",
      "0     NaN                     0à?             ¸ä?  NaN   \n",
      "1     |?                     NaN             NaN  NaN   \n",
      "2      ?                      Ò?             Ï?  NaN   \n",
      "3     ç×?                      j?             NaN  NaN   \n",
      "4     @à?                     NaN             NaN  NaN   \n",
      "\n",
      "    }                                                           \n",
      "0                                                NaN            \n",
      "1                                                NaN            \n",
      "2                                                NaN            \n",
      "3                                                NaN            \n",
      "4                                                NaN            \n",
      "Error processing file /Users/theerat/Downloads/MP_DATA3/สวัสดี/14/1.npy: 'Body'\n",
      "/Users/theerat/Downloads/MP_DATA3/สวัสดี/14/9.npy\n",
      "Columns: Index(['NUMPY\u0001', ' 'fortran_order': False', ' 'shape': (1662', ')',\n",
      "       ' }                                                         '],\n",
      "      dtype='object')\n",
      "First rows:\n",
      "   NUMPY\u0001  'fortran_order': False  'shape': (1662   )  \\\n",
      "0     NaN                     `å?             NaN NaN   \n",
      "1      â?                     Yá?             NaN NaN   \n",
      "2      à?                      Ô?             NaN NaN   \n",
      "3     pà?                     NaN             NaN NaN   \n",
      "4      á?                     NaN             NaN NaN   \n",
      "\n",
      "    }                                                           \n",
      "0                                                NaN            \n",
      "1                                                NaN            \n",
      "2                                                NaN            \n",
      "3                                                NaN            \n",
      "4                                                NaN            \n",
      "Error processing file /Users/theerat/Downloads/MP_DATA3/สวัสดี/14/9.npy: 'Body'\n",
      "/Users/theerat/Downloads/MP_DATA3/สวัสดี/14/8.npy\n",
      "Columns: Index(['NUMPY\u0001', ' 'fortran_order': False', ' 'shape': (1662', ')',\n",
      "       ' }                                                         '],\n",
      "      dtype='object')\n",
      "First rows:\n",
      "   NUMPY\u0001  'fortran_order': False  'shape': (1662   )  \\\n",
      "0     NaN                     mÕ¿             NaN NaN   \n",
      "1      ÷?                     ]õ?             \u000f\u0004@ NaN   \n",
      "2      ß?                      [¿             NaN NaN   \n",
      "3      ×?                     NaN             NaN NaN   \n",
      "4     ià?                     NaN             NaN NaN   \n",
      "\n",
      "    }                                                           \n",
      "0                                                NaN            \n",
      "1                                                NaN            \n",
      "2                                                NaN            \n",
      "3                                                NaN            \n",
      "4                                                NaN            \n",
      "Error processing file /Users/theerat/Downloads/MP_DATA3/สวัสดี/14/8.npy: 'Body'\n",
      "/Users/theerat/Downloads/MP_DATA3/สวัสดี/14/29.npy\n",
      "Columns: Index(['NUMPY\u0001', ' 'fortran_order': False', ' 'shape': (1662', ')',\n",
      "       ' }                                                         '],\n",
      "      dtype='object')\n",
      "First rows:\n",
      "   NUMPY\u0001  'fortran_order': False  'shape': (1662    )  \\\n",
      "0     NaN                     Ô?             NaN  NaN   \n",
      "1     ã?                     NaN             NaN  NaN   \n",
      "2      Ï?                     NaN             NaN  NaN   \n",
      "3      Ü?                     |Ø?             NaN  NaN   \n",
      "4      Õ?                      ¿             3à?   à?   \n",
      "\n",
      "   }                                                           \n",
      "0                                                NaN           \n",
      "1                                                NaN           \n",
      "2                                                NaN           \n",
      "3                                                NaN           \n",
      "4                                                 Ó?           \n",
      "Error processing file /Users/theerat/Downloads/MP_DATA3/สวัสดี/14/29.npy: 'Body'\n",
      "/Users/theerat/Downloads/MP_DATA3/สวัสดี/14/15.npy\n",
      "Columns: Index(['NUMPY\u0001', ' 'fortran_order': False', ' 'shape': (1662', ')',\n",
      "       ' }                                                         '],\n",
      "      dtype='object')\n",
      "First rows:\n",
      "   NUMPY\u0001  'fortran_order': False  'shape': (1662    )  \\\n",
      "0     NaN                     NaN             NaN  NaN   \n",
      "1     þï?                     NaN             NaN  NaN   \n",
      "2      Ö?                     \u00067?             NaN  NaN   \n",
      "3      á?                     NaN             NaN  NaN   \n",
      "4      ¿                     NaN             NaN  NaN   \n",
      "\n",
      "    }                                                           \n",
      "0                                                NaN            \n",
      "1                                                NaN            \n",
      "2                                                NaN            \n",
      "3                                                NaN            \n",
      "4                                                NaN            \n",
      "Error processing file /Users/theerat/Downloads/MP_DATA3/สวัสดี/14/15.npy: 'Body'\n",
      "/Users/theerat/Downloads/MP_DATA3/สวัสดี/14/14.npy\n",
      "Columns: Index(['NUMPY\u0001', ' 'fortran_order': False', ' 'shape': (1662', ')',\n",
      "       ' }                                                         '],\n",
      "      dtype='object')\n",
      "First rows:\n",
      "   NUMPY\u0001  'fortran_order': False  'shape': (1662   )  \\\n",
      "0     NaN                     NaN             NaN NaN   \n",
      "1      â?                     NaN             NaN NaN   \n",
      "2      à?                     ëÔ?             NaN NaN   \n",
      "3     è?                     NaN             NaN NaN   \n",
      "4     ßû¿                     NaN             NaN NaN   \n",
      "\n",
      "    }                                                           \n",
      "0                                                NaN            \n",
      "1                                                NaN            \n",
      "2                                                NaN            \n",
      "3                                                NaN            \n",
      "4                                                NaN            \n",
      "Error processing file /Users/theerat/Downloads/MP_DATA3/สวัสดี/14/14.npy: 'Body'\n",
      "/Users/theerat/Downloads/MP_DATA3/สวัสดี/14/28.npy\n",
      "Columns: Index(['NUMPY\u0001', ' 'fortran_order': False', ' 'shape': (1662', ')',\n",
      "       ' }                                                         '],\n",
      "      dtype='object')\n",
      "First rows:\n",
      "   NUMPY\u0001  'fortran_order': False  'shape': (1662   )  \\\n",
      "0     NaN                     Úâ?             NaN NaN   \n",
      "1     Óì?                     NaN             NaN NaN   \n",
      "2     \u0006á?                     NaN             NaN NaN   \n",
      "3     PÑ?                      ®?             NaN NaN   \n",
      "4     \u0003?                     ¶Ý?             NaN NaN   \n",
      "\n",
      "    }                                                           \n",
      "0                                                NaN            \n",
      "1                                                NaN            \n",
      "2                                                NaN            \n",
      "3                                                NaN            \n",
      "4                                                NaN            \n",
      "Error processing file /Users/theerat/Downloads/MP_DATA3/สวัสดี/14/28.npy: 'Body'\n",
      "/Users/theerat/Downloads/MP_DATA3/สวัสดี/14/16.npy\n",
      "Columns: Index(['NUMPY\u0001', ' 'fortran_order': False', ' 'shape': (1662', ')',\n",
      "       ' }                                                         '],\n",
      "      dtype='object')\n",
      "First rows:\n",
      "   NUMPY\u0001  'fortran_order': False  'shape': (1662    )  \\\n",
      "0     NaN                     NaN             NaN  NaN   \n",
      "1      Ñ?                     Ôý?             NaN  NaN   \n",
      "2     Å?                     NaN             NaN  NaN   \n",
      "3     Â?                      ¿             NaN  NaN   \n",
      "4     \u0001?                     NaN             NaN  NaN   \n",
      "\n",
      "    }                                                           \n",
      "0                                                NaN            \n",
      "1                                                NaN            \n",
      "2                                                NaN            \n",
      "3                                                NaN            \n",
      "4                                                NaN            \n",
      "Error processing file /Users/theerat/Downloads/MP_DATA3/สวัสดี/14/16.npy: 'Body'\n",
      "/Users/theerat/Downloads/MP_DATA3/สวัสดี/14/17.npy\n",
      "Columns: Index(['NUMPY\u0001', ' 'fortran_order': False', ' 'shape': (1662', ')',\n",
      "       ' }                                                         '],\n",
      "      dtype='object')\n",
      "First rows:\n",
      "   NUMPY\u0001  'fortran_order': False  'shape': (1662    )  \\\n",
      "0     NaN                      é?             NaN  NaN   \n",
      "1     ÷>                     Ü¿             NaN  NaN   \n",
      "2     ¯¿                     Þ?              Ó?  NaN   \n",
      "3       ¿                     NaN             NaN  NaN   \n",
      "4      à?                      à?             NaN  NaN   \n",
      "\n",
      "   }                                                           \n",
      "0                                                NaN           \n",
      "1                                                NaN           \n",
      "2                                                NaN           \n",
      "3                                                NaN           \n",
      "4                                                NaN           \n",
      "Error processing file /Users/theerat/Downloads/MP_DATA3/สวัสดี/14/17.npy: 'Body'\n",
      "/Users/theerat/Downloads/MP_DATA3/สวัสดี/14/13.npy\n",
      "Columns: Index(['NUMPY\u0001', ' 'fortran_order': False', ' 'shape': (1662', ')',\n",
      "       ' }                                                         '],\n",
      "      dtype='object')\n",
      "First rows:\n",
      "   NUMPY\u0001  'fortran_order': False  'shape': (1662    )  \\\n",
      "0     NaN                     NaN             NaN  NaN   \n",
      "1      Ú?                     ù¿             NaN  NaN   \n",
      "2      á?                     NaN             NaN  NaN   \n",
      "3      á?                     NaN             NaN  NaN   \n",
      "4     ÒÐ?                     NaN             NaN  NaN   \n",
      "\n",
      "    }                                                           \n",
      "0                                                NaN            \n",
      "1                                                NaN            \n",
      "2                                                NaN            \n",
      "3                                                NaN            \n",
      "4                                                NaN            \n",
      "Error processing file /Users/theerat/Downloads/MP_DATA3/สวัสดี/14/13.npy: 'Body'\n",
      "/Users/theerat/Downloads/MP_DATA3/สวัสดี/14/12.npy\n",
      "Columns: Index(['NUMPY\u0001', ' 'fortran_order': False', ' 'shape': (1662', ')',\n",
      "       ' }                                                         '],\n",
      "      dtype='object')\n",
      "First rows:\n",
      "   NUMPY\u0001  'fortran_order': False  'shape': (1662    )  \\\n",
      "0     NaN                     ÂÐ?             NaN  NaN   \n",
      "1      Ô?                      å¿             NaN  NaN   \n",
      "2      é?                     NaN             NaN  NaN   \n",
      "3      õ?                      ¿             NaN  NaN   \n",
      "4     q¢¿                      à?              {?  NaN   \n",
      "\n",
      "    }                                                           \n",
      "0                                                NaN            \n",
      "1                                                NaN            \n",
      "2                                                NaN            \n",
      "3                                                NaN            \n",
      "4                                                NaN            \n",
      "Error processing file /Users/theerat/Downloads/MP_DATA3/สวัสดี/14/12.npy: 'Body'\n",
      "/Users/theerat/Downloads/MP_DATA3/สวัสดี/14/10.npy\n",
      "Columns: Index(['NUMPY\u0001', ' 'fortran_order': False', ' 'shape': (1662', ')',\n",
      "       ' }                                                         '],\n",
      "      dtype='object')\n",
      "First rows:\n",
      "   NUMPY\u0001  'fortran_order': False  'shape': (1662    )  \\\n",
      "0     NaN                      ö?             NaN  NaN   \n",
      "1     ^á?                     NaN             NaN  NaN   \n",
      "2      ­?                      ×?              ¿  K¿   \n",
      "3      á?                     èÞ?             NaN  NaN   \n",
      "4     úÒ?                       ?             NaN  NaN   \n",
      "\n",
      "    }                                                           \n",
      "0                                                NaN            \n",
      "1                                                NaN            \n",
      "2                                                NaN            \n",
      "3                                                NaN            \n",
      "4                                                NaN            \n",
      "Error processing file /Users/theerat/Downloads/MP_DATA3/สวัสดี/14/10.npy: 'Body'\n",
      "/Users/theerat/Downloads/MP_DATA3/สวัสดี/14/11.npy\n",
      "Columns: Index(['NUMPY\u0001', ' 'fortran_order': False', ' 'shape': (1662', ')',\n",
      "       ' }                                                         '],\n",
      "      dtype='object')\n",
      "First rows:\n",
      "   NUMPY\u0001  'fortran_order': False  'shape': (1662   )  \\\n",
      "0     NaN                     NaN             NaN NaN   \n",
      "1     eá?                     NaN             NaN NaN   \n",
      "2     è×¿                     NaN             NaN NaN   \n",
      "3      é?                     NaN             NaN NaN   \n",
      "4     Gº?                     NaN             NaN NaN   \n",
      "\n",
      "    }                                                           \n",
      "0                                                NaN            \n",
      "1                                                NaN            \n",
      "2                                                NaN            \n",
      "3                                                NaN            \n",
      "4                                                NaN            \n",
      "Error processing file /Users/theerat/Downloads/MP_DATA3/สวัสดี/14/11.npy: 'Body'\n",
      "Processing completed. Final folder processed: 14\n"
     ]
    }
   ],
   "source": [
    "import os\n",
    "import pandas as pd\n",
    "import ast\n",
    "\n",
    "base_path = '/Users/theerat/Downloads/MP_DATA3/สวัสดี'\n",
    "output_path = 'outputnpy.parqute'\n",
    "\n",
    "combined_df = pd.DataFrame()\n",
    "\n",
    "for folder in os.listdir(base_path):\n",
    "    if folder != '.DS_Store':\n",
    "        folder_path = os.path.join(base_path, folder)\n",
    "        \n",
    "        for file in os.listdir(folder_path):\n",
    "            if file == '.DS_Store':\n",
    "                continue\n",
    "            file_path = os.path.join(folder_path, file)\n",
    "            print(file_path)\n",
    "            \n",
    "            try:\n",
    "                df = pd.read_csv(file_path, encoding='ISO-8859-1')\n",
    "                \n",
    "                print(\"Columns:\", df.columns)\n",
    "                print(\"First rows:\\n\", df.head())\n",
    "\n",
    "                # Strip whitespace from column names\n",
    "                df.columns = df.columns.str.strip()\n",
    "\n",
    "                new_rows = []  # List to hold new rows\n",
    "                \n",
    "                for index, row in df.iterrows():\n",
    "                    body_landmarks = ast.literal_eval(row['Body'])\n",
    "                    right_landmarks = ast.literal_eval(row['Right'])\n",
    "                    left_landmarks = ast.literal_eval(row['Left'])\n",
    "\n",
    "                    new_rows.extend(create_landmark_rows(body_landmarks, i, index, 'body'))\n",
    "                    new_rows.extend(create_landmark_rows(right_landmarks, i, index, 'right'))\n",
    "                    new_rows.extend(create_landmark_rows(left_landmarks, i, index, 'left'))\n",
    "\n",
    "                # Append the new rows to combined_df\n",
    "                combined_df = pd.concat([combined_df, pd.DataFrame(new_rows)], ignore_index=True)\n",
    "            \n",
    "            except Exception as e:\n",
    "                print(f\"Error processing file {file_path}: {e}\")\n",
    "\n",
    "# Save combined_df to the output path if needed\n",
    "combined_df.to_parquet(output_path)\n",
    "\n",
    "print(\"Processing completed. Final folder processed:\", folder)\n"
   ]
  },
  {
   "cell_type": "code",
   "execution_count": 82,
   "metadata": {},
   "outputs": [
    {
     "ename": "FileNotFoundError",
     "evalue": "[Errno 2] No such file or directory: 'outputnpy.parquet'",
     "output_type": "error",
     "traceback": [
      "\u001b[0;31m---------------------------------------------------------------------------\u001b[0m",
      "\u001b[0;31mFileNotFoundError\u001b[0m                         Traceback (most recent call last)",
      "Cell \u001b[0;32mIn[82], line 1\u001b[0m\n\u001b[0;32m----> 1\u001b[0m df \u001b[38;5;241m=\u001b[39m \u001b[43mpd\u001b[49m\u001b[38;5;241;43m.\u001b[39;49m\u001b[43mread_parquet\u001b[49m\u001b[43m(\u001b[49m\u001b[38;5;124;43m'\u001b[39;49m\u001b[38;5;124;43moutputnpy.parquet\u001b[39;49m\u001b[38;5;124;43m'\u001b[39;49m\u001b[43m)\u001b[49m\n",
      "File \u001b[0;32m~/Documents/sign-language-translator/.venv/lib/python3.9/site-packages/pandas/io/parquet.py:667\u001b[0m, in \u001b[0;36mread_parquet\u001b[0;34m(path, engine, columns, storage_options, use_nullable_dtypes, dtype_backend, filesystem, filters, **kwargs)\u001b[0m\n\u001b[1;32m    664\u001b[0m     use_nullable_dtypes \u001b[38;5;241m=\u001b[39m \u001b[38;5;28;01mFalse\u001b[39;00m\n\u001b[1;32m    665\u001b[0m check_dtype_backend(dtype_backend)\n\u001b[0;32m--> 667\u001b[0m \u001b[38;5;28;01mreturn\u001b[39;00m \u001b[43mimpl\u001b[49m\u001b[38;5;241;43m.\u001b[39;49m\u001b[43mread\u001b[49m\u001b[43m(\u001b[49m\n\u001b[1;32m    668\u001b[0m \u001b[43m    \u001b[49m\u001b[43mpath\u001b[49m\u001b[43m,\u001b[49m\n\u001b[1;32m    669\u001b[0m \u001b[43m    \u001b[49m\u001b[43mcolumns\u001b[49m\u001b[38;5;241;43m=\u001b[39;49m\u001b[43mcolumns\u001b[49m\u001b[43m,\u001b[49m\n\u001b[1;32m    670\u001b[0m \u001b[43m    \u001b[49m\u001b[43mfilters\u001b[49m\u001b[38;5;241;43m=\u001b[39;49m\u001b[43mfilters\u001b[49m\u001b[43m,\u001b[49m\n\u001b[1;32m    671\u001b[0m \u001b[43m    \u001b[49m\u001b[43mstorage_options\u001b[49m\u001b[38;5;241;43m=\u001b[39;49m\u001b[43mstorage_options\u001b[49m\u001b[43m,\u001b[49m\n\u001b[1;32m    672\u001b[0m \u001b[43m    \u001b[49m\u001b[43muse_nullable_dtypes\u001b[49m\u001b[38;5;241;43m=\u001b[39;49m\u001b[43muse_nullable_dtypes\u001b[49m\u001b[43m,\u001b[49m\n\u001b[1;32m    673\u001b[0m \u001b[43m    \u001b[49m\u001b[43mdtype_backend\u001b[49m\u001b[38;5;241;43m=\u001b[39;49m\u001b[43mdtype_backend\u001b[49m\u001b[43m,\u001b[49m\n\u001b[1;32m    674\u001b[0m \u001b[43m    \u001b[49m\u001b[43mfilesystem\u001b[49m\u001b[38;5;241;43m=\u001b[39;49m\u001b[43mfilesystem\u001b[49m\u001b[43m,\u001b[49m\n\u001b[1;32m    675\u001b[0m \u001b[43m    \u001b[49m\u001b[38;5;241;43m*\u001b[39;49m\u001b[38;5;241;43m*\u001b[39;49m\u001b[43mkwargs\u001b[49m\u001b[43m,\u001b[49m\n\u001b[1;32m    676\u001b[0m \u001b[43m\u001b[49m\u001b[43m)\u001b[49m\n",
      "File \u001b[0;32m~/Documents/sign-language-translator/.venv/lib/python3.9/site-packages/pandas/io/parquet.py:267\u001b[0m, in \u001b[0;36mPyArrowImpl.read\u001b[0;34m(self, path, columns, filters, use_nullable_dtypes, dtype_backend, storage_options, filesystem, **kwargs)\u001b[0m\n\u001b[1;32m    264\u001b[0m \u001b[38;5;28;01mif\u001b[39;00m manager \u001b[38;5;241m==\u001b[39m \u001b[38;5;124m\"\u001b[39m\u001b[38;5;124marray\u001b[39m\u001b[38;5;124m\"\u001b[39m:\n\u001b[1;32m    265\u001b[0m     to_pandas_kwargs[\u001b[38;5;124m\"\u001b[39m\u001b[38;5;124msplit_blocks\u001b[39m\u001b[38;5;124m\"\u001b[39m] \u001b[38;5;241m=\u001b[39m \u001b[38;5;28;01mTrue\u001b[39;00m  \u001b[38;5;66;03m# type: ignore[assignment]\u001b[39;00m\n\u001b[0;32m--> 267\u001b[0m path_or_handle, handles, filesystem \u001b[38;5;241m=\u001b[39m \u001b[43m_get_path_or_handle\u001b[49m\u001b[43m(\u001b[49m\n\u001b[1;32m    268\u001b[0m \u001b[43m    \u001b[49m\u001b[43mpath\u001b[49m\u001b[43m,\u001b[49m\n\u001b[1;32m    269\u001b[0m \u001b[43m    \u001b[49m\u001b[43mfilesystem\u001b[49m\u001b[43m,\u001b[49m\n\u001b[1;32m    270\u001b[0m \u001b[43m    \u001b[49m\u001b[43mstorage_options\u001b[49m\u001b[38;5;241;43m=\u001b[39;49m\u001b[43mstorage_options\u001b[49m\u001b[43m,\u001b[49m\n\u001b[1;32m    271\u001b[0m \u001b[43m    \u001b[49m\u001b[43mmode\u001b[49m\u001b[38;5;241;43m=\u001b[39;49m\u001b[38;5;124;43m\"\u001b[39;49m\u001b[38;5;124;43mrb\u001b[39;49m\u001b[38;5;124;43m\"\u001b[39;49m\u001b[43m,\u001b[49m\n\u001b[1;32m    272\u001b[0m \u001b[43m\u001b[49m\u001b[43m)\u001b[49m\n\u001b[1;32m    273\u001b[0m \u001b[38;5;28;01mtry\u001b[39;00m:\n\u001b[1;32m    274\u001b[0m     pa_table \u001b[38;5;241m=\u001b[39m \u001b[38;5;28mself\u001b[39m\u001b[38;5;241m.\u001b[39mapi\u001b[38;5;241m.\u001b[39mparquet\u001b[38;5;241m.\u001b[39mread_table(\n\u001b[1;32m    275\u001b[0m         path_or_handle,\n\u001b[1;32m    276\u001b[0m         columns\u001b[38;5;241m=\u001b[39mcolumns,\n\u001b[0;32m   (...)\u001b[0m\n\u001b[1;32m    279\u001b[0m         \u001b[38;5;241m*\u001b[39m\u001b[38;5;241m*\u001b[39mkwargs,\n\u001b[1;32m    280\u001b[0m     )\n",
      "File \u001b[0;32m~/Documents/sign-language-translator/.venv/lib/python3.9/site-packages/pandas/io/parquet.py:140\u001b[0m, in \u001b[0;36m_get_path_or_handle\u001b[0;34m(path, fs, storage_options, mode, is_dir)\u001b[0m\n\u001b[1;32m    130\u001b[0m handles \u001b[38;5;241m=\u001b[39m \u001b[38;5;28;01mNone\u001b[39;00m\n\u001b[1;32m    131\u001b[0m \u001b[38;5;28;01mif\u001b[39;00m (\n\u001b[1;32m    132\u001b[0m     \u001b[38;5;129;01mnot\u001b[39;00m fs\n\u001b[1;32m    133\u001b[0m     \u001b[38;5;129;01mand\u001b[39;00m \u001b[38;5;129;01mnot\u001b[39;00m is_dir\n\u001b[0;32m   (...)\u001b[0m\n\u001b[1;32m    138\u001b[0m     \u001b[38;5;66;03m# fsspec resources can also point to directories\u001b[39;00m\n\u001b[1;32m    139\u001b[0m     \u001b[38;5;66;03m# this branch is used for example when reading from non-fsspec URLs\u001b[39;00m\n\u001b[0;32m--> 140\u001b[0m     handles \u001b[38;5;241m=\u001b[39m \u001b[43mget_handle\u001b[49m\u001b[43m(\u001b[49m\n\u001b[1;32m    141\u001b[0m \u001b[43m        \u001b[49m\u001b[43mpath_or_handle\u001b[49m\u001b[43m,\u001b[49m\u001b[43m \u001b[49m\u001b[43mmode\u001b[49m\u001b[43m,\u001b[49m\u001b[43m \u001b[49m\u001b[43mis_text\u001b[49m\u001b[38;5;241;43m=\u001b[39;49m\u001b[38;5;28;43;01mFalse\u001b[39;49;00m\u001b[43m,\u001b[49m\u001b[43m \u001b[49m\u001b[43mstorage_options\u001b[49m\u001b[38;5;241;43m=\u001b[39;49m\u001b[43mstorage_options\u001b[49m\n\u001b[1;32m    142\u001b[0m \u001b[43m    \u001b[49m\u001b[43m)\u001b[49m\n\u001b[1;32m    143\u001b[0m     fs \u001b[38;5;241m=\u001b[39m \u001b[38;5;28;01mNone\u001b[39;00m\n\u001b[1;32m    144\u001b[0m     path_or_handle \u001b[38;5;241m=\u001b[39m handles\u001b[38;5;241m.\u001b[39mhandle\n",
      "File \u001b[0;32m~/Documents/sign-language-translator/.venv/lib/python3.9/site-packages/pandas/io/common.py:882\u001b[0m, in \u001b[0;36mget_handle\u001b[0;34m(path_or_buf, mode, encoding, compression, memory_map, is_text, errors, storage_options)\u001b[0m\n\u001b[1;32m    873\u001b[0m         handle \u001b[38;5;241m=\u001b[39m \u001b[38;5;28mopen\u001b[39m(\n\u001b[1;32m    874\u001b[0m             handle,\n\u001b[1;32m    875\u001b[0m             ioargs\u001b[38;5;241m.\u001b[39mmode,\n\u001b[0;32m   (...)\u001b[0m\n\u001b[1;32m    878\u001b[0m             newline\u001b[38;5;241m=\u001b[39m\u001b[38;5;124m\"\u001b[39m\u001b[38;5;124m\"\u001b[39m,\n\u001b[1;32m    879\u001b[0m         )\n\u001b[1;32m    880\u001b[0m     \u001b[38;5;28;01melse\u001b[39;00m:\n\u001b[1;32m    881\u001b[0m         \u001b[38;5;66;03m# Binary mode\u001b[39;00m\n\u001b[0;32m--> 882\u001b[0m         handle \u001b[38;5;241m=\u001b[39m \u001b[38;5;28;43mopen\u001b[39;49m\u001b[43m(\u001b[49m\u001b[43mhandle\u001b[49m\u001b[43m,\u001b[49m\u001b[43m \u001b[49m\u001b[43mioargs\u001b[49m\u001b[38;5;241;43m.\u001b[39;49m\u001b[43mmode\u001b[49m\u001b[43m)\u001b[49m\n\u001b[1;32m    883\u001b[0m     handles\u001b[38;5;241m.\u001b[39mappend(handle)\n\u001b[1;32m    885\u001b[0m \u001b[38;5;66;03m# Convert BytesIO or file objects passed with an encoding\u001b[39;00m\n",
      "\u001b[0;31mFileNotFoundError\u001b[0m: [Errno 2] No such file or directory: 'outputnpy.parquet'"
     ]
    }
   ],
   "source": [
    "df = pd.read_parquet('outputnpy.parquet')"
   ]
  },
  {
   "cell_type": "code",
   "execution_count": null,
   "metadata": {},
   "outputs": [],
   "source": []
  }
 ],
 "metadata": {
  "kernelspec": {
   "display_name": ".venv",
   "language": "python",
   "name": "python3"
  },
  "language_info": {
   "codemirror_mode": {
    "name": "ipython",
    "version": 3
   },
   "file_extension": ".py",
   "mimetype": "text/x-python",
   "name": "python",
   "nbconvert_exporter": "python",
   "pygments_lexer": "ipython3",
   "version": "3.9.6"
  }
 },
 "nbformat": 4,
 "nbformat_minor": 2
}
