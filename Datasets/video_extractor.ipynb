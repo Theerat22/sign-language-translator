{
 "cells": [
  {
   "cell_type": "code",
   "execution_count": 1,
   "metadata": {},
   "outputs": [],
   "source": [
    "import cv2\n",
    "import mediapipe as mp\n",
    "import pandas as pd\n",
    "import numpy as np"
   ]
  },
  {
   "cell_type": "code",
   "execution_count": 9,
   "metadata": {},
   "outputs": [],
   "source": [
    "mp_holistic = mp.solutions.holistic\n",
    "holistic_model = mp_holistic.Holistic(\n",
    "    min_detection_confidence=0.1,\n",
    "    min_tracking_confidence=0.1\n",
    ")\n",
    "\n",
    "# Initializing the drawing utils for drawing the landmarks on image\n",
    "mp_drawing = mp.solutions.drawing_utils"
   ]
  },
  {
   "cell_type": "code",
   "execution_count": 14,
   "metadata": {},
   "outputs": [],
   "source": [
    "def hand_detection(mp_holistic,holistic_model, mp_drawing):    \n",
    "    vid = cv2.VideoCapture('hello1.mp4')\n",
    "    \n",
    "    while vid.isOpened():\n",
    "        ret, frame = vid.read()\n",
    "        # frame = cv2.flip(cv2.resize(frame, (800, 600)), 1)\n",
    "        # frame = cv2.resize(frame, (800, 600))\n",
    "        image = cv2.cvtColor(frame, cv2.COLOR_BGR2RGB)\n",
    "        image = cv2.flip(image,1)\n",
    "\n",
    "        # Making predictions using holistic model\n",
    "        # To improve performance, optionally mark the image as not writeable to\n",
    "        # pass by reference.\n",
    "        image.flags.writeable = False\n",
    "        results = holistic_model.process(image)\n",
    "        image.flags.writeable = True\n",
    "    \n",
    "        # Converting back the RGB image to BGR\n",
    "        image = cv2.cvtColor(image, cv2.COLOR_RGB2BGR)\n",
    "        # Draw Pose And Face Land Marks \n",
    "        mp_drawing.draw_landmarks(image, results.pose_landmarks, mp_holistic.POSE_CONNECTIONS)\n",
    "        # Drawing Right hand Land Marks\n",
    "        mp_drawing.draw_landmarks(image, results.right_hand_landmarks, mp_holistic.HAND_CONNECTIONS)\n",
    "    \n",
    "        # Drawing Left hand Land Marks\n",
    "        mp_drawing.draw_landmarks(image, results.left_hand_landmarks, mp_holistic.HAND_CONNECTIONS)\n",
    "        # print(results.left_hand_landmarks)\n",
    "\n",
    "        # Display the resulting image\n",
    "        cv2.imshow(\"Hand pose\", image)\n",
    "    \n",
    "        # Enter key 'q' to break the loop\n",
    "        if cv2.waitKey(5) & 0xFF == ord('q'):\n",
    "            left= results.left_hand_landmarks\n",
    "            right = results.right_hand_landmarks\n",
    "            break\n",
    "\n",
    "    vid.release()\n",
    "    cv2.destroyAllWindows()\n",
    "    return left, right"
   ]
  },
  {
   "cell_type": "code",
   "execution_count": 15,
   "metadata": {},
   "outputs": [
    {
     "data": {
      "text/plain": [
       "(None, None)"
      ]
     },
     "execution_count": 15,
     "metadata": {},
     "output_type": "execute_result"
    }
   ],
   "source": [
    "hand_detection(mp_holistic,holistic_model, mp_drawing)"
   ]
  },
  {
   "cell_type": "code",
   "execution_count": 8,
   "metadata": {},
   "outputs": [],
   "source": [
    "operate()"
   ]
  }
 ],
 "metadata": {
  "kernelspec": {
   "display_name": ".venv",
   "language": "python",
   "name": "python3"
  },
  "language_info": {
   "codemirror_mode": {
    "name": "ipython",
    "version": 3
   },
   "file_extension": ".py",
   "mimetype": "text/x-python",
   "name": "python",
   "nbconvert_exporter": "python",
   "pygments_lexer": "ipython3",
   "version": "3.8.10"
  }
 },
 "nbformat": 4,
 "nbformat_minor": 2
}
