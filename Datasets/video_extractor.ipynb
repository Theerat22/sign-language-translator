{
 "cells": [
  {
   "cell_type": "code",
   "execution_count": 166,
   "metadata": {},
   "outputs": [],
   "source": [
    "import cv2\n",
    "import mediapipe as mp\n",
    "import pandas as pd\n",
    "import numpy as np\n",
    "import plotly.express as px"
   ]
  },
  {
   "cell_type": "code",
   "execution_count": 167,
   "metadata": {},
   "outputs": [],
   "source": [
    "class color:\n",
    "   PINK = '\\033[95m'\n",
    "   CYAN = '\\033[96m'\n",
    "   PURPLE = '\\033[94m'\n",
    "   GREEN = '\\033[92m'\n",
    "   YELLOW = '\\033[93m'\n",
    "   RED = '\\033[91m'\n",
    "   BOLD = '\\033[1m'\n",
    "   UNDERLINE = '\\033[4m'\n",
    "   END = '\\033[0m'"
   ]
  },
  {
   "cell_type": "code",
   "execution_count": 168,
   "metadata": {},
   "outputs": [],
   "source": [
    "mp_holistic = mp.solutions.holistic\n",
    "holistic_model = mp_holistic.Holistic(\n",
    "    min_detection_confidence=0.1,\n",
    "    min_tracking_confidence=0.1\n",
    ")\n",
    "\n",
    "# Initializing the drawing utils for drawing the landmarks on image\n",
    "mp_drawing = mp.solutions.drawing_utils"
   ]
  },
  {
   "cell_type": "code",
   "execution_count": 241,
   "metadata": {},
   "outputs": [],
   "source": [
    "def extract_data(hand_pos):\n",
    "    right, left, body, i = dict(), dict(), dict(), 0\n",
    "    if hand_pos[0] != None:\n",
    "        for data in hand_pos[0].landmark:\n",
    "            right['Landmark '+str(i)] = [data.x, data.y, data.z]\n",
    "            i+=1\n",
    "        i = 0\n",
    "    else:\n",
    "        right = None\n",
    "\n",
    "    if hand_pos[1] != None:\n",
    "        for data in hand_pos[1].landmark:\n",
    "            left['Landmark '+str(i)] = [data.x, data.y, data.z]\n",
    "            i+=1\n",
    "        i = 0\n",
    "    else:\n",
    "        left = None\n",
    "\n",
    "    if hand_pos[2] != None:\n",
    "        for data in hand_pos[2].landmark:\n",
    "            body['Landmark '+str(i)] = [data.x, data.y, data.z]\n",
    "            i+=1\n",
    "        i = 0\n",
    "    else:\n",
    "        body = None\n",
    "\n",
    "    return right, left, body"
   ]
  },
  {
   "cell_type": "code",
   "execution_count": 320,
   "metadata": {},
   "outputs": [],
   "source": [
    "def operate(mp_holistic,holistic_model, mp_drawing, file):    \n",
    "    vid = cv2.VideoCapture(file)\n",
    "    total_frame = int(vid.get(cv2.CAP_PROP_FRAME_COUNT))\n",
    "\n",
    "    total_capture = 0\n",
    "\n",
    "    for i in range(total_frame):\n",
    "        if i%(total_frame//30) == 0:\n",
    "            total_capture+=1\n",
    "        else:\n",
    "            continue\n",
    "        ret, frame = vid.read()\n",
    "\n",
    "        vid.set(cv2.CAP_PROP_POS_FRAMES, (total_capture)*(total_frame/30))\n",
    "\n",
    "        if not ret or cv2.waitKey(5) & 0xFF == ord('q'):\n",
    "            break\n",
    "        \n",
    "        image = cv2.cvtColor(frame, cv2.COLOR_BGR2RGB)\n",
    "        image = cv2.flip(image,1)\n",
    "\n",
    "        image.flags.writeable = False\n",
    "        results = holistic_model.process(image)\n",
    "        image.flags.writeable = True\n",
    "    \n",
    "        image = cv2.cvtColor(image, cv2.COLOR_RGB2BGR)\n",
    "\n",
    "        # Draw Pose And Face Land Marks \n",
    "        mp_drawing.draw_landmarks(image, results.pose_landmarks, mp_holistic.POSE_CONNECTIONS)\n",
    "        # Drawing Right hand Land Marks\n",
    "        mp_drawing.draw_landmarks(image, results.right_hand_landmarks, mp_holistic.HAND_CONNECTIONS)\n",
    "        # Drawing Left hand Land Marks\n",
    "        mp_drawing.draw_landmarks(image, results.left_hand_landmarks, mp_holistic.HAND_CONNECTIONS)\n",
    "\n",
    "        # Display the resulting image\n",
    "        cv2.imshow(\"Display\", image)\n",
    "\n",
    "        left= results.left_hand_landmarks\n",
    "        right = results.right_hand_landmarks\n",
    "        upper = results.pose_landmarks\n",
    "        right_new, left_new, upper_new = extract_data([right, left, upper])\n",
    "        hand_pos = {'right': right_new, 'left': left_new, 'body': upper_new}\n",
    "        hand_pos_df = pd.DataFrame(hand_pos).T\n",
    "        hand_pos_df.to_csv('test folder/frame'+str(i)+'.csv')\n",
    "        # print(hand_pos_df)\n",
    "\n",
    "    vid.release()\n",
    "    cv2.destroyAllWindows()\n",
    "    print(total_capture)\n",
    "    print(color.GREEN+\"Done!\"+color.END)"
   ]
  },
  {
   "cell_type": "code",
   "execution_count": 321,
   "metadata": {},
   "outputs": [
    {
     "name": "stdout",
     "output_type": "stream",
     "text": [
      "31\n",
      "\u001b[92mDone!\u001b[0m\n"
     ]
    }
   ],
   "source": [
    "operate(mp_holistic,holistic_model, mp_drawing, 'hello1.mp4')"
   ]
  }
 ],
 "metadata": {
  "kernelspec": {
   "display_name": ".venv",
   "language": "python",
   "name": "python3"
  },
  "language_info": {
   "codemirror_mode": {
    "name": "ipython",
    "version": 3
   },
   "file_extension": ".py",
   "mimetype": "text/x-python",
   "name": "python",
   "nbconvert_exporter": "python",
   "pygments_lexer": "ipython3",
   "version": "3.8.10"
  }
 },
 "nbformat": 4,
 "nbformat_minor": 2
}
