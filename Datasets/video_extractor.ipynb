{
 "cells": [
  {
   "cell_type": "markdown",
   "metadata": {},
   "source": [
    "# __Set Up & Import__"
   ]
  },
  {
   "cell_type": "markdown",
   "metadata": {},
   "source": [
    "## Import Necessary Library"
   ]
  },
  {
   "cell_type": "code",
   "execution_count": 1,
   "metadata": {},
   "outputs": [
    {
     "name": "stdout",
     "output_type": "stream",
     "text": [
      "Requirement already satisfied: opencv-python in c:\\users\\smith\\downloads\\asl_cd\\.venv\\lib\\site-packages (4.10.0.84)Note: you may need to restart the kernel to use updated packages.\n",
      "\n",
      "Requirement already satisfied: numpy>=1.17.0 in c:\\users\\smith\\downloads\\asl_cd\\.venv\\lib\\site-packages (from opencv-python) (1.24.4)\n"
     ]
    },
    {
     "name": "stderr",
     "output_type": "stream",
     "text": [
      "DEPRECATION: omegaconf 2.0.6 has a non-standard dependency specifier PyYAML>=5.1.*. pip 24.1 will enforce this behaviour change. A possible replacement is to upgrade to a newer version of omegaconf or contact the author to suggest that they release a version with a conforming dependency specifiers. Discussion can be found at https://github.com/pypa/pip/issues/12063\n",
      "\n",
      "[notice] A new release of pip is available: 24.0 -> 24.2\n",
      "[notice] To update, run: python.exe -m pip install --upgrade pip\n"
     ]
    },
    {
     "name": "stdout",
     "output_type": "stream",
     "text": [
      "Requirement already satisfied: mediapipe in c:\\users\\smith\\downloads\\asl_cd\\.venv\\lib\\site-packages (0.10.11)\n",
      "Requirement already satisfied: absl-py in c:\\users\\smith\\downloads\\asl_cd\\.venv\\lib\\site-packages (from mediapipe) (2.1.0)\n",
      "Requirement already satisfied: attrs>=19.1.0 in c:\\users\\smith\\downloads\\asl_cd\\.venv\\lib\\site-packages (from mediapipe) (24.2.0)\n",
      "Requirement already satisfied: flatbuffers>=2.0 in c:\\users\\smith\\downloads\\asl_cd\\.venv\\lib\\site-packages (from mediapipe) (24.3.25)\n",
      "Requirement already satisfied: jax in c:\\users\\smith\\downloads\\asl_cd\\.venv\\lib\\site-packages (from mediapipe) (0.4.13)\n",
      "Requirement already satisfied: matplotlib in c:\\users\\smith\\downloads\\asl_cd\\.venv\\lib\\site-packages (from mediapipe) (3.7.5)\n",
      "Requirement already satisfied: numpy in c:\\users\\smith\\downloads\\asl_cd\\.venv\\lib\\site-packages (from mediapipe) (1.24.4)\n",
      "Requirement already satisfied: opencv-contrib-python in c:\\users\\smith\\downloads\\asl_cd\\.venv\\lib\\site-packages (from mediapipe) (4.10.0.84)\n",
      "Requirement already satisfied: protobuf<4,>=3.11 in c:\\users\\smith\\downloads\\asl_cd\\.venv\\lib\\site-packages (from mediapipe) (3.20.3)\n",
      "Requirement already satisfied: sounddevice>=0.4.4 in c:\\users\\smith\\downloads\\asl_cd\\.venv\\lib\\site-packages (from mediapipe) (0.5.0)\n",
      "Requirement already satisfied: CFFI>=1.0 in c:\\users\\smith\\downloads\\asl_cd\\.venv\\lib\\site-packages (from sounddevice>=0.4.4->mediapipe) (1.17.0)\n",
      "Requirement already satisfied: ml-dtypes>=0.1.0 in c:\\users\\smith\\downloads\\asl_cd\\.venv\\lib\\site-packages (from jax->mediapipe) (0.2.0)\n",
      "Requirement already satisfied: opt-einsum in c:\\users\\smith\\downloads\\asl_cd\\.venv\\lib\\site-packages (from jax->mediapipe) (3.3.0)\n",
      "Requirement already satisfied: scipy>=1.7 in c:\\users\\smith\\downloads\\asl_cd\\.venv\\lib\\site-packages (from jax->mediapipe) (1.10.1)\n",
      "Requirement already satisfied: importlib-metadata>=4.6 in c:\\users\\smith\\downloads\\asl_cd\\.venv\\lib\\site-packages (from jax->mediapipe) (8.2.0)\n",
      "Requirement already satisfied: contourpy>=1.0.1 in c:\\users\\smith\\downloads\\asl_cd\\.venv\\lib\\site-packages (from matplotlib->mediapipe) (1.1.1)\n",
      "Requirement already satisfied: cycler>=0.10 in c:\\users\\smith\\downloads\\asl_cd\\.venv\\lib\\site-packages (from matplotlib->mediapipe) (0.12.1)\n",
      "Requirement already satisfied: fonttools>=4.22.0 in c:\\users\\smith\\downloads\\asl_cd\\.venv\\lib\\site-packages (from matplotlib->mediapipe) (4.53.1)\n",
      "Requirement already satisfied: kiwisolver>=1.0.1 in c:\\users\\smith\\downloads\\asl_cd\\.venv\\lib\\site-packages (from matplotlib->mediapipe) (1.4.5)\n",
      "Requirement already satisfied: packaging>=20.0 in c:\\users\\smith\\downloads\\asl_cd\\.venv\\lib\\site-packages (from matplotlib->mediapipe) (24.1)\n",
      "Requirement already satisfied: pillow>=6.2.0 in c:\\users\\smith\\downloads\\asl_cd\\.venv\\lib\\site-packages (from matplotlib->mediapipe) (10.4.0)\n",
      "Requirement already satisfied: pyparsing>=2.3.1 in c:\\users\\smith\\downloads\\asl_cd\\.venv\\lib\\site-packages (from matplotlib->mediapipe) (3.1.2)\n",
      "Requirement already satisfied: python-dateutil>=2.7 in c:\\users\\smith\\downloads\\asl_cd\\.venv\\lib\\site-packages (from matplotlib->mediapipe) (2.9.0.post0)\n",
      "Requirement already satisfied: importlib-resources>=3.2.0 in c:\\users\\smith\\downloads\\asl_cd\\.venv\\lib\\site-packages (from matplotlib->mediapipe) (6.4.0)\n",
      "Requirement already satisfied: pycparser in c:\\users\\smith\\downloads\\asl_cd\\.venv\\lib\\site-packages (from CFFI>=1.0->sounddevice>=0.4.4->mediapipe) (2.22)\n",
      "Requirement already satisfied: zipp>=0.5 in c:\\users\\smith\\downloads\\asl_cd\\.venv\\lib\\site-packages (from importlib-metadata>=4.6->jax->mediapipe) (3.19.2)\n",
      "Requirement already satisfied: six>=1.5 in c:\\users\\smith\\downloads\\asl_cd\\.venv\\lib\\site-packages (from python-dateutil>=2.7->matplotlib->mediapipe) (1.16.0)\n",
      "Note: you may need to restart the kernel to use updated packages.\n"
     ]
    },
    {
     "name": "stderr",
     "output_type": "stream",
     "text": [
      "DEPRECATION: omegaconf 2.0.6 has a non-standard dependency specifier PyYAML>=5.1.*. pip 24.1 will enforce this behaviour change. A possible replacement is to upgrade to a newer version of omegaconf or contact the author to suggest that they release a version with a conforming dependency specifiers. Discussion can be found at https://github.com/pypa/pip/issues/12063\n",
      "\n",
      "[notice] A new release of pip is available: 24.0 -> 24.2\n",
      "[notice] To update, run: python.exe -m pip install --upgrade pip\n"
     ]
    },
    {
     "name": "stdout",
     "output_type": "stream",
     "text": [
      "Requirement already satisfied: plotly in c:\\users\\smith\\downloads\\asl_cd\\.venv\\lib\\site-packages (5.23.0)\n",
      "Requirement already satisfied: tenacity>=6.2.0 in c:\\users\\smith\\downloads\\asl_cd\\.venv\\lib\\site-packages (from plotly) (9.0.0)\n",
      "Requirement already satisfied: packaging in c:\\users\\smith\\downloads\\asl_cd\\.venv\\lib\\site-packages (from plotly) (24.1)\n",
      "Note: you may need to restart the kernel to use updated packages.\n"
     ]
    },
    {
     "name": "stderr",
     "output_type": "stream",
     "text": [
      "DEPRECATION: omegaconf 2.0.6 has a non-standard dependency specifier PyYAML>=5.1.*. pip 24.1 will enforce this behaviour change. A possible replacement is to upgrade to a newer version of omegaconf or contact the author to suggest that they release a version with a conforming dependency specifiers. Discussion can be found at https://github.com/pypa/pip/issues/12063\n",
      "\n",
      "[notice] A new release of pip is available: 24.0 -> 24.2\n",
      "[notice] To update, run: python.exe -m pip install --upgrade pip\n"
     ]
    },
    {
     "name": "stdout",
     "output_type": "stream",
     "text": [
      "Requirement already satisfied: pandas in c:\\users\\smith\\downloads\\asl_cd\\.venv\\lib\\site-packages (2.0.3)\n",
      "Requirement already satisfied: python-dateutil>=2.8.2 in c:\\users\\smith\\downloads\\asl_cd\\.venv\\lib\\site-packages (from pandas) (2.9.0.post0)\n",
      "Requirement already satisfied: pytz>=2020.1 in c:\\users\\smith\\downloads\\asl_cd\\.venv\\lib\\site-packages (from pandas) (2024.1)\n",
      "Requirement already satisfied: tzdata>=2022.1 in c:\\users\\smith\\downloads\\asl_cd\\.venv\\lib\\site-packages (from pandas) (2024.1)\n",
      "Requirement already satisfied: numpy>=1.20.3 in c:\\users\\smith\\downloads\\asl_cd\\.venv\\lib\\site-packages (from pandas) (1.24.4)\n",
      "Requirement already satisfied: six>=1.5 in c:\\users\\smith\\downloads\\asl_cd\\.venv\\lib\\site-packages (from python-dateutil>=2.8.2->pandas) (1.16.0)\n",
      "Note: you may need to restart the kernel to use updated packages.\n"
     ]
    },
    {
     "name": "stderr",
     "output_type": "stream",
     "text": [
      "DEPRECATION: omegaconf 2.0.6 has a non-standard dependency specifier PyYAML>=5.1.*. pip 24.1 will enforce this behaviour change. A possible replacement is to upgrade to a newer version of omegaconf or contact the author to suggest that they release a version with a conforming dependency specifiers. Discussion can be found at https://github.com/pypa/pip/issues/12063\n",
      "\n",
      "[notice] A new release of pip is available: 24.0 -> 24.2\n",
      "[notice] To update, run: python.exe -m pip install --upgrade pip\n"
     ]
    }
   ],
   "source": [
    "%pip install opencv-python\n",
    "%pip install mediapipe\n",
    "%pip install plotly\n",
    "%pip install pandas"
   ]
  },
  {
   "cell_type": "code",
   "execution_count": 2,
   "metadata": {},
   "outputs": [],
   "source": [
    "import cv2\n",
    "import mediapipe as mp\n",
    "import pandas as pd\n",
    "import numpy as np\n",
    "import plotly.express as px\n",
    "import ast\n",
    "import matplotlib.pyplot as plt\n",
    "from matplotlib.animation import FuncAnimation\n",
    "import os\n",
    "import time"
   ]
  },
  {
   "cell_type": "markdown",
   "metadata": {},
   "source": [
    "## Set Color Class [ _Not Important_ ]"
   ]
  },
  {
   "cell_type": "code",
   "execution_count": 3,
   "metadata": {},
   "outputs": [],
   "source": [
    "class color:\n",
    "   PINK = '\\033[95m'\n",
    "   CYAN = '\\033[96m'\n",
    "   PURPLE = '\\033[94m'\n",
    "   GREEN = '\\033[92m'\n",
    "   YELLOW = '\\033[93m'\n",
    "   RED = '\\033[91m'\n",
    "   BOLD = '\\033[1m'\n",
    "   UNDERLINE = '\\033[4m'\n",
    "   END = '\\033[0m'"
   ]
  },
  {
   "cell_type": "markdown",
   "metadata": {},
   "source": [
    "## Set Up Detection Model"
   ]
  },
  {
   "cell_type": "code",
   "execution_count": 4,
   "metadata": {},
   "outputs": [],
   "source": [
    "mp_holistic = mp.solutions.holistic\n",
    "holistic_model = mp_holistic.Holistic(\n",
    "    min_detection_confidence=0.1,\n",
    "    min_tracking_confidence=0.1\n",
    ")\n",
    "\n",
    "# Initializing the drawing utils for drawing the landmarks on image\n",
    "mp_drawing = mp.solutions.drawing_utils"
   ]
  },
  {
   "cell_type": "markdown",
   "metadata": {},
   "source": [
    "# __Define Needed Function__"
   ]
  },
  {
   "cell_type": "markdown",
   "metadata": {},
   "source": [
    "## Extract & Structerize Position From Each Part"
   ]
  },
  {
   "cell_type": "code",
   "execution_count": 5,
   "metadata": {},
   "outputs": [],
   "source": [
    "def extract_data(hand_pos):\n",
    "    right, left, body, i = dict(), dict(), dict(), 0\n",
    "    if hand_pos[0] != None:\n",
    "        for data in hand_pos[0].landmark:\n",
    "            right['Landmark '+str(i)] = [data.x, data.y, data.z]\n",
    "            i+=1\n",
    "        i = 0\n",
    "    else:\n",
    "        right = None\n",
    "\n",
    "    if hand_pos[1] != None:\n",
    "        for data in hand_pos[1].landmark:\n",
    "            left['Landmark '+str(i)] = [data.x, data.y, data.z]\n",
    "            i+=1\n",
    "        i = 0\n",
    "    else:\n",
    "        left = None\n",
    "\n",
    "    if hand_pos[2] != None:\n",
    "        for data in hand_pos[2].landmark:\n",
    "            body['Landmark '+str(i)] = [data.x, data.y, data.z]\n",
    "            i+=1\n",
    "        i = 0\n",
    "    else:\n",
    "        body = None\n",
    "\n",
    "    hand_pos = {'Right': right, 'Left': left, 'Body': body}\n",
    "    hand_pos_df = pd.DataFrame(hand_pos).T\n",
    "    \n",
    "    return hand_pos_df"
   ]
  },
  {
   "cell_type": "markdown",
   "metadata": {},
   "source": [
    "## Main Function"
   ]
  },
  {
   "cell_type": "code",
   "execution_count": 6,
   "metadata": {},
   "outputs": [],
   "source": [
    "def operate(mp_holistic,holistic_model, mp_drawing, file):    \n",
    "    vid = cv2.VideoCapture(file)\n",
    "    total_frame, total_capture = int(vid.get(cv2.CAP_PROP_FRAME_COUNT)), 0\n",
    "\n",
    "    for i in range(total_frame):\n",
    "        if i%(total_frame//30) == 0:\n",
    "            total_capture+=1\n",
    "        else:\n",
    "            continue\n",
    "        ret, frame = vid.read()\n",
    "\n",
    "        vid.set(cv2.CAP_PROP_POS_FRAMES, (total_capture)*(total_frame/30))\n",
    "\n",
    "        if not ret or cv2.waitKey(5) & 0xFF == ord('q'):\n",
    "            break\n",
    "        \n",
    "        image = cv2.cvtColor(frame, cv2.COLOR_BGR2RGB)\n",
    "\n",
    "        image.flags.writeable = False\n",
    "        results = holistic_model.process(image)\n",
    "        image.flags.writeable = True\n",
    "    \n",
    "        image = cv2.cvtColor(image, cv2.COLOR_RGB2BGR)\n",
    "\n",
    "        # Draw Pose And Face Land Marks \n",
    "        mp_drawing.draw_landmarks(image, results.pose_landmarks, mp_holistic.POSE_CONNECTIONS)\n",
    "        # Drawing Right hand Land Marks\n",
    "        mp_drawing.draw_landmarks(image, results.right_hand_landmarks, mp_holistic.HAND_CONNECTIONS)\n",
    "        # Drawing Left hand Land Marks\n",
    "        mp_drawing.draw_landmarks(image, results.left_hand_landmarks, mp_holistic.HAND_CONNECTIONS)\n",
    "\n",
    "        # Display the resulting image\n",
    "        cv2.imshow(\"Display\", image)\n",
    "\n",
    "        left= results.left_hand_landmarks\n",
    "        right = results.right_hand_landmarks\n",
    "        upper = results.pose_landmarks\n",
    "        hand_pos_df = extract_data([right, left, upper])\n",
    "        os.makedirs(file.split('.')[0], exist_ok=True)\n",
    "        hand_pos_df.to_csv(file.split('.')[0]+'/Frame_'+str(total_capture-1)+'.csv')\n",
    "        print(\"\\r\"+\"Successfully captured frame:\", color.RED+color.BOLD+str(total_capture)+color.END+\" / 30\", end=\"\")\n",
    "        # print(\"Successfully captured frame:\", color.RED+color.BOLD+str(total_capture)+color.END+\" / 30\")\n",
    "\n",
    "    vid.release()\n",
    "    cv2.destroyAllWindows()\n",
    "    print(\"\\n\"+color.BOLD+color.GREEN+\"Done!\"+color.END)"
   ]
  },
  {
   "cell_type": "markdown",
   "metadata": {},
   "source": [
    "## Graph Drawing"
   ]
  },
  {
   "cell_type": "code",
   "execution_count": 7,
   "metadata": {},
   "outputs": [],
   "source": [
    "edges = {\n",
    "        \"left_hand\": [\n",
    "            (0, 1), (1, 2), (2, 3), (3, 4), (0, 5), (0, 17), (5, 6), (6, 7),\n",
    "            (7, 8), (5, 9), (9, 10), (10, 11), (11, 12), (9, 13), (13, 14),\n",
    "            (14, 15), (15, 16), (13, 17), (17, 18), (18, 19), (19, 20)\n",
    "        ],\n",
    "        \"right_hand\": [\n",
    "            (0, 1), (1, 2), (2, 3), (3, 4), (0, 5), (0, 17), (5, 6), (6, 7),\n",
    "            (7, 8), (5, 9), (9, 10), (10, 11), (11, 12), (9, 13), (13, 14),\n",
    "            (14, 15), (15, 16), (13, 17), (17, 18), (18, 19), (19, 20)\n",
    "        ],\n",
    "        \"pose\": [\n",
    "            (8, 6), (6, 5), (6, 4), (4, 0), (0, 1), (1, 2), (2, 3), (3, 7),\n",
    "            (10, 9), (11, 12), (11, 13), (11, 23), (13, 15), (15, 21), (15, 17),\n",
    "            (15, 19), (17, 19), (12, 14), (12, 24), (14, 16), (16, 22), (16, 20),\n",
    "            (16, 18), (18, 20), (23, 24)\n",
    "        ],\n",
    "    }"
   ]
  },
  {
   "cell_type": "code",
   "execution_count": 8,
   "metadata": {},
   "outputs": [],
   "source": [
    "def draw_edges(ax, points, edges):\n",
    "        for edge in edges:\n",
    "            start, end = edge\n",
    "            x_values = [points[start][0], points[end][0]]\n",
    "            y_values = [points[start][1], points[end][1]]\n",
    "            ax.plot(x_values, y_values, 'k-')"
   ]
  },
  {
   "cell_type": "code",
   "execution_count": 9,
   "metadata": {},
   "outputs": [],
   "source": [
    "def graph_drawer(word, frames ,edges):\n",
    "    frame = pd.read_csv(word+'/frame_'+str(frames)+'.csv')\n",
    "        \n",
    "    # Extract data from the CSV file\n",
    "    lst_frame_right = frame.iloc[0][1:].to_frame().dropna().values\n",
    "    lst_frame_left = frame.iloc[1][1:].to_frame().dropna().values\n",
    "    lst_frame_body = frame.iloc[2][1:].to_frame().dropna().values\n",
    "\n",
    "    # Convert string representations of lists to actual lists\n",
    "    lst_frame_right = [ast.literal_eval(lst_frame_right[i][0]) for i in range(len(lst_frame_right))]\n",
    "    lst_frame_left = [ast.literal_eval(lst_frame_left[i][0]) for i in range(len(lst_frame_left))]\n",
    "    lst_frame_body = [ast.literal_eval(lst_frame_body[i][0]) for i in range(len(lst_frame_body))]\n",
    "\n",
    "    # Extract x and y coordinates\n",
    "    right_x = [lst_frame_right[i][0] for i in range(len(lst_frame_right))]\n",
    "    right_y = [lst_frame_right[i][1] for i in range(len(lst_frame_right))]\n",
    "    left_x = [lst_frame_left[i][0] for i in range(len(lst_frame_left))]\n",
    "    left_y = [lst_frame_left[i][1] for i in range(len(lst_frame_left))]\n",
    "    body_x = [lst_frame_body[i][0] for i in range(len(lst_frame_body))]\n",
    "    body_y = [lst_frame_body[i][1] for i in range(len(lst_frame_body))]\n",
    "\n",
    "    # Create the plot\n",
    "    _, axis = plt.subplots(2, 2, constrained_layout=True, figsize=(8, 8))\n",
    "    if right_x != []:\n",
    "        axis[0, 0].scatter(right_x, right_y)\n",
    "        axis[0, 0].set_title(\"Right hand\")\n",
    "        draw_edges(axis[0, 0], lst_frame_right, edges[\"right_hand\"])\n",
    "\n",
    "    if left_x != []:\n",
    "        axis[0, 1].scatter(left_x, left_y)\n",
    "        axis[0, 1].set_title(\"Left hand\")\n",
    "        draw_edges(axis[0, 1], lst_frame_left, edges[\"left_hand\"])\n",
    "\n",
    "    if body_x != []:\n",
    "        axis[1, 0].scatter(body_x, body_y)\n",
    "        axis[1, 0].set_title(\"Body\")\n",
    "        draw_edges(axis[1, 0], lst_frame_body, edges[\"pose\"])\n",
    "\n",
    "    if right_x != [] and left_x != [] and body_x != []:\n",
    "        axis[1, 1].scatter(right_x, right_y)\n",
    "        axis[1, 1].scatter(left_x, left_y)\n",
    "        axis[1, 1].scatter(body_x, body_y)\n",
    "        axis[1, 1].set_title(\"All\")\n",
    "        draw_edges(axis[1, 1], lst_frame_right, edges[\"right_hand\"])\n",
    "        draw_edges(axis[1, 1], lst_frame_left, edges[\"left_hand\"])\n",
    "        draw_edges(axis[1, 1], lst_frame_body, edges[\"pose\"])\n",
    "\n",
    "    axis[0,0].yaxis.set_inverted(True)\n",
    "    axis[0,1].yaxis.set_inverted(True)\n",
    "    axis[1,0].yaxis.set_inverted(True)\n",
    "    axis[1,1].yaxis.set_inverted(True)\n",
    "    plt.show()"
   ]
  },
  {
   "cell_type": "markdown",
   "metadata": {},
   "source": [
    "# __Using Zone__"
   ]
  },
  {
   "cell_type": "code",
   "execution_count": 10,
   "metadata": {},
   "outputs": [
    {
     "name": "stdout",
     "output_type": "stream",
     "text": [
      "Successfully captured frame: \u001b[91m\u001b[1m30\u001b[0m / 30\n",
      "\u001b[1m\u001b[92mDone!\u001b[0m\n"
     ]
    }
   ],
   "source": [
    "operate(mp_holistic,holistic_model, mp_drawing, 'hello1.mp4')"
   ]
  },
  {
   "cell_type": "code",
   "execution_count": null,
   "metadata": {},
   "outputs": [],
   "source": [
    "graph_drawer('hello1', 10, edges)"
   ]
  }
 ],
 "metadata": {
  "kernelspec": {
   "display_name": ".venv",
   "language": "python",
   "name": "python3"
  },
  "language_info": {
   "codemirror_mode": {
    "name": "ipython",
    "version": 3
   },
   "file_extension": ".py",
   "mimetype": "text/x-python",
   "name": "python",
   "nbconvert_exporter": "python",
   "pygments_lexer": "ipython3",
   "version": "3.8.10"
  }
 },
 "nbformat": 4,
 "nbformat_minor": 2
}
