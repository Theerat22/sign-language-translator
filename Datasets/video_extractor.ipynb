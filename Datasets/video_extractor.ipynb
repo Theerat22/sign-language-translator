{
 "cells": [
  {
   "cell_type": "code",
   "execution_count": 1,
   "metadata": {},
   "outputs": [],
   "source": [
    "import cv2\n",
    "import mediapipe as mp\n",
    "import pandas as pd\n",
    "import numpy as np"
   ]
  },
  {
   "cell_type": "code",
   "execution_count": 2,
   "metadata": {},
   "outputs": [],
   "source": [
    "def operate():\n",
    "    # Capture from video file\n",
    "    vid = cv2.VideoCapture('hello1.mp4')\n",
    "    \n",
    "    while(True):\n",
    "    \n",
    "        # Capture the video frame\n",
    "        ret, frame = vid.read()\n",
    "        #   Resize the frame\n",
    "        # frame = cv2.flip(cv2.resize(frame, (800, 600)), 1)\n",
    "        # frame = cv2.resize(frame, (800, 600))\n",
    "\n",
    "        # Define model for face detection\n",
    "        # facedec = cv2.CascadeClassifier('model.xml')\n",
    "        # Detect faces in each frame\n",
    "        # faces = facedec.detectMultiScale(frame)\n",
    "        # for (x,y,w,h) in faces:\n",
    "        #     # Draw rectangle around the face\n",
    "        #     cv2.rectangle(frame,(x,y),(x+w,y+h),(197,2,106),2)\n",
    "        # Display each frame\n",
    "\n",
    "        if not ret:\n",
    "            break\n",
    "        cv2.imshow('frame', frame)\n",
    "    \n",
    "        # Press 'q' to exit\n",
    "        if cv2.waitKey(1) & 0xFF == ord('q'):\n",
    "            break\n",
    "        \n",
    "    # After the loop release the cap object \n",
    "    vid.release() \n",
    "    # Destroy all the windows opened by imshow\n",
    "    cv2.destroyAllWindows()"
   ]
  },
  {
   "cell_type": "code",
   "execution_count": 4,
   "metadata": {},
   "outputs": [],
   "source": [
    "operate()"
   ]
  }
 ],
 "metadata": {
  "kernelspec": {
   "display_name": ".venv",
   "language": "python",
   "name": "python3"
  },
  "language_info": {
   "codemirror_mode": {
    "name": "ipython",
    "version": 3
   },
   "file_extension": ".py",
   "mimetype": "text/x-python",
   "name": "python",
   "nbconvert_exporter": "python",
   "pygments_lexer": "ipython3",
   "version": "3.8.10"
  }
 },
 "nbformat": 4,
 "nbformat_minor": 2
}
